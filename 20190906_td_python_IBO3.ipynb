{
 "cells": [
  {
   "cell_type": "code",
   "execution_count": 1,
   "metadata": {},
   "outputs": [
    {
     "name": "stdout",
     "output_type": "stream",
     "text": [
      "Hello world !\n"
     ]
    }
   ],
   "source": [
    "print(\"Hello world !\")"
   ]
  },
  {
   "cell_type": "markdown",
   "metadata": {},
   "source": [
    "# Manipulation de jupyter : \n",
    "## Sortie de cellule = ESC\n",
    "- ajouter une cellule en dessous : B\n",
    "- ajouter une cellule au dessus : A\n",
    "- Supprimer une cellule : DD\n",
    "- Transformer une cellule en MarkDown : M\n",
    "\n",
    "\n",
    "## Entrée de cellule = Enter\n",
    "- Exécuter du code : ALT + ENTER => exécute et active la cellule du dessous\n",
    "- Exécuter du code : CTRL + ENTER => exécute  la cellule et reste dedans\n",
    "\n"
   ]
  },
  {
   "cell_type": "markdown",
   "metadata": {},
   "source": [
    "Appel de commandes systèmes avec le point d'exclamation"
   ]
  },
  {
   "cell_type": "code",
   "execution_count": 83,
   "metadata": {},
   "outputs": [
    {
     "name": "stdout",
     "output_type": "stream",
     "text": [
      "origin\thttps://github.com/romainjouin/esilv_5a.git (fetch)\r\n",
      "origin\thttps://github.com/romainjouin/esilv_5a.git (push)\r\n"
     ]
    }
   ],
   "source": [
    "!git remote -v"
   ]
  },
  {
   "cell_type": "code",
   "execution_count": 82,
   "metadata": {},
   "outputs": [
    {
     "name": "stdout",
     "output_type": "stream",
     "text": [
      "On branch master\n",
      "Changes not staged for commit:\n",
      "\t\u001b[31mmodified:   20190906_IBO2_td_1.ipynb\u001b[m\n",
      "\t\u001b[31mmodified:   td1.ipynb\u001b[m\n",
      "\n",
      "Untracked files:\n",
      "\t\u001b[31m.ipynb_checkpoints/\u001b[m\n",
      "\n",
      "no changes added to commit\n",
      "Everything up-to-date\n"
     ]
    }
   ],
   "source": [
    "!git add 20190906_td_python_IBO3.ipynb\n",
    "!git commit -m \"pour suivre\"\n",
    "!git push origin master"
   ]
  },
  {
   "cell_type": "markdown",
   "metadata": {},
   "source": [
    "# 1) les listes"
   ]
  },
  {
   "cell_type": "code",
   "execution_count": 45,
   "metadata": {},
   "outputs": [
    {
     "data": {
      "text/plain": [
       "[1, 2, 3, 4, 5, 'a', 'b', 'c', ['une autre liste']]"
      ]
     },
     "execution_count": 45,
     "metadata": {},
     "output_type": "execute_result"
    }
   ],
   "source": [
    "une_liste = [1,2,3,4,5, \"a\", \"b\", \"c\", [\"une autre liste\"]]\n",
    "une_liste"
   ]
  },
  {
   "cell_type": "markdown",
   "metadata": {},
   "source": [
    "## 1.1) longueur de liste"
   ]
  },
  {
   "cell_type": "code",
   "execution_count": 47,
   "metadata": {},
   "outputs": [
    {
     "data": {
      "text/plain": [
       "9"
      ]
     },
     "execution_count": 47,
     "metadata": {},
     "output_type": "execute_result"
    }
   ],
   "source": [
    "len(une_liste)"
   ]
  },
  {
   "cell_type": "markdown",
   "metadata": {},
   "source": [
    "## 1.2) sous ensemble"
   ]
  },
  {
   "cell_type": "code",
   "execution_count": 49,
   "metadata": {},
   "outputs": [
    {
     "data": {
      "text/plain": [
       "2"
      ]
     },
     "execution_count": 49,
     "metadata": {},
     "output_type": "execute_result"
    }
   ],
   "source": [
    "indice_position = 1\n",
    "une_liste[indice_position]"
   ]
  },
  {
   "cell_type": "markdown",
   "metadata": {},
   "source": [
    "## 1.3) slicing"
   ]
  },
  {
   "cell_type": "code",
   "execution_count": 57,
   "metadata": {},
   "outputs": [
    {
     "data": {
      "text/plain": [
       "[2, 3, 4, 5]"
      ]
     },
     "execution_count": 57,
     "metadata": {},
     "output_type": "execute_result"
    }
   ],
   "source": [
    "# éléments 1 à 4 (le 5 est pas inclu)\n",
    "une_liste[1:5]"
   ]
  },
  {
   "cell_type": "code",
   "execution_count": 58,
   "metadata": {},
   "outputs": [
    {
     "data": {
      "text/plain": [
       "['une autre liste']"
      ]
     },
     "execution_count": 58,
     "metadata": {},
     "output_type": "execute_result"
    }
   ],
   "source": [
    "# dernier élément : -1\n",
    "une_liste[-1] "
   ]
  },
  {
   "cell_type": "code",
   "execution_count": 60,
   "metadata": {},
   "outputs": [
    {
     "data": {
      "text/plain": [
       "['b', 'c', ['une autre liste']]"
      ]
     },
     "execution_count": 60,
     "metadata": {},
     "output_type": "execute_result"
    }
   ],
   "source": [
    "# les trois derniers éléments : \"-3:\"\n",
    "une_liste[-3:]"
   ]
  },
  {
   "cell_type": "code",
   "execution_count": 61,
   "metadata": {},
   "outputs": [
    {
     "data": {
      "text/plain": [
       "[1, 3, 5, 'b', ['une autre liste']]"
      ]
     },
     "execution_count": 61,
     "metadata": {},
     "output_type": "execute_result"
    }
   ],
   "source": [
    "# un élément sur 2\n",
    "une_liste[::2]"
   ]
  },
  {
   "cell_type": "code",
   "execution_count": 62,
   "metadata": {},
   "outputs": [
    {
     "data": {
      "text/plain": [
       "[1, 3, 5, 'b', ['une autre liste']]"
      ]
     },
     "execution_count": 62,
     "metadata": {},
     "output_type": "execute_result"
    }
   ],
   "source": [
    "pas = 2\n",
    "une_liste[::pas]"
   ]
  },
  {
   "cell_type": "markdown",
   "metadata": {},
   "source": [
    "## 1.2) attention : itérateurs"
   ]
  },
  {
   "cell_type": "code",
   "execution_count": 68,
   "metadata": {},
   "outputs": [],
   "source": [
    "un_dix = list(range(10))"
   ]
  },
  {
   "cell_type": "code",
   "execution_count": 69,
   "metadata": {},
   "outputs": [
    {
     "data": {
      "text/plain": [
       "[0, 2, 4, 6, 8]"
      ]
     },
     "execution_count": 69,
     "metadata": {},
     "output_type": "execute_result"
    }
   ],
   "source": [
    "un_dix[::2]"
   ]
  },
  {
   "cell_type": "code",
   "execution_count": 71,
   "metadata": {},
   "outputs": [
    {
     "data": {
      "text/plain": [
       "[3, 5, 7, 9]"
      ]
     },
     "execution_count": 71,
     "metadata": {},
     "output_type": "execute_result"
    }
   ],
   "source": [
    "un_dix[3::2] # un élément sur deux à partir du 3ème"
   ]
  },
  {
   "cell_type": "code",
   "execution_count": 72,
   "metadata": {},
   "outputs": [],
   "source": [
    "un_cent = list(range(100))"
   ]
  },
  {
   "cell_type": "markdown",
   "metadata": {},
   "source": [
    "## 1.3) enchaînement des sliceurs"
   ]
  },
  {
   "cell_type": "code",
   "execution_count": 80,
   "metadata": {},
   "outputs": [
    {
     "data": {
      "text/plain": [
       "[60, 58, 56, 54, 52]"
      ]
     },
     "execution_count": 80,
     "metadata": {},
     "output_type": "execute_result"
    }
   ],
   "source": [
    "un_cent[-40::-2][:5] \n",
    "# les 5 premiers éléments de la liste des éléments de 60 à 0 \n",
    "# avec un pas de 2"
   ]
  },
  {
   "cell_type": "markdown",
   "metadata": {},
   "source": [
    "## 1.4) méthodes des listes"
   ]
  },
  {
   "cell_type": "markdown",
   "metadata": {},
   "source": [
    "- Autocomplétion : TAB après le point sur les objets"
   ]
  },
  {
   "cell_type": "code",
   "execution_count": 87,
   "metadata": {},
   "outputs": [
    {
     "data": {
      "text/plain": [
       "96"
      ]
     },
     "execution_count": 87,
     "metadata": {},
     "output_type": "execute_result"
    }
   ],
   "source": [
    "un_cent.pop() # pop : extrait et retourne le dernier élément de la liste"
   ]
  },
  {
   "cell_type": "markdown",
   "metadata": {},
   "source": [
    "- documentation de méthode : mettre les parenthèses, puis faire Maj + Tab"
   ]
  },
  {
   "cell_type": "code",
   "execution_count": 135,
   "metadata": {},
   "outputs": [],
   "source": [
    "un_cent.reverse()"
   ]
  },
  {
   "cell_type": "markdown",
   "metadata": {},
   "source": [
    "## 1.4.1) extend / append"
   ]
  },
  {
   "cell_type": "code",
   "execution_count": 140,
   "metadata": {},
   "outputs": [],
   "source": [
    "un_cent.extend(un_cent)"
   ]
  },
  {
   "cell_type": "code",
   "execution_count": 141,
   "metadata": {},
   "outputs": [
    {
     "data": {
      "text/plain": [
       "768"
      ]
     },
     "execution_count": 141,
     "metadata": {},
     "output_type": "execute_result"
    }
   ],
   "source": [
    "len(un_cent)"
   ]
  },
  {
   "cell_type": "code",
   "execution_count": 146,
   "metadata": {},
   "outputs": [],
   "source": [
    "un_cent.append(3)"
   ]
  },
  {
   "cell_type": "code",
   "execution_count": 150,
   "metadata": {},
   "outputs": [
    {
     "data": {
      "text/plain": [
       "772"
      ]
     },
     "execution_count": 150,
     "metadata": {},
     "output_type": "execute_result"
    }
   ],
   "source": [
    "len(un_cent)"
   ]
  },
  {
   "cell_type": "markdown",
   "metadata": {},
   "source": [
    "- Append : ajoute un élément"
   ]
  },
  {
   "cell_type": "code",
   "execution_count": 151,
   "metadata": {},
   "outputs": [
    {
     "data": {
      "text/plain": [
       "773"
      ]
     },
     "execution_count": 151,
     "metadata": {},
     "output_type": "execute_result"
    }
   ],
   "source": [
    "un_cent.append([3, 2, 3, 3, 4])\n",
    "len(un_cent)"
   ]
  },
  {
   "cell_type": "markdown",
   "metadata": {},
   "source": [
    "- Extend : fusionne des listes"
   ]
  },
  {
   "cell_type": "code",
   "execution_count": 152,
   "metadata": {},
   "outputs": [
    {
     "data": {
      "text/plain": [
       "778"
      ]
     },
     "execution_count": 152,
     "metadata": {},
     "output_type": "execute_result"
    }
   ],
   "source": [
    "un_cent.extend([3, 2, 3, 3, 4])\n",
    "len(un_cent)"
   ]
  },
  {
   "cell_type": "markdown",
   "metadata": {},
   "source": [
    "- count : compte le nombre d'occurence d'une valeur dans la liste"
   ]
  },
  {
   "cell_type": "code",
   "execution_count": 154,
   "metadata": {},
   "outputs": [
    {
     "data": {
      "text/plain": [
       "8"
      ]
     },
     "execution_count": 154,
     "metadata": {},
     "output_type": "execute_result"
    }
   ],
   "source": [
    "valeur_cherchee  = 10\n",
    "un_cent.count(valeur_cherchee)"
   ]
  },
  {
   "cell_type": "markdown",
   "metadata": {},
   "source": [
    "## 1.5) Chaînes de caractères "
   ]
  },
  {
   "cell_type": "code",
   "execution_count": 155,
   "metadata": {},
   "outputs": [
    {
     "data": {
      "text/plain": [
       "'dsfghjklmsdfghjkldfghjklfdghjkl'"
      ]
     },
     "execution_count": 155,
     "metadata": {},
     "output_type": "execute_result"
    }
   ],
   "source": [
    "une_chaine_de_caractere = \"dsfghjklmsdfghjkldfghjklfdghjkl\"\n",
    "une_chaine_de_caractere"
   ]
  },
  {
   "cell_type": "code",
   "execution_count": 156,
   "metadata": {},
   "outputs": [
    {
     "ename": "AttributeError",
     "evalue": "'str' object has no attribute 'append'",
     "output_type": "error",
     "traceback": [
      "\u001b[0;31m---------------------------------------------------------------------------\u001b[0m",
      "\u001b[0;31mAttributeError\u001b[0m                            Traceback (most recent call last)",
      "\u001b[0;32m<ipython-input-156-5f6875e60344>\u001b[0m in \u001b[0;36m<module>\u001b[0;34m()\u001b[0m\n\u001b[0;32m----> 1\u001b[0;31m \u001b[0mune_chaine_de_caractere\u001b[0m\u001b[0;34m.\u001b[0m\u001b[0mappend\u001b[0m\u001b[0;34m(\u001b[0m\u001b[0;34m\"e\"\u001b[0m\u001b[0;34m)\u001b[0m\u001b[0;34m\u001b[0m\u001b[0m\n\u001b[0m",
      "\u001b[0;31mAttributeError\u001b[0m: 'str' object has no attribute 'append'"
     ]
    }
   ],
   "source": [
    "une_chaine_de_caractere.append(\"e\")"
   ]
  },
  {
   "cell_type": "code",
   "execution_count": 157,
   "metadata": {},
   "outputs": [
    {
     "data": {
      "text/plain": [
       "'dsf'"
      ]
     },
     "execution_count": 157,
     "metadata": {},
     "output_type": "execute_result"
    }
   ],
   "source": [
    "une_chaine_de_caractere[:3]"
   ]
  },
  {
   "cell_type": "code",
   "execution_count": 159,
   "metadata": {},
   "outputs": [
    {
     "name": "stdout",
     "output_type": "stream",
     "text": [
      "j\n",
      "k\n",
      "l\n",
      "m\n",
      "s\n",
      "d\n"
     ]
    }
   ],
   "source": [
    "debut = 5\n",
    "fin = 10\n",
    "for caractere in une_chaine_de_caractere[debut:fin+1]:\n",
    "    print(caractere)"
   ]
  },
  {
   "cell_type": "markdown",
   "metadata": {},
   "source": [
    "## 2) comprehension list"
   ]
  },
  {
   "cell_type": "code",
   "execution_count": 165,
   "metadata": {},
   "outputs": [],
   "source": [
    "import random\n",
    "n     = 10 "
   ]
  },
  {
   "cell_type": "markdown",
   "metadata": {},
   "source": [
    "### 2.1) construction 'classique' de liste dans une boucle for"
   ]
  },
  {
   "cell_type": "code",
   "execution_count": 166,
   "metadata": {},
   "outputs": [],
   "source": [
    "liste = []\n",
    "for _ in range(n):\n",
    "    caractere = random.choice(une_chaine_de_caractere)\n",
    "    liste.append(caractere)"
   ]
  },
  {
   "cell_type": "code",
   "execution_count": 167,
   "metadata": {},
   "outputs": [
    {
     "data": {
      "text/plain": [
       "['j', 'k', 'l', 'h', 'f', 'j', 'f', 'l', 'k', 'l']"
      ]
     },
     "execution_count": 167,
     "metadata": {},
     "output_type": "execute_result"
    }
   ],
   "source": [
    "liste"
   ]
  },
  {
   "cell_type": "markdown",
   "metadata": {},
   "source": [
    "### 2.2) construction 'moderne' de liste via une comprehension list"
   ]
  },
  {
   "cell_type": "code",
   "execution_count": 168,
   "metadata": {},
   "outputs": [
    {
     "data": {
      "text/plain": [
       "['d', 'h', 's', 'l', 'h', 'g', 'l', 'd', 'h', 'f']"
      ]
     },
     "execution_count": 168,
     "metadata": {},
     "output_type": "execute_result"
    }
   ],
   "source": [
    "liste2 = [random.choice(une_chaine_de_caractere) for _ in range(n)]\n",
    "liste2"
   ]
  },
  {
   "cell_type": "code",
   "execution_count": 169,
   "metadata": {},
   "outputs": [
    {
     "data": {
      "text/plain": [
       "['e', 'e', 'e', 'e', 'e', 'e', 'e', 'e', 'e', 'e']"
      ]
     },
     "execution_count": 169,
     "metadata": {},
     "output_type": "execute_result"
    }
   ],
   "source": [
    "liste2 = [\"e\" for _ in range(n)]\n",
    "liste2"
   ]
  },
  {
   "cell_type": "markdown",
   "metadata": {},
   "source": [
    "## multiplication de listes"
   ]
  },
  {
   "cell_type": "code",
   "execution_count": 172,
   "metadata": {},
   "outputs": [
    {
     "data": {
      "text/plain": [
       "['e', 'e', 'e', 'e', 'e', 'e', 'e', 'e', 'e', 'e']"
      ]
     },
     "execution_count": 172,
     "metadata": {},
     "output_type": "execute_result"
    }
   ],
   "source": [
    "liste2 = [\"e\"] * 10\n",
    "liste2"
   ]
  },
  {
   "cell_type": "markdown",
   "metadata": {},
   "source": [
    "## 2.3) comprehension list conditionelle : condition simple => le if est à la fin "
   ]
  },
  {
   "cell_type": "code",
   "execution_count": 177,
   "metadata": {},
   "outputs": [
    {
     "data": {
      "text/plain": [
       "[0, 2, 4, 6, 8]"
      ]
     },
     "execution_count": 177,
     "metadata": {},
     "output_type": "execute_result"
    }
   ],
   "source": [
    "liste2 = [ _ for _ in range(n) if _%2==0]\n",
    "liste2"
   ]
  },
  {
   "cell_type": "markdown",
   "metadata": {},
   "source": [
    "## 2.4) comprehension list conditionelle : condition complète  => le if est au milieu"
   ]
  },
  {
   "cell_type": "code",
   "execution_count": 181,
   "metadata": {},
   "outputs": [
    {
     "data": {
      "text/plain": [
       "[0, 'impair', 2, 'impair', 4, 'impair', 6, 'impair', 8, 'impair']"
      ]
     },
     "execution_count": 181,
     "metadata": {},
     "output_type": "execute_result"
    }
   ],
   "source": [
    "liste2 = [ _ if _%2==0 else \"impair\" for _ in range(n) ]\n",
    "liste2"
   ]
  },
  {
   "cell_type": "code",
   "execution_count": 182,
   "metadata": {},
   "outputs": [
    {
     "data": {
      "text/plain": [
       "['pair', 1, 'pair', 3, 'pair', 5, 'pair', 7, 'pair', 9]"
      ]
     },
     "execution_count": 182,
     "metadata": {},
     "output_type": "execute_result"
    }
   ],
   "source": [
    "liste2 = [ _ if _%2  else \"pair\" for _ in range(n) ]\n",
    "liste2"
   ]
  },
  {
   "cell_type": "markdown",
   "metadata": {},
   "source": [
    "# 3) functions"
   ]
  },
  {
   "cell_type": "code",
   "execution_count": 196,
   "metadata": {},
   "outputs": [],
   "source": [
    "def est_nul(nombre):\n",
    "    return nombre==0"
   ]
  },
  {
   "cell_type": "code",
   "execution_count": 199,
   "metadata": {},
   "outputs": [
    {
     "data": {
      "text/plain": [
       "True"
      ]
     },
     "execution_count": 199,
     "metadata": {},
     "output_type": "execute_result"
    }
   ],
   "source": [
    "valeur_a_tester = 0\n",
    "est_nul(valeur_a_tester)"
   ]
  },
  {
   "cell_type": "code",
   "execution_count": 201,
   "metadata": {},
   "outputs": [
    {
     "data": {
      "text/plain": [
       "False"
      ]
     },
     "execution_count": 201,
     "metadata": {},
     "output_type": "execute_result"
    }
   ],
   "source": [
    "valeur_a_tester = \"coucou\"\n",
    "est_nul(valeur_a_tester)"
   ]
  },
  {
   "cell_type": "markdown",
   "metadata": {},
   "source": [
    "## une liste vide est 'fausse' dans un test if"
   ]
  },
  {
   "cell_type": "code",
   "execution_count": 209,
   "metadata": {},
   "outputs": [
    {
     "name": "stdout",
     "output_type": "stream",
     "text": [
      "liste non vide\n"
     ]
    }
   ],
   "source": [
    "une_liste_vide_est_fausse = [\"e\"]\n",
    "if not une_liste_vide_est_fausse :\n",
    "    print(\"liste vide\")\n",
    "else:\n",
    "    print(\"liste non vide\")"
   ]
  },
  {
   "cell_type": "markdown",
   "metadata": {},
   "source": [
    "# 4) lambda functions"
   ]
  },
  {
   "cell_type": "code",
   "execution_count": 214,
   "metadata": {},
   "outputs": [],
   "source": [
    "valeur  = lambda param : param"
   ]
  },
  {
   "cell_type": "code",
   "execution_count": 215,
   "metadata": {},
   "outputs": [
    {
     "data": {
      "text/plain": [
       "'e'"
      ]
     },
     "execution_count": 215,
     "metadata": {},
     "output_type": "execute_result"
    }
   ],
   "source": [
    "valeur(\"e\")"
   ]
  },
  {
   "cell_type": "code",
   "execution_count": 217,
   "metadata": {},
   "outputs": [
    {
     "data": {
      "text/plain": [
       "'ee'"
      ]
     },
     "execution_count": 217,
     "metadata": {},
     "output_type": "execute_result"
    }
   ],
   "source": [
    "deux_fois  = lambda param : param*2\n",
    "deux_fois(\"e\")"
   ]
  },
  {
   "cell_type": "code",
   "execution_count": 218,
   "metadata": {},
   "outputs": [
    {
     "data": {
      "text/plain": [
       "['e', 'e']"
      ]
     },
     "execution_count": 218,
     "metadata": {},
     "output_type": "execute_result"
    }
   ],
   "source": [
    "deux_fois([\"e\"])"
   ]
  },
  {
   "cell_type": "code",
   "execution_count": 220,
   "metadata": {},
   "outputs": [
    {
     "data": {
      "text/plain": [
       "['1', '2', '1', '2']"
      ]
     },
     "execution_count": 220,
     "metadata": {},
     "output_type": "execute_result"
    }
   ],
   "source": [
    "deux_fois([\"1\", \"2\"])"
   ]
  },
  {
   "cell_type": "code",
   "execution_count": 224,
   "metadata": {},
   "outputs": [],
   "source": [
    "zero_dix_huit = [deux_fois(_) for _ in range(n)]"
   ]
  },
  {
   "cell_type": "markdown",
   "metadata": {},
   "source": [
    "# 5) map et filter"
   ]
  },
  {
   "cell_type": "markdown",
   "metadata": {},
   "source": [
    "## 5.1) map permet d'appliquer une fonction sur chaque élément d'une liste"
   ]
  },
  {
   "cell_type": "code",
   "execution_count": 242,
   "metadata": {},
   "outputs": [
    {
     "data": {
      "text/plain": [
       "[False, False, False, False, False, False, True, True, True, True]"
      ]
     },
     "execution_count": 242,
     "metadata": {},
     "output_type": "execute_result"
    }
   ],
   "source": [
    "r = list(map(lambda x: x>10, zero_dix_huit))\n",
    "r"
   ]
  },
  {
   "cell_type": "code",
   "execution_count": 243,
   "metadata": {},
   "outputs": [
    {
     "data": {
      "text/plain": [
       "4"
      ]
     },
     "execution_count": 243,
     "metadata": {},
     "output_type": "execute_result"
    }
   ],
   "source": [
    "# compter le nombre de fois qu'il y a un True, possibilité 1\n",
    "r.count(True)"
   ]
  },
  {
   "cell_type": "code",
   "execution_count": 246,
   "metadata": {},
   "outputs": [
    {
     "data": {
      "text/plain": [
       "4"
      ]
     },
     "execution_count": 246,
     "metadata": {},
     "output_type": "execute_result"
    }
   ],
   "source": [
    "# compter le nombre de fois qu'il y a un True, possibilité 2\n",
    "sum(r)"
   ]
  },
  {
   "cell_type": "markdown",
   "metadata": {},
   "source": [
    "## 5.2) filter : permet de filtrer une liste sur une condition (renvoie la sous liste qui passe la condition)"
   ]
  },
  {
   "cell_type": "code",
   "execution_count": 247,
   "metadata": {},
   "outputs": [
    {
     "data": {
      "text/plain": [
       "[12, 14, 16, 18]"
      ]
     },
     "execution_count": 247,
     "metadata": {},
     "output_type": "execute_result"
    }
   ],
   "source": [
    "iterateur = filter(lambda x: x>10, zero_dix_huit)\n",
    "liste     = list(iterateur)\n",
    "liste"
   ]
  },
  {
   "cell_type": "code",
   "execution_count": 248,
   "metadata": {},
   "outputs": [
    {
     "data": {
      "text/plain": [
       "4"
      ]
     },
     "execution_count": 248,
     "metadata": {},
     "output_type": "execute_result"
    }
   ],
   "source": [
    "len(liste)"
   ]
  },
  {
   "cell_type": "markdown",
   "metadata": {},
   "source": [
    "## 5.3) enumerate"
   ]
  },
  {
   "cell_type": "code",
   "execution_count": 313,
   "metadata": {},
   "outputs": [],
   "source": [
    "def cours(jour):\n",
    "    return 100 + jour + (random.randint(1, 5)) * random.choice([-1, 1])"
   ]
  },
  {
   "cell_type": "code",
   "execution_count": 316,
   "metadata": {},
   "outputs": [],
   "source": [
    "cours_de_bourse = [ cours(_) for _ in range(1000)]"
   ]
  },
  {
   "cell_type": "code",
   "execution_count": 317,
   "metadata": {},
   "outputs": [],
   "source": [
    "import pandas as pd\n",
    "%matplotlib notebook\n",
    "df = pd.DataFrame(cours_de_bourse)"
   ]
  },
  {
   "cell_type": "code",
   "execution_count": 319,
   "metadata": {},
   "outputs": [
    {
     "data": {
      "text/html": [
       "<div>\n",
       "<style scoped>\n",
       "    .dataframe tbody tr th:only-of-type {\n",
       "        vertical-align: middle;\n",
       "    }\n",
       "\n",
       "    .dataframe tbody tr th {\n",
       "        vertical-align: top;\n",
       "    }\n",
       "\n",
       "    .dataframe thead th {\n",
       "        text-align: right;\n",
       "    }\n",
       "</style>\n",
       "<table border=\"1\" class=\"dataframe\">\n",
       "  <thead>\n",
       "    <tr style=\"text-align: right;\">\n",
       "      <th></th>\n",
       "      <th>0</th>\n",
       "    </tr>\n",
       "  </thead>\n",
       "  <tbody>\n",
       "    <tr>\n",
       "      <th>0</th>\n",
       "      <td>105</td>\n",
       "    </tr>\n",
       "    <tr>\n",
       "      <th>1</th>\n",
       "      <td>97</td>\n",
       "    </tr>\n",
       "    <tr>\n",
       "      <th>2</th>\n",
       "      <td>101</td>\n",
       "    </tr>\n",
       "    <tr>\n",
       "      <th>3</th>\n",
       "      <td>104</td>\n",
       "    </tr>\n",
       "    <tr>\n",
       "      <th>4</th>\n",
       "      <td>105</td>\n",
       "    </tr>\n",
       "  </tbody>\n",
       "</table>\n",
       "</div>"
      ],
      "text/plain": [
       "     0\n",
       "0  105\n",
       "1   97\n",
       "2  101\n",
       "3  104\n",
       "4  105"
      ]
     },
     "execution_count": 319,
     "metadata": {},
     "output_type": "execute_result"
    }
   ],
   "source": [
    "df.head()"
   ]
  },
  {
   "cell_type": "code",
   "execution_count": 320,
   "metadata": {},
   "outputs": [
    {
     "data": {
      "application/javascript": [
       "/* Put everything inside the global mpl namespace */\n",
       "window.mpl = {};\n",
       "\n",
       "\n",
       "mpl.get_websocket_type = function() {\n",
       "    if (typeof(WebSocket) !== 'undefined') {\n",
       "        return WebSocket;\n",
       "    } else if (typeof(MozWebSocket) !== 'undefined') {\n",
       "        return MozWebSocket;\n",
       "    } else {\n",
       "        alert('Your browser does not have WebSocket support.' +\n",
       "              'Please try Chrome, Safari or Firefox ≥ 6. ' +\n",
       "              'Firefox 4 and 5 are also supported but you ' +\n",
       "              'have to enable WebSockets in about:config.');\n",
       "    };\n",
       "}\n",
       "\n",
       "mpl.figure = function(figure_id, websocket, ondownload, parent_element) {\n",
       "    this.id = figure_id;\n",
       "\n",
       "    this.ws = websocket;\n",
       "\n",
       "    this.supports_binary = (this.ws.binaryType != undefined);\n",
       "\n",
       "    if (!this.supports_binary) {\n",
       "        var warnings = document.getElementById(\"mpl-warnings\");\n",
       "        if (warnings) {\n",
       "            warnings.style.display = 'block';\n",
       "            warnings.textContent = (\n",
       "                \"This browser does not support binary websocket messages. \" +\n",
       "                    \"Performance may be slow.\");\n",
       "        }\n",
       "    }\n",
       "\n",
       "    this.imageObj = new Image();\n",
       "\n",
       "    this.context = undefined;\n",
       "    this.message = undefined;\n",
       "    this.canvas = undefined;\n",
       "    this.rubberband_canvas = undefined;\n",
       "    this.rubberband_context = undefined;\n",
       "    this.format_dropdown = undefined;\n",
       "\n",
       "    this.image_mode = 'full';\n",
       "\n",
       "    this.root = $('<div/>');\n",
       "    this._root_extra_style(this.root)\n",
       "    this.root.attr('style', 'display: inline-block');\n",
       "\n",
       "    $(parent_element).append(this.root);\n",
       "\n",
       "    this._init_header(this);\n",
       "    this._init_canvas(this);\n",
       "    this._init_toolbar(this);\n",
       "\n",
       "    var fig = this;\n",
       "\n",
       "    this.waiting = false;\n",
       "\n",
       "    this.ws.onopen =  function () {\n",
       "            fig.send_message(\"supports_binary\", {value: fig.supports_binary});\n",
       "            fig.send_message(\"send_image_mode\", {});\n",
       "            if (mpl.ratio != 1) {\n",
       "                fig.send_message(\"set_dpi_ratio\", {'dpi_ratio': mpl.ratio});\n",
       "            }\n",
       "            fig.send_message(\"refresh\", {});\n",
       "        }\n",
       "\n",
       "    this.imageObj.onload = function() {\n",
       "            if (fig.image_mode == 'full') {\n",
       "                // Full images could contain transparency (where diff images\n",
       "                // almost always do), so we need to clear the canvas so that\n",
       "                // there is no ghosting.\n",
       "                fig.context.clearRect(0, 0, fig.canvas.width, fig.canvas.height);\n",
       "            }\n",
       "            fig.context.drawImage(fig.imageObj, 0, 0);\n",
       "        };\n",
       "\n",
       "    this.imageObj.onunload = function() {\n",
       "        fig.ws.close();\n",
       "    }\n",
       "\n",
       "    this.ws.onmessage = this._make_on_message_function(this);\n",
       "\n",
       "    this.ondownload = ondownload;\n",
       "}\n",
       "\n",
       "mpl.figure.prototype._init_header = function() {\n",
       "    var titlebar = $(\n",
       "        '<div class=\"ui-dialog-titlebar ui-widget-header ui-corner-all ' +\n",
       "        'ui-helper-clearfix\"/>');\n",
       "    var titletext = $(\n",
       "        '<div class=\"ui-dialog-title\" style=\"width: 100%; ' +\n",
       "        'text-align: center; padding: 3px;\"/>');\n",
       "    titlebar.append(titletext)\n",
       "    this.root.append(titlebar);\n",
       "    this.header = titletext[0];\n",
       "}\n",
       "\n",
       "\n",
       "\n",
       "mpl.figure.prototype._canvas_extra_style = function(canvas_div) {\n",
       "\n",
       "}\n",
       "\n",
       "\n",
       "mpl.figure.prototype._root_extra_style = function(canvas_div) {\n",
       "\n",
       "}\n",
       "\n",
       "mpl.figure.prototype._init_canvas = function() {\n",
       "    var fig = this;\n",
       "\n",
       "    var canvas_div = $('<div/>');\n",
       "\n",
       "    canvas_div.attr('style', 'position: relative; clear: both; outline: 0');\n",
       "\n",
       "    function canvas_keyboard_event(event) {\n",
       "        return fig.key_event(event, event['data']);\n",
       "    }\n",
       "\n",
       "    canvas_div.keydown('key_press', canvas_keyboard_event);\n",
       "    canvas_div.keyup('key_release', canvas_keyboard_event);\n",
       "    this.canvas_div = canvas_div\n",
       "    this._canvas_extra_style(canvas_div)\n",
       "    this.root.append(canvas_div);\n",
       "\n",
       "    var canvas = $('<canvas/>');\n",
       "    canvas.addClass('mpl-canvas');\n",
       "    canvas.attr('style', \"left: 0; top: 0; z-index: 0; outline: 0\")\n",
       "\n",
       "    this.canvas = canvas[0];\n",
       "    this.context = canvas[0].getContext(\"2d\");\n",
       "\n",
       "    var backingStore = this.context.backingStorePixelRatio ||\n",
       "\tthis.context.webkitBackingStorePixelRatio ||\n",
       "\tthis.context.mozBackingStorePixelRatio ||\n",
       "\tthis.context.msBackingStorePixelRatio ||\n",
       "\tthis.context.oBackingStorePixelRatio ||\n",
       "\tthis.context.backingStorePixelRatio || 1;\n",
       "\n",
       "    mpl.ratio = (window.devicePixelRatio || 1) / backingStore;\n",
       "\n",
       "    var rubberband = $('<canvas/>');\n",
       "    rubberband.attr('style', \"position: absolute; left: 0; top: 0; z-index: 1;\")\n",
       "\n",
       "    var pass_mouse_events = true;\n",
       "\n",
       "    canvas_div.resizable({\n",
       "        start: function(event, ui) {\n",
       "            pass_mouse_events = false;\n",
       "        },\n",
       "        resize: function(event, ui) {\n",
       "            fig.request_resize(ui.size.width, ui.size.height);\n",
       "        },\n",
       "        stop: function(event, ui) {\n",
       "            pass_mouse_events = true;\n",
       "            fig.request_resize(ui.size.width, ui.size.height);\n",
       "        },\n",
       "    });\n",
       "\n",
       "    function mouse_event_fn(event) {\n",
       "        if (pass_mouse_events)\n",
       "            return fig.mouse_event(event, event['data']);\n",
       "    }\n",
       "\n",
       "    rubberband.mousedown('button_press', mouse_event_fn);\n",
       "    rubberband.mouseup('button_release', mouse_event_fn);\n",
       "    // Throttle sequential mouse events to 1 every 20ms.\n",
       "    rubberband.mousemove('motion_notify', mouse_event_fn);\n",
       "\n",
       "    rubberband.mouseenter('figure_enter', mouse_event_fn);\n",
       "    rubberband.mouseleave('figure_leave', mouse_event_fn);\n",
       "\n",
       "    canvas_div.on(\"wheel\", function (event) {\n",
       "        event = event.originalEvent;\n",
       "        event['data'] = 'scroll'\n",
       "        if (event.deltaY < 0) {\n",
       "            event.step = 1;\n",
       "        } else {\n",
       "            event.step = -1;\n",
       "        }\n",
       "        mouse_event_fn(event);\n",
       "    });\n",
       "\n",
       "    canvas_div.append(canvas);\n",
       "    canvas_div.append(rubberband);\n",
       "\n",
       "    this.rubberband = rubberband;\n",
       "    this.rubberband_canvas = rubberband[0];\n",
       "    this.rubberband_context = rubberband[0].getContext(\"2d\");\n",
       "    this.rubberband_context.strokeStyle = \"#000000\";\n",
       "\n",
       "    this._resize_canvas = function(width, height) {\n",
       "        // Keep the size of the canvas, canvas container, and rubber band\n",
       "        // canvas in synch.\n",
       "        canvas_div.css('width', width)\n",
       "        canvas_div.css('height', height)\n",
       "\n",
       "        canvas.attr('width', width * mpl.ratio);\n",
       "        canvas.attr('height', height * mpl.ratio);\n",
       "        canvas.attr('style', 'width: ' + width + 'px; height: ' + height + 'px;');\n",
       "\n",
       "        rubberband.attr('width', width);\n",
       "        rubberband.attr('height', height);\n",
       "    }\n",
       "\n",
       "    // Set the figure to an initial 600x600px, this will subsequently be updated\n",
       "    // upon first draw.\n",
       "    this._resize_canvas(600, 600);\n",
       "\n",
       "    // Disable right mouse context menu.\n",
       "    $(this.rubberband_canvas).bind(\"contextmenu\",function(e){\n",
       "        return false;\n",
       "    });\n",
       "\n",
       "    function set_focus () {\n",
       "        canvas.focus();\n",
       "        canvas_div.focus();\n",
       "    }\n",
       "\n",
       "    window.setTimeout(set_focus, 100);\n",
       "}\n",
       "\n",
       "mpl.figure.prototype._init_toolbar = function() {\n",
       "    var fig = this;\n",
       "\n",
       "    var nav_element = $('<div/>')\n",
       "    nav_element.attr('style', 'width: 100%');\n",
       "    this.root.append(nav_element);\n",
       "\n",
       "    // Define a callback function for later on.\n",
       "    function toolbar_event(event) {\n",
       "        return fig.toolbar_button_onclick(event['data']);\n",
       "    }\n",
       "    function toolbar_mouse_event(event) {\n",
       "        return fig.toolbar_button_onmouseover(event['data']);\n",
       "    }\n",
       "\n",
       "    for(var toolbar_ind in mpl.toolbar_items) {\n",
       "        var name = mpl.toolbar_items[toolbar_ind][0];\n",
       "        var tooltip = mpl.toolbar_items[toolbar_ind][1];\n",
       "        var image = mpl.toolbar_items[toolbar_ind][2];\n",
       "        var method_name = mpl.toolbar_items[toolbar_ind][3];\n",
       "\n",
       "        if (!name) {\n",
       "            // put a spacer in here.\n",
       "            continue;\n",
       "        }\n",
       "        var button = $('<button/>');\n",
       "        button.addClass('ui-button ui-widget ui-state-default ui-corner-all ' +\n",
       "                        'ui-button-icon-only');\n",
       "        button.attr('role', 'button');\n",
       "        button.attr('aria-disabled', 'false');\n",
       "        button.click(method_name, toolbar_event);\n",
       "        button.mouseover(tooltip, toolbar_mouse_event);\n",
       "\n",
       "        var icon_img = $('<span/>');\n",
       "        icon_img.addClass('ui-button-icon-primary ui-icon');\n",
       "        icon_img.addClass(image);\n",
       "        icon_img.addClass('ui-corner-all');\n",
       "\n",
       "        var tooltip_span = $('<span/>');\n",
       "        tooltip_span.addClass('ui-button-text');\n",
       "        tooltip_span.html(tooltip);\n",
       "\n",
       "        button.append(icon_img);\n",
       "        button.append(tooltip_span);\n",
       "\n",
       "        nav_element.append(button);\n",
       "    }\n",
       "\n",
       "    var fmt_picker_span = $('<span/>');\n",
       "\n",
       "    var fmt_picker = $('<select/>');\n",
       "    fmt_picker.addClass('mpl-toolbar-option ui-widget ui-widget-content');\n",
       "    fmt_picker_span.append(fmt_picker);\n",
       "    nav_element.append(fmt_picker_span);\n",
       "    this.format_dropdown = fmt_picker[0];\n",
       "\n",
       "    for (var ind in mpl.extensions) {\n",
       "        var fmt = mpl.extensions[ind];\n",
       "        var option = $(\n",
       "            '<option/>', {selected: fmt === mpl.default_extension}).html(fmt);\n",
       "        fmt_picker.append(option)\n",
       "    }\n",
       "\n",
       "    // Add hover states to the ui-buttons\n",
       "    $( \".ui-button\" ).hover(\n",
       "        function() { $(this).addClass(\"ui-state-hover\");},\n",
       "        function() { $(this).removeClass(\"ui-state-hover\");}\n",
       "    );\n",
       "\n",
       "    var status_bar = $('<span class=\"mpl-message\"/>');\n",
       "    nav_element.append(status_bar);\n",
       "    this.message = status_bar[0];\n",
       "}\n",
       "\n",
       "mpl.figure.prototype.request_resize = function(x_pixels, y_pixels) {\n",
       "    // Request matplotlib to resize the figure. Matplotlib will then trigger a resize in the client,\n",
       "    // which will in turn request a refresh of the image.\n",
       "    this.send_message('resize', {'width': x_pixels, 'height': y_pixels});\n",
       "}\n",
       "\n",
       "mpl.figure.prototype.send_message = function(type, properties) {\n",
       "    properties['type'] = type;\n",
       "    properties['figure_id'] = this.id;\n",
       "    this.ws.send(JSON.stringify(properties));\n",
       "}\n",
       "\n",
       "mpl.figure.prototype.send_draw_message = function() {\n",
       "    if (!this.waiting) {\n",
       "        this.waiting = true;\n",
       "        this.ws.send(JSON.stringify({type: \"draw\", figure_id: this.id}));\n",
       "    }\n",
       "}\n",
       "\n",
       "\n",
       "mpl.figure.prototype.handle_save = function(fig, msg) {\n",
       "    var format_dropdown = fig.format_dropdown;\n",
       "    var format = format_dropdown.options[format_dropdown.selectedIndex].value;\n",
       "    fig.ondownload(fig, format);\n",
       "}\n",
       "\n",
       "\n",
       "mpl.figure.prototype.handle_resize = function(fig, msg) {\n",
       "    var size = msg['size'];\n",
       "    if (size[0] != fig.canvas.width || size[1] != fig.canvas.height) {\n",
       "        fig._resize_canvas(size[0], size[1]);\n",
       "        fig.send_message(\"refresh\", {});\n",
       "    };\n",
       "}\n",
       "\n",
       "mpl.figure.prototype.handle_rubberband = function(fig, msg) {\n",
       "    var x0 = msg['x0'] / mpl.ratio;\n",
       "    var y0 = (fig.canvas.height - msg['y0']) / mpl.ratio;\n",
       "    var x1 = msg['x1'] / mpl.ratio;\n",
       "    var y1 = (fig.canvas.height - msg['y1']) / mpl.ratio;\n",
       "    x0 = Math.floor(x0) + 0.5;\n",
       "    y0 = Math.floor(y0) + 0.5;\n",
       "    x1 = Math.floor(x1) + 0.5;\n",
       "    y1 = Math.floor(y1) + 0.5;\n",
       "    var min_x = Math.min(x0, x1);\n",
       "    var min_y = Math.min(y0, y1);\n",
       "    var width = Math.abs(x1 - x0);\n",
       "    var height = Math.abs(y1 - y0);\n",
       "\n",
       "    fig.rubberband_context.clearRect(\n",
       "        0, 0, fig.canvas.width, fig.canvas.height);\n",
       "\n",
       "    fig.rubberband_context.strokeRect(min_x, min_y, width, height);\n",
       "}\n",
       "\n",
       "mpl.figure.prototype.handle_figure_label = function(fig, msg) {\n",
       "    // Updates the figure title.\n",
       "    fig.header.textContent = msg['label'];\n",
       "}\n",
       "\n",
       "mpl.figure.prototype.handle_cursor = function(fig, msg) {\n",
       "    var cursor = msg['cursor'];\n",
       "    switch(cursor)\n",
       "    {\n",
       "    case 0:\n",
       "        cursor = 'pointer';\n",
       "        break;\n",
       "    case 1:\n",
       "        cursor = 'default';\n",
       "        break;\n",
       "    case 2:\n",
       "        cursor = 'crosshair';\n",
       "        break;\n",
       "    case 3:\n",
       "        cursor = 'move';\n",
       "        break;\n",
       "    }\n",
       "    fig.rubberband_canvas.style.cursor = cursor;\n",
       "}\n",
       "\n",
       "mpl.figure.prototype.handle_message = function(fig, msg) {\n",
       "    fig.message.textContent = msg['message'];\n",
       "}\n",
       "\n",
       "mpl.figure.prototype.handle_draw = function(fig, msg) {\n",
       "    // Request the server to send over a new figure.\n",
       "    fig.send_draw_message();\n",
       "}\n",
       "\n",
       "mpl.figure.prototype.handle_image_mode = function(fig, msg) {\n",
       "    fig.image_mode = msg['mode'];\n",
       "}\n",
       "\n",
       "mpl.figure.prototype.updated_canvas_event = function() {\n",
       "    // Called whenever the canvas gets updated.\n",
       "    this.send_message(\"ack\", {});\n",
       "}\n",
       "\n",
       "// A function to construct a web socket function for onmessage handling.\n",
       "// Called in the figure constructor.\n",
       "mpl.figure.prototype._make_on_message_function = function(fig) {\n",
       "    return function socket_on_message(evt) {\n",
       "        if (evt.data instanceof Blob) {\n",
       "            /* FIXME: We get \"Resource interpreted as Image but\n",
       "             * transferred with MIME type text/plain:\" errors on\n",
       "             * Chrome.  But how to set the MIME type?  It doesn't seem\n",
       "             * to be part of the websocket stream */\n",
       "            evt.data.type = \"image/png\";\n",
       "\n",
       "            /* Free the memory for the previous frames */\n",
       "            if (fig.imageObj.src) {\n",
       "                (window.URL || window.webkitURL).revokeObjectURL(\n",
       "                    fig.imageObj.src);\n",
       "            }\n",
       "\n",
       "            fig.imageObj.src = (window.URL || window.webkitURL).createObjectURL(\n",
       "                evt.data);\n",
       "            fig.updated_canvas_event();\n",
       "            fig.waiting = false;\n",
       "            return;\n",
       "        }\n",
       "        else if (typeof evt.data === 'string' && evt.data.slice(0, 21) == \"data:image/png;base64\") {\n",
       "            fig.imageObj.src = evt.data;\n",
       "            fig.updated_canvas_event();\n",
       "            fig.waiting = false;\n",
       "            return;\n",
       "        }\n",
       "\n",
       "        var msg = JSON.parse(evt.data);\n",
       "        var msg_type = msg['type'];\n",
       "\n",
       "        // Call the  \"handle_{type}\" callback, which takes\n",
       "        // the figure and JSON message as its only arguments.\n",
       "        try {\n",
       "            var callback = fig[\"handle_\" + msg_type];\n",
       "        } catch (e) {\n",
       "            console.log(\"No handler for the '\" + msg_type + \"' message type: \", msg);\n",
       "            return;\n",
       "        }\n",
       "\n",
       "        if (callback) {\n",
       "            try {\n",
       "                // console.log(\"Handling '\" + msg_type + \"' message: \", msg);\n",
       "                callback(fig, msg);\n",
       "            } catch (e) {\n",
       "                console.log(\"Exception inside the 'handler_\" + msg_type + \"' callback:\", e, e.stack, msg);\n",
       "            }\n",
       "        }\n",
       "    };\n",
       "}\n",
       "\n",
       "// from http://stackoverflow.com/questions/1114465/getting-mouse-location-in-canvas\n",
       "mpl.findpos = function(e) {\n",
       "    //this section is from http://www.quirksmode.org/js/events_properties.html\n",
       "    var targ;\n",
       "    if (!e)\n",
       "        e = window.event;\n",
       "    if (e.target)\n",
       "        targ = e.target;\n",
       "    else if (e.srcElement)\n",
       "        targ = e.srcElement;\n",
       "    if (targ.nodeType == 3) // defeat Safari bug\n",
       "        targ = targ.parentNode;\n",
       "\n",
       "    // jQuery normalizes the pageX and pageY\n",
       "    // pageX,Y are the mouse positions relative to the document\n",
       "    // offset() returns the position of the element relative to the document\n",
       "    var x = e.pageX - $(targ).offset().left;\n",
       "    var y = e.pageY - $(targ).offset().top;\n",
       "\n",
       "    return {\"x\": x, \"y\": y};\n",
       "};\n",
       "\n",
       "/*\n",
       " * return a copy of an object with only non-object keys\n",
       " * we need this to avoid circular references\n",
       " * http://stackoverflow.com/a/24161582/3208463\n",
       " */\n",
       "function simpleKeys (original) {\n",
       "  return Object.keys(original).reduce(function (obj, key) {\n",
       "    if (typeof original[key] !== 'object')\n",
       "        obj[key] = original[key]\n",
       "    return obj;\n",
       "  }, {});\n",
       "}\n",
       "\n",
       "mpl.figure.prototype.mouse_event = function(event, name) {\n",
       "    var canvas_pos = mpl.findpos(event)\n",
       "\n",
       "    if (name === 'button_press')\n",
       "    {\n",
       "        this.canvas.focus();\n",
       "        this.canvas_div.focus();\n",
       "    }\n",
       "\n",
       "    var x = canvas_pos.x * mpl.ratio;\n",
       "    var y = canvas_pos.y * mpl.ratio;\n",
       "\n",
       "    this.send_message(name, {x: x, y: y, button: event.button,\n",
       "                             step: event.step,\n",
       "                             guiEvent: simpleKeys(event)});\n",
       "\n",
       "    /* This prevents the web browser from automatically changing to\n",
       "     * the text insertion cursor when the button is pressed.  We want\n",
       "     * to control all of the cursor setting manually through the\n",
       "     * 'cursor' event from matplotlib */\n",
       "    event.preventDefault();\n",
       "    return false;\n",
       "}\n",
       "\n",
       "mpl.figure.prototype._key_event_extra = function(event, name) {\n",
       "    // Handle any extra behaviour associated with a key event\n",
       "}\n",
       "\n",
       "mpl.figure.prototype.key_event = function(event, name) {\n",
       "\n",
       "    // Prevent repeat events\n",
       "    if (name == 'key_press')\n",
       "    {\n",
       "        if (event.which === this._key)\n",
       "            return;\n",
       "        else\n",
       "            this._key = event.which;\n",
       "    }\n",
       "    if (name == 'key_release')\n",
       "        this._key = null;\n",
       "\n",
       "    var value = '';\n",
       "    if (event.ctrlKey && event.which != 17)\n",
       "        value += \"ctrl+\";\n",
       "    if (event.altKey && event.which != 18)\n",
       "        value += \"alt+\";\n",
       "    if (event.shiftKey && event.which != 16)\n",
       "        value += \"shift+\";\n",
       "\n",
       "    value += 'k';\n",
       "    value += event.which.toString();\n",
       "\n",
       "    this._key_event_extra(event, name);\n",
       "\n",
       "    this.send_message(name, {key: value,\n",
       "                             guiEvent: simpleKeys(event)});\n",
       "    return false;\n",
       "}\n",
       "\n",
       "mpl.figure.prototype.toolbar_button_onclick = function(name) {\n",
       "    if (name == 'download') {\n",
       "        this.handle_save(this, null);\n",
       "    } else {\n",
       "        this.send_message(\"toolbar_button\", {name: name});\n",
       "    }\n",
       "};\n",
       "\n",
       "mpl.figure.prototype.toolbar_button_onmouseover = function(tooltip) {\n",
       "    this.message.textContent = tooltip;\n",
       "};\n",
       "mpl.toolbar_items = [[\"Home\", \"Reset original view\", \"fa fa-home icon-home\", \"home\"], [\"Back\", \"Back to  previous view\", \"fa fa-arrow-left icon-arrow-left\", \"back\"], [\"Forward\", \"Forward to next view\", \"fa fa-arrow-right icon-arrow-right\", \"forward\"], [\"\", \"\", \"\", \"\"], [\"Pan\", \"Pan axes with left mouse, zoom with right\", \"fa fa-arrows icon-move\", \"pan\"], [\"Zoom\", \"Zoom to rectangle\", \"fa fa-square-o icon-check-empty\", \"zoom\"], [\"\", \"\", \"\", \"\"], [\"Download\", \"Download plot\", \"fa fa-floppy-o icon-save\", \"download\"]];\n",
       "\n",
       "mpl.extensions = [\"eps\", \"jpeg\", \"pdf\", \"png\", \"ps\", \"raw\", \"svg\", \"tif\"];\n",
       "\n",
       "mpl.default_extension = \"png\";var comm_websocket_adapter = function(comm) {\n",
       "    // Create a \"websocket\"-like object which calls the given IPython comm\n",
       "    // object with the appropriate methods. Currently this is a non binary\n",
       "    // socket, so there is still some room for performance tuning.\n",
       "    var ws = {};\n",
       "\n",
       "    ws.close = function() {\n",
       "        comm.close()\n",
       "    };\n",
       "    ws.send = function(m) {\n",
       "        //console.log('sending', m);\n",
       "        comm.send(m);\n",
       "    };\n",
       "    // Register the callback with on_msg.\n",
       "    comm.on_msg(function(msg) {\n",
       "        //console.log('receiving', msg['content']['data'], msg);\n",
       "        // Pass the mpl event to the overridden (by mpl) onmessage function.\n",
       "        ws.onmessage(msg['content']['data'])\n",
       "    });\n",
       "    return ws;\n",
       "}\n",
       "\n",
       "mpl.mpl_figure_comm = function(comm, msg) {\n",
       "    // This is the function which gets called when the mpl process\n",
       "    // starts-up an IPython Comm through the \"matplotlib\" channel.\n",
       "\n",
       "    var id = msg.content.data.id;\n",
       "    // Get hold of the div created by the display call when the Comm\n",
       "    // socket was opened in Python.\n",
       "    var element = $(\"#\" + id);\n",
       "    var ws_proxy = comm_websocket_adapter(comm)\n",
       "\n",
       "    function ondownload(figure, format) {\n",
       "        window.open(figure.imageObj.src);\n",
       "    }\n",
       "\n",
       "    var fig = new mpl.figure(id, ws_proxy,\n",
       "                           ondownload,\n",
       "                           element.get(0));\n",
       "\n",
       "    // Call onopen now - mpl needs it, as it is assuming we've passed it a real\n",
       "    // web socket which is closed, not our websocket->open comm proxy.\n",
       "    ws_proxy.onopen();\n",
       "\n",
       "    fig.parent_element = element.get(0);\n",
       "    fig.cell_info = mpl.find_output_cell(\"<div id='\" + id + \"'></div>\");\n",
       "    if (!fig.cell_info) {\n",
       "        console.error(\"Failed to find cell for figure\", id, fig);\n",
       "        return;\n",
       "    }\n",
       "\n",
       "    var output_index = fig.cell_info[2]\n",
       "    var cell = fig.cell_info[0];\n",
       "\n",
       "};\n",
       "\n",
       "mpl.figure.prototype.handle_close = function(fig, msg) {\n",
       "    var width = fig.canvas.width/mpl.ratio\n",
       "    fig.root.unbind('remove')\n",
       "\n",
       "    // Update the output cell to use the data from the current canvas.\n",
       "    fig.push_to_output();\n",
       "    var dataURL = fig.canvas.toDataURL();\n",
       "    // Re-enable the keyboard manager in IPython - without this line, in FF,\n",
       "    // the notebook keyboard shortcuts fail.\n",
       "    IPython.keyboard_manager.enable()\n",
       "    $(fig.parent_element).html('<img src=\"' + dataURL + '\" width=\"' + width + '\">');\n",
       "    fig.close_ws(fig, msg);\n",
       "}\n",
       "\n",
       "mpl.figure.prototype.close_ws = function(fig, msg){\n",
       "    fig.send_message('closing', msg);\n",
       "    // fig.ws.close()\n",
       "}\n",
       "\n",
       "mpl.figure.prototype.push_to_output = function(remove_interactive) {\n",
       "    // Turn the data on the canvas into data in the output cell.\n",
       "    var width = this.canvas.width/mpl.ratio\n",
       "    var dataURL = this.canvas.toDataURL();\n",
       "    this.cell_info[1]['text/html'] = '<img src=\"' + dataURL + '\" width=\"' + width + '\">';\n",
       "}\n",
       "\n",
       "mpl.figure.prototype.updated_canvas_event = function() {\n",
       "    // Tell IPython that the notebook contents must change.\n",
       "    IPython.notebook.set_dirty(true);\n",
       "    this.send_message(\"ack\", {});\n",
       "    var fig = this;\n",
       "    // Wait a second, then push the new image to the DOM so\n",
       "    // that it is saved nicely (might be nice to debounce this).\n",
       "    setTimeout(function () { fig.push_to_output() }, 1000);\n",
       "}\n",
       "\n",
       "mpl.figure.prototype._init_toolbar = function() {\n",
       "    var fig = this;\n",
       "\n",
       "    var nav_element = $('<div/>')\n",
       "    nav_element.attr('style', 'width: 100%');\n",
       "    this.root.append(nav_element);\n",
       "\n",
       "    // Define a callback function for later on.\n",
       "    function toolbar_event(event) {\n",
       "        return fig.toolbar_button_onclick(event['data']);\n",
       "    }\n",
       "    function toolbar_mouse_event(event) {\n",
       "        return fig.toolbar_button_onmouseover(event['data']);\n",
       "    }\n",
       "\n",
       "    for(var toolbar_ind in mpl.toolbar_items){\n",
       "        var name = mpl.toolbar_items[toolbar_ind][0];\n",
       "        var tooltip = mpl.toolbar_items[toolbar_ind][1];\n",
       "        var image = mpl.toolbar_items[toolbar_ind][2];\n",
       "        var method_name = mpl.toolbar_items[toolbar_ind][3];\n",
       "\n",
       "        if (!name) { continue; };\n",
       "\n",
       "        var button = $('<button class=\"btn btn-default\" href=\"#\" title=\"' + name + '\"><i class=\"fa ' + image + ' fa-lg\"></i></button>');\n",
       "        button.click(method_name, toolbar_event);\n",
       "        button.mouseover(tooltip, toolbar_mouse_event);\n",
       "        nav_element.append(button);\n",
       "    }\n",
       "\n",
       "    // Add the status bar.\n",
       "    var status_bar = $('<span class=\"mpl-message\" style=\"text-align:right; float: right;\"/>');\n",
       "    nav_element.append(status_bar);\n",
       "    this.message = status_bar[0];\n",
       "\n",
       "    // Add the close button to the window.\n",
       "    var buttongrp = $('<div class=\"btn-group inline pull-right\"></div>');\n",
       "    var button = $('<button class=\"btn btn-mini btn-primary\" href=\"#\" title=\"Stop Interaction\"><i class=\"fa fa-power-off icon-remove icon-large\"></i></button>');\n",
       "    button.click(function (evt) { fig.handle_close(fig, {}); } );\n",
       "    button.mouseover('Stop Interaction', toolbar_mouse_event);\n",
       "    buttongrp.append(button);\n",
       "    var titlebar = this.root.find($('.ui-dialog-titlebar'));\n",
       "    titlebar.prepend(buttongrp);\n",
       "}\n",
       "\n",
       "mpl.figure.prototype._root_extra_style = function(el){\n",
       "    var fig = this\n",
       "    el.on(\"remove\", function(){\n",
       "\tfig.close_ws(fig, {});\n",
       "    });\n",
       "}\n",
       "\n",
       "mpl.figure.prototype._canvas_extra_style = function(el){\n",
       "    // this is important to make the div 'focusable\n",
       "    el.attr('tabindex', 0)\n",
       "    // reach out to IPython and tell the keyboard manager to turn it's self\n",
       "    // off when our div gets focus\n",
       "\n",
       "    // location in version 3\n",
       "    if (IPython.notebook.keyboard_manager) {\n",
       "        IPython.notebook.keyboard_manager.register_events(el);\n",
       "    }\n",
       "    else {\n",
       "        // location in version 2\n",
       "        IPython.keyboard_manager.register_events(el);\n",
       "    }\n",
       "\n",
       "}\n",
       "\n",
       "mpl.figure.prototype._key_event_extra = function(event, name) {\n",
       "    var manager = IPython.notebook.keyboard_manager;\n",
       "    if (!manager)\n",
       "        manager = IPython.keyboard_manager;\n",
       "\n",
       "    // Check for shift+enter\n",
       "    if (event.shiftKey && event.which == 13) {\n",
       "        this.canvas_div.blur();\n",
       "        event.shiftKey = false;\n",
       "        // Send a \"J\" for go to next cell\n",
       "        event.which = 74;\n",
       "        event.keyCode = 74;\n",
       "        manager.command_mode();\n",
       "        manager.handle_keydown(event);\n",
       "    }\n",
       "}\n",
       "\n",
       "mpl.figure.prototype.handle_save = function(fig, msg) {\n",
       "    fig.ondownload(fig, null);\n",
       "}\n",
       "\n",
       "\n",
       "mpl.find_output_cell = function(html_output) {\n",
       "    // Return the cell and output element which can be found *uniquely* in the notebook.\n",
       "    // Note - this is a bit hacky, but it is done because the \"notebook_saving.Notebook\"\n",
       "    // IPython event is triggered only after the cells have been serialised, which for\n",
       "    // our purposes (turning an active figure into a static one), is too late.\n",
       "    var cells = IPython.notebook.get_cells();\n",
       "    var ncells = cells.length;\n",
       "    for (var i=0; i<ncells; i++) {\n",
       "        var cell = cells[i];\n",
       "        if (cell.cell_type === 'code'){\n",
       "            for (var j=0; j<cell.output_area.outputs.length; j++) {\n",
       "                var data = cell.output_area.outputs[j];\n",
       "                if (data.data) {\n",
       "                    // IPython >= 3 moved mimebundle to data attribute of output\n",
       "                    data = data.data;\n",
       "                }\n",
       "                if (data['text/html'] == html_output) {\n",
       "                    return [cell, data, j];\n",
       "                }\n",
       "            }\n",
       "        }\n",
       "    }\n",
       "}\n",
       "\n",
       "// Register the function which deals with the matplotlib target/channel.\n",
       "// The kernel may be null if the page has been refreshed.\n",
       "if (IPython.notebook.kernel != null) {\n",
       "    IPython.notebook.kernel.comm_manager.register_target('matplotlib', mpl.mpl_figure_comm);\n",
       "}\n"
      ],
      "text/plain": [
       "<IPython.core.display.Javascript object>"
      ]
     },
     "metadata": {},
     "output_type": "display_data"
    },
    {
     "data": {
      "text/html": [
       "<img src=\"data:image/png;base64,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\" width=\"640\">"
      ],
      "text/plain": [
       "<IPython.core.display.HTML object>"
      ]
     },
     "metadata": {},
     "output_type": "display_data"
    },
    {
     "data": {
      "text/plain": [
       "<matplotlib.axes._subplots.AxesSubplot at 0x12c69ad30>"
      ]
     },
     "execution_count": 320,
     "metadata": {},
     "output_type": "execute_result"
    }
   ],
   "source": [
    "df.plot()"
   ]
  },
  {
   "cell_type": "markdown",
   "metadata": {},
   "source": [
    "# Unpacking"
   ]
  },
  {
   "cell_type": "code",
   "execution_count": 322,
   "metadata": {},
   "outputs": [
    {
     "name": "stdout",
     "output_type": "stream",
     "text": [
      "0 105\n"
     ]
    }
   ],
   "source": [
    "for position, valeur in enumerate(cours_de_bourse): # enumerate renvoie 2 valeurs, stockées dans position et valeur\n",
    "    print(position, valeur)\n",
    "    break"
   ]
  },
  {
   "cell_type": "markdown",
   "metadata": {},
   "source": [
    "## Calcul d'une variation dans une liste de chiffres"
   ]
  },
  {
   "cell_type": "code",
   "execution_count": 327,
   "metadata": {},
   "outputs": [],
   "source": [
    "r = []\n",
    "for position, valeur_today in enumerate(cours_de_bourse): # enumerate renvoie 2 valeurs, stockées dans position et valeur   \n",
    "    if position > 0:\n",
    "        valeur_veille = cours_de_bourse[position - 1]\n",
    "        variation     = (valeur_today - valeur_veille )/valeur_veille *100\n",
    "        r.append(variation)\n"
   ]
  },
  {
   "cell_type": "code",
   "execution_count": 329,
   "metadata": {},
   "outputs": [
    {
     "data": {
      "application/javascript": [
       "/* Put everything inside the global mpl namespace */\n",
       "window.mpl = {};\n",
       "\n",
       "\n",
       "mpl.get_websocket_type = function() {\n",
       "    if (typeof(WebSocket) !== 'undefined') {\n",
       "        return WebSocket;\n",
       "    } else if (typeof(MozWebSocket) !== 'undefined') {\n",
       "        return MozWebSocket;\n",
       "    } else {\n",
       "        alert('Your browser does not have WebSocket support.' +\n",
       "              'Please try Chrome, Safari or Firefox ≥ 6. ' +\n",
       "              'Firefox 4 and 5 are also supported but you ' +\n",
       "              'have to enable WebSockets in about:config.');\n",
       "    };\n",
       "}\n",
       "\n",
       "mpl.figure = function(figure_id, websocket, ondownload, parent_element) {\n",
       "    this.id = figure_id;\n",
       "\n",
       "    this.ws = websocket;\n",
       "\n",
       "    this.supports_binary = (this.ws.binaryType != undefined);\n",
       "\n",
       "    if (!this.supports_binary) {\n",
       "        var warnings = document.getElementById(\"mpl-warnings\");\n",
       "        if (warnings) {\n",
       "            warnings.style.display = 'block';\n",
       "            warnings.textContent = (\n",
       "                \"This browser does not support binary websocket messages. \" +\n",
       "                    \"Performance may be slow.\");\n",
       "        }\n",
       "    }\n",
       "\n",
       "    this.imageObj = new Image();\n",
       "\n",
       "    this.context = undefined;\n",
       "    this.message = undefined;\n",
       "    this.canvas = undefined;\n",
       "    this.rubberband_canvas = undefined;\n",
       "    this.rubberband_context = undefined;\n",
       "    this.format_dropdown = undefined;\n",
       "\n",
       "    this.image_mode = 'full';\n",
       "\n",
       "    this.root = $('<div/>');\n",
       "    this._root_extra_style(this.root)\n",
       "    this.root.attr('style', 'display: inline-block');\n",
       "\n",
       "    $(parent_element).append(this.root);\n",
       "\n",
       "    this._init_header(this);\n",
       "    this._init_canvas(this);\n",
       "    this._init_toolbar(this);\n",
       "\n",
       "    var fig = this;\n",
       "\n",
       "    this.waiting = false;\n",
       "\n",
       "    this.ws.onopen =  function () {\n",
       "            fig.send_message(\"supports_binary\", {value: fig.supports_binary});\n",
       "            fig.send_message(\"send_image_mode\", {});\n",
       "            if (mpl.ratio != 1) {\n",
       "                fig.send_message(\"set_dpi_ratio\", {'dpi_ratio': mpl.ratio});\n",
       "            }\n",
       "            fig.send_message(\"refresh\", {});\n",
       "        }\n",
       "\n",
       "    this.imageObj.onload = function() {\n",
       "            if (fig.image_mode == 'full') {\n",
       "                // Full images could contain transparency (where diff images\n",
       "                // almost always do), so we need to clear the canvas so that\n",
       "                // there is no ghosting.\n",
       "                fig.context.clearRect(0, 0, fig.canvas.width, fig.canvas.height);\n",
       "            }\n",
       "            fig.context.drawImage(fig.imageObj, 0, 0);\n",
       "        };\n",
       "\n",
       "    this.imageObj.onunload = function() {\n",
       "        fig.ws.close();\n",
       "    }\n",
       "\n",
       "    this.ws.onmessage = this._make_on_message_function(this);\n",
       "\n",
       "    this.ondownload = ondownload;\n",
       "}\n",
       "\n",
       "mpl.figure.prototype._init_header = function() {\n",
       "    var titlebar = $(\n",
       "        '<div class=\"ui-dialog-titlebar ui-widget-header ui-corner-all ' +\n",
       "        'ui-helper-clearfix\"/>');\n",
       "    var titletext = $(\n",
       "        '<div class=\"ui-dialog-title\" style=\"width: 100%; ' +\n",
       "        'text-align: center; padding: 3px;\"/>');\n",
       "    titlebar.append(titletext)\n",
       "    this.root.append(titlebar);\n",
       "    this.header = titletext[0];\n",
       "}\n",
       "\n",
       "\n",
       "\n",
       "mpl.figure.prototype._canvas_extra_style = function(canvas_div) {\n",
       "\n",
       "}\n",
       "\n",
       "\n",
       "mpl.figure.prototype._root_extra_style = function(canvas_div) {\n",
       "\n",
       "}\n",
       "\n",
       "mpl.figure.prototype._init_canvas = function() {\n",
       "    var fig = this;\n",
       "\n",
       "    var canvas_div = $('<div/>');\n",
       "\n",
       "    canvas_div.attr('style', 'position: relative; clear: both; outline: 0');\n",
       "\n",
       "    function canvas_keyboard_event(event) {\n",
       "        return fig.key_event(event, event['data']);\n",
       "    }\n",
       "\n",
       "    canvas_div.keydown('key_press', canvas_keyboard_event);\n",
       "    canvas_div.keyup('key_release', canvas_keyboard_event);\n",
       "    this.canvas_div = canvas_div\n",
       "    this._canvas_extra_style(canvas_div)\n",
       "    this.root.append(canvas_div);\n",
       "\n",
       "    var canvas = $('<canvas/>');\n",
       "    canvas.addClass('mpl-canvas');\n",
       "    canvas.attr('style', \"left: 0; top: 0; z-index: 0; outline: 0\")\n",
       "\n",
       "    this.canvas = canvas[0];\n",
       "    this.context = canvas[0].getContext(\"2d\");\n",
       "\n",
       "    var backingStore = this.context.backingStorePixelRatio ||\n",
       "\tthis.context.webkitBackingStorePixelRatio ||\n",
       "\tthis.context.mozBackingStorePixelRatio ||\n",
       "\tthis.context.msBackingStorePixelRatio ||\n",
       "\tthis.context.oBackingStorePixelRatio ||\n",
       "\tthis.context.backingStorePixelRatio || 1;\n",
       "\n",
       "    mpl.ratio = (window.devicePixelRatio || 1) / backingStore;\n",
       "\n",
       "    var rubberband = $('<canvas/>');\n",
       "    rubberband.attr('style', \"position: absolute; left: 0; top: 0; z-index: 1;\")\n",
       "\n",
       "    var pass_mouse_events = true;\n",
       "\n",
       "    canvas_div.resizable({\n",
       "        start: function(event, ui) {\n",
       "            pass_mouse_events = false;\n",
       "        },\n",
       "        resize: function(event, ui) {\n",
       "            fig.request_resize(ui.size.width, ui.size.height);\n",
       "        },\n",
       "        stop: function(event, ui) {\n",
       "            pass_mouse_events = true;\n",
       "            fig.request_resize(ui.size.width, ui.size.height);\n",
       "        },\n",
       "    });\n",
       "\n",
       "    function mouse_event_fn(event) {\n",
       "        if (pass_mouse_events)\n",
       "            return fig.mouse_event(event, event['data']);\n",
       "    }\n",
       "\n",
       "    rubberband.mousedown('button_press', mouse_event_fn);\n",
       "    rubberband.mouseup('button_release', mouse_event_fn);\n",
       "    // Throttle sequential mouse events to 1 every 20ms.\n",
       "    rubberband.mousemove('motion_notify', mouse_event_fn);\n",
       "\n",
       "    rubberband.mouseenter('figure_enter', mouse_event_fn);\n",
       "    rubberband.mouseleave('figure_leave', mouse_event_fn);\n",
       "\n",
       "    canvas_div.on(\"wheel\", function (event) {\n",
       "        event = event.originalEvent;\n",
       "        event['data'] = 'scroll'\n",
       "        if (event.deltaY < 0) {\n",
       "            event.step = 1;\n",
       "        } else {\n",
       "            event.step = -1;\n",
       "        }\n",
       "        mouse_event_fn(event);\n",
       "    });\n",
       "\n",
       "    canvas_div.append(canvas);\n",
       "    canvas_div.append(rubberband);\n",
       "\n",
       "    this.rubberband = rubberband;\n",
       "    this.rubberband_canvas = rubberband[0];\n",
       "    this.rubberband_context = rubberband[0].getContext(\"2d\");\n",
       "    this.rubberband_context.strokeStyle = \"#000000\";\n",
       "\n",
       "    this._resize_canvas = function(width, height) {\n",
       "        // Keep the size of the canvas, canvas container, and rubber band\n",
       "        // canvas in synch.\n",
       "        canvas_div.css('width', width)\n",
       "        canvas_div.css('height', height)\n",
       "\n",
       "        canvas.attr('width', width * mpl.ratio);\n",
       "        canvas.attr('height', height * mpl.ratio);\n",
       "        canvas.attr('style', 'width: ' + width + 'px; height: ' + height + 'px;');\n",
       "\n",
       "        rubberband.attr('width', width);\n",
       "        rubberband.attr('height', height);\n",
       "    }\n",
       "\n",
       "    // Set the figure to an initial 600x600px, this will subsequently be updated\n",
       "    // upon first draw.\n",
       "    this._resize_canvas(600, 600);\n",
       "\n",
       "    // Disable right mouse context menu.\n",
       "    $(this.rubberband_canvas).bind(\"contextmenu\",function(e){\n",
       "        return false;\n",
       "    });\n",
       "\n",
       "    function set_focus () {\n",
       "        canvas.focus();\n",
       "        canvas_div.focus();\n",
       "    }\n",
       "\n",
       "    window.setTimeout(set_focus, 100);\n",
       "}\n",
       "\n",
       "mpl.figure.prototype._init_toolbar = function() {\n",
       "    var fig = this;\n",
       "\n",
       "    var nav_element = $('<div/>')\n",
       "    nav_element.attr('style', 'width: 100%');\n",
       "    this.root.append(nav_element);\n",
       "\n",
       "    // Define a callback function for later on.\n",
       "    function toolbar_event(event) {\n",
       "        return fig.toolbar_button_onclick(event['data']);\n",
       "    }\n",
       "    function toolbar_mouse_event(event) {\n",
       "        return fig.toolbar_button_onmouseover(event['data']);\n",
       "    }\n",
       "\n",
       "    for(var toolbar_ind in mpl.toolbar_items) {\n",
       "        var name = mpl.toolbar_items[toolbar_ind][0];\n",
       "        var tooltip = mpl.toolbar_items[toolbar_ind][1];\n",
       "        var image = mpl.toolbar_items[toolbar_ind][2];\n",
       "        var method_name = mpl.toolbar_items[toolbar_ind][3];\n",
       "\n",
       "        if (!name) {\n",
       "            // put a spacer in here.\n",
       "            continue;\n",
       "        }\n",
       "        var button = $('<button/>');\n",
       "        button.addClass('ui-button ui-widget ui-state-default ui-corner-all ' +\n",
       "                        'ui-button-icon-only');\n",
       "        button.attr('role', 'button');\n",
       "        button.attr('aria-disabled', 'false');\n",
       "        button.click(method_name, toolbar_event);\n",
       "        button.mouseover(tooltip, toolbar_mouse_event);\n",
       "\n",
       "        var icon_img = $('<span/>');\n",
       "        icon_img.addClass('ui-button-icon-primary ui-icon');\n",
       "        icon_img.addClass(image);\n",
       "        icon_img.addClass('ui-corner-all');\n",
       "\n",
       "        var tooltip_span = $('<span/>');\n",
       "        tooltip_span.addClass('ui-button-text');\n",
       "        tooltip_span.html(tooltip);\n",
       "\n",
       "        button.append(icon_img);\n",
       "        button.append(tooltip_span);\n",
       "\n",
       "        nav_element.append(button);\n",
       "    }\n",
       "\n",
       "    var fmt_picker_span = $('<span/>');\n",
       "\n",
       "    var fmt_picker = $('<select/>');\n",
       "    fmt_picker.addClass('mpl-toolbar-option ui-widget ui-widget-content');\n",
       "    fmt_picker_span.append(fmt_picker);\n",
       "    nav_element.append(fmt_picker_span);\n",
       "    this.format_dropdown = fmt_picker[0];\n",
       "\n",
       "    for (var ind in mpl.extensions) {\n",
       "        var fmt = mpl.extensions[ind];\n",
       "        var option = $(\n",
       "            '<option/>', {selected: fmt === mpl.default_extension}).html(fmt);\n",
       "        fmt_picker.append(option)\n",
       "    }\n",
       "\n",
       "    // Add hover states to the ui-buttons\n",
       "    $( \".ui-button\" ).hover(\n",
       "        function() { $(this).addClass(\"ui-state-hover\");},\n",
       "        function() { $(this).removeClass(\"ui-state-hover\");}\n",
       "    );\n",
       "\n",
       "    var status_bar = $('<span class=\"mpl-message\"/>');\n",
       "    nav_element.append(status_bar);\n",
       "    this.message = status_bar[0];\n",
       "}\n",
       "\n",
       "mpl.figure.prototype.request_resize = function(x_pixels, y_pixels) {\n",
       "    // Request matplotlib to resize the figure. Matplotlib will then trigger a resize in the client,\n",
       "    // which will in turn request a refresh of the image.\n",
       "    this.send_message('resize', {'width': x_pixels, 'height': y_pixels});\n",
       "}\n",
       "\n",
       "mpl.figure.prototype.send_message = function(type, properties) {\n",
       "    properties['type'] = type;\n",
       "    properties['figure_id'] = this.id;\n",
       "    this.ws.send(JSON.stringify(properties));\n",
       "}\n",
       "\n",
       "mpl.figure.prototype.send_draw_message = function() {\n",
       "    if (!this.waiting) {\n",
       "        this.waiting = true;\n",
       "        this.ws.send(JSON.stringify({type: \"draw\", figure_id: this.id}));\n",
       "    }\n",
       "}\n",
       "\n",
       "\n",
       "mpl.figure.prototype.handle_save = function(fig, msg) {\n",
       "    var format_dropdown = fig.format_dropdown;\n",
       "    var format = format_dropdown.options[format_dropdown.selectedIndex].value;\n",
       "    fig.ondownload(fig, format);\n",
       "}\n",
       "\n",
       "\n",
       "mpl.figure.prototype.handle_resize = function(fig, msg) {\n",
       "    var size = msg['size'];\n",
       "    if (size[0] != fig.canvas.width || size[1] != fig.canvas.height) {\n",
       "        fig._resize_canvas(size[0], size[1]);\n",
       "        fig.send_message(\"refresh\", {});\n",
       "    };\n",
       "}\n",
       "\n",
       "mpl.figure.prototype.handle_rubberband = function(fig, msg) {\n",
       "    var x0 = msg['x0'] / mpl.ratio;\n",
       "    var y0 = (fig.canvas.height - msg['y0']) / mpl.ratio;\n",
       "    var x1 = msg['x1'] / mpl.ratio;\n",
       "    var y1 = (fig.canvas.height - msg['y1']) / mpl.ratio;\n",
       "    x0 = Math.floor(x0) + 0.5;\n",
       "    y0 = Math.floor(y0) + 0.5;\n",
       "    x1 = Math.floor(x1) + 0.5;\n",
       "    y1 = Math.floor(y1) + 0.5;\n",
       "    var min_x = Math.min(x0, x1);\n",
       "    var min_y = Math.min(y0, y1);\n",
       "    var width = Math.abs(x1 - x0);\n",
       "    var height = Math.abs(y1 - y0);\n",
       "\n",
       "    fig.rubberband_context.clearRect(\n",
       "        0, 0, fig.canvas.width, fig.canvas.height);\n",
       "\n",
       "    fig.rubberband_context.strokeRect(min_x, min_y, width, height);\n",
       "}\n",
       "\n",
       "mpl.figure.prototype.handle_figure_label = function(fig, msg) {\n",
       "    // Updates the figure title.\n",
       "    fig.header.textContent = msg['label'];\n",
       "}\n",
       "\n",
       "mpl.figure.prototype.handle_cursor = function(fig, msg) {\n",
       "    var cursor = msg['cursor'];\n",
       "    switch(cursor)\n",
       "    {\n",
       "    case 0:\n",
       "        cursor = 'pointer';\n",
       "        break;\n",
       "    case 1:\n",
       "        cursor = 'default';\n",
       "        break;\n",
       "    case 2:\n",
       "        cursor = 'crosshair';\n",
       "        break;\n",
       "    case 3:\n",
       "        cursor = 'move';\n",
       "        break;\n",
       "    }\n",
       "    fig.rubberband_canvas.style.cursor = cursor;\n",
       "}\n",
       "\n",
       "mpl.figure.prototype.handle_message = function(fig, msg) {\n",
       "    fig.message.textContent = msg['message'];\n",
       "}\n",
       "\n",
       "mpl.figure.prototype.handle_draw = function(fig, msg) {\n",
       "    // Request the server to send over a new figure.\n",
       "    fig.send_draw_message();\n",
       "}\n",
       "\n",
       "mpl.figure.prototype.handle_image_mode = function(fig, msg) {\n",
       "    fig.image_mode = msg['mode'];\n",
       "}\n",
       "\n",
       "mpl.figure.prototype.updated_canvas_event = function() {\n",
       "    // Called whenever the canvas gets updated.\n",
       "    this.send_message(\"ack\", {});\n",
       "}\n",
       "\n",
       "// A function to construct a web socket function for onmessage handling.\n",
       "// Called in the figure constructor.\n",
       "mpl.figure.prototype._make_on_message_function = function(fig) {\n",
       "    return function socket_on_message(evt) {\n",
       "        if (evt.data instanceof Blob) {\n",
       "            /* FIXME: We get \"Resource interpreted as Image but\n",
       "             * transferred with MIME type text/plain:\" errors on\n",
       "             * Chrome.  But how to set the MIME type?  It doesn't seem\n",
       "             * to be part of the websocket stream */\n",
       "            evt.data.type = \"image/png\";\n",
       "\n",
       "            /* Free the memory for the previous frames */\n",
       "            if (fig.imageObj.src) {\n",
       "                (window.URL || window.webkitURL).revokeObjectURL(\n",
       "                    fig.imageObj.src);\n",
       "            }\n",
       "\n",
       "            fig.imageObj.src = (window.URL || window.webkitURL).createObjectURL(\n",
       "                evt.data);\n",
       "            fig.updated_canvas_event();\n",
       "            fig.waiting = false;\n",
       "            return;\n",
       "        }\n",
       "        else if (typeof evt.data === 'string' && evt.data.slice(0, 21) == \"data:image/png;base64\") {\n",
       "            fig.imageObj.src = evt.data;\n",
       "            fig.updated_canvas_event();\n",
       "            fig.waiting = false;\n",
       "            return;\n",
       "        }\n",
       "\n",
       "        var msg = JSON.parse(evt.data);\n",
       "        var msg_type = msg['type'];\n",
       "\n",
       "        // Call the  \"handle_{type}\" callback, which takes\n",
       "        // the figure and JSON message as its only arguments.\n",
       "        try {\n",
       "            var callback = fig[\"handle_\" + msg_type];\n",
       "        } catch (e) {\n",
       "            console.log(\"No handler for the '\" + msg_type + \"' message type: \", msg);\n",
       "            return;\n",
       "        }\n",
       "\n",
       "        if (callback) {\n",
       "            try {\n",
       "                // console.log(\"Handling '\" + msg_type + \"' message: \", msg);\n",
       "                callback(fig, msg);\n",
       "            } catch (e) {\n",
       "                console.log(\"Exception inside the 'handler_\" + msg_type + \"' callback:\", e, e.stack, msg);\n",
       "            }\n",
       "        }\n",
       "    };\n",
       "}\n",
       "\n",
       "// from http://stackoverflow.com/questions/1114465/getting-mouse-location-in-canvas\n",
       "mpl.findpos = function(e) {\n",
       "    //this section is from http://www.quirksmode.org/js/events_properties.html\n",
       "    var targ;\n",
       "    if (!e)\n",
       "        e = window.event;\n",
       "    if (e.target)\n",
       "        targ = e.target;\n",
       "    else if (e.srcElement)\n",
       "        targ = e.srcElement;\n",
       "    if (targ.nodeType == 3) // defeat Safari bug\n",
       "        targ = targ.parentNode;\n",
       "\n",
       "    // jQuery normalizes the pageX and pageY\n",
       "    // pageX,Y are the mouse positions relative to the document\n",
       "    // offset() returns the position of the element relative to the document\n",
       "    var x = e.pageX - $(targ).offset().left;\n",
       "    var y = e.pageY - $(targ).offset().top;\n",
       "\n",
       "    return {\"x\": x, \"y\": y};\n",
       "};\n",
       "\n",
       "/*\n",
       " * return a copy of an object with only non-object keys\n",
       " * we need this to avoid circular references\n",
       " * http://stackoverflow.com/a/24161582/3208463\n",
       " */\n",
       "function simpleKeys (original) {\n",
       "  return Object.keys(original).reduce(function (obj, key) {\n",
       "    if (typeof original[key] !== 'object')\n",
       "        obj[key] = original[key]\n",
       "    return obj;\n",
       "  }, {});\n",
       "}\n",
       "\n",
       "mpl.figure.prototype.mouse_event = function(event, name) {\n",
       "    var canvas_pos = mpl.findpos(event)\n",
       "\n",
       "    if (name === 'button_press')\n",
       "    {\n",
       "        this.canvas.focus();\n",
       "        this.canvas_div.focus();\n",
       "    }\n",
       "\n",
       "    var x = canvas_pos.x * mpl.ratio;\n",
       "    var y = canvas_pos.y * mpl.ratio;\n",
       "\n",
       "    this.send_message(name, {x: x, y: y, button: event.button,\n",
       "                             step: event.step,\n",
       "                             guiEvent: simpleKeys(event)});\n",
       "\n",
       "    /* This prevents the web browser from automatically changing to\n",
       "     * the text insertion cursor when the button is pressed.  We want\n",
       "     * to control all of the cursor setting manually through the\n",
       "     * 'cursor' event from matplotlib */\n",
       "    event.preventDefault();\n",
       "    return false;\n",
       "}\n",
       "\n",
       "mpl.figure.prototype._key_event_extra = function(event, name) {\n",
       "    // Handle any extra behaviour associated with a key event\n",
       "}\n",
       "\n",
       "mpl.figure.prototype.key_event = function(event, name) {\n",
       "\n",
       "    // Prevent repeat events\n",
       "    if (name == 'key_press')\n",
       "    {\n",
       "        if (event.which === this._key)\n",
       "            return;\n",
       "        else\n",
       "            this._key = event.which;\n",
       "    }\n",
       "    if (name == 'key_release')\n",
       "        this._key = null;\n",
       "\n",
       "    var value = '';\n",
       "    if (event.ctrlKey && event.which != 17)\n",
       "        value += \"ctrl+\";\n",
       "    if (event.altKey && event.which != 18)\n",
       "        value += \"alt+\";\n",
       "    if (event.shiftKey && event.which != 16)\n",
       "        value += \"shift+\";\n",
       "\n",
       "    value += 'k';\n",
       "    value += event.which.toString();\n",
       "\n",
       "    this._key_event_extra(event, name);\n",
       "\n",
       "    this.send_message(name, {key: value,\n",
       "                             guiEvent: simpleKeys(event)});\n",
       "    return false;\n",
       "}\n",
       "\n",
       "mpl.figure.prototype.toolbar_button_onclick = function(name) {\n",
       "    if (name == 'download') {\n",
       "        this.handle_save(this, null);\n",
       "    } else {\n",
       "        this.send_message(\"toolbar_button\", {name: name});\n",
       "    }\n",
       "};\n",
       "\n",
       "mpl.figure.prototype.toolbar_button_onmouseover = function(tooltip) {\n",
       "    this.message.textContent = tooltip;\n",
       "};\n",
       "mpl.toolbar_items = [[\"Home\", \"Reset original view\", \"fa fa-home icon-home\", \"home\"], [\"Back\", \"Back to  previous view\", \"fa fa-arrow-left icon-arrow-left\", \"back\"], [\"Forward\", \"Forward to next view\", \"fa fa-arrow-right icon-arrow-right\", \"forward\"], [\"\", \"\", \"\", \"\"], [\"Pan\", \"Pan axes with left mouse, zoom with right\", \"fa fa-arrows icon-move\", \"pan\"], [\"Zoom\", \"Zoom to rectangle\", \"fa fa-square-o icon-check-empty\", \"zoom\"], [\"\", \"\", \"\", \"\"], [\"Download\", \"Download plot\", \"fa fa-floppy-o icon-save\", \"download\"]];\n",
       "\n",
       "mpl.extensions = [\"eps\", \"jpeg\", \"pdf\", \"png\", \"ps\", \"raw\", \"svg\", \"tif\"];\n",
       "\n",
       "mpl.default_extension = \"png\";var comm_websocket_adapter = function(comm) {\n",
       "    // Create a \"websocket\"-like object which calls the given IPython comm\n",
       "    // object with the appropriate methods. Currently this is a non binary\n",
       "    // socket, so there is still some room for performance tuning.\n",
       "    var ws = {};\n",
       "\n",
       "    ws.close = function() {\n",
       "        comm.close()\n",
       "    };\n",
       "    ws.send = function(m) {\n",
       "        //console.log('sending', m);\n",
       "        comm.send(m);\n",
       "    };\n",
       "    // Register the callback with on_msg.\n",
       "    comm.on_msg(function(msg) {\n",
       "        //console.log('receiving', msg['content']['data'], msg);\n",
       "        // Pass the mpl event to the overridden (by mpl) onmessage function.\n",
       "        ws.onmessage(msg['content']['data'])\n",
       "    });\n",
       "    return ws;\n",
       "}\n",
       "\n",
       "mpl.mpl_figure_comm = function(comm, msg) {\n",
       "    // This is the function which gets called when the mpl process\n",
       "    // starts-up an IPython Comm through the \"matplotlib\" channel.\n",
       "\n",
       "    var id = msg.content.data.id;\n",
       "    // Get hold of the div created by the display call when the Comm\n",
       "    // socket was opened in Python.\n",
       "    var element = $(\"#\" + id);\n",
       "    var ws_proxy = comm_websocket_adapter(comm)\n",
       "\n",
       "    function ondownload(figure, format) {\n",
       "        window.open(figure.imageObj.src);\n",
       "    }\n",
       "\n",
       "    var fig = new mpl.figure(id, ws_proxy,\n",
       "                           ondownload,\n",
       "                           element.get(0));\n",
       "\n",
       "    // Call onopen now - mpl needs it, as it is assuming we've passed it a real\n",
       "    // web socket which is closed, not our websocket->open comm proxy.\n",
       "    ws_proxy.onopen();\n",
       "\n",
       "    fig.parent_element = element.get(0);\n",
       "    fig.cell_info = mpl.find_output_cell(\"<div id='\" + id + \"'></div>\");\n",
       "    if (!fig.cell_info) {\n",
       "        console.error(\"Failed to find cell for figure\", id, fig);\n",
       "        return;\n",
       "    }\n",
       "\n",
       "    var output_index = fig.cell_info[2]\n",
       "    var cell = fig.cell_info[0];\n",
       "\n",
       "};\n",
       "\n",
       "mpl.figure.prototype.handle_close = function(fig, msg) {\n",
       "    var width = fig.canvas.width/mpl.ratio\n",
       "    fig.root.unbind('remove')\n",
       "\n",
       "    // Update the output cell to use the data from the current canvas.\n",
       "    fig.push_to_output();\n",
       "    var dataURL = fig.canvas.toDataURL();\n",
       "    // Re-enable the keyboard manager in IPython - without this line, in FF,\n",
       "    // the notebook keyboard shortcuts fail.\n",
       "    IPython.keyboard_manager.enable()\n",
       "    $(fig.parent_element).html('<img src=\"' + dataURL + '\" width=\"' + width + '\">');\n",
       "    fig.close_ws(fig, msg);\n",
       "}\n",
       "\n",
       "mpl.figure.prototype.close_ws = function(fig, msg){\n",
       "    fig.send_message('closing', msg);\n",
       "    // fig.ws.close()\n",
       "}\n",
       "\n",
       "mpl.figure.prototype.push_to_output = function(remove_interactive) {\n",
       "    // Turn the data on the canvas into data in the output cell.\n",
       "    var width = this.canvas.width/mpl.ratio\n",
       "    var dataURL = this.canvas.toDataURL();\n",
       "    this.cell_info[1]['text/html'] = '<img src=\"' + dataURL + '\" width=\"' + width + '\">';\n",
       "}\n",
       "\n",
       "mpl.figure.prototype.updated_canvas_event = function() {\n",
       "    // Tell IPython that the notebook contents must change.\n",
       "    IPython.notebook.set_dirty(true);\n",
       "    this.send_message(\"ack\", {});\n",
       "    var fig = this;\n",
       "    // Wait a second, then push the new image to the DOM so\n",
       "    // that it is saved nicely (might be nice to debounce this).\n",
       "    setTimeout(function () { fig.push_to_output() }, 1000);\n",
       "}\n",
       "\n",
       "mpl.figure.prototype._init_toolbar = function() {\n",
       "    var fig = this;\n",
       "\n",
       "    var nav_element = $('<div/>')\n",
       "    nav_element.attr('style', 'width: 100%');\n",
       "    this.root.append(nav_element);\n",
       "\n",
       "    // Define a callback function for later on.\n",
       "    function toolbar_event(event) {\n",
       "        return fig.toolbar_button_onclick(event['data']);\n",
       "    }\n",
       "    function toolbar_mouse_event(event) {\n",
       "        return fig.toolbar_button_onmouseover(event['data']);\n",
       "    }\n",
       "\n",
       "    for(var toolbar_ind in mpl.toolbar_items){\n",
       "        var name = mpl.toolbar_items[toolbar_ind][0];\n",
       "        var tooltip = mpl.toolbar_items[toolbar_ind][1];\n",
       "        var image = mpl.toolbar_items[toolbar_ind][2];\n",
       "        var method_name = mpl.toolbar_items[toolbar_ind][3];\n",
       "\n",
       "        if (!name) { continue; };\n",
       "\n",
       "        var button = $('<button class=\"btn btn-default\" href=\"#\" title=\"' + name + '\"><i class=\"fa ' + image + ' fa-lg\"></i></button>');\n",
       "        button.click(method_name, toolbar_event);\n",
       "        button.mouseover(tooltip, toolbar_mouse_event);\n",
       "        nav_element.append(button);\n",
       "    }\n",
       "\n",
       "    // Add the status bar.\n",
       "    var status_bar = $('<span class=\"mpl-message\" style=\"text-align:right; float: right;\"/>');\n",
       "    nav_element.append(status_bar);\n",
       "    this.message = status_bar[0];\n",
       "\n",
       "    // Add the close button to the window.\n",
       "    var buttongrp = $('<div class=\"btn-group inline pull-right\"></div>');\n",
       "    var button = $('<button class=\"btn btn-mini btn-primary\" href=\"#\" title=\"Stop Interaction\"><i class=\"fa fa-power-off icon-remove icon-large\"></i></button>');\n",
       "    button.click(function (evt) { fig.handle_close(fig, {}); } );\n",
       "    button.mouseover('Stop Interaction', toolbar_mouse_event);\n",
       "    buttongrp.append(button);\n",
       "    var titlebar = this.root.find($('.ui-dialog-titlebar'));\n",
       "    titlebar.prepend(buttongrp);\n",
       "}\n",
       "\n",
       "mpl.figure.prototype._root_extra_style = function(el){\n",
       "    var fig = this\n",
       "    el.on(\"remove\", function(){\n",
       "\tfig.close_ws(fig, {});\n",
       "    });\n",
       "}\n",
       "\n",
       "mpl.figure.prototype._canvas_extra_style = function(el){\n",
       "    // this is important to make the div 'focusable\n",
       "    el.attr('tabindex', 0)\n",
       "    // reach out to IPython and tell the keyboard manager to turn it's self\n",
       "    // off when our div gets focus\n",
       "\n",
       "    // location in version 3\n",
       "    if (IPython.notebook.keyboard_manager) {\n",
       "        IPython.notebook.keyboard_manager.register_events(el);\n",
       "    }\n",
       "    else {\n",
       "        // location in version 2\n",
       "        IPython.keyboard_manager.register_events(el);\n",
       "    }\n",
       "\n",
       "}\n",
       "\n",
       "mpl.figure.prototype._key_event_extra = function(event, name) {\n",
       "    var manager = IPython.notebook.keyboard_manager;\n",
       "    if (!manager)\n",
       "        manager = IPython.keyboard_manager;\n",
       "\n",
       "    // Check for shift+enter\n",
       "    if (event.shiftKey && event.which == 13) {\n",
       "        this.canvas_div.blur();\n",
       "        event.shiftKey = false;\n",
       "        // Send a \"J\" for go to next cell\n",
       "        event.which = 74;\n",
       "        event.keyCode = 74;\n",
       "        manager.command_mode();\n",
       "        manager.handle_keydown(event);\n",
       "    }\n",
       "}\n",
       "\n",
       "mpl.figure.prototype.handle_save = function(fig, msg) {\n",
       "    fig.ondownload(fig, null);\n",
       "}\n",
       "\n",
       "\n",
       "mpl.find_output_cell = function(html_output) {\n",
       "    // Return the cell and output element which can be found *uniquely* in the notebook.\n",
       "    // Note - this is a bit hacky, but it is done because the \"notebook_saving.Notebook\"\n",
       "    // IPython event is triggered only after the cells have been serialised, which for\n",
       "    // our purposes (turning an active figure into a static one), is too late.\n",
       "    var cells = IPython.notebook.get_cells();\n",
       "    var ncells = cells.length;\n",
       "    for (var i=0; i<ncells; i++) {\n",
       "        var cell = cells[i];\n",
       "        if (cell.cell_type === 'code'){\n",
       "            for (var j=0; j<cell.output_area.outputs.length; j++) {\n",
       "                var data = cell.output_area.outputs[j];\n",
       "                if (data.data) {\n",
       "                    // IPython >= 3 moved mimebundle to data attribute of output\n",
       "                    data = data.data;\n",
       "                }\n",
       "                if (data['text/html'] == html_output) {\n",
       "                    return [cell, data, j];\n",
       "                }\n",
       "            }\n",
       "        }\n",
       "    }\n",
       "}\n",
       "\n",
       "// Register the function which deals with the matplotlib target/channel.\n",
       "// The kernel may be null if the page has been refreshed.\n",
       "if (IPython.notebook.kernel != null) {\n",
       "    IPython.notebook.kernel.comm_manager.register_target('matplotlib', mpl.mpl_figure_comm);\n",
       "}\n"
      ],
      "text/plain": [
       "<IPython.core.display.Javascript object>"
      ]
     },
     "metadata": {},
     "output_type": "display_data"
    },
    {
     "data": {
      "text/html": [
       "<img src=\"data:image/png;base64,iVBORw0KGgoAAAANSUhEUgAABGAAAANICAYAAACIVpl8AAAgAElEQVR4XuzdB5QUxb7H8T9RgpJRRHIGgUWSYCKDYEIJKkFBAZEgZgWMgJhzul4RQYGrqJguCoYLKoIkJQgIKCxBMkjOsO/U+HZlZnd2unu6Z6q6v3POPfdct7u66lNV77z6WV2dIy0tLU34IYAAAggggAACCCCAAAIIIIAAAgh4JpCDAMYzWwpGAAEEEEAAAQQQQAABBBBAAAEEQgIEMAwEBBBAAAEEEEAAAQQQQAABBBBAwGMBAhiPgSkeAQQQQAABBBBAAAEEEEAAAQQQIIBhDCCAAAIIIIAAAggggAACCCCAAAIeCxDAeAxM8QgggAACCCCAAAIIIIAAAggggAABDGMAAQQQQAABBBBAAAEEEEAAAQQQ8FiAAMZjYIpHAAEEEEAAAQQQQAABBBBAAAEECGAYAwgggAACCCCAAAIIIIAAAggggIDHAgQwHgNTPAIIIIAAAggggAACCCCAAAIIIEAAwxhAAAEEEEAAAQQQQAABBBBAAAEEPBYggPEYmOIRQAABBBBAAAEEEEAAAQQQQAABAhjGAAIIIIAAAggggAACCCCAAAIIIOCxAAGMx8AUjwACCCCAAAIIIIAAAggggAACCBDAMAYQQAABBBBAAAEEEEAAAQQQQAABjwUIYDwGpngEEEAAAQQQQAABBBBAAAEEEECAAIYxgAACCCCAAAIIIIAAAggggAACCHgsQADjMTDFI4AAAggggAACCCCAAAIIIIAAAgQwjAEEEEAAAQQQQAABBBBAAAEEEEDAYwECGI+BKR4BBBBAAAEEEEAAAQQQQAABBBAggGEMIIAAAggggAACCCCAAAIIIIAAAh4LEMB4DEzxCCCAAAIIIIAAAggggAACCCCAAAEMYwABBBBAAAEEEEAAAQQQQAABBBDwWIAAxmNgikcAAQQQQAABBBBAAAEEEEAAAQQIYBgDCCCAAAIIIIAAAggggAACCCCAgMcCBDAeA1M8AggggAACCCCAAAIIIIAAAgggQADDGEAAAQQQQAABBBBAAAEEEEAAAQQ8FiCA8RiY4hFAAAEEEEAAAQQQQAABBBBAAAECGMYAAggggAACCCCAAAIIIIAAAggg4LEAAYzHwBSPAAIIIIAAAggggAACCCCAAAIIEMAwBhBAAAEEEEAAAQQQQAABBBBAAAGPBQhgPAameAQQQAABBBBAAAEEEEAAAQQQQIAAhjGAAAIIIIAAAggggAACCCCAAAIIeCxAAOMxMMUjgAACCCCAAAIIIIAAAggggAACBDCMAQQQQAABBBBAAAEEEEAAAQQQQMBjAQIYj4EpHgEEEEAAAQQQQAABBBBAAAEEECCAYQwggAACCCCAAAIIIIAAAggggAACHgsQwHgMTPEIIIAAAggggAACCCCAAAIIIIAAAQxjAAEEEEAAAQQQQAABBBBAAAEEEPBYgADGY2CKRwABBBBAAAEEEEAAAQQQQAABBAhgGAMIIIAAAggggAACCCCAAAIIIICAxwIEMB4DUzwCCCCAAAIIIIAAAggggAACCCBAAMMYQAABBBBAAAEEEEAAAQQQQAABBDwWIIDxGJjiEUAAAQQQQAABBBBAAAEEEEAAAQIYxgACCCCAAAIIIIAAAggggAACCCDgsQABjMfAFI8AAggggAACCCCAAAIIIIAAAggQwDAGEEAAAQQQQAABBBBAAAEEEEAAAY8FCGA8BqZ4BBBAAAEEEEAAAQQQQAABBBBAgACGMYAAAggggAACCCCAAAIIIIAAAgh4LEAA4zEwxSOAAAIIIIAAAggggAACCCCAAAIEMIwBBBBAAAEEEEAAAQQQQAABBBBAwGMBAhiPgSkeAQQQQAABBBBAAAEEEEAAAQQQIIBhDCCAAAIIIIAAAggggAACCCCAAAIeCxDAeAxM8QgggAACCCCAAAIIIIAAAggggAABDGMAAQQQQAABBBBAAAEEEEAAAQQQ8FiAAMZjYIpHAAEEEEAAAQQQQAABBBBAAAEECGAYAwgggAACCCCAAAIIIIAAAggggIDHAgQwHgNTPAIIIIAAAggggAACCCCAAAIIIEAAwxhAAAEEEEAAAQQQQAABBBBAAAEEPBYggPEYmOIRQAABBBBAAAEEEEAAAQQQQAABAhjGAAIIIIAAAggggAACCCCAAAIIIOCxAAGMx8AUjwACCCCAAAIIIIAAAggggAACCBDAMAYQQAABBBBAAAEEEEAAAQQQQAABjwUIYDwGpngEEEAAAQQQQAABBBBAAAEEEECAAIYxgAACCCCAAAIIIIAAAggggAACCHgsQADjMTDFI4AAAggggAACCCCAAAIIIIAAAgQwjAEEEEAAAQQQQAABBBBAAAEEEEDAYwECGI+BKR4BBBBAAAEEEEAAAQQQQAABBBAggGEMIIAAAggggAACCCCAAAIIIIAAAh4LEMB4DEzxCCCAAAIIIIAAAggggAACCCCAAAEMYwABBBBAAAEEEEAAAQQQQAABBBDwWIAAxmNgikcAAQQQQAABBBBAAAEEEEAAAQQIYBgDCCCAAAIIIIAAAggggAACCCCAgMcCBDAeA1M8AggggAACCCCAAAIIIIAAAgggQADDGEAAAQQQQAABBBBAAAEEEEAAAQQ8FiCA8RiY4hFAAAEEEEAAAQQQQAABBBBAAAECGMYAAggggAACCCCAAAIIIIAAAggg4LEAAYzHwBSPAAIIIIAAAggggAACCCCAAAIIEMAwBhBAAAEEEEAAAQQQQAABBBBAAAGPBQhgPAameAQQQAABBBBAAAEEEEAAAQQQQIAAhjGAAAIIIIAAAggggAACCCCAAAIIeCxAAOMxMMUjgAACCCCAAAIIIIAAAggggAACBDCMAQQQQAABBBBAAAEEEEAAAQQQQMBjAQIYj4EpHgEEEEAAAQQQQAABBBBAAAEEECCAYQwggAACCCCAAAIIIIAAAggggAACHgsQwHgMTPEIIIAAAggggAACCCCAAAIIIIAAAQxjAAEEEEAAAQQQQAABBBBAAAEEEPBYgADGY2CKRwABBBBAAAEEEEAAAQQQQAABBAhgGAMIIIAAAggggAACCCCAAAIIIICAxwIEMB4DUzwCCCCAAAIIIIAAAggggAACCCBAAMMYQAABBBBAAAEEEEAAAQQQQAABBDwWIIDxGJjiEUAAAQQQQAABBBBAAAEEEEAAAQIYxgACCCCAAAIIIIAAAggggAACCCDgsQABjMfAFI8AAggggAACCCCAAAIIIIAAAggQwDAGEEAAAQQQQAABBBBAAAEEEEAAAY8FCGA8BqZ4BBBAAAEEEEAAAQQQQAABBBBAgACGMYAAAggggAACCCCAAAIIIIAAAgh4LEAA4zEwxSOAAAIIIIAAAggggAACCCCAAAIEMIwBBBBAAAEEEEAAAQQQQAABBBBAwGMBAhiPgSkeAQQQQAABBBBAAAEEEEAAAQQQIIBhDFgWyJEjR+javHnzWr6HCxFAAAEEEEAAAQQQQAABBOIXOHr0aKiQtLS0+AujhKQIEMAkhd3MhxLAmNlv1BoBBBBAAAEEEEAAAQTMFyCAMb8PCWDM78OEteC0004LPevIkSMJeyYPQgABBBBAAAEEEEAAAQQQEGE9Zv4oIIAxvw8T1gImfMKoeRACCCCAAAIIIIAAAgggECbAesz8AUEAY34fJqwFTPiEUfMgBBBAAAEEEEAAAQQQQIAAxmdjgADGZx3qZXMIYLzUpWwEEEAAAQQQQAABBBBAILoA6zHzRwcBjPl9mLAWMOETRs2DEEAAAQQQQAABBBBAAIEwAdZj5g8IAhjz+zBhLWDCJ4yaByGAAAIIIIAAAggggAACBDA+GwMEMD7rUC+bQwDjpS5lI4AAAggggAACCCCAAALRBViPmT86CGDM78OEtYAJnzBqHoQAAggggAACCCCAAAIIhAmwHjN/QBDAmN+HCWsBEz5h1DwIAQQQQAABBBBAAAEEECCA8dkYIIDxWYd62RwCGC91KRsBBBBAAAEEEEAAAe8Fjh8/Luo/aWlp3j+MJ4QJ5MiRQ3Lnzh36j5Mf6zEnanrdQwCjV39oXRsmvNbdQ+UQQAABBBBAAAEEEMhSQIUtu3fvlj179sihQ4dQSrJA/vz5pXDhwlKkSBFRoYzVH+sxq1L6XkcAo2/faFczJrx2XUKFEEAAAQQQQAABBBDIVkCFL9u2bZNdu3YhpZlAsWLF5Mwzz7QcwrAe06wDHVSHAMYBWlBvYcIHtedpNwIIIIAAAggggICpAn/99Zds2bIlVP28efOGdl6oHRg5c+Y0tUnG1vvkyZOhHUhqJ9LRo0dD7ShVqpQULVrUUptYj1li0voiAhitu0evyjHh9eoPaoMAAggggAACCCCAQCyB1NTU0KJfhS8VKlSQXLlyxbqFv3sscOLECVm7dq0cO3YsFIapfrHyYz1mRUnvawhg9O4frWrHhNeqO6gMAggggAACCCCAAALZCqjDdlevXh26pmTJklKiRAnENBHYsWOHbN++PVSbqlWrWjqYl/WYJp0XRzUIYOLAC9qtTPig9TjtRQABBBBAAAEEEDBZ4PDhw6GdFupXrlw5KViwoMnN8VXdDxw4IOvXrw+1qWLFipIvX76Y7WM9FpNI+wsIYLLpon379smMGTNkwYIFof8sXLgwdICV+ql/3rx585gd/PHHH8vrr78uP//8s6hJVrZsWbniiitk6NChcSfQixYtkqefflpmzpwpKkFVqbaq0z333CMpKSkx62b3Aia8XTGuRwABBBBAAAEEEEAgeQLq1SP1CpL6qddc1Osu/PQQcNI3rMf06Lt4akEAk43eJ598IldffXWWV1gJYAYNGiSvvvpq6H71rmWBAgVEhTrqd9ZZZ4VCnJo1azrqv0mTJkmvXr1C7w2qnzpMSx3mpH7q/c7x48fLdddd56jsaDcx4V3lpDAEEEAAAQQQQAABBDwVcLLI97RCFJ4h4KRvWI+ZP4AIYGIEMP369ZMGDRpIw4YNpVatWtKtW7fQHbECmDfffFPUveq77iNHjpQ77rgjFMAsXrxYevToIb/++qtUqVJFli1bFgpM7PzUPfXr1w+dnN21a1d54YUX5Oyzz5bNmzfLkCFD5IMPPhA1OdUOmRo1atgpOttrmfCuUVIQAggggAACCCCAAAKeCzhZ5HteKR4QEnDSN6zHzB88BDDZ9KE6nfrUU8L3798vZ5xxRswARgUj5cuXD33uTe2Cefnll8Oesm7dulCYc/DgwdAOmQEDBtgaSZ06dZIpU6ZIvXr1ZP78+WEHNqmDtho1ahQKX7p06SKTJ0+2VXZ2FzPhXaOkIAQQQAABBBBAAAEEPBdwssj3vFI8gAAmwGOAAMZG51sNYL788kvp0KFDaPeLClvUuS+Rvz59+shbb70lTZs2ldmzZ1uuhXrN6Mwzzwztfnn33XdDu2kifxMmTJCePXuGdsGok7XTQyPLD4lyIQFMvILcjwACCCCAAAIIIIBA4gQIYBJnbfdJTvqG9ZhdZf2uJ4Cx0SdWAxh1CO4zzzwj5557buhVo6x+6jUh9fqQCmnUuTBWTySfOnWqXH755aEi1YHA6uDdyJ8KXVRIo35ffPGFtG/f3kYro1/KhHeFkUIQQAABBBBAAAEEEEiIgJNFfkIqxkN4BSmgY4AAxkbHWw1gLrvsslDwce2118p7772X5RNWrFgReg1J/dQXltQ5M1Z+6qtH9957b+gQX/WKU7Sf+rsKaFQQdNddd1kpOuY1BDAxibgAAQQQQAABBBBAAAFtBAhg3O0K9S+6n3jiCfnss89k48aNoX+Jrs7mVEdKdOzY0dbDnPQN6zFbxFpeTABjo1usBjBqEv7yyy+hg3efe+65LJ+gXiUqUqRI6G+ff/55xq6WWNW588475fnnn5fzzjsv9GnraD/1d3UOjApfVAjjxo8J74YiZSCAAAIIIIAAAgggkBgBJ4v8xNTMvKeoD6G0bNky9C+51U8d86DO9FTnhqrfbbfdJi+++KLlhjnpG9Zjlnm1vZAAxkbXWA1gqlWrJqtXr5bhw4fLqFGjsnyC+nx0+teP1Celr7/+eks1UV9WUl9YuvDCC2XWrFlR71F/V2fLqOvfeOMNS2WnT+hoF6tzZ1Sdjxw5Yqk8LkIAAQQQQAABBBBAAIHkCThZ5Cevtvo+Wa1/1NsLa9askdq1a4s6czMlJSUUwKh/Of7ggw9KWlqajB07Vnr37m2pIU76hgDGEq3WFxHA2OgeNwMY9bWiPHnyhJ5OAGOjE7gUAQQQQAABBBBAAAEELAk4WeRbKjhgF6mv2qodLgUKFBB1lES5cuXCBNSXb9XXbUuXLi2pqakZ67zsmJz0DQGM+QOPAMZGH1oNYHgFyQaqR5fOXLlN5qzZKVelnCO1Shfy6CkUiwACCCCAAAIIIICAvgJOFvn6tiZ5NTv//PNl3rx5cvPNN8uYMWMyVWT9+vVSoUKF0C6Y6dOnS9u2bWNW1knfEMDEZNX+AgIYG11kNYBRXylSXyvy4hBedZ6L+soSh/BG77hlm/bIZS/9/XpWgby5ZMEDraVA3tw2eppLEUAAAQQQQAABBBAwX8DJIt/8VrvbArUGLFSoUChcUV+y7dy5c5YPUF/AXb58eeiDKU8++WTMSjjpGwKYmKzaX0AAY6OLrAYwatKprxWp9wOXLl2a5RM+/PBD6dKli+3PUKuvK6mvLKmfOoW7RIkSmcoP+meor//3T6HdL+m/UR1rS48m5W30NJcigAACCCCAAAIIIGC+gJNFvvmtdrcF8+fPl8aNG4cKVa8f1ahRI8sHqH/5Pnny5NDHVdRHVmL9nPQNAUwsVf3/TgBjo4+sBjDTpk2T9u3bh8IVtR2tTJkymZ7St2/f0Pa1pk2bhg7Ltfrbu3evlCxZUtSBuOrwp+7du2e6deLEidKjRw9RE1SFMeqEbjd+pkz4Ns99J6u37c9o8tD2NeSWZpXdIKAMBBBAAAEEEEAAAQSMEbC6yL/l3QWSuuOgMe3KrqIVShSQN3o2dK0t6pPTV111Vag89SVbtRsmq5/6Au4LL7wgDRo0kAULFsR8vtW+ObUgU9ZjMRsf4AsIYGx0vtUARoUj5cuXly1btmT5ObINGzZIzZo15cCBA6HDmtR34+38OnXqJFOmTAl9c169i5grV66M29XhvuodRfWJarXDRqWwbv1MmfAEMG71OOUggAACCCCAAAIImCxgdZHf7vnvZeXWfSY3NaPu1c86Q6bfcYlrbVEfTEn/l97qS7a5c2d9tIH6Au7o0aNFfRF35cqVMZ9vtW8IYGJSGnUBAUyM7tqxY0fGFSowUYcrqd8nn3wS+hR0+q9w4cJhp12rT0WrT0CrXTBqIg4ZMkTy588vS5YskZ49e4b+u0qVKqK+J5/+Oer0ssaNG5fx+bK1a9dmPDP97+oeFb6ooEdtdVNJa6lSpUKBz+233y7vv/9+aPfLokWLom6RczJKCWCcqHEPAggggAACCCCAAALJEbC6yCeAid4/BDDJGbt+fSoBTIyeVQGKld+MGTOkefPmYZcOHDhQXnvttdA/U0mp+myZeoVI/dQhuuoetRMm8hcrgFHXq/9D0KtXL1EprKqjCoDUljh1OJT6vPU777wj1113nZWqW76GAMYyFRcigAACCCCAAAIIIJB0AasBDK8gRe8qXkFK+jD2VQUIYDwMYFTRH3/8cSiEUa8EqR00ZcuWlSuvvFLuv//+0FkuWf2sBDDqPrXD5amnnpLvvvtO1E4ddSCvCoHUIcApKSmuD1QCGNdJKRABBBBAAAEEEEAAAc8ErAYwnlXABwWr81waNWoUagmH8PqgQ5PcBAKYJHeASY83JYBp/dx38juH8Jo0tKgrAggggAACCCCAgAcCBDDxo576GWr1JVt1HmdWP/UFXHVUBJ+hjt/czyUQwPi5d11uGwGMy6AUhwACCCCAAAIIIICAhwIEMO7gNmnSRObOnSt9+vQRddZn5G/jxo1Srly50HEQ06dPl7Zt28Z8sJO+MWU9FrPxAb6AACbAnW+36aZMeL6CZLdnuR4BBBBAAAEEEEDAjwJOFvl+dIi3TS+//HLo67YFCxYMvYakjpU49af+pq4pXbq0pKamhn2cJdqznfSNKeuxeL39fD8BjJ971+W2mTLhCWBc7niKQwABBBBAAAEEEDBSwMki38iGelzpI0eOSK1atWTNmjVSt25deffdd0P/rXxffPFFGTZsWGj3y9ixYzO+ZhurSk76xpT1WKy2B/nvBDBB7n2bbTdlwhPA2OxYLkcAAQQQQAABBBDwpYCTRb4vIVxolDrfpWXLlrJt27ZQaYUKFZKDBw/K8ePHQ/978ODB8tJLL1l+kpO+MWU9ZhkhgBcSwASw05022ZQJzyG8TnuY+xBAAAEEEEAAAQT8JOBkke+n9rvdFhW+PPHEE/L555/Lhg0bQq8k1a9fXwYOHCgdO3a09TgnfWPKeswWRMAuJoAJWIfH01xTJjwBTDy9zL0IIIAAAggggAACfhFwssj3S9t1b4eTvjFlPaa7fTLrRwCTTH3Dnm3KhCeAMWxgUV0EEEAAAQQQQAABTwScLPI9qQiFZhJw0jemrMfo7ugCBDCMDssCpkx4AhjLXcqFCCCAAAIIIIAAAj4WcLLI9zGHVk1z0jemrMe0gtasMgQwmnWIztUxZcJzCK/Oo4i6IYAAAggggAACCCRKwMkiP1F1C/pznPSNKeuxoPdtdu0ngGF0WBYwZcITwFjuUi5EAAEEEEAAAQQQ8LGAk0W+jzm0apqTvjFlPaYVtGaVIYDRrEN0ro4pE54ARudRRN0QQAABBBBAAAEEEiXgZJGfqLoF/TlO+saU9VjQ+za79hPAMDosC5gy4TkDxnKXciECCCCAAAIIIICAjwWcLPJ9zKFV05z0jSnrMa2gNasMAYxmHaJzdUyZ8AQwOo8i6oYAAggggAACCCCQKAEni/xE1S3oz3HSN6asx4Let9m1nwCG0WFZwJQJTwBjuUu5EAEEEEAAAQQQQMDHAk4W+T7m0KppTvrGlPWYVtCaVYYARrMO0bk6pkx4AhidRxF1QwABBBBAAAEEEEiUgJNFfqLqFvTnOOkbU9ZjQe/b7NpPAMPosCxgyoQngLHcpVyIAAIIIIAAAggg4GOBw4cPy9q1a0MtLFu2rJx++uk+bq1ZTdu/f79s2LAhVOmKFStKvnz5YjbAlPVYzIYE+AICmAB3vt2mmzLhIwOYYR1qSL9LKtttLtcjgAACCCCAAAIIIGC0wMmTJ2X16tWi/vuMM86Qc845R3LkyGF0m/xQ+bS0NPnzzz9l3759kjNnTqlatWrov2P9TFmPxWpHkP9OABPk3rfZdlMmPDtgbHYslyOAAAIIIIAAAgj4VmDz5s2ye/fuUPsKFCgghQoVEvX/1xPEJL7LVfBy5MgR2bt3rxw8eDBUgaJFi0qpUqUsVcaU9ZilxgT0IgKYgHa8k2abMuEJYJz0LvcggAACCCCAAAII+FHg2LFjsnHjRlGvI/HTS0C9dlSmTBnJkyePpYqZsh6z1JiAXkQAE9COd9JsUyY8AYyT3uUeBBBAAAEEEEAAAb8KqFeQduzYEXrl5ejRo35tpjHtyps3b+iVsBIlSlh69Si9Yaasx4zpiCRUlAAmCeimPtKUCU8AY+oIo94IIIAAAggggAACXgscP35c1H/U6zD8EiugXvvKnTt36D9Ofqasx5y0LSj3EMAEpaddaKcpE54AxoXOpggEEEAAAQQQQAABBBDQSsCU9ZhWaJpVhgBGsw7RuTqmTHgCGJ1HEXVDAAEEEEAAAQQQQAABJwKmrMectC0o9xDABKWnXWinKROez1C70NkUgQACCCCAAAIIIIAAAloJmLIe0wpNs8oQwGjWITpXx5QJzw4YnUcRdUMAAQQQQAABBBBAAAEnAqasx5y0LSj3EMAEpaddaKcpE54AxoXOpggEEEAAAQQQQAABBBDQSsCU9ZhWaJpVhgBGsw7RuTqmTHgCGJ1HEXVDAAEEEEAAAQQQQAABJwKmrMectC0o9xDABKWnXWinKROeAMaFzqYIBBBAAAEEEEAAAQQQ0ErAlPWYVmiaVYYARrMO0bk6pkx4AhidRxF1QwABBBBAAAEEEEAAAScCpqzHnLQtKPcQwASlp11opykTngDGhc6mCAQQQAABBBBAAAEEENBKwJT1mFZomlWGAEazDtG5OqZMeD5DrfMoom4IIIAAAggggAACCCDgRMCU9ZiTtgXlHgKYoPS0C+00ZcITwLjQ2RSBAAIIIIAAAggggAACWgmYsh7TCk2zyhDAaNYhOlfHlAlPAKPzKKJuCCCAAAIIIIAAAggg4ETAlPWYk7YF5R4CmKD0tAvtNGXCe3UGzKS56+Xp6b9JpZKny+s96suZZ+RzQZUiEEAAAQQQQAABBBBAAIHYAqasx2K3JLhXEMAEt+9tt9yUCe9FAHP42Amp8eC0DLPu55eTx66uY9uQGxBAAAEEEEAAAQQQQAABJwKmrMectC0o9xDABKWnXWinKRPei1eQ1u08IM2enhmmmPrEZS6oUgQCCCCAAAIIIIAAAgggEFvAlPVY7JYE9woCmOD2ve2WmzLhCWBsdy03IIAAAggggAACCCCAgOYCpqzHNGdMavUIYJLKb9bDTZnwBDBmjStqiwACCCCAAAIIIIAAArEFTFmPxW5JcK8ggAlu39tuuSkTngDGdtdyAwIIIIAAAggggAACCGguYMp6THPGpFaPACap/GY93JQJ70UAk7rjgDR/hjNgzBqx1BYBBBBAAAEEEEAAAf8ImLIe84+4+y0hgHHf1LclmjLhWz07U/7YfiCjH4a2ryG3NKscV78QwMTFx80IIIAAAggggAACCCAQp4Ap67E4m+nr2wlgfN297jbOlAlPAONuv1MaAggggAACCCCAAAIIJF/AlPVY8qX0rQEBjL59o13NTJnwvIKk3dChQggggGF2JT8AACAASURBVAACCCCAAAIIIBCngCnrsTib6evbCWB83b3uNs6UCU8A426/UxoCCCCAAAIIIIAAAggkX8CU9VjypfStAQGMvn2jXc1MmfBeBDBrdxyQFhzCq92YpEIIIIAAAggggAACCARFwJT1WFD6w0k7CWCcqAX0HlMmPAFMQAcozUYAAQQQQAABBBBAwMcCpqzHfNwFcTeNACZuwuAUYMqEJ4AJzpikpQgggAACCCCAAAIIBEXAlPVYUPrDSTsJYJyoBfQeUyZ85FeQhnWoIf0uie8z1LyCFNBBT7MRQAABBBBAAAEEENBEwJT1mCZcWlaDAEbLbtGzUqZMeAIYPccPtUIAAQQQQAABBBBAAAHnAqasx5y30P93EsD4v49da6EpE54AxrUupyAEEEAAAQQQQAABBBDQRMCU9ZgmXFpWgwBGy27Rs1KmTHgCGD3HD7VCAAEEEEAAAQQQQAAB5wKmrMect9D/dxLA+L+PXWuhKROeQ3hd63IKQgABBBBAAAEEEEAAAU0ETFmPacKlZTUIYLTsFj0rZcqEZweMnuOHWiGAAAIIIIAAAggggIBzAVPWY85b6P87CWD838eutdCUCU8A41qXUxACCCCAAAIIIIAAAghoImDKekwTLi2rQQCjZbfoWSlTJjwBjJ7jh1ohgAACCCCAAAIIIICAcwFT1mPOW+j/Owlg/N/HrrXQlAlPAONal1MQAggggAACCCCAAAIIaCJgynpMEy4tq0EAo2W36FkpUya8FwHMmu37peWz34V1TOoTl+nZUdQKAQQQQAABBBBAAAEEfCdgynrMd/AuNogAxkVMvxdlyoQngPH7SKR9CCCAAAIIIIAAAggET8CU9VjwesZ6iwlgrFsF/kpTJrydAObEyTRZvmmvlC6ST4qfflrUPmYHTOCHPwAIIIAAAggggAACCCRVwJT1WFKRNH84AYzmHaRT9UyZ8HYCmD7jF8g3K7ZK0QJ5ZMqAC6ViiYJZkhPA6DQSqQsCCCCAAAIIIIAAAsETMGU9Fryesd5iAhjrVoG/0pQJbzWA+X3bPmn93PcZ/dqqxpnyVq9GBDCBH+kAIIAAAggggAACCCCgn4Ap6zH95PSpEQGMPn2hfU1MmfBWA5jvVm2XG8fOC3OPdrAuO2C0H55UEAEEEEAAAQQQQAABXwuYsh7zdSfE2TgCmDgBg3S7KRPeagDz/artcgMBTJCGMG1FAAEEEEAAAQQQQMBYAVPWY8YCJ6DiBDAJQPbLI0yZ8AQwfhlxtAMBBBBAAAEEEEAAAQTSBUxZj9Fj0QUIYBgdlgVMmfAEMJa7lAsRQAABBBBAAAEEEEDAEAFT1mOGcCalmgQwHrHnyJHDcsnjxo2TG2+80fL1qampUrFixZjXf/DBB9K5c+eY11m9wJQJTwBjtUe5DgEEEEAAAQQQQAABBEwRMGU9ZopnMupJAOOReqlSpbItef/+/XLgwIHQNUuXLpXatWtbrsmpAUyJEiUkV65cWd47ZswYufzyyy2XG+tCUya81QDmh9Xbpedb1g7h/WP7fmn17HdhRNEO7I3lyN8RQAABBBBAAAEEEEAAAbsCpqzH7LYrSNcTwCSpt9u2bStff/21NGzYUObPn2+rFqcGMGvXrpUKFSrYut/pxaZMeAIYpz3MfQgggAACCCCAAAIIIKCrgCnrMV39dKgXAUwSemHjxo1Svnx5OXnypLzyyisycOBAW7UggMmey2oAM2v1Dunx1tywwqLtamEHjK0hysUIIIAAAggggAACCCDgsgABjMugSSiOACYJ6KNHj5bhw4eLmkCbNm2SYsWK2aoFAQwBjK0Bw8UIIIAAAggggAACCCBgvAABjPFdKAQwSejD6tWry6pVq6RLly4yefJk2zUggCGAsT1ouAEBBBBAAAEEEEAAAQSMFiCAMbr7QpUngElwH86ePVsuvPDC0FO/+OILad++ve0anBrANGrUSFavXi0HDx6UkiVLyvnnny833XSTXHbZZbbLjXWDKRPei1eQft+2X1o/xyG8scYIf0cAAQQQQAABBBBAAAFvBExZj3nTen+USgCT4H7s16+fvPnmm3L22WfLhg0bon7BKLtqRX6GulChQnLs2DE5dOhQxm1qd82ECRMkb968rrXQlAlvNYD58fcd0n2MtTNgCGBcG0YUhAACCCCAAAIIIIAAAg4ETFmPOWhaYG4hgElgV6uARH2eeu/evXLffffJE0884ejpW7ZskUcffVS6du0q9evXl8KFC4fKWbZsmTz55JPy7rvvhv5337595d///rflZ6RP6Gg3HD16NBToHDlyxHKZybgwMoAZ3qGm9L2kUqaq2Atg9knr574PK0Md2Hv0+El5+X+rZcXmvdLn4krSpFLxZDSZZyKAAAIIIIAAAggggIDPBQhgzO9gApgE9uHEiROlR48eoSeuWLFCatSo4cnT77zzTnn++eclR44csnz5csvP8WsAM6xDDel3SeVM1rN/3yHdLO+AyTqAmfLzRrlz8uJQ2UUK5JH5w1tLnlw5PelXCkUAAQQQQAABBBBAAIHgChDAmN/3BDAJ7MM2bdrIN998I02aNJE5c+Z49uT9+/eHzoM5fPiwPPPMM3LXXXe58ixTJrzVV5DsBDCrt+6TNs9n3gFT4f6pYbYf3XqBNChf1BVvCkEAAQQQQAABBBBAAAEE0gVMWY/RY9EFCGASNDrUeS8VKlSQkydPyr/+9S+55ZZbPH2yOpx3wYIFMmDAAHn11VddeZYpE95yAPPHDun2prUzYAhgXBlCFIIAAggggAACCCCAAAIOBUxZjzlsXiBuI4BJUDc/9thj8sADD0i+fPlEneGSfm6LV49PD2AGDhwor7zyiiuPMWXCexHArNq6T9qyA8aVcUQhCCCAAAIIIIAAAgggYF/AlPWY/ZYF5w4CmAT1dbVq1UKfi77++utl0qRJnj71wIEDoVeQ1KG/Tz/9tNx9992uPM+UCe9FALNyyz5p90LsV5BevK6eXFXvHFe8KQQBBBBAAAEEEEAAAQQQSBcwZT1Gj0UXIIBJwOiYNWuWXHzxxaEnffXVV6LOgonnl5aWFjpgN9rvnnvuCZ39oq5RX0aqWbNmPI/LuNeUCZ/MAEZhvd27kbSofqYr5hSCAAIIIIAAAggggAACCCgBU9Zj9BYBTFLHQJ8+feStt96SsmXLSmpqquTMGfsrOeq8mHXr1smNN94o48aNC6t/s2bNpF27dnL55ZdLrVq1JHfu3KG/qy8eqeDl7bffDv1v9dw333zTtbabMuGtfoZ6zh875fo3fwrzUZ+Wzur325a9cukLP2S6NvIQXnVBrpw55I/RHVxzpyAEEEAAAQQQQAABBBBAwJT1GD1FAJO0MaBeAypVqpTs3btXhg8fLqNGjbJUl+wCmPS/qYJU+KLOk1HPOXjwYEbZ3bp1CwUxefPmtfQ8KxeZMuGt7oDxKoBRltGCHCvOXIMAAggggAACCCCAAAIIRAqYsh6j5whgkjYGJkyYID179gw9X50BU6VKFUt1yS6A+eCDD0Kfs54/f75s3rxZdu3aFQpiSpcuLU2bNpXevXtLixYtLD3HzkWmTHirAcxPa3bKdf+2tgNmxea90v5FaztgCGDsjCquRQABBBBAAAEEEEAAASsCpqzHrLQlqNdwBkxQe95Bu02Z8C2fnSlrth/IaOGwDjWk3yWVM7XYTgCzfNNe6fASAYyDYcMtCCCAAAIIIIAAAggg4IKAKesxF5rq2yIIYHzbte43zJQJTwDjft9TIgIIIIAAAggggAACCCRXwJT1WHKV9H46AYze/aNV7UyZ8FYP4bWzA2bZpj1y2UuzwvpDnfOS1SG86iLOgNFq6FIZBBBAAAEEEEAAAQSMFzBlPWY8tIcNIIDxENdvRZsy4a0GMHPX7JRrLZ4BQwDjt9FMexBAAAEEEEAAAQQQMEvAlPWYWaqJrS0BTGK9jX6aKRPeiwDm1z/3yOUvswPG6AFM5RFAAAEEEEAAAQQQMFjAlPWYwcSeV50AxnNi/zzAlAlvNYCZt3aXdH1jTlgHRXt1iADGP+OYliCAAAIIIIAAAgggYKKAKesxE20TVWcCmERJ++A5pkx4AhgfDDaagAACCCCAAAIIIIAAAmECpqzH6LboAgQwjA7LAqZMeKtfQZqfuku6/MvaDpilG/fIFa/wCpLlwcKFCCCAAAIIIIAAAggg4KqAKesxVxvts8IIYHzWoV42x5QJTwDj5SigbAQQQAABBBBAAAEEEEiGgCnrsWTYmPJMAhhTekqDepoy4SMDmOEdakrfSyplErSzA2bJxt1y5Ss/hpXBZ6g1GJRUAQEEEEAAAQQQQACBgAiYsh4LSHc4aiYBjCO2YN5kyoT3IoBZvGG3XPUqAUwwRz6tRgABBBBAAAEEEEAg+QKmrMeSL6VvDQhg9O0b7WpmyoS3egjvgtRd0tniGTBZBTC/PtpOaj88Pct+ivY1Je06lQohgAACCCCAAAIIIICAEQKmrMeMwExSJQlgkgRv4mNNmfBWd8DYCWAWbdgtHSN2wOTJlUOOnUgjgDFxMFNnBBBAAAEEEEAAAQQMEzBlPWYYa0KrSwCTUG6zH2bKhLcawCxct0s6vW7tK0hZBTDZ9SY7YMwe69QeAQQQQAABBBBAAAHdBExZj+nmplN9CGB06g3N62LKhPcigPll/V9y9WuzLfcQAYxlKi5EAAEEEEAAAQQQQAABCwKmrMcsNCWwlxDABLbr7TfclAnvRQDz8/q/5BoCGPuDhjsQQAABBBBAAAEEEEDAFQFT1mOuNNanhRDA+LRjvWiWKROeAMaL3qdMBBBAAAEEEEAAAQQQSKaAKeuxZBrp/mwCGN17SKP6mTLhrQcwf0mn18NfK4r26tDCdZmvza5r3HwFaeLcdTLi8+VSpmh+GdurkZQvXlCjUUFVEEAAAQQQQAABBBBAIBECpqzHEmFh6jMIYEztuSTU25QJ76cA5sTJNKk87IuM3m5T6yx584aGSeh9HokAAggggAACCCCAAALJFDBlPZZMI92fTQCjew9pVD9TJrw3AUzmLyZl1zVu7YA5ePS41Hpoetij3Cpbo6FFVRBAAAEEEEAAAQQQQCCGgCnrMToyugABDKPDsoApE54AxnKXciECCCCAAAIIIIAAAggYImDKeswQzqRUkwAmKexmPtSUCW89gMm8qyXa7pIFqbuk87/mWO44t3apsAPGMjkXIoAAAggggAACCCDgawFT1mO+7oQ4G0cAEydgkG43ZcJ7EcDMT90lXZIQwBw6ekJqPjQtbJi5Fe4EaezSVgQQQAABBBBAAAEETBcwZT1murOX9SeA8VLXZ2WbMuGtBjBZ7WqJFm4QwPhsMNMcBBBAAAEEEEAAAQQMEzBlPWYYa0KrSwCTUG6zH2bKhPcigJm3dpd0fSPxryCxA8bsOUPtEUAAAQQQQAABBBBwS8CU9Zhb7fVjOQQwfuxVj9pkyoS3GsBktasl2g4YAhiPBhXFIoAAAggggAACCCCAgCUBU9ZjlhoT0IsIYALa8U6abcqE9yKAmbtmp1z7758ss7l1Tgs7YCyTcyECCCCAAAIIIIAAAr4WMGU95utOiLNxBDBxAgbpdlMmvNUAJqtdLdGCk5/W7JTrkhDA8BWkIM0w2ooAAggggAACCCCAQHQBU9Zj9GF0AQIYRodlAVMmvJ8CmANHjsu5D08P6yO3dtdY7nguRAABBBBAAAEEEEAAgaQLmLIeSzqUxhUggNG4c3SrmikT3moAk9VrRdHCjTl/7JTr30z8K0gEMLrNAuqDAAIIIIAAAggggEByBExZjyVHx4ynEsCY0U9a1NKUCe+nAGb/keNSmx0wWox/KoEAAggggAACCCCAQDIFTFmPJdNI92cTwOjeQxrVz5QJbzWAyepcl2g7YGb/sUO6vTnXcm+49ZoQAYxlci5EAAEEEEAAAQQQQMDXAqasx3zdCXE2jgAmTsAg3W7KhPckgPl9h3Qbk/gAZt/hY1Lnka/Chplb4U6Qxi5tRQABBBBAAAEEEEDAdAFT1mOmO3tZfwIYL3V9VrYpE95qAJPVuS5Rd8AkKYDZe/iY1CWA8dlMojkIIIAAAggggAACCNgXMGU9Zr9lwbmDACY4fR13S02Z8F4EMD/+vkO6J2EHDAFM3MOWAhBAAAEEEEAAAQQQ8IWAKesxX2B71AgCGI9g/VisKRPeagCT1bku0XbAJCuA2XPomKQ8yitIfpxPtAkBBBBAAAEEEEAAATsCpqzH7LQpaNcSwAStx+NorykT3osAZtbqHdLjrcSfAUMAE8eA5VYEEEAAAQQQQAABBHwkYMp6zEfkrjeFAMZ1Uv8WaMqEtxzAZHGuS7QdMD+s3i4935pnuXPdOih3z8FjkjKCHTCW4bkQAQQQQAABBBBAAAGfCpiyHvMpvyvNIoBxhTEYhZgy4XUNYNQXjfpPWCgL1/0lN19UUe5pVyPmwNl98KjUG/F12HVuhTsxH84FCCCAAAIIIIAAAgggoI2AKesxbcA0rAgBjIadomuVTJnwVgOYrM51iRZufL9qu9wwNr4dMK/O+F2enr4yo3u/u6e5lC9eMNvuJoDRdTZQLwQQQAABBBBAAAEEEitgynossSpmPY0Axqz+SmptTZnwugYw9UZ8JbsPHsvow+e6psg19ctk26d/HTgq541kB0xSBz4PRwABBBBAAAEEEEBAAwFT1mMaUGlbBQIYbbtGv4qZMuGtBjBZHawbbQfMd6u2y41x7oAhgNFvTFMjBBBAAAEEEEAAAQRMETBlPWaKZzLqSQCTDHVDn2nKhPcigJm5cpv0enu+5Z7LKshRn5NWXzVK/z1/bYpcfV72O2B2HTgq9dkBY9mdCxFAAAEEEEAAAQQQ8KuAKesxv/q70S4CGDcUA1KGKRO+5TMzZc2OAxm9MrxDTel7SaVMvZTVl42i7YBxI4Cp+8h02Xv4eEY9nu2SItv3H5Glf+6R3hdUkIYVimWq4879R6TBqG/C/jmH8AZkwtFMBBBAAAEEEEAAAQROETBlPUanRRcggGF0WBYwZcJ7EcDMWLlNese5AyYygGlb6yz5avnWkH+hfLllwQNtJG/unGH9QQBjeXhyIQIIIIAAAggggAACvhYwZT3m606Is3EEMHECBul2UyZ85CtIwzrUkH6XVM7UVVl92Sja7hI3Apg6j0yXfafsgIms0ISbz5eLqpYI+8c79h+RhuyACdI0o60IIIAAAggggAACCGQpYMp6jO6LLkAAw+iwLGDKhPckgPltm/QeF98ZMLECmHduaiyXVCtJAGN5RHIhAggggAACCCCAAALBETBlPRacHrHfUgIY+2aBvcOUCW81gMnqy0ZRd8AkKYDZvu+INHqMM2ACO+loOAIIIIAAAggggAAC/y9gynqMDosuQADD6LAsYMqEjzwDZmj7GnJLs8yvINkJYP7321a5adwCy1ZZBTlOdsAQwFgm50IEEEAAAQQQQAABBHwtYMp6zNedEGfjCGDiBAzS7aZMeKsBTFZfNoq2A+bbFVvl5vFxBjAPT5d9R/75ClLk2MnqFaRt+w5L48e+DbuUryAFadbRVgQQQAABBBBAAAEE/hYwZT1Gf0UXIIBhdFgWMGXCRwYw97evIf2z2AFjRACz97A0Hk0AY3mQciECCCCAAAIIIIAAAj4VMGU95lN+V5pFAOMKYzAKMWXCWw1gsvqyUbTdJd8s3yp93knCDhgCmGBMLlqJAAIIIIAAAggggEAMAVPWY3QkO2AYAy4ImDLhIw/hjbYDJtEBTO2Hp8v+bF5BGn9TY2kW8RWkrXsPy/nsgHFh9FIEAggggAACCCCAAAJmC5iyHjNb2dvaswPGW19flW7KhI8MYO67tIbc2jzzIbwzsviyUbQdMF8v3yp949wBc+5D0+TA0RNRxwQBjK+mC41BAAEEEEAAAQQQQMBVAVPWY6422meFEcD4rEO9bI4pE96LAOarZVuk37sLLfNmFeQ4CWC27DksTR7nDBjL8FyIAAIIIIAAAggggIBPBUxZj/mU35VmEcC4whiMQkyZ8JFnwNx7aXUZ0LxKpk7K6tPS0XbAJCuA2bznkDR9/H9hdecrSMGYb7QSAQQQQAABBBBAAIFTBUxZj9Fr0QUIYBgdlgVMmfBeBDDTl22RW+LcAVProWlyMJtXkMb1biTNq58Z1h8EMJaHJxcigAACCCCAAAIIIOBrAVPWY77uhDgbRwATJ2CQbjdlwkcGMPe0qy4DW2TeAfPtiq1y8/jwLxtF212SrABm0+5DcsET7IAJ0jyjrQgggAACCCCAAAIIZCVgynqM3osuQADD6LAsYMqE9yKAmfbrFuk/Ib4zYJzsgCGAsTw8uRABBBBAAAEEEEAAAV8LmLIe83UnxNk4Apg4AYN0uykT3moA883yrdIn4stG0XbATPt1s/Sf8LPl7s6qnJoPTpNDx6J/Bent3o2kRcQrSH/uPiQXsgPGsjsXIoAAAggggAACCCDgVwFT1mN+9XejXQQwbigGpAxTJryfApiNfx2Ui56cETbC7B7CO2PlNnlv3nppXLG49L6gguTMmSMgI5ZmIoAAAggggAACCCDgHwFT1mP+EXe/JQQw7pv6tkRTJnzkZ6ijnQHz9fKt0tfiDpgvl26WWycmfgdMvAHM3sPHpMHIr+XYibTQuJzU53y5oEoJ345RGoYAAggggAACCCCAgF8FTFmP+dXfjXYRwLihGJAyTJnwkTtg7m5bTQa1rJqplxIdwNR48Es5fOxk1NGS1StIG3YdlIufCt8BU6xgXsmTK4e81r2BNChfNNvRN+GndfLAJ79mXFOpREH5393NAzJiaSYCCCCAAAIIIIAAAv4RMGU95h9x91tCAOO+qW9LNGXCWw1gvlq2RfpFfFo62us9XyzdLAPi3AFT/YEv5cjx+AOY9AF2TpH88uP9LbMdb+/MSZWHPl2WcU2Zovll1n3Z3+PbAUzDEEAAAQQQQAABBBAwWMCU9ZjBxJ5XnQDGc2L/PMCUCe9FADN1yWYZOCm+V5DcDmDUyIp1Hsz42any8GcEMP6ZhbQEAQQQQAABBBBAIKgCpqzHgto/VtpNAGNFiWtCAqZM+MgA5q421WRwq8yvIE1ftkVusbgDJlkBzPqdB+WSp8NfQTp1ONoNYMoWyy8/3MsOGKY0AggggAACCCCAAAKmCZiyHjPNNZH1JYDxUHvcuHHSu3fvmE/Yvn27lChh/2DUY8eOycsvvywTJ06U1atXh55TrVo16d69uwwaNEjy5MkT89l2LjBlwnsRwPx3ySYZNOkXy1xZBSPVHvhSjmb3ClKvRtKixplhz3A7gOEVJMtdyIUIIIAAAggggAACCGglYMp6TCs0zSpDAONhh6QHMDlz5pSSJUtGfdLy5culWLFitmqyf/9+ad26tcydOzd0X758+UL/ffjw4dB/N23aVL7++mspWLCgrXKzu9iUCR8ZwNzZpprclsUOmGm/bpH+ExaGNTnajpJkBTDrdh6QZk/PjNotdnfAEMC4Nh0oCAEEEEAAAQQQQACBhAqYsh5LKIphDyOA8bDD0gOY8uXLS2pqqqtPUrtcJk2aJEWKFJGxY8dKx44dQ+V/8sknctNNN8nu3bvlhhtukPHjx7v2XFMmvBcBzOeLN8ng/yR+B0ysAOajWy+Qhz/7VU4/Lbc81SlFyhUvENbfnAHj2vCnIAQQQAABBBBAAAEEkipgynosqUiaP5wAxsMO8iqAWbJkidSrV0/S0tLkww8/lE6dOoW1Qv2zLl26SI4cOURdW7t2bVdaacqEjwxg7mhdTYa0znwGzLRfN0v/CeEH60bbUfLZ4k1yW7wBzPAv5eiJ6F9BGturobSscVZYX6XuOCDNn4m+A0Z9CenP3YdC97SueZaMubFhtgEMZ8C4MhUoBAEEEEAAAQQQQACBhAuYsh5LOIxBDySA8bCzvApg7rvvPnnqqaekSpUqsmrVqlDQcupPBTPqLJjff/9dhg4dKqNHj3allaZMeD8FMGt3HJAW2QQwkR0bGSBF7oAhgHFlKlAIAggggAACCCCAAAIJFzBlPZZwGIMeSADjYWd5FcA0atRIFixYIAMHDpRXXnklyxaov7322mvSuHHjjHNi4m2qKRPeagDz5dLNcutEaztgPl30pwx5b5FlwiwP4XWwAybeAGbcj2vlkc+XZ9SbAMZyF3IhAggggAACCCCAAAJaCZiyHtMKTbPKEMB42CHpAUyBAgWkevXqsnLlytDTzjnnHGnevLkMHjxY6tSpY6sGanfLGWecIQcOHJDXX39d+vfvn+X96m8DBgwIXbt3715bz4h2sSkTPjKAub11Vbm9dbVMzUp0AFN1+Bdy7ERa1L7I6hWkNdv3S8tnv7Pcf5HBDwGMZTouRAABBBBAAAEEEEBAawFT1mNaIya5cgQwHnbAqZ+hVq8JqQNz1deL1Oej1S9XrlzyxBNPyN133225FipMKVy4cOj6Tz/9VK688sos71V/Sz+Yd9++fXL66adbfgYBTGYBN3bAVBn2hRw/GT2AeevGhtKqZvgZMPEGMLyCFPewpwAEEEAAAQQQQAABBLQQIIDRohviqgQBTFx82d/81VdfyY8//ijXXHNNaAeM+lS0Cl9mzZoVOpsl/RPSEydOlG7dulmqyaZNm0I7aNRPfWZafYo6q5/6W9u2bUN/UvecffbZMctPn9DRLjx69KjkzZtXjhw5ErOsZF4QuQNmSKuqckebzDtgvli6WQYk8BUkJwHMH9v3Syt2wCRzOPFsBBBAAAEEEEAAAQS0ECCA0aIb4qoEAUxcfM5vViFGs2bNQiFMmTJlZN26dZIzZ86YBRLAxCQSLwKYT375U25/P74zYJwEML9v2y+tn3PvFaRyxQrI9/e2iI3IFQgggAACCCCAAAIIIKCVAAGMVt3hqDIEMI7Y3Lnp22+/zdjBog7VbdCgQcyCUxL4BQAAIABJREFUeQUpJlGmAOa2VlXlzix2wExdslkGTrJ2CO/Hv2yUO95fHPvh/3/Fwgday/g56+Tswvnk2oZlJWfOHFJ52BdywuYrSAQwlsm5EAEEEEAAAQQQQAABXwsQwJjfvQQwSexDdZBu+tkskydPli5dusSsjTqEt1ChQqGzZDiEN2uuyB0wyQhgGlUoKvNT/wpVcGTH2tKzSXmHAcw+af3c9zHHRfoFsQ7hZQeMZUouRAABBBBAAAEEEEBAKwECGK26w1FlCGAcsblz06kBzAcffCCdO3e2VLD6tPT8+fNl0KBB8vLLL2d5j/rbq6++ymeoRSRaAPPfJZtk0KRfwvyy+ny0umDKzxvlzsnWd8BEdooq19kOGAIYS5OCixBAAAEEEEAAAQQQ8LkAAYz5HUwAk8Q+/N///ietWrUK1UAFKg0bNrRUm/vvv1+efPJJqVq1qqxatSrLe6pVqyarV68OHfY7evRoS+XGusiUCZ9pB0zLKnJn2+qZmpfoAKbS0KmSzRtIktVXkFZv3SdtnmcHTKyxyd8RQAABBBBAAAEEEPC7gCnrMb/3QzztI4CJRy+be9WrQurT09F+6mtIzZs3l9mzZ4e+arR+/XpLh/Cq8pYsWSL16tUT9YwpU6bI1VdfHfYY9c86deoUer66tnbt2q600pQJbzWA+XzxJhn8H2s7YD5auFHu+iC+HTCxApgxNzSU1rXCP0O9aus+aRtHAPP2j2vl0c+XZ/Q/ryC5MhUoBAEEEEAAAQQQQACBhAuYsh5LOIxBDySA8aizUlNT5dprr5U+ffpImzZtpEKFCqEnHT9+PPRp6mHDhoXCF/WbMGGCdO/ePawm6nr1ZaQbb7xRxo0bl6mW6vpJkyZJ0aJF5e2335Yrr7wydM1nn30mvXv3lr/++ktuuOEGGT9+vGstNGXCRwYwg1tWkbuy2AFjJ4D5cOFGudsHAUz54gXku3vi+wrSn7sPyYpNe6VJ5eJy+mm5XRtfFIQAAggggAACCCCAAALRBUxZj9GH0QUIYDwaHSqAqVixYkbp+fLlCx24q75idPTo0dA/z5Mnjzz11FNy++23Z6pFrABGHcLbunXr0Ges1S9//vyhHTGHDx8O/e+mTZvK119/LQULFnSthaZMeKsBzGeLN8ltFnfAuBHAVBw6VdLSonfHmzc0lDYRO2BWbtkn7V5w/gqS2ztgNuw6KB1e/EH2HTku1c46XaYNuST0hSd+CCCAAAIIIIAAAggg4K2AKesxbxXMLp0AxqP+O3TokIwZMya0y2XRokWyfft22bNnjxQoUEAqVaokLVq0kP79+4s6qyWrX6wARt2jXmNSh/BOnDgx4ywYVV6PHj1CB/SqgMfNnykTPjKAGdSiitx8UUU5I19uyZ0rZwaJnQDmgwUb5J4PlzjmVIfwVrh/arb3/7tnA2l7bqmwa3QLYAZO/FmmLt2cUce3ezWSFjXOdOzCjQgggAACCCCAAAIIIGBNwJT1mLXWBPMqAphg9rujVpsy4SMDmPTGppQpLJP6NpGC///azKeL/pQh7y0Ks4j2FaREBDBv9Gwg7SICmN+27JVLX/jBcn9F1j9yB0y8ryA1ffxb2bzn711W6vfY1bWl+/nlLdePCxFAAAEEEEAAAQQQQMCZgCnrMWetC8ZdBDDB6GdXWmnKhI8WwCiEBy+vFdoNo352ApjJCzbIvR7vgPlXjwZyae3wHTCJCGCOHj8pm3YfkrOL5JPTcufKdqwQwLgylSgEAQQQQAABBBBAAAHbAqasx2w3LEA3EMAEqLPjbaopEz67AKZB+aLy0a0X2A9g5m+Qez/y9hWkf/WoL5fWPjusm1Zs3ivtX3S+A2bsrLUy4r//fAUpcgfMsRMnpfPrs2Xxxj1S8+xC8vGACyRfnughDAFMvLOI+xFAAAEEEEAAAQQQcCZgynrMWeuCcRcBTDD62ZVWmjLhswtgmlQqJu/1a6plAPN69/rSvk54ALN8017p8JJ3AUzk57UfuaKW9Lrwn8OjIwcOAYwrU4lCEEAAAQQQQAABBBCwLWDKesx2wwJ0AwFMgDo73qaaMuGzC2AuqVZS3rmpcYjik1/+lNvft3YGzPvz18t9Hy11TGjlEN5Xu9WXy+q6G8DEOgPm/o+WyHvzN2S0q22ts+TfNzSM2k4CGMdDgBsRQAABBBBAAAEEEIhLwJT1WFyN9PnNBDA+72A3m2fKhM8ugGld80wZc2MjLQOYV7qdJ5fXLR3WZcs27ZHLXppluRsjD+GN9QpSZACjPoOtPocd7RcZwIzqWFt6NOEQXssdxIUIIIAAAggggAACCDgUMGU95rB5gbiNACYQ3exOI02Z8NkFMO1rl5LXezQIgXz8y0a54/3FYTjRvoL03rz1cv8Ub3fAvHz9eXJFircBTIXiBWTmPS0y2jx0yhL5z7x/dsC0rnmWjLmRAMadGUMpCCCAAAIIIIAAAgi4J2DKesy9FvuvJAIY//WpZy0yZcK3eGamrN1xIEuHK1NKy0vXn2c7gPnPvPUy1OMARtVL1e/U369/7pHLX3ZvB0zmAGapqLal/+wGMFY+Qz13zU5Zs+NAKFw6/f8/Ae7ZIKVgBBBAAAEEEEAAAQR8KmDKesyn/K40iwDGFcZgFGLKhM8ugOlUv4w82zUl1GFTft4od062tgMmEQHMi9fVk6vqneNqAPPWrLUy8pSvIMUOYP55RSurUW33DJgZK7dJ77fnh4pqVKGofND/7y9Q8UMAAQQQQAABBBBAAAF7Aqasx+y1KlhXE8AEq7/jaq0pEz67AOb6xmXl8WvqSlpamvQZv0C+/W1bmEm0V5AmzV0vwz729hWkZAQwqk2qbem/U8/IsRLAxDoDptZD0+Tg0RMZRc0b1krOLJQvrnHIzQgggAACCCCAAAIIBFHAlPVYEPvGapsJYKxKcZ2YMuGzC2BuaFpeRlxVWyJ3hqR3bzIDmBeurScdzwvfAbN04x654hXvXkHyOoCpcP/UsJnz/T0tpFzxAswmBBBAAAEEEEAAAQQQsClgynrMZrMCdTkBTKC6O77GmjLhszuE9+aLKsqDl9eSyGAgVgAzce46Gf7xr44BrXyG+rmuKXJN/TJhz4g3gIn1ClJkANOqxpnyVq+/vxKV1c/uK0gEMI6HDDcigAACCCCAAAIIIBAmYMp6jG6LLkAAw+iwLGDKhM8ugOnfrLLc376G7QBmwk/r5IFPvA1gnu2SIp0ahAcwSzbulitf+dFyH0Xu4IkMYCqWKCgz7m6eUV5kANOyxpkylgDGsjcXIoAAAggggAACCCCQKAFT1mOJ8jDxOQQwJvZakupsyoTPLoC5rWUVubNtdS0DmGe6pEjniABm8YbdctWr7gUwkYfwDv94qUw85QwYrwOY7+5pLuWLF0zSCOaxCCCAAAIIIIAAAgiYK2DKesxcYe9rTgDjvbFvnmDKhM/uDJi72lSTwa2q2g5g3v1pnTzo8Q6YpzvXlS4Ny4aNF7cDGFX4H6M7SK6cOULPeeCTpTLhp38O4SWA8c10pSEIIIAAAggggAACPhMwZT3mM3ZXm0MA4yqnvwszZcJnF8Dc3baaDGqpZwDzVOe60jUigFm0Ybd0dHEHjBqhV6aUlpeuPy/LAKZF9ZLydu/GUQdyvGfAzLy7uVQowQ4Yf/9fClqHAAIIIIAAAggg4IWAKesxL9rulzIJYPzSkwlohykT3pMdMHNS5cFPlzlWtnII71Od6krXRuE7YLwIYFQjVo1qL3lz5wzt6lG7e9J/BDCOu5gbEUAAAQQQQAABBBDwVMCU9ZinCIYXTgBjeAcmsvqmTPjsApg7WleTIa0d7IBJQADzZKc6cm2jcmFd+sv6v+Tq12Zb7ubIQ3jH/LBGRk1dken+30ZeKvny5Ep4AKMOAFYHAfNDAAEEEEAAAQQQQAABewKmrMfstSpYVxPABKu/42qtzhP++ImT8sb3a+SP7ftlys9/Rm3nkFZV5Y421WyfAfPOnFR5yOMdMI9fU0eubxwewPy8/i+5xoMAZsWISyV/3swBTPPqJWWch68g/e+uZlKp5OlxjUNuRgABBBBAAAEEEEAgiAI6r8eC2B9O2kwA40QtoPfoPOHfn79e7vtoacyeua1VVbnTQQAzfnaqPPyZt68gjb66jnQ7P7EBzEOf/irvzPnnFaRm1UrK+Ju8OwOGACbmEOUCBBBAAAEEEEAAAQSyFNB5PUaXWRMggLHmxFUiovOEr3D/VEt9NLhlFbnLwmeod+4/Is98tVLS0kTubFtNvly6xfMA5rGra0v388uHtWPhur+k0+vuv4KUvgPm4U9/lfEEMJbGDhchgAACCCCAAAIIIJBMAZ3XY8l0MenZBDAm9VaS66rzhLcawAxqUUXublc95itId76/SKb88verTFeklJYG5YrII58vd9wDVg7hHdWxtvRoktwA5pJqJeUdD3fAfHtXM6nMK0iOxxE3IoAAAggggAACCARXQOf1WHB7xV7LCWDseQX6ap0nvNUAZkDzynLvpTViBjCR5T1yRS3PA5iRHWtLz0wBzC7p9Pocy+PO6iG80XbA2A1gsgqNTq1spCMBjOWu5EIEEEAAAQQQQAABBMIEdF6P0VXWBAhgrDlxlU9eQbq1eWW5z0EA8/AVteRRj3fAjLzqXOnZtELYWFuQuks6/8v9AGb5iHZSIG9ueeSzZTJudmrGMwlgmOoIIIAAAggggAACCOgpQACjZ7/YqRUBjB2tgF+r84S3ugPmlmaVZGj7mrZ3wDx0eS0Z8V9vX0EacdW5ckOCAphlj7aTgqdlDmAurlpC3r35/Kgjvenj38rmPYcz/p7VuTWn3hzZL+cUyS/XNy4rtzavIrly5gj4jKL5CCCAAAIIIIAAAghYF9B5PWa9FcG+kgAm2P1vq/U6T3irAUy/SyrJsA56BjDqNadeF1YM65P5qbukiwc7YH59tJ2cnoQAJr1x797cWC6uWtLW+ONiBBBAAAEEEEAAAQSCLKDzeizI/WKn7QQwdrQCfq3OE95qANP34ooy/LJatnfAPHh5LRnp8Q4Y9ZpTb5cCmENHT0je3Dnl7R/XyqipKzKN3KWPtJUz8uXJ9AqS3R0wds+ASa9I2WL55Yd7WwZ8RtF8BBBAAAEEEEAAAQSsC+i8HrPeimBfSQAT7P631XqdJ7zVAObmiyqKClOiXZ9+iG3k3xtVKCrzU/+y5XXqxVa+gqRec7rpovAdMPPW7pKub9g7Ayb9XJeaZxeS5tVLyusz/8hU7yWPtJVC+fLIo58vk7d//OcMmEQFMOpVpB/vJ4BxPKC4EQEEEEAAAQQQQCBwAjqvxwLXGQ4bTADjEC6It+k84a0GMDddWFEeusJ+ABNvf1sJYFQwpAKiU39z1+yUa//9k+XHz7y7uTR/ZmbM6xc/3FYK588cwFxUpYRM6OPdGTDpFSOAidlFXIAAAggggAACCCCAQJiAzusxusqaAAGMNSeu0vwrSJWGTpWTabG7qdcFFeSRK8+1vQMmdsnZX2ElgHngsprS5+JKcQUwr3evL7dO/DlmdRc/1FYKF8gjIz5fLmN/XJtxfaICmNKF88nsoa1i1pMLEEAAAQQQQAABBBBA4G8BAhjzRwIBjPl9mLAW6Dzhqw3/Uo6eOBnT4sam5eXRq2obE8D8tGanXGdjB8xr3evLgAQGME7PgCGAiTlUuQABBBBAAAEEEEAAgTABnddjdJU1AQIYa05cpXniWuuhaXLw6ImY/XRD0/IyQtMAZniHmtL3kvAdMF4FMIseaiNFCuTNtAPmwirFZWKfJlEdIz9D7TSAObtwPpnDDpiY45ULEEAAAQQQQAABBBBIFyCAMX8sEMCY34cJa4HOE77uI9Nl7+HjMS16NCknozrW0XIHzND2NeSWZpXD2jDnj51y/ZvWz4CxugPmlwfbSNGCeUNfdnpr1j+vIF1QubhM6ms9gHns6trS/fzyUd2jnc1DABNzqHIBAggggAACCCCAAAJhAjqvx+gqawIEMNacuErzHTANRn4tOw8cjdlP3c8vJ/2bVZaLn5qR5bXRvoIUs+AYF1g5A+b+9jVCdTv1ZzeAebVbfRk4KfYZMD8/2EaKJTGAKVUon/w0jDNg4h1X3I8AAggggAACCCAQHAECGPP7mgDG/D5MWAt0nvCNH/tGtu07EtPi8rpny3crt8u+I1nvlklmAHPfpTXk1ubhAczsP3ZItzfnxmxX+gVWAxj1nLvbVpfHv1ghY07ZAdO0UnH5Tz/rO2CcvoJ0VqHTZO6w1pbbxYUIIIAAAggggAACCARdQOf1WND7xmr7CWCsSnGd1qduX/jE/+TP3Yfi7qVkBjD3XlpdBjSvEtaG2b/vkG5jrAcwr3Q7TwZN+sWSQ7tzz5Lpy7aGXZuoAObMM06TecMJYCx1FBchgAACCCCAAAIIIKD5Gwl0kDUBAhhrTlyl+YRv9vQMWbfzYNz9lMwA5p521WVgi8QFMFlh2Q1gnJ4BE6QA5sTJNHlv/no5eOSE9GhSXvLnzRX3OKUABBBAAAEEEEAAgeAJsAPG/D4ngDG/DxPWAp0nfKtnZ8of2w/EbaFbAPPj7zuku0c7YLLCalKpmLzXr2lUx8ivIDkNYEqecZrMD8gOmBe/WS3Pf7MqZHpVvdLy4nXnxT1OKQABBBBAAAEEEEAgeAI6r8eC1xvOWkwA48wtkHfpPOHbPf+9rNy6L+5+SWYAc3fbajKoZdWwNtgNYF6+/jwZ/B9rryBlhXV+xWLy/i3WAxinZ8AEKYCJ/BJU+hiLe7BSAAIIIIAAAggggECgBHRejwWqI+JoLAFMHHhBu1XnCX/ZSz/Isk174+6SZAYwd7apJre1Cg9gZq3eIT3esn4GjNcBzAWPfyub9hzOcHYawJQ4/TRZ8EAwzoAhgIl7WlIAAggggAACCCCAgOZHQtBB1gQIYKw5cZXmE/6qV3+UxRt2x91PyQxg7mhdTYa0Dg9gfli9XXq+Nc9yu+INYBpXLCaTE7ADhgDGcpdyIQIIIIAAAggggAACIQGd/4U4XWRNgADGmhNXaT7hO78+Wxas+yvufkpmAHN766pye+tqYW2wG8C8dP15clscryDZDWCcngFT4vS8suCBNnH3lwkFsAPGhF6ijggggAACCCCAgP4CBDD691GsGhLAxBLi7xkCOk/4a9+YI3PX7oq7t9Y+3kFy5MghkYvmeAtWwU6sMoe0qip3tAkPYL5ftV1uGGt9B0yiAxinryAVL5hXFj5IABPvuOJ+BBBAAAEEEEAAgeAI6LweC04vxNdSApj4/AJ1t84TvseYuTLr9x1x98ea0R0kZ87kBDDq/Bd1DsypP90CGLfOgClWMK/8TAAT93ilAAQQQAABBBBAAIHgCOi8HgtOL8TXUgKY+PwCdbfOE77X2/Nk5srtcfeH+jSy+kJPrN0qdh9kZQfMbS2ryJ1tq4cV/d2q7XKjjR0wL15XT4a8t8hu9TKub1yhmEzun/krSPuPHJcDR45Lx1d/lM0uHMKbXQCz59AxOXbipKhzYvzw4xUkP/QibUAAAQQQQAABBJIvoPN6LPk6ZtSAAMaMftKiljpP+D7jF8g3K7a64vRU57py74dLXCkrvRArAczgllXkrogAZubKbdLr7fmW6xJvANOoQlH5oP8FYc/7bcte6f7mXNl54Gimejg9A6ZogTzyy0NtM5U3+48d0nf8Ajl07IQ8cuW5ckPTCpbbruuFBDC69gz1QgABBBBAAAEEzBLQeT1mlmTyaksAkzx7456s84Tv/+5CmbZsi7amVgKYgS0qyz3taoS1QYcAptPrs2VhlAOOnQYwRQrkkUVZBDApj34lagfMqcGVtp1qsWIEMBahuAwBBBBAAAEEEEAgWwGd12N0nTUBAhhrTlyl+VeQBk36Wf67ZLO2/WQlgBnQvLLce2l4ADNj5TbpncAdMA3LF5UPbw3fAZPd61hOD+GNFsBEPuuKlNKyasu+0Oe5O9Q5W9v+za5iBDBGdhuVRgABBBBAAAEEtBMggNGuS2xXiADGNllwb9B5wt/+3i/yyaJN2naOlQDm1uaV5b6ABDCF8+eRxQ9nfgUpu7Dnt5GXSr48ubTt42gVI4AxrsuoMAIIIIAAAgggoKWAzusxLcE0rBQBjIadomuVdJ7wfghg+jerLPe3j9gB89s26T3O+hkwL1xbT25/3/khvHZ3wDh9BalQvtyy5JF2mYZ6dgHM9NsvkeqlztB1ekStFwGMcV1GhRFAAAEEEEAAAS0FdF6PaQmmYaUIYDTsFF2rpPOE90MAc0uzSjK0fc2w7v/fb1vlpnELLA+J57qmyJ2TF1u+PvLCBuWLykc2XkFyGsCckS+3LLUZwEy7/WKpUaqQ47Yl60YCmGTJ81wEEEAAAQQQQMBfAjqvx/wl7V1rCGC8s/VdyTpP+CHv/SKfGv4K0k0XVpSbLqogpQrlk9y5cobGj90A5tkuKXLXB84DmPrlisiUAReGjV0vzoBxEsB8cdvFUqt0YgOYTbsPyUcLN0rtMoWlRfUzHc1pAhhHbNyEAAIIIIAAAgggECGg83qMzrImQABjzYmrND+E1+0AJk+uHHLsRJpr/W7lDJj0h6ldKO/1ayJ5cuWUb1dslZvHW98B83TnunJPHJ/QTlgAc1puWfqovVeQpt52kZxbunCmPjl6/KT8sHq7lCtWQKqe5d4rSidPpsnFT82QP3cfCj3zP32bSNPKxW2PCQIY22TcgAACCCCAAAIIIJCFAAGM+cOCAMb8PkxYC3Se8Lf95xf5bLF7h/Dmz5NLDh074ZqtnQBGPXRIq6pyR5tqtgOYpzrVlXs/WuK43ueVKyIf29gB4/gVJAcBzH8HXyS1z8kcwPR+e57MWLldVGg2qW8TaVShmOP2n3rjvLW7pOsbczL+Udli+WVUxzoy8ad10rBCUelzUSXJmTNHzGcRwMQk4gIEEEAAAQQQQAABCwI6r8csVJ9LRIQAhmFgWUDnCe92AFMwby45cDR5AYzqlIcurxXa1dHnHes7YJ7sVEfu+2ip5T6NvDBRAczpp+WWX23ugPl80EVSp0x4ALN93xFp9Ng3Gc0oUzS/zLqvpeP2n3pjVp8Az5s7p6gdN+o3/qbG0qxayZjPigxg1j7eQXLkiB3cxCyYCxBAAAEEEEAAAQQCJaDzeixQHRFHYwlg4sAL2q06T/jB//lFPndxB0yBvLnkYJIDGDW+3ryhofS1EcA8fk0dGTolcQHMqI61pUeT8lGnQrTzY5wEMJ8NulDqlikS9qy1Ow5Ii2dmhv0ztdvIjV9WAcyp5Z5dOJ/MGdoq5qMiDf4Y3UFyWdg5E1nw8RMnZcystbJq6z7pe3ElqXl2Ys/DidlQLkAAAQQQQAABBBDwVEDn9ZinDfdR4QQwPupMr5ui84R3O4DJlyenHD72904HN352X0FKf6bdAGb01XVk2MfOA5h6ZYvIJwO9P4RX7TBaNuLSTLTZHfir6qXqd+ovmQFMidPzyoIH2sQcHpFtWv1Y+9D5PnZ/6jDg9AOWVfjz430tLb0CZfc5XI8AAggggAACCCCgp4DO6zE9xfSrFQGMfn2ibY10nvCDJv0s/12y2TW7ZB7Ce2oj/t2zgfR7d6HldqkzWYZ//Kvl6yMvTFQAo3YYLbcZwHw84AI5r1zRsCqn7jggzZO0A8ZpALNqVHtRrzLZ/UUGOV/fcYmrhw7brQ/XI4AAAggggAACCCRWQOf1WGIlzH0aAYy5fZfwmus84d0OYNQRHWnufQRJnO6AsRvAjOxYWx78xHkAk1K2iHxqYweM00N41SHHK0ba2wHz0a0XiPpC1Km/ZAYwxQvmlYUP2t8B89vISyVfnly2529kADPt9oulRileQ7INyQ0IIIAAAggggIChAjqvxwwlTXi1CWASTm7uA3We8AMn/SxTXdwB43YvOQ1g3ujZQG6xsQNm5FXnyoOfLnNcfbsBjNMzYJwFME2lQfnwLxyZGMCsGHGp5M8bfwDz5ZCLOQfG8UjnRgQQQAABBBBAwDwBnddj5mkmp8YEMMlxN/KpOk94vwYw/+rRQPpPsP4K0oirzpWH4glgyhSWTwddFDY+szuXxWkAo87Y+W1k+0zzILtnfdC/aaZPTK/beUCaPR3fIbyHj52QEf9dLgtT/5LeF1aQ6xqXC9Ur1iG8TnfALB/RTgrkzW37/wZE2hDA2CbkBgQQQAABBBBAwGgBnddjRsMmsPIEMAnENv1ROk/4gRN/lqlL3TsDxu2+croDxm4A88gVteSRz5c7rn5KRACTlpYmFYd+EbW8RAYwk29pKo0rhu+AcSOAOfVwW9XQhQ+0luKnnxYzgHF6Boz6/Lb6CpTdX2QA88VtF0ut0ryCZNeR6xFAAAEEEEAAAVMFdF6PmWqa6HoTwCRa3ODn6TzhB0xcKF8s3aKt7trHO2QbZESr+Gvd68uAiT9bbtfDV9SSR10MYI4cPyHVH5gW9flOz4A5LXdOWTnK3g6Y9/o1kSaViofVxY0Apu4j02Xv4eMZ5T5/bYpcfV4ZmfHbNuk9bn7UtjvdAbPkkbZSKF8ey32afmFkADP1tovk3NKFbZfDDQgggAACCCCAAAJmCui8HjNTNPG1JoBJvLmxT9R5wusewKwZ3UEqDYu+kyTaoHjxunoy5L1FlsfMQ5fXCr1O4/RXt0xh+eyUV5D2HzkutR+eHrU4pztg4glg9hw6JpPnb5AyRfOHdoDE+wpSvRFfye6DxzLa+FzXFLmmvncBzOKH20rh/PEHMP8dfJHUPocAxulY5z4EEEAAAQQQQMA0AZ3XY6ZZJqu+BDDJkjfwuTpP+FsnLJQvf9V3B8wfoztIZQcBzLNdUuSuDxZbHi0PXFZTRk1dYfn6yAvrnFNYPh/8zxkwuw4clfojv3Y9gFGfYVafY478ZXcGzH/6NpGmlYtL13/NkXmpu0K33tmmmjz39aqwYtTrXnZ+qn2qnek/xMP1AAAgAElEQVS/Z7qkSOcGZWK+guR0B8yih9pIkQJ57VQxdG2kDQGMbUJuQAABBBBAAAEEjBbQeT1mNGwCK08Ak0Bs0x+l84TXPYBZ/Vh7qTr8S9tD4MlOdeS+j5Zavs/tAGbLnsPS5PFv3Q9gcuWUVY/ZC2Am9TlfzitXVGo+FP2VKFVRuwFMg5Ffy85TApinOteVrg3Lxgxg1LOshCCRwcnPD7aRYgXjD2A+H3SR1CnDDhjLk4MLEUAAAQQQQAABwwV0Xo8ZTpuw6hPAeEi9ceNGmTJlinz77beyePFi2bx5s+TJk0fKly8vrVu3liFDhkilSpVs12DmzJnSokWLmPfNnz9fGjZsGPM6qxfoPOH7v7tQpi3TdweM2u1R7QH7AczIjrXlwU9+tdpFMqxDDRn9xW+Wr4+8sPY5heS/gy/O+Mfrdx6US56eEbU8p2fA5MmVQ1Y/1iFTudntgJnY53xRr0jVeeSrbNtnN4BpOOpr2bH/nx0wT3WqK10bWQtgVEXUuTu9L6wYtU6RbUo/5NduJ0WWE7QAZvfBo/LLht2SUqaIowDLrjfXI4AAAggggAACugnovB7TzUrX+hDAeNQzGzZsCAUt6isy6b9ChQrJoUOH5Nixv8+byJ8/v4wbN066du1qqxanBjBnnXVW1HunT58uKSkptsrO7mKdJ7zuAczKUZdme5htNHe7h+oObV9DHv/SvQDm9237pfVz30UdFlmdAbN93xEZNXW5HDhyXL5ZsS3Le3PnzCG/j7YXwLx7c2NJKVtE6roewHwjO/Yfyain2nV0baNylnbApN+UXegTGZzMH95aSp5xmu15GVnOZ4MulLplitgux8QbDh49Lq2e/U427zksZ55xmnxzVzNHBxmb2HbqjAACCCCAAAIIpAvovB6jl6wJEMBYc7J9VWpqamh3S4cOHaRXr16hHSvFixeX48ePy+zZs2Xw4MGyZMkSyZ07tyxcuFDq1q1r+RmnBjCnBjyWC3B4oc4T/pZ3F8j0ZVsdtsz7234beanUeDD7V2eyqsXwDjXlsS+sn+lyf/sa8oSLAczyTXulw0s/RAVSO3R6Nikf9vcHPlkqE35any2qkwDmnZv+DmBSHnV3B0zjx76Rbfv+CWCeuKaOXNe4XMyvIJ3aQDsBzLxhreTMQvlsD7rIAOaTgRdKvbLBCGDG/LAm7GyjO1pXkyGtq9o25AYEEEAAAQQQQMBkAZ3XYya7JrLuBDAeae/Zs0dUCBNtB8rWrVulTp06sn37dundu7eMHTvWck0IYDJT6R7ArBhxacyzS7IaAPdeWl2emrbS8tiwe31kweeWLiRTb/vnFaRFG3ZLx1d/tBXAZPcaUXpBuXLmEHUwceQvu3vH9W4k55UtKikj3A1gmoz+VrbsPZxRldFX15Fu53sXwMwd1krOIoCxPKbVhfd+uFgmL9iYcU+7c8+SN3q693qlrcpwMQIIIIAAAgggkCQBApgkwbv4WAIYFzHtFqV2xowfPz60+0WdEWP1RwCTWarfOwvkq+X67oBZPqKd1Hoo+ueco/W9+jf9z38T/pWf7MbJPe2qy9PTrQc2sQKYeWt3Sdc35kQPYK46V3o2rRD2d68CmLG9GkqDcsVcD2CaPv5t6NWW9F/6a1UzftsmvcfNtzQt7eyAmTO0pZxdOL+lck+9KNL14wEXhA4lDsLvvg+XyPsLNhDABKGzaSMCCCCAAAIIRBUggDF/cBDAJLEP/4+97wCr4ujef22IKFixVwRELGBDsaAiKpbEHqNGY9doYkwzdo2xJBpL7DXGxJjEGL80ey/Ye6/YsPeuIPo9Z3Vhd+/eLffuvey9zDzP//n9P3fmzJl3Zm+Yd895z+eff47x48cjODgYR48e1ewJI2Bcj4A5+lV9lBqmn4D5KNIfU9af0Xw25Moyax4MIDifD5Z/nBwBE3PmFtrN3WnVxIgmpdDBBgImbRogdoxluWgl8mZuh4qoWDQ7QkdYL4tNjuoV4a06Zh2uCAgYPq1q3fHr6LJgjyb49BAwMf0jUSCb/QTM0l5VUZ4RMJr2h3ViCDAEGAIMAYYAQ4Ah4A4IMALG9XeRETApuIeVKlXCnj17OBHe33//XbMnQgKmSpUqHHlDwr558+ZFtWrV0LNnT1SvXl2zPa0dzfzCd/tpD9aYOALm8PB6qtV75PahZ83imLnprNYtQt+oAExae1pzf2lHKQGjFgXy1dul8H5V/REwthAws9tXQMWiOVD+a2MJmGrfrMfle0+ToPj6TVQPnSc6V1qaHgJmS7/aKJTDS4tZUR8pOfXnB1VRoQiLgNENJBvAEGAIMAQYAgwBhgBDwEURMPN9zEUhdbrbjIBxOuSvJ/zrr7/QrFkz7v+/YsUKREdHa/ZEWoY6W7ZsXHWl58+ThUSpxPXEiRORJk0azXbVOpr5hTc7AXNoeD3V6j1y+HepXgzztp5T25qk530i/TFZR8SM1HDJfD5YIYiAWXnkGnou3Gt1/uFvBaOjpASzlhQkOpbndEbAzHyvPEfAVBy5VhEPvREw1b9dj7i7yQQMTyqtOnoNPX62vnahEylDwISjQpEcms+GK3dkKUiuvHvMd4YAQ4AhwBBgCDAEjELAzPcxo9bo7nYYAZMCO3zhwgVUrFgRt27dQpMmTTgyRk87cOAAFi5ciJYtW3JCvpkzZ8bLly+5aJrhw4dzhA61UaNGYeDAgZpN8y+0tQHx8fHw8PAQET2ajTu4Y9cFe7D2uHk1YA4Oq6davUcOovfDi2DB9gua0fuwtj+mbtCesqRGwPxz8Ar6/LrfcAKGDMqRFkrkzfR2RMBkR9iodYYSMBFjN+DinSdJNnlSacXhq/jgl32asNdDwGz6ohaK5Mysya6wkxSbP3qGo1JRRsDoBpINYAgwBBgCDAGGAEOAIeCiCDACxkU3TuA2I2CcvIf37t1DREQEDh8+zJWp3r17N3LkMO4SRWWpiZhZunQpR8zExcWBImS0NEbAaEHJtj4HhtZV1S6Rs1y7hC82nLypedJetYpj+kbtKUtqBMyfe+Pw2R/WBaKHvRWMTjZEwNhCwExpUw5hxXKg8mhjCZia4zbgwu1kAmZo42B0rl4Myw5dRe9FxhMwGz6vhWK57Cdgfu9eBZX9cmo+G67ckUXAuPLuMd8ZAgwBhgBDgCHAEDAKAUbAGIVkytlhBIwTsX/06BHq1q2LHTt2IH/+/NiyZQtHwhjdzp49C39/f87skiVL0KJFC0OmMPML33XBbqw9fsOQdTrCyP4hdVFORbvEiHl71PTDrE2xNpsKyuuNlX0jksb/tusi+i89bNUeT1YIO2hJQbKFgPn+3VCOgAkfs15xfXpTkGqN24DzAgJmSONgUOrXvwev4COF6B+hE9bmJEK02IDlIn/Xf1YTfr5ZdO+RFNdfu1VBeHFGwOgGkg1gCDAEGAIMAYYAQ4Ah4KIImPk+5qKQOt1tRsA4CfInT56gQYMG2Lx5M3x9fbFp0yaULFnSYbPTHJTiNHbsWHzxxReGzGPmF97sBMy+IXVVxWON2KTuEX6Yvdk4AuaXnRcw6H9HrLo2oEEQutbwQzpS1X3THEXATGwdgrBiOUGiuUpNLwET+d1GxN56nGRycKOS3Jr+PnAZH/92QNO2WJvz5ctX8BsoJmDWfloT/rntJ2B+6VoZ1fxzafLP1TuxCBhX30HmP0OAIcAQYAgwBBgCRiBg5vuYEetLDTYYAeOEXSaB3MaNG2P9+vXInj07939DQ0MdOjNPwIwbNw5U7tqIZuYXvsuPu7HuhHkjYPYOjkIFFfFYI/aoa/VimKtDtFc6pzQCZuGOCxj8l3UChsZTOs1PncOSKvs4ioAZ34oImByoMXaDsQTM+I2IvZlMwAxqWBLdIvzw1/7L6Pu7fQRM4stXKC4hYNZ8EoGAPN66t1uK689dwlAjwFe3HVccwAgYV9w15jNDgCHAEGAIMAQYAkYjYOb7mNFrdVd7jIBx8M5SZSIS2l21ahV8fHywZs0ahIWFOXTW2NhYFC9enJvjjz/+4DRhjGhmfuHNTsDsHhSFSqOUq/cYsUedqhXF/JjzNpsqkccbqz5JTkH6eccFDFEhYGiyRmXzYVrb8ty8jiJgxrYsiyrFciJinDIBM6l1KLJkTI86JXNrqgIWNWETztx4lITZwIZB6B5RHEv3xeHTxdb1b4QgW4uASUh8iYBBr0Wx+bb6kwgEGkDALOgchpqBjICx+bCzgQwBhgBDgCHAEGAIMARcDAEz38dcDMoUc5cRMA6EPiEhAc2bN8d///3HCeISCVOtWjW7ZyRdCaXy0u+88w5HvHh5eXEivBR1Y0Qz8wvf+cfdWG/iCJhdg+qoVu8xYo86Vi2KH7cZSMBsP48hfx/V5BpPQjiKgPm2RRlU8cuJmuM2avJHTiBYbmDdCZtwWkDAUFpVj5rFsWRvHD5XECDWQsA8f5GIEoNXiqZd2bcGgvL6aFqDsJMU1/mdKqF2idyqdmZtOovJ604jOL8PZrWviByZPVTHmK2DNAKmXnAezO5Q0SFu0u8rNaXfWIdMzIwyBBgCDAGGAEOAIcAQUEHAzPcxtnnaEGAEjDacdPdKTExEmzZtOCIkU6ZMWLZsGWrXrq3ZDv/H/7Bhw7jS0sIWHByM7t27c5oyAQEBSJs2LejSsHfvXnz11Vcc4UNt5MiRGDRokOY51Tqa+YU3PQEzsA7CVKr3qOHvjOfSCJiftp/HUJMQMGOavyZgan+njYAhvLTowdSbuAmnridHwPRvEISeNYtj8e5L6PfnIU2wW5vnWUIigoaICZjlfWpwZIjeJiVgfuhYEZFBeRTN3H0cLxJ/7hHhhwENHac9pXdNWvv3//MQftt9Kam7owgY0jwa9vdR5M+WCURwFbdBLFnrmlg/hgBDgCHAEGAIMAQYAnoRMPN9TO9aUmt/RsA4aOdJbLdmzZqcdXpR1EpBX7t2TeSJEgEj/DLr4eHBpTZRhaVnz55xNuj5p59+CtJ/MfIrrplf+E7zd+kq1+ygbbdqdseAOqgyRrl8srN9kpsvME8WrP7k9bmltmDbeQz7xxwRMCObluaq/tQZv0kzVFoImOhJm3Hi2sMkm/2iS6BXLX+oVYASOmFtnqfxiSg5VEzALOtTHaXyZ9W8Br6jlICZ06Ei6gYrEzA7Y2+j9ewdorm0YKLbOQcPkBIwtG5av5FNWrGqVglf/NjJsemiRvrPbDEEGAIMAYYAQ4Ah4P4ImPk+5v7oG7NCRsAYg6OFlY0bN+qKeOHD3nlDSgTMnDlzEBMTw0W8XL9+HXfv3oWnpycKFy6M6tWrc9ExFSpUMHxlZn7hzU7AbB8QqVo+2fANs8GglID5MeYchv97TJMlR6cgfd2kFEfARE3YrMkf6qSFbJASMF/UL4Hetf2xaOdFDPyf9RLcWgiYx89foNSwVSJ///uoOkoXkCdgKGLl0t0nCM7ng/Tp0orGSQmYWe0roH6pvIpY7Ii9jXfdkIAh4WcSIS6Y3UvzWVDrKKfXo+X8qNllzxkCDAGGAEOAIcAQYAgYhYCZ72NGrdHd7TACxt132MD1mfmF7zh/FzaevGngao01ta1/JKqqlE82dkbbrAXkzoI1nyZHwMyPOYevTELADH8rGFX9c6HeRGMJmIbfb8Gxqw+SAPu8XiA+jAyAlgpQ/KBzYxrKRps9ev4CpSUEzD8fVkPZgtksNujyvadoMjUGtx49RzX/nBy58t+hq6hbMg+61iiGYgPE5axnvlce0aXzKW709rO30WaO60fADFh6CL/uSk5BokVnSJcGREKppWFpfRPk0sUYAaMVPdaPIcAQYAgwBBgCDAFnIGDm+5gz1u8OczACxh120UlrMPMLb3YCZuuXtVH9W+XqPU7aRsVp/HNnwVoBAfPD1nMY8Z85ImCGNiYCJieiJ23RDJWWC3SjyVtw9EoyAVMgWyZMbhOKY1ceaBYgjh3dEGnTprHw68GzBJQdvlr073/3roaQQpYETN/f9uOvA1dk10ZpS40mbxU9m96uPBqWUSZgtp29hbZzdorGacFEM8BO6ihHwNDUadIA58Y0MsSLJ/EvEDxUHK3kilgZAgYzwhBgCDAEGAIMAYaAKREw833MlICZ0ClGwJhwU8zqkplf+Pd/2IVNp8wbAbOlX23UGOt6BMy8refwtUkImMGNSqJq8VxoONlYAqbxlC04cjmZgOEv9vWD82LlUbE2k7V38/SoBsggSRmivvefJCBkhJiA+V+vqihX2LIyWZlhq/Dw+QvZKUjzZM2x66JnU9qUw1sh+RV/LraduYW2c92XgKHFG0WSyJFlRtk2628684shwBBgCDAEGAIMAddCwMz3MddCMuW8ZQRMymHvcjOb+YU3OwHzU+cwdPhhl+n3XBoBM3dLLEYuO67Jb0drwAxsGMQRMI2niCNBlJzTcoF+e+pWHIq7r2mN1jqdHBmNjOnTWTy+9yQeoSPWiP79zw+qokIRfQRM7RK+FiLT378biiahBRT9jjlzC+0YAaOIEaUepU2TBhQBI90rLefHroPDBjMEGAIMAYYAQ4AhwBDQgYCZ72M6lpGquzICJlVvv77Fm/mFJ3Jjs4kjYPQhnXK9zUzAfBkdhOr+ufDWVGMJmCZTt+KgnQTM8RHRyORhScDceRyP8l+LCZglPcNRsWgOi01WioCpEZALW07fEo2Z1DoUTcspEzBbTt9E+3li4s/ZpELszUfo89t+LsrIzzczetfyR/PyBXRVaLOWgkSA2LMeEloe+vcRZPPywHetyqLj/N0ijO2xnXJvMZuZIcAQYAgwBBgCDAF3RcDM9zF3xdzodTECxmhE3diemV94RsAYc/CK+2bGus9qJRmbszkWo5abIwKGqhMRAdNkWozmxWq5QJO9g5fuabYp15H8ohSW/tFBnFAw30hQt+LItaIhf/QMRyWdBEzV4jmx7extkZ0J74SgefmCin4TKSmNvNKCiV1gSAbL6TNpKaEtNOMoAkZYWSpnZg/cfhwv8n7XoDr4ZcdFUNWlJqH5dZFGRmKoZOtF4kusOnod2b0yiM6es+Zn8zAEGAIMAYYAQ4Ah4DwEzHwfcx4Krj0TI2Bce/+c6r2ZX/j283ZaRAg4FRw3mYwiFNYLCJhZm85izIoTmlbn6BQkqk5UPcAXTQ0mYJpNj8H+i/YRMFKAOlYtiu4RfkifLg3CRq0TPf69exVU9stpgalSBExY0RzYdf6OaMx3rULQsoIyAUO6SJSeJ2zOJmCk5bPJFy+PdDg2IlrTuaJOziBg5JyhcuB8hSwtKV+aF2Rgxy+XHMLve15XiBrboizeqVSI+/+TZhCloL0dmh/lZTSHDHTBEFOUCkaiynKpfIZMwIwwBBgCDAGGAEPADRAw833MDeB1yhIYAeMUmN1jEjO/8IyAMeaMSQmYmZvO4huTEDCfRAWiRmAuNJ++TfNitZANzafHYJ/BBAw5mC+rJ5b2qorwMetF/v7arQrCi+sjYMoXzmbho/CybQ2QjSdvaE6rIcHgh88TUDC7l2Z8tXSUI2BonJa94e2nFAEjXZ8en7VgY0QfKb7k49Er95OqZnmkT4s9g6Pg45nBiOkcYmPpvjj0//MwvDKmw7z3KyIorw9+230JubJ44O0Qc0YeOQQIZpQhwBBgCDAEGAIqCJj5PsY2TxsCjIDRhhPrBcDMLzwjYIw5on65MmP958kpSDM2nsW3K80RAfNxnQBEBOZCixnbNS9Wy4W55Yxt2HPhrmabejpSlMrnfxwUDVnUrTInJixtShEwIQWzWujUfNO8DN4NK6zozoaTN9BJg67Jobh7eG/uTjx49roKU4vyBTHs7WBDLu3GEDCH8euui7Jr1bLH1kCy5pu1/vbMpefc6OkrR8DQXm49k6wZNKRxMLpUL6bHrFP7CtdAZeBL5vPG2uM3OB++blIK7cOLOtUfNhlDgCHAEGAIMATMioCZ72NmxcxsfjECxmw7YmJ/zPzCMwLGmIMjJWCmbzyDsStPajJOl9OXL1/Bb+Byzf2lHZUuxB9F+iMi0BetZmonYBb3CMfj+BeoFehrVb+j1cxt2H3eMQTM0MbBGCEp4/1L18qoJtCJ4TFQImCEqTB8/9HNyqBtZWUCZv2J6+j84x4RzHIkQv2Jm3Hy+kNRP9Lc6V3bX9NeKnViBIzdECoakCNgGny/BcevJpdWp/S9DyMDHOuIHdbViDAzEl92LJcNZQgwBBgCDAGGgM0ImPk+ZvOiUtlARsCksg23Z7lmfuGlX3ztWWdqHislYKZtOINxq7QTMCQI6j9ohSYI5S5VShex3rWLIyLAF61n79BkX9ipa/ViGNw4WHbcOzO3W+ir6J7AyoBBDUtaiBj/3CUMNQJ8LUYoETAl8nhbECQjm5bGe1WKKLq67vh1dFmgTsAYQZJYc8QI2wOWpr4ImKfxidh74S4C82RBbh9Pq/vsbALm/tMEdP9pD/ZdvItuNfzQLzrI7teFETB2Q8gMMAQYAgwBhkAqQcDM97FUsgV2L5MRMHZDmHoMmPmFZwSMMeeQqr1sEKQg6SFgNn9RG/O3ncP8mPOanNFLwPSsWRw1A33RZo5+AoYcsvYVvfWs7dh5Tixwq2kBGjr1iy5hEUH0U+cwLpJH2pQIGKpOFXvrMV69Sh6lJTVj7bHr6PoTI2DkturVq1coNkBbtBY/3lmRGBRJ1mjKVi6KJZtXBizvUwP5s2WSPXHOJmCmrDuN8WtOJfmypV9tFMphn24QI2A0/JiwLgwBhgBDgCHAEDC5JATbIG0IMAJGG06sl8lf+HZzdyDmjLhML9s0/QhICZip60/ju9XJly0li/mzeuLK/WeaJ9VLwPSI8OMImLZzd2qeQ9hRON/fBy7jx23nDa9+JHXs07qBmCC4rNLzHztVQq0SuXURMEVyeuHSnSd4KSBg2oQVxsCGQfBWEFelSjjdBAQMVZk5N6aRxdxGRKlY2xQjbDsiAkZPupyzCRhp5FKrCgUxrlWIzQSMUelk5ECpoSvxOD4xyZfJbcpxQrn2NEbA2IMeG8sQYAgwBBgCqQkBM38QT037YM9aGQFjD3qpbKyZX3hGwBhzGIvm9MLGL2onGZN+7TZmltdW9BIwlEZExMV78+wjYPZfvItmOiop2bPmPnUCMHndaZGJ+R0roXaQPgKGhEmvPXiGRCED86bS0l+9qyGPlRSV1UevofvPe5PmT5c2Dc6ObsgIGAB60uWcTcDM23oOXwu0g6TvpXAD5SJgoidtxolryZo+RhIwpYetwqPnr8WaqRlRnpsRMPb8yrCxDAGGAEOAIZCaEDDzfSw17YM9a2UEjD3opbKxZn7h287ZgW1nWQSMvUeSIi02CQgYIg+kERz2zqF0mVW6iHWuRgSMLzr8sMsmF86NacgJ8TadFoMDl+7ZZEPvINKtmbbhrGjYDx0rIjIoj4UppRSkvD6euPXoOV5ICBgy8m6lQvimRVlcuP0YPX7ei6v3n2FEk1JoEloAK49cRc+F+5LmSp82Dc4wAobDIyHxJQI06hUJzyztA1WWolLPH0UG4JO6gdxjSmk6FHcf2b08UDinfSk5c7fEYuSy40n7Jo1M4x/IpVERselIAkZ6ThkBo/dXgfVnCDAEGAIMAYaA7QiY+T5m+6pS10hGwKSu/bZrtWZ+4RkBY9fWJg2WEjDfrz2NiWu1pSDp9UBvBEzHqkU5AqajpKyy1nlPjoxGxvTpUGvcBpy//UTrMLv69ajph1mbYkU25naoiKhgfQRMriweuPckQZaAyZHZA/uG1MUHC/dixZFrSXMRvssOXUXvRWIChjRosmf2QMl8Pkl9jUgTsgaUEbYdkYL0/EUiSgxeqWt/CdMR/x7DDzHnksbtGlQHub098dW/Rzn9I490aTGvY0UUyu6F2Vtiuf/brUYxpE+XVvNcUgJGKo7NG5JLoyIfpVWQtEbAUNnyr/45ipxZMmJS61BZbRdGwGjeRtaRIcAQYAgwBBgChiNg5vuY4Yt1U4OMgHHTjXXEssz8wreZvQPbY1kEjL37LiVgJq09hUlrxSk09s7Bj+cJmA0nbuDmw+cILZwN9SZutmq+Q3gRLnWHog9saYeG14OPZwbUGLsel+48tcWE7jGUNjV3a/JlnQzMbl8B9UrltbClFAFDQqyPn79AQqJABOaNhexeGbB/aD1IiQ5KNVp2+Cr6/LrfYi7SgpnRrjyiS+fjnhlBkrgaAfMsIRFBQ/QTMFKsFnWrjKrFc4kw9PZMj3xZPXHq+iMOFopI6hBeVPP5mbM5VlQ9y883M9Z/VstivFwalT0RMP4DlyeRfI3K5MO0duUtz+nwVXj4LDkFiYiapuUKaF6bXEeWgmQXfGwwQ4AhwBBgCKQiBMx8H0tF22DXUhkBYxd8qWuwmV94RsAYcxalBMzENafwvUTDxJiZXmvALN5zCf2WHNJk8r0qhREZlBudfxRX9dE0GMDuQVHw9c6Iat+sx+V7ziFgKGqHxH6FbVb7Cqivk4DJkjE94l+8RHziS4vlZs2UAQeHWRIwx0dEY9XRa+j7+wGrEPEkmNkJmIH/O4xFOy/KrsPWykRP4l8geOgqrceH60dzSbH6tVsVVPHLoVpRSY+fszefxejlJ5J8oypY62QIGDoTgYPFZd/tIWDk9GSkAJUdvgoPBATMxNYhaFauIJYfvoov/zzEpWDN7lABQXmTI6zUQGYEjBpC7DlDgCHAEGAIMAReI2Dm+xjbI20IMAJGG06sl8lf+Hdnb8eOWMeUEk5Nm184hxc290sW4SX9F6mIrFF4yF1mlWxT1Z8KRbLj8z8O2uRCTP9IkJht+Jh1nE6KM1q7yoXxi4Q4mPlecuSJ0AelCBjPDGm5Ckh04ZY2irY4PLy+BTFwcGg9rD1+HZ8p4KVGwJDA75wtsSiRxxtlCmTF4/gXaFA6H0jMV0tTKvWsh5AwgoAhzZbjVx+ibnAeEGlFEUWlhtlPwPzWvXUyMqsAACAASURBVAoqFskOfxU9GT3rnbXpLMasSCZg/HNnwdpPa2Lr6Vs4cOkuGpfNjyv3niK3jyeiJmwSbYWjCZiQr1bj/tOEpDknvBOC5uULis4f4bHkg6pajgjXhxEwmqFiHRkCDAGGAEMglSPACBjXPwCMgHH9PXTaCsz8wreetR07zzECxt7DUChHJmzpF5l8uVp9EpPXn7HXrOx4vQRM6QI+OHL5gc2+rP+sJvx8syBs1FrcePjcZjt6BpJA7m+7L4mGTG9XHg3L5MOdx/HYfOomQgtlQ9FcmaFEwGRIlwZp06TBcxkChqJjjnxlScBQxA9peihFGKkRMLmyZOTEf4WNiLAxzctogkFJ6FYPITHof4ctiCzeAS12jly+z4kvk4hxYJ4sWNU3gqvkU2b4ak3rEM4lJQuIgKE9VEtn0uInP8/MTWfxjYCACcidBd+2LIvmGqp3OZqACR2xmtMj4pscAUPPtK5XSzlwrbZ0baYTOtO5IwI2pGBWtK5UiBMBZ40hwBBgCDAEGAL2IGDm+5g960pNYxkBk5p22861mvmFZwSMnZv7ZriUgBm/+iSmmISAsXeFKz6uwQnPVhy5BrcexdtrTtP4lhUKYsneOFHfqW3LIbpUXkSO34SLd7SLAVMUzLMEywiYzB7pcHREtEUUAUX8bDl1E/2XHrbqqxoBY22g3IX42JUHmLbhDArmyIRPogLhmSEdlNJ89Fyq7SVgmkzdioNx95OW8+cHVUFRJRTNoafJkYZEwFB0kFo0jZ71zth4Ft+uTI6AIQKGoo6EpaWV9sbWKkhaUpCkBMz4ViFoUUEcAaOHgNFSDlwPdnr205F9iXysNGptElllrfqZI31gthkCDAGGAEPA/RAw833M/dB2zIoYAeMYXN3Sqplf+HdmbccuFgFj97krmD0Ttn6ZHAHz3aqTmLrBHBEw9i6O0mkoUqH812u46BNntGblCuB/+y+LpprSphyorHDjKVt1uWCNgMmUIR2Of21JwGz4vBa2nb2FQf874nAChlKNiFA6d+sxN9fgRiXRtYYf7j9JQMgIeZJDz6XaXgJGSizM71gJ5QpnQ+iINbr2gKJneGFdfuDv3asgKJ+PKpmjZ71yBEzc3ad4mpCo6q9cBEy/6BLoVctfcaxculjs6IZIK0k3KzdiNe4KImC+axUCIhq1kDdyDsjp2Ej76cFOaZFP4xM5DKlymKMbRbd1+GFX0jR8tTJHz+uq9un87b90D7m9M6JgdvvKuLsqBsxvhgBDgCGgBQEz38e0+M/6AIyAYadAMwJmfuEZAaN5GxU7SgmYcatOYNqGs8YYl1jRm4JkrxN0Ua7sl5O7KAs1LOy1qzT+rZD8+PfgFVGX798N5bRoWs7cbsjUGdOnxcmRDSwuwJRms+vcbQz5+6jVeYyKgHn4LMEinYdsU3UrigKQa3ou1fZqwEjJASrFXbpAVo6Ms7ct7hHORdOo2dKzXikBQ8TPhdtPZFPQ5MiK+hM34+T1h0mPtBAwiS9fofjA5SJzNQJyYUGnMBEJIyUwx7Usi1YVC9lMwGipRqUHO2v7eeLaA7w3dxeXUtc3KgB9owLt3XrF8etPXLcQDDdiHQ51OgWNf/HHQfyxNw70e0aVxSoUyZGC3rCpGQIMAYaAeREw833MvKiZyzNGwJhrP0ztjZlf+Hdmbseu80wDxogDxFcLIltjV57A9I3uQcDQpTsi0BdlJGV0jcDMmo0GpfNixZFrosdUtpdKFLeevcOwqfNn9cQVibDwfx9Vx57zdzD832MOJ2CI0JKm89Blk4Riq36z3m4CZsDSw/h1l+1VkKQEzC9dKyMorzcqjJQnh/RsDBEwRXN5IWzUOsVhSpdvqspFkSAUGUVt+sYzGLvyZJI9EkGm6CK5KlhGETDW9HqkqTMVvl6D24IIMiKHKApLmOJFPmklGygqpeRQ5XLgWm0pbUCrmduw+/zdpC6nRjaAR/q0erZaV1/SX+o0f7dojBHr0OWEi3SWngGpGLyLLIO5yRBgCDAEnIKAme9jTgHADSZhBIwbbKKzlmDmF54RMMaegvql8oBSC4h8oa/xjmjOjoCZ06EiVwGn1NCVeByvnsphxJqjSubhKhEJG5XtzePjibZzdhoxhVUbpHNy4NI9fP2fEwgYmVQj2t8Ltx+j5riNsj7quYz2//OQhZgxb1SLHTnh3OK+WaxG5+jZGCJgSDspfIw80aTm58oj1/Dhon2cQDCfukVaOuNWJRMwRBadufGI66PWbE1Bev4iESUGWxIhPWsWR/8GQUnTSgkYa/5o2Rcaq6UalVZbSthIz8Dh4fXg7ZlBDU6bn286dRPvC1KQyJAR67DZIRMPvPs4HuUk0WgMKxNvGHONIcAQSFEEzHwfS1FgXGhyRsC40GaltKtmfuGlXzdTGit3mH9gwyDceZwAqsjiiOZsAobEb6l8b9CQFbJito5YY+0Svthw8qbINImWEgHz3jzHEjC/dqsCqsIyavlxq0szKgXp3pN4Cz0Vsn3mxkNETdhsNwHTb8lBLN4jFjPmjZ4b01C1uoz08v1Hz3AUyeGFsNHKUStazgTZyuvjiRpjNyh2t3ahlNNOkSNgTl1/yJUiV2s0jy0pSNZSgXrU9MOABiWTptUqYq31Ai2XviZdo1ZbeggYqhxGFcQc1aQaMIyAsY60td8PR+0Ns8sQYAgwBFwZATPfx1wZV2f6zggYZ6Lt4nOZ+YVnBIxjDlePCD/M2hzrEOPOJmD4ai2Bg1ZoSuUwYtGkobHl9C2RKdLMyO3jafF13Ij5hDYWdA7D8asPROWMrV1spSSAmi/SC/HtR88t0nmoD1VGajh5i90EzOd/HLSoJsUbPTOqAdKnU04lka6PooNIFLX2d/LROWrrFz5f0jMcVK67lootPQTM1PWn8d3qU0nTUPUu2kstTY6A+TI6CB/UKq443FrFKkcTMHLpa84gYA4NrwcfB0bAbD19y4JktZVIevAsAQt3XODOWcvyBS2EkbWcCzP3SW0RMKuOXuN+G6k0ef5smcy8Ncw3hgBDwIQImPk+ZkK4TOkSI2BMuS3mdMrML3zLGduw50Jyfr85EXQ9r7pH+GG2mxAwo5uVQdvKheE/cLmmVA4jdivcLye2x94WmRrbsix8s2REpx/F+hBGzCe0MbdDRU6IVZjK4igC5sbDZxYaKHTZPHjpHppMi7GbgPl08QEs3SeuJsUbPTkyGhnTp1OET0rATG5TDn1+3W8I5ETAZPPyQNSETYr29BAwU9adxvg1yQRMcD4fHDOIgDl78xHmbjkHEoktUyAbOlcriqr+ufDo+QuUHrbKYg1Ewg5oKIyAWcsJ2ao1rWSD3OXbGQTMwaH1kNXLcSlI287cQtu54ig3rZhI10+pTJTSRG3YW8HoVK2YGvzcc0pBPHntARqUyedQskmTMwqd6DxVlOgx2YqVvb44evzGkzfQ8Y02EKUubv6itmoEn6N9YvYZAgwB10LAzPcx10Iy5bxlBEzKYe9yM5v5hWcEjGOOU7caxTBnyzmHGHd2BAx/cSk2YBleaUjlMGLRYUVzWIhDf9uiDHJkzohuP+0xYgqrNqa3K4+zNx6JLvLWLrZ6I2Ao7edQ3H18t/okfL0zokdEcdSfJE41ov0lEWBr1Z70XLA++f2ARTlvfi3HR0Qjk4c+AoZShq49eGYI/n9+EI4sGTNYrF8riSCXgjR53WlMEBAwpfL74OgV+yNgqNRvxLgNuHTnaZJ73hnTY/fgKC4qrOxwy5LhRMIOFBAwVNWKqlupNa37Kxc9pRU7NR+Ez6U47x9SF9kdWI6aSsBLdZ60YiJdly0lvundo+qAlLZGEVTL+1S3uOhTZM30DWeRJg3Qq1Zxh2riKO3V9QfPUFmSDmgrVnrOREr0lVYR+7t3NYQUypYSrrA5GQIMARdFwMz3MReF1OluMwLG6ZC77oRmfuFbzNiGvSwCxvDD1bV6Mczd6h4EDAmJkqCoXrLBHlDLFc6G/RfviUyMaV4G2b080HPhXntMq46lakvnbz/GpLWnrfa1VQPm7OiGaPD9Zpy6/oiz3aJ8Qfy5T6zRMqt9BXh7prcqNqzngvXxb/vx9wFxOW9+UVq0PBy550TAeGZIh0aTtyruidYImNjRDTFl/RlMXJscAaOXgKk3cVPS3pBTfApS7M1HiBxvGakzu30FVC6WEyEjLAkYImEHNQpOWlvYqLW4YSABo1SqnJ9Uz1mxtgnSM7BncBSX0qOlkY8UMUXv0xf1S6B5+YKiYRRVRCkltUr4JpEY28/eRps54kpntq7DFgKm7oRNOH3j9ftJbVmf6iiVP6vIb2Fq3zsVC2JsyxAtcBjeR65amq1YGe6cFYOX7jzBxTtPEFYsBzKopEAKTUj38vfuVVDZL6ez3GbzMAQYAm6AgJnvY24Ar1OWwAgYp8DsHpOY+YVnBIxjzliX6sUwz0EEzF+9q6GplfQUR6zmk6hAfBwV4FQCpnQBHxy5LI5coJLCd57Ea4oisAeHsS3KIu7uE0xef8aqGVsJmNOjGiBg0ApF9zzSpcX4d0LwkZVUH5r7xoNnXCRNpaI5uCiWk9ceokguL4t0Cbr8/nNQnoA5OKwesmZSTiVxNAFDF7C3p8qnWvEgEcnx/brT8M+dBV83LZ20RqlvJ76OxqxNsSICRu4cWQOfcLVGwJCQb72JlqLI378biogAX4tKNDSHEQQMldke/UYMumagL1eevGloARTNlZk7A2piyEZcxqU47xpUB7m9PTW9YiP+PYYfYpKJaGEJa8L0rSlb8fzFS9C7vbJvDS7SRC0Ficp+rz9xAwWyZULpAmJiROgURS0VG7Bc5KcWPKTrXdStMqoWzyWyYwuxowmwN51iztziRNwphe7TeoFWUwWJzJCKWGtZox5fjOx7OO4+Ws3axom5Rwblxg8dK2k2zwgYzVCxjgwBhoAVBMx8H2Obpg0BRsBow4n1AmDmF7759Bjsk0QasE2zH4HO1YqJLh72W0y2UDSnF87ffmKkSUVbFGLfLzrIqQQMXchIhyUl2simpXH1/lNM22C9ipWtBAyRBEFDLEsWS9dZJyg31p24Ibt8ikAg3ZR7TxK4S2iuLB44GHcfub0zYlmfGlxqE9+oTPN/h67K2tGSSuJIAoaqIKVLmwbNp29T3Oa0aZBUxahfdAn0quXP9Zf6RoTS/JhzosilMgWy4vDl+5qOEe2pNPqBojZ61/bnCC5pqhgZJWHo2kG5LXQ46BlFwQ1unBwBU3n0Wlx/oC8FqfeifVgm2b/sXhmwc2AU7jyOR5UxytWoPqztj/bhRbjqYbY2Kc47BtRB3qza7EnHbh8QiXxZX4untpu7AzFnknWeqPpYePGc2HL6JtrP2yVyV0gqdP9pD1Yfuw46Fz92CkNEoC9XkrvfkkM4dPkel9ZH78Kqo9ctosu0kBNSnxd2qYzqAc4jYIhgonQ1er/5M9aqYiHZ7ZMrV69ljbaeBXvHNZ6yRUSsb/2yNgpm99JklhEwmmBinRgCDAEFBMx8H2Mbpw0BRsBow4n1YgRMqjwDnaoVxfyY826xdormGdI42KkEjF+uzIi99ThF8BvaOJhLFVEqI86XcNZLUFAFGTm9EOlCqxbPiW1nxSLEfB+ls0ViySSazLfev+zDssPyBIyWVBK969OzYZRCkDZtGrSauV3PMFgjvygy45cdF7loGb6VLZiVixTS0nYNrIN2c3eK0k8+qxuIj+oE4MS1B4ieZFmViiJy6pfKYyGkTPPx7w0/d5XR6zTp5wgv0Nbwn9a2PChNr+o361WXFpSXoksiVPtZ6yD1YVv/SM0VaJQIGGlZ+yltyuGtkPwQiq3yPvGYPI1PRMmhyQSmj2d6HBpenyPevvr3mOoatZATUp9/6vya5BE2R0bA7Lt414KUtOa3XGqcljWqAuWgDlLc/vuoumIUkxLmv3WvgiosBclBO8XMMgTcEwFGwLj+vjICxvX30GkrMPML32x6jIXWhtOAceOJOlYtih+3uQcB816VwhjZtIxTCZiC2TMh7m6y4Kkzjwpp3lB0gVIVK0olovQZvQQFkR7SqiVyaytfOJvVyLTQQtm4Ki1yLUvG9CBtF759sHAvVhy5JtuXCAcq603RA9+uPIELt5+gT50AVCiSPam/3vXp2Se6QJGos1TvQ82GNQKGvqYv3hMHEuLlW0jBrFx0kJaWM7MHl84lPHd9owLQNyqQK2Xd4HtLAmZwo5IcaSAVQqX5KApu6FvJETDhY9bh6n11AWMtBMw3zctwURnVv92gZWng91pTZ0kn6RmQRi3Q+aFqPIVzeFmI1dpCwFCVqc4/ioW2eUzkSm/TM63nVAs5IbU1v1Ml1C6R22kEjJwAtzW/z9x4iKgJliLetuyzM8ZIsZXT17Hmh3QsHzHlDL/ZHAwBhoB7IGDm+5h7IOz4VTACxvEYu80MZn7hGQHjmGPmTgRMqwoFMa5ViOZLjhGI5vHJqCldw4i55GyQDgtVt7HW+ApCWi9+vB1KwQgfox61QNVX6NIv19SEZYWXtR4/7+FSMeQanw4yZ3MsRr3RGaGUJrpgkxYHNb3r07MfpK3x8iXw3jxxyWE1G9YImPWf1cRf+y+LtHuoSgqV9La1ESH1ad1ATii24WRLAua1sGwB2T2lKK6pbcsjOL8PN73RBEw1/1wW+h/W1hnTP5JLV7OlSc8Alf8tnPN12ghp1FAlPSKW3g7JDypTLmzSsUt7VcWz+EQE5vW2ICKnti2HxmXzY82x6xaVzvg9lyu97WgC5oeOFREZlEdxXdYIEtLp6bxgN5fC9mndEvigVnHVLdgZexutZ2sTIZZLjdNCMqk64aAOthAwlA5KJJ+UaGIEjIM2yYXMks4TaZzRB5PWlQrByyO9hfcUNffy1Stkzmj5zIWWylw1CAEz38cMWqLbm2EEjNtvsXELNPMLT2Ku1r6mG4dA6rP0fngRLNh+wS0Wzl+sHHkZlwKVI7MH90eVWRsvYKsXE7q8UjljtaaUghWYJ4uoUo/UlvACRiW76UIr17b0q41CObwsSBZKk/LxfC3Oq3d9ausSPv+la2WQ3kXH+bv1DLOagkQirqSXQpWQ+GYvAUMaKp/XL4GjV+7LVmsigob+8K9mJRWIdErmdXwdQVF1zDpc0RABQ5WySBtHCX+KgKH0i1rfbdSEnR6tDalB6RnY+HktTgSYmrAaEP3vdZ/VRHHfLEkm9JwfnoBZeeSaRaUz/kzfePjMIt3L0QTM3A4VERVsGwEz+K/DWLjjYhIeB4fWQ1YvZeFruTLcXzcphfbhRS32Wo4YdCUCZnmfGkkEpexv1Omb6LJgD+JfWJLhcuLIml4G1gkUOUVC1tX9fRXxNztUC7adx7B/jnJu1gvOg9kdKopc3nTqJnot3IuEl68w8Z1QNCqbz+xLYv45GAEz38ccvHS3Mc8IGLfZSscvxMwvPCNgHLP/HcKL4Cc3IWAIofxZPTVdHo1Ck1JpHj1/YZQ5w+3sHRyFnFky6iYotFawypfV02q6SrFcmXFOQR9HeAHrumA31h6XF/Pd9EUtFMmZ2WINwvLUei7QekH+uUsYd7GiC5aeZi0C5u/e1TiyaeqGZAJGKV1Ly5y8APWRy/fReIplueweEX54r0oRxUiUjOnT4uTIBhxJQxEjam1R18qYsOYU9ly4a7UrETBUxleuNLbsRfYN2aY2t9xz6RkQkizSZ/Per4g6JZPJCj3nhydglh++il6/7BO5wu+5tbLLWufRQk4UH7gciS9fJc1PZeHrl8or8kerBowtmidUAYm0iKRNjryhqkJvTRWfSy1rpEpTW87cQqMy+TgNFiK7qSQ4aSZlTJ/OlmOiaYwUjxUf1wBF+1lrZYatwkMr/x1wBgHz8FkC/j5wBUSIV/UXCzFrWrAJO917Es9F7D1NSARFem75srZdIt0puUS197DkkJXcOvmm5d1IyfWwuR2PgJnvY45fvXvMwAgY99hHp6zCzC98k2kxdoXoOwVAF5ykfZUi+HmHe0TApAT8HunTyn71TAlf5ObcObAO90er1oufXr+VIoAolUTpIi/8I7Pzj7u5L51yjVJ2/HyzyFYT4stTO2p95A+Jm9Ifxz1+3qsLHiplvCP2Njr8IK6UQ1WVNp28KSJgSKh2vx1V3nrU9MOABiVhjYChVEPSelGLaqI90UrAaIn++rZFGVQokoOrhqWlCdOG6ALmmSEd9/+0NOkZWPtpBPxze3NDHUHA/HvwikUJdv5MX7z9xAJrelZswDJOT0itSS9gRGCQ2DaRmh/V8efIh4BBy5GQmGxs5nvlEV1a/OVc7eLH+2ELAbP51E2Ls0325ERnKXqVPqIIm9ol88yNR0nnhshB0mF5d/YO3HoUD9JM+l+vapw4tiOaXgJG6ffHGQRMixnbsPcNESqXiibFiIi7CWtOctW9KDKuTVhhVRifJSSC0mSyZ/ZQ7WtEh+/XnsbEtaeSTFG07ldNShth2uk21N5DtedOd9gJE1Ja1vazt+GVMT3oAwRrYgTMfB9je6UNAUbAaMOJ9TJ5FSRGwDjmiJJwrTD03DGzuK9VkiDRcqFKKQT4lA5HERReHunwJD75y51wnWr6OHyFJhrTcf4ubDx5UxYm/iItXYOwPLWj1kcO/dipErdGabSD2p5aqxBFKU2UviEsH24vAdM9wg8DG5aEXKQB+dkmrBBX9lgtFUgPAaO2fnpOBEz5wtlRd6JYgNXaWD5taMLqk5xGTl4fT/zSrTJHLFHKVom83qCoGu83qWdCO9IzsKpvBNefmiMImL8PXMbHvx0QLYUnFaxV/fEbsCypVLkSfkJygi4qJGLMk5lU0YqI88DBK0TkL1Wc8vPNjM8WH8TzF4kY27IsWswQV+76MjoIlB5FZ4FKdBOuD54loO0ccSSLlqo/G07eQCeZtDw5woHIASIJhE2NgOn5816sPCovzE125Ko+aTmTWvpYI2AoEm7V0WtcdS2tIuCOJmBIvydsdHKZd6nAudx6pSXU1Uq2X7rzhCO/6Ax2q1EMgxoli3ZL7a87fh1L913moh9rBOZCtxp+yJUloyzsJIpNBCv5LG0Dlh7Cr7suJf1zVMk8mPu+OHVHy16aoY8awaL23AxrMNqHMcuPY9bmWM4s/Va9Y6WEvT3zXn/wjPtvYphfjqR0ZXvsOXMsI2CcibZj5mIEjGNwdUurZn7hm0zdqrlKiFtujoMW1a5yYfyyMzn330HTMLMphMCGz2txX80dRVAoEVBqERLCVAWKEqEv6nKNv0hL1yAsT+2o9ZE/8ztW4tIL+vy635BdpC/Uu8/fxYyNZ5PsKVWT0jIpX0qahHyJrJa25uUK4MNIf9VUILoUV/92vWGVvYiACS2UHfUnaSNgKG2ISJdSw1YlLaGKXw7siL2T9L+JRJATiVWKWjCSgCGigzQalu6Lw6eLD4qg5kmFU9cfop6EdKJn0rQha3srJCfo0ivV7qHn0rSF798NBWlN7HsTSUVkTOzNx7JT0HnrVK2YRQQP31kLASNXBYrGL+xSmat8JWy7z9+xKOOuRsCoCe+PaFIKHWT0ZrS8L2p9pOeF14Dp/tMerH6jVTW7fQXUe5PypRgB07UyKhbNgYU7LnBaUuTzyesPcfnuU9QNzgOKorSnWYu2UrJZf+Jmzge+9YsugV61/K0O6f3LPiw7fDXp+b4hdUG/79JG5B5VWhN+lKjmnxO/dK1i0XfahjMYt+oksnllwM+dK6NMwayiPv3/PITfdicTMITVHIF2yu1HzznhdkpHo/Q0Mzc1gkXtuSPXtv/iXTx+ngjaJ17U3pHz8bYdvWYiJon4p4p0VPmO/ttCFSFdpZn5PuYqGKa0n4yASekdcKH5zfzCMwLGMQepbeXCWMQIGMeAawKraz6JQEAeb4cRMEpL9M6Y3qouAo0TanS0n7cTW07fkjVHX8eowlWxActFz4Ulix1JwJBeCEUJfPK7+LJt6/ZSqgilG/Ff/8gOfU3nUwhstUsRAST0KKe7Qxoa7cOLcF+xlRpdimuMXY9Ld9Q1YLT4SdEqJDAsVxpbbjydVwpJtyYWzI+Ru7xLz4CwdLCRBAyJfRPZsWRvHL5Ycki0DN4vOTFkeuY/cDleCHRbrGEoXB9FH9QYKxbEpuelhq7EY0H02XetQjixYSOaFgJGrgoUzV0kpxdeJL5Ck9D86BcdxLlDqXjSs0dVu0iDLJtX8kWeqkdRFRgiJdSiXvlIICPWK7Uhl5IVlNcb/oNWJHWl7KfYMY24/630+0MRb0Qu8+97riweuP04niMppKSC1I/7TxLw+ZKDIEKvT2QA0qYFtpy6hSblCqBmoC/X3RYCJnrSZpy4lkzAUJW03rWtEzDS9ZGQeFBeS02ccatOiCL7rL2vFNUl/D0PzueD5R/XEC1fiYChFKpa323gfqfSp02Dfz+qrqjRo/WMrD12HXF3n6BFhYKyUXZkhzTf0qVJg0we2lIj5c5H7OiGovQ5R5MR1ta/ePcl9Pvz9W8Y6YQNaFhSE1SzNp3Ff4euok7J3Pi4ToAicUO6TZtO3eCIePoYxDdHr3nIX0dE6fWTWoeiabkCmtZnhk5mvo+ZAR9X8IERMK6wSybx0cwv/NtTt+JQ3H2TIOU+blDu96+7WASM++yoeCX8l1tHEhTWsCPdhucyVUH4/kt6hnNfhqm9N3cntp6RJ2DoedPQ/PjrwBXRVPTlkyI73q9a1IKcMXI/qbrM3SfxFpdtW+egyzuFRc/dei7JRMUi2RXFbG2dix9HXwAv3nmiaoYu9hFjN2jqq2oMwOhmRMBkla3MJDeexE59MmUwhID598PqSV/Vped/5nsVEF06WbBW7/sxsGEQSH/oyz8Pi5bBEydykUj0TKrbYg1DLQSMVPh1TPMyGLBU7I+WPZLrI8TOmg25KlDSvrx4LYnptpUR7KU0vUXdXkdHDP37CCcIXzSnF37tXgWUjFZ3aQAAIABJREFUgnRQ4b/5o5qVRrvKRWxdouI46Xkg4ezAPN4oOXSl7H4rnR8S8W4/T6wDJTRy4utoqzpHfJSI1FmqPkYENAmsX7j9GDXHiauMqUUXESF6/OqDJLPV/XNx5d8pcumtkPwW2EjXxxP70o4j/zsm+l3jn0v9eZH4UkRmUT9pny+XHMLve5IjYITVg6hq0PsCba3KxXLg9x7hdp0FKhPNRzmG++XkzqC0/b77Igb97whHEhIxz//3S21iKX5/flBVMYVNbf/U5tP63BYSRFpSfmmvqlyaqVyjlL1a4zZwhREyZUiH1Z9EcBUNqUnnJkKzb1QgqGKfEa3xlC04cjn5jPeNCuDsu0oz833MVTBMaT8ZAZPSO+BC85v5hWcEjGMOEmlDCPOsHTMLs5pSCNDFgSIQ9F4wjfCX/qBS+ti/oHNY0lfctnN2YNvZ2zZNS6K2rWaKtS5sMmRlEKUa0Fe8/gZdbse1LItjVx9gfsz5pBkrFc3OpSWldDOagKE0kXKFsltUwLG2Toq8oJQE0jxRaloiYPizL/fH/uQ25UCRLHyz5f0gcmng/+QJmL0X7ljor5DPgYNWID7RslSxdK2EQb/6QVzk1R97LuGsJJWIbIV8tZoLr+cbYT3079elbu1tQuys2aJS6r0XiatASfvyeiFSzRFhP1qLNM3q3UqFuHdE6aMLRVe9q0E81hYspOeBLpn+ubOg7PDVInP8OVQ6P/Q7JyQLpP4cG1EfXh6WGihy51Y4lk/Fs6Y3pLTuht9v4fCVa3LRT9L1rf20JoeHtI1adgxztiQTy/zzM6MaIL0g/YPEfK2RWfyYfksOYvGeuKQp6pfKg1ntX2vA/LX/Mvr+nqy/5O2ZHoeH17dlq63+BsgRY0IcCmbPhK1fRmqaU+580H+3Kr35AGELEcJPTHpPlHr4LOElOlcvJqunY81JW+aVRiZFlcyNue9Xkp1Cuk/NyhXAxNahXF9r7wxfuVETsAqdGk3egqNXks/4J1GB+DjKGHLHXt+0jDfzfUyL/6wPwAgYdgo0I2DmF/6tKVtx+DKLgNG8mRo70h+6wjxrjcNYNxdB4M8PwrkqNLZcMB29xBntyqNBmddVW96dvV2k86FnbiPSd5TmC8yThRMIHLnsuB63rPYd2bQ0Tl9/iAWC8u9hRXNg1/lknRNDJrLBCF0oa47bgAu31aNltJgf3Kgkd8mQ06WRG08Xdir3K9VWkfbVQsAIv8xKzz+RYK0Eoo+2vB+UAkNh7sLG+yWXcsMRMBLhXC0YyvUhW+VGrMbdJ8kEzJDGwfj6v2O2mhSNk36hlzMqJ0Is7fdRpD8+q1cCG0/eQEcZwV7qT2LcFP0mjRIpUyCr4n/zHSXcST5ZRiyEo2jOzKgwcq3sfiudH9KQ6vTjbqv7cnh4PavpLkp2+S/61vSGlA6CNDpA2JeiYRZ2rSwaLvVDKHAt7GiNgDk+IlqUskPEIRGIcu8O/29SAob+nVKViDylFD+hALYW4WG1F0O6RjlizBbCQu48cf+W0wsbv6jNuWWrXRo7ZsVxzNr0WsyWopemtCmnttSk53rnpfSr0gJ9LjIUViwHWlcshKB83iiVX6zFI43gojS+lX0jZNfMOyWMjNW8EJmO0igvSnk0KrrGHr+0jjXzfUzrGlJ7P0bApPYToGP9Zn7hGQGjYyN1dKX/cArDfHUMZV1dAAHSH6Bwar+BYv0UM7guvAS/M2s7dp2zjYCgC7swnN4Ra/PxTI8Hz14YYnpo42DE3nokqj5Gf8Taun5DnHpjxGgCpn+DIFB6QLPp4go49vpMflIlKaqcRalEFAIvd2km8lHugiNNX7GFgJGLOOEJmJgzt9BOknJDz0oMXqGYlqcVF7JVceQariQz3wjrb1ac0GpCsd/iHuHcxUqu0dqoBDdVsFl7XL50PD+OtEV61izO9RdGLAjtUnREzNnbFlEipfL7iL5gS30hzZuWFQoasl6pEel5IDxI24YEZoVNSwQMpTB2/WmPVT+FYuRqfgiff14vEB9GBnBkRKPJW2X9on98Ev+C0x3yEVQOU/p7iogv0lQRNike1jSCrBEw0jXS2alohcxKOjt/HMQfe5MjYPh/rxGQiyud/eGiZFF0Sm85/nW0XWdBusYjX9W3iCaRIywoOnLNsWsoUyAbSJvm5atXXPW1mw+fc2ldVCrd2u+LtfMjrBCotii9JIrSvqqlPn30637uXZZrpMVDxC1F3PJt6vrT+G51cilx+m81pSVKNYCE9pR+e9SwED6X6hx9VjcQHxmU3qTHD1v7mvk+ZuuaUts4RsCkth23Y71mfuGVvtjYseRUP/SdigVFYb6pHhAGgNMQ+OrtUpx+C7VWM7fZnIJTIo+3qKKH0xZg40R0UaYIE6H2EpEUO20koGx0Q3YY/QFe+7uNskK+tsxDf/RW9c9lUYLYFlvCMZu+qMWV1CYhU/rDf+fAOhbRCUoh/sPeCuaqAPHNFgKGbHz1rzjihL/AyEV8kPBm8LCVXKqAvY3mqTRqLXfJ4xthPX5N8mXHnjkWda3M7Zu00cWZSAi6aGpp5NPa49cVtVwo1WN77G2LktYU7WAtTYbmnvBOCJqXdw4B82u3KiiUI5NFapwWAmZW+wro8fNeq3BZqyhEA5TOJZ+CZE1viMZTJFa3n/aAUn5GNy+TVOpXiYAhba1/PlQmYP7XqyrKyeh+jF5+HLPflBYWLnjXoDrI7e2Z9E9X7z9F+Jj1Ikykl/8vrBAwNGh6u/Lo9Uty+hvpjZ0c2UDLkbTaR4q1HDEm7XN2dEPu99Kavhal51DlJqmAPO+EtfMjTdlSWpgzCRi138mQglnxt+DsTF53GhMEv0lEqi7rUwOkDUPRgHLtt+5VUMUvp117SYOlBAxPWNpt2EkGzHwfcxIELj8NI2BcfgudtwAzv/CMgHHMOaDqMnJfmRwzG7PKEEhGQFj6tMWMbTZXAVIqt2tGvCkUmkrQCiPPzETARH63EbG35MsX68WTQr4jAnKhpcEaPVJR5t61i1tUXxH+IS+9OAxoEIQeNYsnLUftYiG3bkqvkqal8RcqqqYijXogoqHciDV4mpCoF0aL/jRP5dFrcf1BMgHTJ9Ifk9efsds2GaCKWhFvquwIDdJlii5VWhtFAJC+i1I7+lV9LvpLmqajFtlGYtZNQpOrmjxLSMSI/45x0XA9IoqLRJZpfqpERDpTpP0TnN+ygo/QR+l5oEhCWguRfsJG+/Dy5SvFCENKtfxAQBZIsdg9KAq+3hllIVI6l4MalkS3CD9Y0xsig1KSjj+fSlUltRAwQnJT6Lg1AiamfySHH9+0VG6iil5UaUyuSTH1SJcWp0YZS8BIiTG5qI35nSpZEIdSfymlxtrvnzUCRkmYWWrfEQQMvUP/238ZlBobFZxH1++kkEibtPYUJq1N/r3go6soKit46CrZvSWyM7y4/QRMvYmbcOr6o6Q51Cp9af1Nc1Y/M9/HnIWBq8/DCBhX30En+m/mF14qqOVEWNx6qhblC+LPffJ/5Lj1wtniUhyBD2v74/P6JTg/mk2P4Uoz29K0VvixxbYjxhBZQBdn4eWiil8OmzVwjPSRtBqk4pj22P+gVnHULpEblGJmZKPqOULR5raVC2PRTnE1t0XdKqNq8ddRHNJLilQPwBYChiohjV4uTvnhLx8rj1xFz4VigdqDw+ohfMw6PBGUjrYVE5qn6ph1XHURvnWpXgzzBJW1bLVN40i3pHZQbgsTw/85ih+3JYtH2zMHP5Zw2XP+DrosEKfpkF6EsFSydC6pkPLPOy4kafJk9kiHvUPqJlUXogslXwqd0lV2D45SFCuVOw9UOavnQnEkC+0DET9BQ8TVkYS+ki6HtbQN6kfRWyS6nDG9ZVljpXNJmj+059b0huTOfRIBMy0GFDkj17SkIAnfLaENawTMhs9riUoQn7nxCFETNomml0bAfLb4oOa/TSgK7szohorHkYiq1ceuo27JPLLVi6RYC4mxx1R6Om0ai30e26JsUhlna5MPfysYwyWRcnxfawSMXPqTNftGEjCU+kSVCyuNXIuHz1+n3P7VuxpC36QVqf1OpklDmk6vS7NTm7jmFL4XELZ8hIycBhA/xlr0HT2ndC9KPSV/CmZ/XU3JWqs7YRNO30gmYIQffIz43XK0DTPfxxy9dnexzwgYd9lJJ6zDzC88I2AccwCaly+ApfsuO8Y4s8oQUECgU7WiGPZWKa4HibRauxCogZg/q6foIqrWP6Wfk9Ds7UfxWLo/+b0jnR5Kw0jpJiU27PWna/Vi3BfUd2fvsNeUaLyUsJKr5rawS2WurC416cVBSP7JPdfiLKWAfLtSTMDw2g104Sa9BGGjNIza4zbisUEETLVv1ouiS4zU86K0ibqCL9/8Ogb/dVikXaQFJ7U+FGmw98JdLlWGb1RBLSC3cmohiY0KSyZL93jtpxHwz+3Nmezwwy4uAoZvpN/TIfx1+qNck7toUpSKMOWLxtEF+v6TBISMEAvKqq1Z+DyPT0aOkO1YtShyZPbgyJrIkrnRPzqIi6yhNDu5Rhf7jtWKYevpW3hv3k5RF7o002VXmvpyamQDZEiXBs1nbLNKeGshYKxFSI1ZfhyzZFKQqPwwlfHmm5AQ4/9NSsB8uviA5r9NpBd/KV7X7j9DtW/Xc6lzRKTEfBmJvFmTU6LkfgN2DKjD9flu1UlM3XAG+bJ64qqA8KQxRPyQvo5Sa1QmH5YdvirbhUhEel5cotGmpAskNWQkAXN6VAMsP3xVJHBcvnA2LO1VjZtWjYCREmETVp8UReWRPgxVWLv96LlFyii/LuHvtnCtVO2p1riN3B54Z0yPtZ/VRB4f8R4K+0sJGD5lT8+7mZJ9zXwfS0lcXGluRsC40m6lsK9mfuGVyiamMGwuPX3zcgVEF0GXXgxz3qUQIP2hsS1DOJ9TU5n598OL4N7TBPx9IFnM0CwEjNEHiC6V9UrlQds54guivfP45cosSpOSIx+El0TpxaF7hB8GNiyZ5IbaxULOXyprOnGtWHOFLjAZ0qXF//bH4ZPfD4qGbf2yNqInbQFVErG30WW1xtj1uHQnOb1H6aKnd76Z75VHdOnXFcqE7cslhwwXbSdiiqLfhDopdJGj1EJhCoHUF2kKknQPhZd+vXoQWs8D7cONB88QJhHn1Yu3XH9Kxejww04kJMpf8PkImA0nb8imwdAZl9NjoXNy5f5TqwQMpSDRJfmfg1dw5PJ9tAkrjMjx4miVee9XRJ2SyakpvP/WCBipaO+huHt4e2qMaNn2EDBkSElAdtjfR0RV5/jy6EIHpHtOaVMUSRU6Yo0R22nVhlz03p7BUciVRT4tTWpITpeGSCYtTTqWUp+odHT/pYeThpMf5A8RICUGW4/0ogEe6dOCSD6+8eQV/7/LFc6G//WqpvjO/NwlDDUCfC3cX7znEvotOZT074Tb6GZlrC6TIqwo0opv0rRTLfikZB8z38dSEhdXmpsRMK60Wynsq5lfeEbAOOZwNCtXgMv1ZY0h4GwEGpXNh2lty3PTpiaNJ4rWePjsBf47lPxV1F0JGPojuWHpfBZf6I0+a3JaVrPbV+BImusPnmF+jDhthoih4W+/jr5SSyGx5muPCD+Lr/28dsMfey7hC8FlgWys+6wmmkyNMYyAqTVuA84LyoWTZoswysMejKXRJbwtPVEJWuffPiCSi36TpmypjR/fKgQt3lRBktOUIAIubZo0CCmUlRN8FRJffEWUF4kvuQgGzwzi9B+tBAyJsF659xQ1xm5Qc1f385qBvpw2jjXNIP6L/ppj10XRQ7onkgygCJjP6gUmlQ2Xi/yhdCyqPiZt1ggYaVlzOd2adysVQpo0abi56dL/6e8HdH0cskbAkHYLkXuUfsQ3IfnP/5t0z7f0qw1KlWk8RVxhyl58tYzno2+09JUjUaTn2Zod6VhKfVp55BpIf4dvWTNl4H67KI009qayNphnhrQ48XUyATN25QlM33g2yVaFItm5SkmkC0URfHLtx06VUKuEOP3x3K3H+PLPQ6JKgXw0DW+DfgPofefXHjl+o8hfShntHpGs+6UF25TsY+b7WEri4kpzMwLGlXYrhX018wtP+duOLjWbwvCnyPRSMcsUcYJNmioRqF3CF/M7hXFrT00EK0WdUZ69MCzdLCK8Rh9Euug0LpufSwFxZKNyxFLBTiVMiQQb07wsVw61KaW/xd03xL3Dw+vB2zMDV+FqgOArMhlf3qcGWs/anqStYM+EdNmUXjAoVWCfjTpKUl8mtQ5F03LJArf88z6/7uciI4xsdNE9FHcfvReJNXPU5hjbsmxSVZ/9F+/qKnVOGkCUYvX+D7s4XQki4yj97uPfDuDe03hRZJGSH/uH1OU0cYQ6F2p+a31O/hyOu2/1vPA6RisOX1UU+dU6H9+PCBgiLW8IKmxJbUxtW457r6VtzIrjmLUp1uLfpZVttp+9jTZz5NMS6fdxQutQ9P1tP/4SRAmqrUOOgDlx7QG6/LjHQgj6vSqFMbJpcvTE3wcui9JuaC7SrSEChn4fnN0oWk5N44T3SUqi8L9BWnyWjqXUp42nboiwoCigd8MKa9KXor5HRySXA6cUzRkCAqZikexY8kFVXLj9GDXHiQWteX+l0VWk+ULvqTQSTFhxafHuSxjwv8Pw8UyPue9XAhE9UjF5FgGj5USwPkYiwAgYI9F0c1uMgHHzDZZZXpPQ/KJUiNSHAFtxSiEQViwHFvcI56ZP7QQrVZvYdf5OSm2Fw+alCDv6jek4f7fD5iDDerWsqP+Ed0Kx7+JdNJ++zTDf6EKePbMHft5+HkP+PiqyS7oc7eft5KKf7G1kq83sHaLoCCPLsX/XKgREaklbr1/2Yvnha/a6Lxq/8fNaOBh3z+ICrDbJN83LcBdDaqRbISxLrDaWyAsifahENt9sqQioVipbzQ97nn8U6Y/P6pXgCDEixoxqRMAcvqxMSFoj6KwRMFLNGIrUUiJliUwhQm6ZIEpQbX1yBIy16nqdqxXD0LeCOZN3H8dz1aKkWi5rP62J+0/j0WKGsQLiauug55FBuTmtmj6RAShTMKvVIaRpI9WPUSprLjUkJWD2Do7itMg+XJR8niitiKpMaUmd9PZMj8PD6ydNIz0P9N+5xT3DudQgqQgzP0gaXSXVuuL7Cat1BQ5agfjEl9yjgtkzYeuXkVx5cIqc4RurgqTl5LE+RiLACBgj0XRzW2YmYKQ53G6+FU5bHpXkNPqLptOcZxO5NAKlC/jgv49qcGtI7e83fRncc+GuS++nnPONy+YDVVqTlhg2eqF6UynJr6ltyxt+eSU9k9zenvhh6zmuJLKw/d69Cjr/uNsQEV45/IwUo/62RRm0rvSa3EhIfIljVx6gaM7M+OyPgyLSwoh9pIsupSCRbT1tVLPSaFe5CDdETnNHyZacfo+euc3Qt0dNPwxoUBJL98Xh08X6sFPyny62RE4pNYo+alm+IP49dIUTtqW/Iw5cuoe+vx9A3F3LsuNzO1QUlTNed/y6RdUr4XxEpnT/aY8obUgNczkCxloqWc+axdG/QRBnUlg9SzgHaQgROdPaYAFxtXUInxfN6cVF4lBqllx7Gp9oUbWOqmopidOK7PdfJjK7a2AdjoChSDC+0dREwFDUplqjal4HhtZL6iZXFWti6xCUyOODhpO3yJoTRlfJEUz8IKFYtJwQcc1xG3BBkKJJ7/zHUQFqSzDNczPfx0wDkskdYQSMyTfITO6Z+YVP7Rc0R50TtRKZjpqX2WUIFMuVmfvjklq9iZsUBTfdHS0SJ7S1DLeZsalfKg+XJiItMWy0z3oj+eoF58HsDhW5L+x6U1+UfCc9k3xZM2H25rMWJapJXJLSIfgvtUZjQF+fjYiuIb9GNi2N96oUwcuXr9Bi5uuKOXl9PJEziweOXnlgqOur+kaAUoiEwp9aJhBWMvp990V8+WeycKja+L5RAZi09rRaN1M/56vI6V272qK0RMCQ+Clp31B1IGoFsmWySPMRzjOjXXk0KJMs6ixXpl3Yn8iUTvN3YcPJ5MpVan4PblSSi36IDMrDCUVnSJvG6pn6uE4AKArm5PWHIEHgkcuOW5hf0jOcizBrP8+x6ZNq6zr6VX1kzphettu9J/EWIsGU0lcoh3KJZt6YlLjY1j8SW8/cEondUl+KxiEyRK1RFS+KwOHbyP+OYe7WcxbDKMJn/Ykbsub46CpKD31//m6rulbCDzjSdVA1OkpxunjnSdIcfMSY2hrM8tzM9zGzYGR2PxgBY/YdMpF/Zn7hGQHjmINCX4KFYqCOmYVZZQhYIpDbOyN2DYriHkgrFqQ2vEhQ0NYy3GbGiv7QpioqwhLDjvBXL5FMAqcLOodxgpM9F+41zCX+8jN94xmMXXlSZJdKO3f/eY/VssL2OkFfqq2VLNZr+6u3S+H9qkVhrcKOXntK/Zf1qc5p1wz564gus8PeCkanasW4MT9tP4+hkpQvXcZcsDOvY7JwxwUM1omd0nK1EDBEfunBW1qxSi1tigiY9+bu5MgAvY10SNRKvVP00D8HrliUlZbO9Xm9QHy3WlzpTK8/9vY/NLwefDwzcCRlxvTpEJzfJ8mkXAWu9Z/VhJ9vFk3TygkPbzp10+bzxFdM4if/+r9jmrRjhM7y2k4kQE3Cv9Zaqfw+WNbndQStXCpV0+kxIi2nD2oVBwlXu0oz833MVTBMaT8ZAZPSO+BC85v5hWcEjGMOkpZwY8fMzKwyBAAqlVojIBeG/XNUtcKCO+Ol5dLjiuunvaVICmGJYUesgypq6dGLoKpTv3avAqMFTPnLz+R1pzFhjfjiRpdQYWi/I3AwyiZf4njahjMYt0pMJBk1B2/nnw+rYc/5uxYpW2rzUMRD1xp+XLe5W2JloxjUbLjycyq9/m3LsjBal0fLbxGdD7pca21CwWQa8+feOMWUMyJg6PJNl3BHtHxZPVXJF0fMa4tNiighko3/PRFieenOE4sKXBRRViKvN4b/cxSLdl3kxKVJV0VaGYkiTIoNWC5yidJFS+bztvldyuOTETsHvv6ocur6Q/T8eS9XiU5Po+gqqp43a9NZjFlxwupQ0l9a/nENTkhdug4qo06aUFRtiW9ypcf1+OXsvma+jzkbC1edjxEwrrpzKeC3mV/4+hM3c+GirDEEGAIMAXdDICivN05cc7/ftyp+OUAln/WWGNa7v43K5BNVlVIbz5dD1asdomaXdCMC83hjwuqTmLz+dXqGKza+ZCtd+ohMcmRb2qsq9py/Y5GypTansKysM4giNX+c/ZyqBUUF59ElPuxsH/n5SK+nVYVC+O/QFU6k+vr9Z4opZ0TANJse45ZpmXr3gDRdKo9eJxrG693Iidn+91F1jmwRitxKCTAyRtpOAYNWWLhjTzU10qHaNqAOqHJRh3m7LISNtaydoqv8cmXBe/N2KnbnCRi5dUxrWx6kPyMkYOi/QxWLZgdV4GpdqRDKFsymxZ0U62Pm+1iKgeJiEzMCxsU2LCXdNfMLn9o1IlLyXLC5GQIMAcciUNw3M87e1Pel0LEeGWOdxIUpTcRInRU5z6JL5cXKo9qr8/ACjnLlou1ZOZWaphQBaflVe2ym1Nj2VYpwGgqUkuDIRuLEJECtN9KG0gkorYCaqxNetuBLUV9U/cmotDNbfNA6htLFKMWSLyutVj3q7OiGaDJtK45cNlZvSKu/ZupHaY01xm6QJWCOXrmPRpO3ip4Robn3/F2MWp6sa0MaPTH9I0X9niUkImjISkOXys8TPmadzRFGFNk2feNZrjy8UiuZzwcrPq4BOSFiElj+adt5XLn/LMmEsEoclaum9GdpVJChYNhpzMz3MTuXlmqGMwIm1Wy1/Qs18wvPCBj795dZYAgwBBgCzkQgpGBWLk3kIwPL5Mr5ryTqKNc/ME8WrP6kJubHnMNX/2pPpVDDjtJp6MvqqGXHMGeLpfik2nj2XDsCpM+RzcsDey/c5Ygi+r+pqZGQ9OpjyWW0zbz2AQ2CFNNJpL4fHxGNptNiWNQzgMI5vERisoTVqZENQOWhSRem2fRtIviyZsoAEqiNOXM76d+F4rhUTvrHmHMccTdekiZp7xkiX+d3qoQ64zfZbIrIk28UUo94wxQ1urJvBB48S0DZ4atF8/WqVRxL913GtQfJBIzUoV+7VUF48Zw2++nogWa+jzl67e5inxEw7rKTTliHmV/4uhM24fSNR05AgU3BEGAIMAQYAkYgQNUzOlcr6nAyopp/TtGFQ813Ku+68YvamLHxLBetYlT784OqoPQm0l/4cdt5o8wyOzII2JMq4Q6A1i7hq6tKUEquWa+Y7YGhddF8+jbd+iEpuUZnzs2Lfe+IvY13NZTJzpQhHY5/Hc25aLRmkNHr1nNW6B3w9c6IxXviRG50qV6M0wRTImAo8q6yHyNgjN4/Zi8ZAUbAsNOgGQFGwGiGinVkCDAEGAIMARdGgMiSdcevc+HuRrXFPcIRViwHV9Hn5x0XjDLL7DAELBCo7p/LpipBKQFln0h/XZpIuwbWQfMZ2xB3N1lENSX8NuucPHlA6YHv/6BeJpsqpJ0b04hbjrRikNnW2KdOgN26U1QhbM2x67j+4LnV5S3sUhnVA3KZbflJ/pj5PmZa0EzmGCNgTLYhZnbHzC98ai9Ta+Zzw3xjCDAEGAIMAWBR18qo6p8LA5Yewq+7LjFIGAIOQyCsaA7sOu+YKkFGO00VaPSk5FGER8uZ2xQv0Eb76Er2JrYOQbNyBTmSodtPezS5vuaTCBTIngnBQ1dp6p9SnSh6Zd5W+9I3W1YoiI0nb+LWI+sEzPyOlVA7KHdKLVN1XjPfx1SdZx04BBgBww6CZgTM/MIzAkbzNrKODAGGAEOAIZACCCzoHIaagb74/I+DWLJXHBafAu6wKd0YgdBC2XDg0j2XWCGVFV6086JmX9d+GoF3Zu1QFWLVbNDNOn5RvwQv224OAAAgAElEQVR61/bnqkp9uGi/5tVRKtLThETN/V2141sh+bH51E3cf5pgdQlUmju6dF7TLtHM9zHTgmYyxxgBY7INMbM7Zn7h64zf6JZVQsx8HlzFt3xZPbn/kM6PYZoLrrJnzE+GgDsiMKdDRdQNzoO+v+1Pqvjijutka0p5BErl98HRK65RJahpaH5d7wOVUm4zewcePn+R8kCb0IO3Q/JjcptyWLovDp8uPmhCD1PWJRKo3nrmFp7EWyebCD/C0azNzPcxs2JmNr8YAWO2HTGxP2Z+4RkBY+KDk8KuUenDBqXzYq6dYaspvAw2PUOAIeDiCPB/1FPZbRKBZI0h4CgEAnJncdvCBFS1R60MsaNwdQW7fLnnX3ddxIClh13BZaf6SFGI287eQkLiK6vzjm8VghYVCjrVLz2Tmfk+pmcdqbkvI2CcsPs3b97EN998g3/++QdxcXHInDkzypcvj169eqFp06Y2e5CQkIApU6bgl19+wenTpzk7gYGBaNeuHT788ENkyJDBZttyA838wkeO34jYm48NXS8z5h4IFMyeCQ3L5MPszbE2LShXloyKucI2GWWDGAIMgVSHwNiWZfFOxULo8fMerDrqGiWCU90mucmCqZLX+dtP3GQ1bBl6EdjWP5LTgBn2z1G9Q92+f+ViObDznLo+0idRgSiUIxMonc/PN4upcDHzfcxUQJnYGUbAOHhzjh49isjISNy4cYObydvbG0+ePEFi4uvQtz59+uD777/X7cWjR48QFRWFnTt3cmM9PT25//vs2eu69uHh4VizZg1H9hjVzPzCMwLGqF12PzuFc3hxBMzMTbZVMymZzwfHr7pGKLf77R5bEUPAfRAY0aQU3qtcBH4Dl7vPothKTIkARUFcvseqBJlyc5zgFEXbXbv/FKOXn3DCbK41RekCPjhyWfvfdETEfBwVYKpFmvk+ZiqgTOwMI2AcuDnPnz9HcHAwYmNjUbp0aSxcuBAhISEcATNx4kQMGTIEr169wg8//IBOnTrp8oSiXBYtWoRs2bJx4/lImr/++gudO3fGvXv30KFDByxYsECXXaXOZn7hI7/biNhbLALGsM12I0P0JbBR2XyYtsE2AiYi0JcTbGONIcAQYAjYg8CABkHIm9UTH/92wB4zbCxDQBUBX++MuPnQepUXVQOsg0sj8H54EdAZ+G71KZdehyOcL5LTCxd0RIdNeCcEzcubKx3JzPcxR+yZO9pkBIwDd5XSgyjCxcvLC8ePH0fhwoVFs1Ga0LRp05A/f36cP39ec8rQoUOHEBoaypE3S5YsQYsWLUR26d9atWqFNGnSgPoS+WNEM/MLzwgYI3bYPW345cqMxmXzYfL6MzYtsEX5gvhzH6tYYhN4bBBDgCGQhEDfqAAuEu9ZwkuGCkPAoQhkzZRBscqLQydnxk2BQGqpauRosP/oGY5KRXM4ehpd9s18H9O1kFTcmREwDtz8ypUrY9euXejSpQvmzp1rMdPFixdRtGhRjkhZtWoV6tWrp8mbL7/8EmPHjoW/vz9OnTrFES3CRvZIC+bMmTMYMGAARo8ercmuWiczv/C1v9uIcywCRm0LU+Xz4r6ZQWUHJ619rZOkt/Wo6YdZm2zTj9E7F+vPEGAIuC8CPWsWtzkV0n1RYStzBAJeHukUq7w4Yk5mkyHgjgjsGFCHi1w0UzPzfcxMOJnZF0bAOGh3SKPFx8eHI1f++OMPtGzZUnamUqVK4dixY+jXrx++/fZbTd5UqlQJe/bsQe/evTF16lTZMfRs+vTpCAsLS9KJ0WRcoZOZX3hGwNi7u+47nqpBEAEzYY1tobj9GwRh3KqTSHxpXTHffdFjK2MIMASMQqB9lSL4eccFo8wxOwwBqwhkSJdGscoLg44hwBBQR8AjfVqcGBGNtGnFH7rVRzq2h5nvY45duftYZwSMg/Zy9+7dHPlBjdKPgoKCZGdq3bo1Fi9ejMaNG+Pff/9V9YYIHRLyffz4MWbMmIGePXvKjqFnVGWJ+j54oF1sSskBM7/wtcZtYIr/qqcndXYokccbb4fm50gUW9rQxsGYtuEMbj+Ot2U4G8MQYAgwBDgEWFoIOwgMAYaAoxBg5bmNR5YImFMjGxhv2E6LZr6P2bm0VDOcETAO2moqOd2kSRPO+v3797loGLn2ySefYNKkSahQoQIX1aLWiEzJmjUr1+3vv//G22+/LTuEnvHCvA8fPkSWLOol1PgX2poP8fHx8PDwAIkLm60xAsZsO2Ief4LyeqNJaAF8u9K2agBfNy2N+VvPMZFn82wp84Qh4HQE8vhkxPUH5vtvn9OBYBMyBBgCpkSA0q3HvxOKptNiTOmfqzp1/ptGpnOdETCm2xLdDjECRjdk2gZQhSKqVEQtISEB6dOnlx04aNAgTqOFNFtOnlT/Qn/lyhUUKFCAs0VlpqkUtVyjZ7ymDI3Jly+fquOuTMDUHLdBl6q5Khisg9sgEJzPB03L5be5HOM3zcvgt92XcODSPbfBhC2EIcAQ0IcAq4amDy/WmyHAEHAuAqGFsoEEY8sMX8WEvg2C/t1KhfBNi7IGWTPODCNgjMMypSwxAsZByLsiAaMGhZlfeEbAqO1e6n1euoAPmoYWwMhlx20CYXyrEPy2+yJ2n79r03g2iCHAEHB9BN6pWBBL9saBSUG51l76eKbHg2cvXMtp5i1DwAYEagTkws9dKoNFhNsAnpUhK/vWQFBe+QwG42bRb8nM9zH9q0mdIxgB46B9d8UUJDUozPzCR4zdgIt3nqgtgT1XQeDfD6tzPZ6/SETLmdttxitj+rR4/sIcpVbLFszKETAj/jtm03omtymHX3ZcwM5zd2wazwbpR2BV3wgs3R/Hqk8JoMvmlQH3niToB5ON0IXA9++G4uPfDliM6R7hhwXbzpvmd03XolJp58ig3PDNkhG/77mUqhBoUDovVhy5lqrWnBKL/bRuIPeb/EPMuZSY3mLORmXyYVq78mg2PQb7L7KIXXs3pUlofnz/bjl7zThkvJnvYw5ZsBsaZQSMgzaV9FyoWhE1o0V4SU+GqiwxEd7kzWMEjDEHWZjrak9Uka93Rtx8aA69hJBC2dC8XAEM++eoTSDNfK88ftp+AdvO3rZpPBskj0C6tGmsVpaic7ji8FV88Ms+Bt8bBApmz4S4u08ZHg5GIKZ/JKp9s95iln7RJTBjw1k8fG5MNAWlRsbeeiSbKpAmDfCKFV2ze6cpfaBorsz4ZoVt+l92O5BCBuZ0qIhuP6lrCqaQe24z7W/dq2DTqZuYsfGsKdbEp8t0+XE31p24YQqfUtIJ74zp7fq9/qBWcXwZLV9AJSXXRXMzAiald8D++RkBYz+GshaEZaiXLFmCFi1ayPYrXbo0jh49qqsMNVVXoipLH374IaZMmSJrl55NmzYt1ZShrjF2PS7dYZcTe4+zkICxJ4zVzzczYm8+ttcdQ8aXK5wNzcsXxJC/jthkb26Hiliw/Ty2nL5l03g2SB4Bj3RpEZ8oHyVF55D+sH3/h10MvjcI+OXKzISgnXAa9g+pi3Jfr7GYaXSzMhi/+qRh1dAal82HjSdv4pEMoZMzs4dh8zgBMtNOQWW/awb6omsqIyN+7VYFbebsMO2+uItjS3qGY/PpW5i87rQpltStRjEMahSMz/84yKVLamnNyhXA//Zf1tLV5frY+9His7qB+KhOgCnXzQgYU26LLqcYAaMLLn2dq1Spgp07d6Jr166YM2eOxeC4uDgULlwYVFp61apVSaK5arP0798f3377LQICAnDq1CnZ7iTqe/r0aQwYMIAT+TWi/Z+9646volijHz30HpBO6Ak99BJaqIIUEXxSBAsqAlIUpUpHqRZAURSQIl2lhNB777333jsEQuD9zoZN9s7dMru3ZG+Y+ec9uVPP7G52zn7fOXa+4QUB444dJlISMDVHrbV84IMYnF1Ea4Nzp6e3S+eg3v8csATS1A/K0Z8bz0iEgCjuQ0AvTQ3X4a5zt+ntX6ynwblvpvboCW5eR68+sMdkfHAWvFElRwfXo8L9wp1W+Eur0jRw0WG6ej/CLavvUjM/Td1yju49cU4rg5vJKZsQ2FqLxXN11znv6GJlT5ecLt01/4Hlwyp56au6haSIpluPnklL8UuSMN4LlC7uXIUa/rzRLdep6EQbgX8/r0zrjt2gsSvV38O9jR1SorrUKkDDwo7Qb+tPcw1/cGBdyeVx9Ap7rIFr0pyVimVPSwcu3eOs7Vyt75tF6KOqAZbbe7Khnc9jnlx3fOpbEDAe3E1Ep3Tp0oVSpkwppSHlzJnTYTT8hjrZsmWjs2fPUpIkSbhms3//fipZsqRE3CxYsICaNm3q0A7/hoibBAkSEOoiysYdxc43fJXvV4vwfDdssgMBM3qt5SgWOzmGlM2TnpoH56Cv51sjYGZ+XJ4mbThDq0VIrxuusNguUiRNRI+fRan2ievwyJX7VP/HDW4d05c7g5bR/ovWXyZ9ee3umLtaOLoaKXN6WAPK3yfMSWwXz4Gv5+93S6RlwgREYV9UpVa/b1ONdPEmuWEV29kdKkhaOe4ipPTmMeOj8tRq0jbTU/20Wj76pn5h2nH2Nv2x4QwVeSMN3Xz4lKZtPWe6L19qsObL6lRj1Fq3T7lTjfy04vA1OnYt7olgRG7UDsxCHT2UpvpJtQBKlCABTdBJLwLRtfzwNdtEwPRvGEgfVMlLv647xZ12J7/zfTptF4Uf4tMNQlSZL3yQgiixK5HLiHp8r3wut99H7ujQzucxd6zvdehDEDAe3OWnT59SYGAgnT59mooXL07Tpk2T/vfJkyf0448/Uu/evSUS5c8//6T27ds7zCRPnjx07tw5ev/992nKlClOs4TFNZyW0qdPT5MnT6a33npLqgPxX/R1584datu2LU2dOtVtK7TzDS8IGPdss5KACR2zjk5ef2ip4zeLv0FL9l+x1NbdjcrlzSARMD3n7bfUNcKMf113mlYeuWapvWikjoBefjauw/O3HlPIyDUCvlcIlMmdnnZ6KeIgPoKeKVUy6fCtLCmTJqJHDAmIa69g36X0jBERD+tSlTr9vdsyKS2PmzWNH0HYG8+lMkNW0M2H0ZEZylIpX0bba07Jfyu8ob+Gr/RIITWbKoFoAEQFKMvwsCM0kTM6wMp9kDNDcreQdFbGltts6FmDqo5w/7NTLx03bfIkqtFcRutIkigBRUaZFzxqVT4X1SriTx9M8YzWDcgmREuNWq4dGbL0i6q0eP9lGr/GHhowI5sXp3fK5KQ5Oy5Qz/nG7zulc6WjBR0rS1vUfc5eWrCbLxUJYr9LDlh7v9P78GJ0rZj9vVGJbLRo32WzzWLq/9CyJDUpld1ye082tPN5zJPrjk99CwLGw7sJfZeaNWvS9evRglgQ0H38+DE9fx4t5Ne5c2f66aefnGZhRMBAYyY0NFRKcUJJnjy5ROZERESHR1esWJFWrFghRd+4q9j5hkeIsZUQZXdhE1/6URIwdcauo+PXrBEw/yuXi/7eft4WsFQIyEDvBOekHnP3WZrPf59XpglrT9KyQ4KAsQSgRiM9e1hch7cePqXgISvdOaRP94XreOtp+ztxZUiZlG6/SvfQA3z+ZxUp/OBV+n2DdxxE1A7GaqQMrr2i3y5z0mbZ0qsmtZ+8w+U0sGkflqOqBTJL0GgRMN78wpwlTTK6dt+8YLr8t8KVVFXeG/LYkHr09bz99O9ec4epL+sUpE41HTUcRi07RuPWnOQd2nQ9V9MeTA+o0gDXasXhzkLSrvYNl8QfVh5XFXgtkSMt7bMQoZcpVVJVEhJz9U+djK5riPkv6VJFciCyEhnFg0O30IKU2i+xrnviyu4hNG/XJSnixA7l19bBVA8OWBwC9nkzpaRR75QgRNuhgODkjQyDqcECi7oxFQMy0tvBOSSdGk8XaEDprcnob9XENsFUNyirp6dpqX87n8csLeg1bCQIGC9sOsiX7777jhYtWkQXLlyQSJHSpUvT559/Tk2aNFGdgREBg0aRkZFSCtOMGTNitGCg/dK6dWtJoJc3pYkXAjvf8IKA4d1F/XpKAqbu2PWWQ40RvjtxHV8Osntmrt0Lvia3KJOTus52tpblGRsveuPXnKSwA3zhuTx9ijpE6VMkoTsqtspyGHVEZJSqFocdsYOezRehBaSXtVqj11me4vsVc0u6IGrF1XBqy5My2ZD3ILa3f23pnrKqzWRyWlQwSyonQjl3xhR07tZjh67wDCw5aLmT5feRQfWo5W9bXE4DW9CxEpXOFX3o0SJgkFqBVA9vFDUMeMaV/1a4EinJMw7qnBnegLrN3muagOndoDB1CMnnMAwEU8d4SO9i3HulJNvrlr/FrQDujj6hVHao+8nr7b1rSW6CahbXVqMN1AT7ESXRq35hKeJpt8JOOb9/KimNrEahzJKw/s6zt6n5r8Y6YUj5e2EyyAauZxlSJKVvFminLiPVa9b28x6NqOK9R1BPJnfx7NBzwcLfkmkflnfoGk5hvERSyzI5LVu7V86fkWZ8VIHyfLPEcGl5Mqags8zz2bCRogL0n0YuO6baBO+o9x5H0qwd2hb1SrLczLjeqGvn85g31h8fxhAETHzYRS+twc43vCBg3HMRKAmYej+st/y1V+8Pn3tmyt9LlfyZqEXZnNTl7z38jRQ1V3QLoR9XnaDFNkmpsrQIGzZS+/KJtKQ9/WtT4kQJpYi+vL3CbDhz5yn9+G5JalwyOlS5zJCVTqkuvIvAoWO4hmUuDh1rjtlfCLpcngy0/axxpA7SSpYfukrd53j+SyjwVyOG1ISN8Qxk9xAE27Eh9entXza7LDy7rGsIFcqa+tW1op6C5EqIP++1JtcrlCW1aaK9RM50hMhAlNpj1tEJi6mqvHPFnnwxaw/9ZzIC5ttGgdS+cl6HYczoYygbIsWmAVIv9l+m+xHOVuQgzRCBgMP+lM1nJcFmd5Vsaf3o8j1+8WeQmyUHOTt5uTqfU8MaUI856kTY5zXyWUrFURPsl++RJuM3OYj5Y4yv6sbaAh+4eI8ajTMWG4Y7kNlIuz4NipB/mmSSzpFWQarX1M1nadJG70TxGe3f/M8qSREtBy/d0xVhrlnYn/5sV9ahO0T5jghXJyvYcV2JcJbJn89n7jZMU3dFjBwRtku6VFVNxcPzfPM3NSWnKK2/t1gzojSDc2cwgj1OfrfzeSxOAPHBQQUB44ObFldTtvMNLwgY91wVSgIGAqgQQrVSBjUOov7/HbLS1O1t8Af/3bK5CH/wrZS1X1aXXA7MvvxbGctbbaBnMW7NCZeievCiB02AlMkSS5oZZkvm1MnoBhNejq+OHavnj+mK5yuZ2XE9UR+aHm+VyCZ1XXH4Krpi4rCknM/gxkHUT+O+CS3iTyuPRKey2rnw6pcgrWTl4euW70uzGEBzZfsZR2IIGgjKL+zoE8/ASsNXORx4kQqxvU8o/e+3rbTl9C2zQ8fURz948QfBiKIWAYOweVhTm9U7sTop3oglZf+ICgzKllb6J28RMCDQF5rUcxjatCi1Kp/bAZo/Np6hwYvNkSP9GgYSHJX07u9VPapRvsyppDpRL15Svt7uI49blMlBc3by2Qpj/AMD6lCxAcutXhKa7XBv9Jy3T3UuI94uzqU7wnaulm63ukc1Csicit4at9Eh4gzOYd3rFIrp4tjVB1T3h/WG64QYM290h9zZgEaBlCN9Cl0Lc6R6IdIXhFtcF0Syre5RnRIlTCB9vGg6YbNEXiVNnFCK/jt4KfZdrnqhzDSlfTmHKa8/foPa/rmdaxkQpp25zVqKuUzAnLrxkAYsPKQrkqsWtcg1QSLCMwr7V2Kg433wv3I56f1Keahw1jS0/+JdemvcJs0u8Z4UmC0N75BerWfn85hXgfDhwQQB48Ob5+2p2/mGZ1+YvY1NfBlPScC8+dMGOnTZGgED8TKrKT/uxhIveO+WzUmfWXRL2PRNTRq97JjlnGd5Pa6G07oTFzi9IIfblTzsekFZ6dc2wdK0rBAlECNlHVQQAfJJtdiUASv9uhMn3r7Gv1eaIDyN4goZjJx8rT2pE5hFctywe+FNlcI1uObYdfpwqmdENFmc1JzZEB238eRNh6p4BrLCskiTwOEGBxQcVKyU0CJZ6NNqAVQmT+wXVTUCZt+3dWjYkiPcIf64Zr5bekRTR8NorrwRS3I/sN5F1IJcvJGChD3p/Pce04KaI5oXl9JPlQWaENC7MFMGvhUkHdpQqo9co5oWAaI+T6ZYzT13Prs+qJyX/tzEH2WhZaVuZs2oi3Qf+SMMosXCu4ZoRldAL2PM8uOmo6lAXLPEGiJLcmZIQew7yBe1ClA3hajy2ZuPqDqH21Pnmvnp59XmdH+GNClKAZlS0ns67lvb+9SicatP0l8aaaNGeOvpoBm1Vf4+uElRQtQcNE3kghTetcduSOQL5qckieQ0IGUfIH2hfcVTXCFg8D429YNY8qfVpK206aQ6qa0WocgzP9TBM0MtjXlb71qUJY2f1I0RUcre07xje6Oenc9j3lh/fBhDEDDxYRe9tAY73/CCgHHPRaAkYBr9vJEOXLJme/vH+2W8drAyWjlSN94tl4s+mbbLqKrq78h7H7HsmBSuarUgNPib+fs9HqrPOz/s8z97LlK32dbTPxqXzEY/vltKGtLKYUMtrL7vm0Xoo6oBMcuw0i8vBu6s90ur0lS/WDQBU27oSk3hSKMxJ7QqrWmrWh/iigf5dYjULJaNxnfH77ypUrgGN564Sa3/MG8vbGWedYOyOAlpq2mtYF41R691cDuCsOqizlXogyk7LNvRK5+t8vxZAgapEn3eDKS+/x6g6VtjvzCXypWO9ii0MJTrR4okomX07HL18MJhTOsApNZOmUKF3+1MwChTA+W1zN5xnr6er63robZmHMZbV4iOpNFKzZVJA7m9O59dcHOCdg1vOTG0PhXo4xiVaCUteM4nFSV3HBRgKadjjF1xXErLVRYcqjOmTEqjlx8zlSqpJpS6tVctyprWj9goXDhaAQu5XLn3hEtsuGtoAfphJT9+6B8RPQWzpiakQWmVPf1q06jlx2iGxWgQdznbqT1blHMevvSIgyYfSNc5n1Z0WhbvNdu6Qi6H5xPvdYl6+PswWRF98+5vW1TF5TEGnnl6HwH1nLeAiVoa866+oZQxVbKYKQ9cdIgmb1KPYMK7n/8rssbMGr1R187nMW+sPz6MIQiY+LCLXlqDnW94V8L+vQSfTwyj/EPOhv+aWcDcTyvSOxrieEkTJaRnUS/MdOdS3VqF/Qk5yx/9Ze1LO16yIFA3e6e2WJvRBOEegRdZT2slGM1D/h37/N/eS7r57UZ9vROcg0a+U0Kqxvvipuwze7rkTs5lylB/q/0azdsTv8vuE+i79OAVXC5AavOY+XF5eu93dULCjLV70expaECjIMkh5Cljp+zO9avtIa+ALK5BXhFNd8y5SclsTiKuav+GebGHbDhQzepQURK2tCqOy0PAIFXim/qFadCiww4RD3ppQuu+qk5/b79gOsVCxhTpCPhSzltYosFbBEynmbtN63CB0IRui7KASDcb+ff928WoZdlcUjeNx2+ifRfuOsGFdJQ30iaP+Xczz0REQiClSyu9DXokQ8OO8G6RJFoMAua5QnkWaZJIuavyPb89td7Bnl3frA4VqEJARtN/D9S0Y3b2DSU4lLFGACCRPq8Rm6IKtzU8b40K3LD07KTV2o9tWULakzpjtVOc9g+oQwt2XaQBFvV+1FIgjdbC/g5ieWKbMrrNQIopI4CUGk7KhjO2naM+/0RHhyFC9dqDCHqpIl6sRprxkoR4H/tDoT/TYuIWp9RQPO9+a1tGet7u13HWwkeg3BlSSClxbDStfO2y1+m+/nUobYokMct+8iyK5uy8IN0rbGoiUvlS+8XWNbs3nqxv5/OYJ9cdn/oWBEx82k0Pr8XON7wgYNyz+coXLq0XTZ6RkH/75k/q4nh42XyrZDbLX1B4xlfWQeh/q/K5qP2UHWabSvUhFjp0yRGXbLWBB1w8rNp6W5q4TiPs86J9l6WwfqsFX6iGNClm+oVbHi9H+uR08c4Th+GRd99OIZpp5hBjdR3uaPd72zIE4gGl2LfL6MFTZ5FOdhyQFxlTJY15wcTLZOeaBaSIArVixmVEfsm8eOexFI3T4tctDocxd6wZfSB64kHEc4eXZN5IHVyDvCKa7pgv0hBZxws1MUnMq+HPGxw0E+RDw2fTd5mKQlLOm4eA6VQjP31ZtxCxX6yDsqXR/BIMTZmtp29ZFjPmJczktciHY/m/rRIwENzmuU8wDrDjEe1krxNoVIW+ui/l3xbsvmgaK6R5NQ/OIXWhdmDEv7Nfy808uxAhefjKfc3UqGFNi5lyCwNehfoudSBf4dBUo5A/BXGmmci4a9177PqUqWlm1v51vcL0ffhRh2Hk5xfcB5UuNn9/XIEq5osmeVAePX3OtR61MYyeKT//r5SUald1hDZhBWc0lBqj1joRAEb943cQIWpkHk9buQ6cmGAprVdY56/AN9JQ2BdVnZogYgRprjcfPqVmpXJI1ySEx9mi5tYHwdoT1x7qukahH2iZTXo/VgC4+S+baee5OzFDfFY9H2G/UFgRZnYecGP6vnlxunovgioMX+XwsxYBc2hgXUm3Tq2w1+3JofVj9LrM7Ik36tr5POaN9ceHMQQBEx920UtrsPMNX2HYKkt/AL0Enc8MozwkGP3x01vU8m4hml+OEDYKnQMIoEGs1GpqEC+o0M5oVSE3vc8pMMf2C7FQfBlRpgTwji3XW/pFVYmAOXr1gdmmHqmPfQ47cEUz3YVnUOgS9G8UKFU188It950zQ3K6cNuRgIEIbZuK0VoLVvvlmbu76yDlrlaRaAKmcL+lFBFpHOGF3PzwL0Lo+PUHlChBAknA89LdJ5ov/GrRGlrrYA/7EEl+5oFImIoBGelxZJTDIaJh8Te4IhUwxxPXHgb/7zoAACAASURBVFBtnS/M7tynthVzO2k1QFgVoqzKgnk1HreR9im+vEKnAhEEVkgA9I2DHA6obGFTkGSNizHLj9FPCs0KPS0EECJp/JJIUTunbz4yDZme45Ia8cMeYGqNXkunbpgfF1+X0S5XhhSEvwmX7jyhkJHqh12JgJmxm5YcuGJqfUiLgeaEsvy755KuPplaVBc0zZqUinY5a/PHNlXhUDa1wcwzcXHnKnTo8j3N1Cik/+i58bCgAC/oeUDXQy7oo25QVircL5wLQ+AA/TOtwq4vvGtVSdjU7HMb+iWsJs/hQXUpRdLEdO9JJOGAjshRRGpNbleWEiC38lV5HvWC8jOpVmq6KkhtHbKEP4II3SOqEcLdehE2x4fUl0Ru7zx6JrmjbTp10ymdJX2KJHTncaQqjMVzpHXJ1p7VTNPaq1/WnnIguQr4p6IV3atxXQdq13G7SnmchIfhinY/IpLa/KEv5AvCFx8s5NJ0wiaH9Eql05WR65z8EQjXQWD/ZTGR1d1CC9IXodGpauz88T6XLHEi1bVP33qO+r7Sh8LeIwXPrsXO5zG7Yma3eQkCxm47YuP52PmGFwSMey4c5cGt2YRNTg4hvKPAxaDmaPUv+elSJKG9/evEdAW3CIiheapALLZVhVyGLwZa40MsFHnCUy0K7aFf6CbARtVOBEz4wav06XRrujhYk/JLlZnDhowzDl7nbz92gF2ptYAflCHRRtfHG2n9LLsPGfVt9DsOBjUK+0vVeK9n2P8u6xbi0PX1+xFUbpjjlzy5QrPS2WnB7ktGU5F+ZwkY9ms4VycclcrnzUARz184EDC8RBHmeP7WY81DN8fwpqp8VCWvk12smjgn5sVqTyBSZnizYpKVvVknHlieTnq/DFUt4EgEYPIsAdOjdkHqXKsAjVt9wiFlIr9/KoLgqDKlRF48yGwQGDhsg9S+/ySSPp3O7/imt1/QNmLFy/E8TAiv5VfFKgGjFhGk9RyxSsCwEROYslHqpZo2FaIhEIGGgnRUNUcdNrXBzDNxZfcQypzKj8oOXamangsywMyzGnjB/QUEhlwQxYO9ZgkL9iZCNAXI2tEtSsSkFKndaOz6lIKl7G+/tQkmRLMoSU25T6T6sFpkMrGBOk+fR0kC02+k8XO47uT27FgLO1V2craBHblZW/A/25WhSvky6RJW7L2w6eRNKe1TWUBSa6WWIVVU6U5k6oFGRJPbl5WimowK6/wFQ4C1X9Uwaib9rqbRokbAIMr33uNIXdFi9MemTLFkt9LpSivaTJ44SPVBjYtK/7n80FUavfw45cmUgr5rVpzSvxIkZq8PWKnDKUqtIAJo7q6LUkQN0qzkPriA8nIlO5/HvAyFzw4nCBif3TrvT9zON3z5YSvp2v2n3gclno2ofClmQ0PNLBU6AVqhuywBk793mEfSI+T5NiiWlVqXz234YqC1PmCiJ9TGgwtesDv/vdeyrTfPGLx18PKBlxBoWSDH2mpRfmWCpoJZkWI1VygccnHYlQteiEAU7b90jxbvv+wUMSPXg8gi0nfcaf1qBhfll3beg5fsKqIc5+7jZ1RykLqmATR38HLIU9jDbZF+4fQkMoqnqak6EHOMeB7l8BX37dI5aP5u43lijnqEk6mJMJVBDJ25+chBDFlNa0ItNQHzYkkFkDd9GwZS99l7TbmhQeMB+gywXFcrLAEj27BPXHeKhi+NTcvAoRjXhtqXdDje+CWJ/aJrVldH77rCwbkDI17OXlveImA6zthFYQf4RaiBN9IiZOFYGX8QaCDStAoIGOhJKL8J/Nq6NNUrGq0lg33A3zak3ikLqxex8vA1bt0xWVcHbUA6r2E0efB8MRPBiT1iry3o2MARKm8vfXtsPd0X5XrZ55wsnIs67G87+oRKek9qToRqwuPQsFFGuug9C9ix8LGDtaZGZGW//w6ZeqQA85ACmXTxYrFSExVHJMX2M7dVx0YqENJ8rBQIc8//tJIqKcX299eWs9RfsX6j6CZl+2v3I6g881GgfeU8TpE+iHpGJFDL37bqLgcpqr+0jnZPRGHTPfG3vGtoQem3//22VZO8wu9KAkZrUPb64L2+reyJN9vY+TzmTRx8eSxBwPjy7nl57na+4QUB456LQfnH6Z1fN9OOs7G5uWZGgCBhxeGrVZt4m4CBeCm+Zrxr8GKgtT5gMmTxYaev52bwWNWjGnWeucfyy5aZsYzqpkyaiA4NqkerjlzjcqpCCP86FetdhI4DVxR8+SoxaLnR0A6/41CJQ7KywHmiRVlH21j5d70DjRw5wEt+mJooR+VpH5aLiXDgnQMsXpGapiwQBCzSXz1FQE3DRO+aVf4W2D+cHj9zPwGDtIbfN5x2+IqLvPxcGVM4aDeozRP3Fb7Q40u9OwuikSrlzyjZgePLuVxAGI5dedxhKNgLf7vQ8WCGeVUdsdqB7JNTg8wSjXLqktb62EOynFLw58YzNGjx4ZhmiBZD5sW5W44RY6jAftHde+GurnMLOxc9S1lEAXwwxZGkZQ8wrGMU717yRsDIKQlW9Hcgfl4sR1qHKS3Zf0VKJdMqIGCgm6SMNlKKbKPd5btPqNJ3jn/foAeSPKljaoNWtAw7tpF+zOwOFQwPtso+gS37TiRHFxo9n3gPqGw/EKuXIwZYTT6I1W49dcuJzMOc1aKseOeA9mqROKw1tVkNHfQrP9MRPTJ0yWHJOefGA8ePfDwEjJ7TEUj4Y9ceqArdal2fYV2q0ouXL6lgltRS+hNP+Xv7eeq1INb5C4QwSDHe8t7vW2nzqViraDVbdLzjgIBprmG+II+FD2ITWsUSMGy0ofy3HPVbT9pGG0/e1JwmtGgGvoqA0aokCBjeXRb1vI2AIGC8jbgPj2dnAsYV61cf3hK3T135QmEU/qk3OP64I5xarcgaMPJvno6AQeg4vpRouTIZgQhMhocdoYnrTxtV1fwdQnlw8dCzVLTcucmGGVImpd39atOaY9ep/WRjYWKsX02rgz2UsF/tjaYVkCmlk2bFyObF6Z0y6gTM2mPXqZ3GfOVoHKPDhdGcrP4+46PyVDl/Jqk57xzUhBCRiqcVxaN3UGbnzR4MWD0Iq+tUtoN2yFhoY4zf5EAsQvAahz3slRpxJ/eBOUZERnFrUvDOWV57yUHL6a5Ce0Et2mVE8+LUc95+h67VDq+9GxSmDiH56Ot5+025oUEPZ9x7pTWnzhIwsg37tC1nHb7Y44t1Pv9UtF6FCGX3+uCle9TwZ3UBdLWJqKUTSIefCrmoTmBWastoZ3mTgIH71PQPy0tCmJ9O20Xhh8xFwCh1SeS1Lz1wRTUSQ/4dqYy3Hj1z0ExS2szL9dj7XJk2I9cZtewYjVtz0vDSNUpf0hO1V+scewTXPWXK4pT2Zal6IX/d51OV/Jlo+kflDeer9pxTElAQhcbhGSQWUoB/bRNMa45eVxXCdzcBA1Fqlhz7rlkxXXFY/E2Eo5Ky4LqrUiD6mY70viSJElChvo7kOHsvbDhxwynVWc9CHjpgJ68/dIi2MgJ//Vc1JILbTNly6hb97/fYyJSmpbJLz27ewu4dNIvYZwzmdevRU2o6wVm01+HvRvE3aLzimcg6zimdrvDsUXvmyf3h2TXgrSDdZQgChneXRT1vIyAIGG8j7sPjCQLGhzePc+rKF4qWE7fQNo3QWaPucMDXEq+DSN7+AXVjuvA0AQN3mbYV86iq+RutA78DE7g0QMjOasHLSceZu1zK97Y6NpuDji+8m3vVkl5s2MOV1su82gs3G94PXQR88eUtAZlT0mlGvHNMixLUrHS02whb1PLr5TqwwOxeuyA3+cE7R956Sq0JXgIG+f+LOzs7UWi1V7P+1JofezAoNmCZU8oE79qMxmBfoOWvkjO3ndd1bsEckWJmlBJhdp7y2lk3KlicszajcIbpNNMxHQXtSw1a7pDuM7RpUWpVPre0HqyLt3Ssno96vnL0UGvDEjCyCxirfQRLWKREsKkV8vNJ2ffRq/ep3g8beKdIato4ONiA1IQw7HuMpoUTATNqrSXxX54IGCXxYYWAgRZZQOZUDlgYaV+BgLnz+JmDkDYOjIikVBYebYmRy47S+DXGfzfYNDK1vkNGrJFEulHUxKOVcwO2qFv/h/V0P+I5IdICkRPQ7mH7BpHe558DUvQKUq3y+6fmunbYflg9lJPXH0gudyB1QKBp/b1xNwGzvU8tKjfUUUfLKAIGbm6bTsZGeACAmR+Vp0qvSHUZEKPDPPuhomqBTFQ2TwYas8Ix8k7uD9o0eCbxSuAhcgWpXloaJlobh+dskwmbJa0uvH8t6lyFcmfUd05S9oUPA/3/OyjZ1TcplY2+qlvY6ToC8QX3pLfGbXKYBqtzgw9i0FSSS+0x6ySRZbl8U78wfVotn/Sf7Sdvd0rHU3YuCBiip0+F9ALXA8uGlQQBY8NNseuU7EzAINqCDQ+1K452npfypdgo/1ZvHRCG1EotSO2XmA54kYDB1x5EwBh9mdFaDzDh/ZKp1Qdy/DvO2E0HLt3z+vb3aVCEhobFOkAg8mT1l9VJj9BgX+bx3+zL57qvqju8xJklYCAsiq9/yoKUlsYlo91G2LLt9C3NMHyIqfaoUyjOCBikCJQPiLZH5SVg4ICxsFMVp3VqtdeKVFDDij3csoKc7rgI5THqjl0vhdHLRXbHYsPe2THl9rx48c5Z7pfVvUFUjuxwIfeFdCXWnh7t2ZQt2QUHbi3Ttp7jmkqKpIkI9z1SF7QKS8DIaX2zd5x3cMTJlCop7exbm9TS8Ni9xj2lZWWuNg8cdpSissG50xNskVHU7jlvEjAT2wRLzj0oVggYWVtFue5TNx5SLYVAPKvRgQMgbHuVKXtwwEI6mbKw162absmI8KM0gYO4Z9uqHfQx78mbzkipJ3CnevuXLZrXlbxH0O+A8HvZPOklVyG155OZdB+99Rv1s/nkTVUdNncTMEiFKjXYUUdL7d5XrkWNgFETcDYiYNCn7JIFm/UFHSuRfxo/KUoQ6ba4t/JlTklzdl4k6FT92a6s9J6kJq6NlMOXL4lqFfanFMkSS9pDsKmX/85wPYQUlRBtuPPsHcLf3axp/cw2N/w7BeLr+v2nTpEx+AD2397LMe3x3z++G0vAsCmMeF/5OCRAqv/R1B208sh1zbnyEDBKEkeO/nV58TbowM7nMRvA4xNTEASMT2yTPSZp5xu+zJCVEvsuimsIKF+iWk3a6vRViLf3gwPrSjaYagUvJgcGei8CBu4x+EPNfpnhXQswwRcsvJRbLbDzhIbBfoW1rdW+zLZDTvVoxRc4WXtk86mb9N7vjo4Nan1rHZRZO1qzBAysMJVfvjC20m2EnQtsPmFLqVZknQh3H+Z5sZ77aUXpSycK7xxK5EhL/5kgYNSED7Xmxx6G2HQc3nXp1ZPHYL9gdggJoN4NikiRIogYMZojL168c5bnVbDPUgdHGbV0IzVtDbRno/JkEdYBCw852a8iZH7ksmMO0wORgi//0DnSKywBI4tQz991kXrM3RfTVKmbZXQIhFsSq4GhNwe4mSmj+5QEzK5zt50O+t4kYCa1LUOhgdH27ojGefMn/tQqtGG1VWQceszZJwlFQ1sHVrMT15+S9hX3MCzlKw1fTQ8YC2eWGDbaB4zFGznJYmrUtx4ZjXH1yBCjvnnvM7P9aM0ZBAwO2bJwN4SrF3R0tmzXmhc7D7WPP0YivJXyZXTQOMFYszpUcHKB4llzZNQL2n3ujvRxQiY6oO116e5jypMxpRQNhIgSGPFAaLhAnzCKjHJ2gTQitHj3yVP11DSALt974nSPIuJl0b5YAgZOXD8oCJgao9Y6aMEhUhERXigd/tpJyw9f01wCDwED4rLrrL2S3hiIuBDGlt5T+Hi6Xzufxzy99vjSvyBg4stOemEddr7hBQHjngtA+UffSABNb0SEVBfupy4mmipZYgJBIxdPpyA1D84hETBmdBGUawMmP6484STgaQZxhA1/Mn2Xg12vmfau1GXdX5CT/k/Hyqpft9XG0SJg2BdEHOJw4OAtyH8/fs0xAkYt1F/uDxa7WiSanOqhdZiHW8/2s+pOFLzz1auHiAEcXFF4CYWSOdPRv587HzS02qulimjNid0bpAOyGgeurlseg3XBke3JjTSGXImAQSh+xpRJVW3d5X4Dei1xCO1HdNUXs/Y6LPu/zytT4/GOIfNoz+6BbDOOdAGIcsoF6X1/d6jgVJ/38KTmVNOybC76d88l6jo7dq7KqEGjQ+Cxqw9UU5W09hv3jjJKQ3kAVhP0dQcBI4sNs3PSwh31kEYB7HEgw7PjzqNIWnLgiu5lrBSGVVZEX3BNBLGldJCS67ARY2qpkUb7gL48RcAYCS3zEjBZ0iSjbb35xViVGCoj3FqUyUEjmpfQ3Qs1Mg8NQMAUz5mOEF32ICKS+jcMchJO1uuY3Qd8GAhiPv6oiW0r+1QjYEDMITpKWXj23OxzVcttkvcZYnY8d9VnsYDQ8oXbj50IGKTuQfhaLs1KZacxCv0ZpNadvx0rLo60rPaVowkYI+FtfJT4tpG+Boy71mu3fux8HrMbVnadjyBg7LozNpyXnW949kXWhvD5xJSUf/TlUForE4cgYcG+S1Wbyi488o+eJmDwcog/6FDbt1KAybjVJ2jUcvU8bp4+8SUWdq54cfZ2YfUC5EMjr12tpwiYQlmiHSCURWn3yuJ0+PJ9avCT+h4ijQKpA+xLIb54wer4/Up5KHiIuii02n6YSfdB+386VqJSucwRMDIRxo6vRcB8EhLALQTNvrx74vkoj1GT0QCR08FevHhJdX5Y75RmJq/XFQIGorRw3Thy5b5TaqFWv2qpDtDFYK8pNQJGFllmxbhxQMNBzerBTIuAwRfjzgqrZKQzHR5UT4LOaCzWkQxffPWELLUIWoylJujrKgEDQVTYIUOPxOjaRzRKrSLRETBqxYjsZKP0eJ+9rAbQqHdKEIh8ZTHaB9TldUEyGwGDeytk5BpJY0Wt6B3eQe5BeNovSUL6vW0ZyyktGBeis4gsgNAuIjv0ihZppCZwzLtPaveD2scfHOoHLop1FWP7R1TGqRuPHFKEV3YPcdLD4dlzM3NHXUR2IUVJGQUztmUJalpKXQvNbP+eqs9iARHm0zcfOhEwcD1S2se/XToHjW4RS9axEZSy3hbmPSzsCP2mY34gCBihAeOp69sb/QoCxhsox5MxBAETTzZSZxnKFzcjBXo9NCDIF9A7TLVK8iSJ6Mjg6MMEiqcJGNj3flAlL9UZu97SBgKTCWtP0ohwxzQDM53BFarDtJ2057z3CRjWPadGocw0uX052n3+DjUzcCzAGj1FwEAYEvoEyvJbm2Cq80rzgcVXzYlJrgNyoleDIrqHU6PDmnK8T6oF0MR1/K5XiKQokTOd1AXvOMpUD+XYWu3ZVBG96489gI1Zfox+Wm3sxqLXJ9JjkFKUMEECGv1OCWpSKlqrp/rINXRWYY/cNbQAdQ0tKP2GL9rFBqjbTLtKwCCtTw1vrX5xmP9wqqOl8vJuIU7PBTUCRk4xYyMaYDE777NKhqSIFq5aBEzYgSuSZpRckiVOSMeG1Jf+s++/B2j61mghYKRXjmnh7GYydsVx+nHVCQLJ+deH5WjGtvP0y9qTlD5FUsliWVmgK6F06lFGZvEQMGwKgd41BOes8a20XaHgAIb0DLnoPQ947jU1ZyKe53avBfvp7+0XYqpCy6P0K4JV/keew/jwpUcMnyOyPbTeM0CNULly7wnN23lRSnP5SsXJS2+dj589l+5jtegfHnys1NFy59Ij3XnGeWvcRofU3hND61OBPo4ff1gB7vQpktCjZ1GS0xW0Vtb0qC4RSc1/3SwRIfJ9zY7Ps+c8c2brgEiGQyKi+rKk8aPAbGmsdOPVNhWGraKr9yNixsS9duL6AycCpn7RrLT0YKx72TvBOWjkO7EEjFKLDrbaO/uGUhq/JFK/tx4+pcrfr5YEsUEYIoVL+c4g6415deE2GczO5zGbQGT7aQgCxvZbZJ8J2vmGDx68QrKOFMU1BJQveu0mb5dU760UtUOM3A/+kB4dHH2YQPE0AfO/crnowyp5KHSMeQIGL2dnhr9JZi2WWczgCvXh1B1xQsDgkKa0I8UL0S+tg6VoHHx5MyryNaF0u5H7ULY1S1KpETBKzQd2XhAxxGFPrXxcNS/1eTPQbQQMXJXMaP7AlrNo9rTS1HgJGN6XfHm97EEZ/44XVhwi2MIe2BAV0fqPbS6JQKNPhJjjnsiRPtYGlQ0hV9qI6uHhCgGTM0Ny2tDTHAEDW1lgoCwruoVQbYaYxbyqjVxD5xSkEuoVyJLaSYxbJit6LThASMlAgWPR1t61jG4r6Xf279b3bxcjpCAtO3SVPpm2K6aPxAkT0MlhDaT/xuEZ5CCIChCFqV8dVtgBn0e9kA7ZykiTi3ceU5Xv1zhUZa8rEIkgFFHUSFr22nInAcPq9hgdzptO2OTwTK0dmIVWKDQj1IRxeTbm6r0I6dmIAyacbP76oJyk16EsPIdxNmKKHRsCq3+0K+s0JZ6+5UZsxBP+3Y7pKyAZ2ChUfIzZ1S80RiCYZ2/YOogg6fDXLkmkFmlQ+NvEfvyBvfuQJY5C9BBWhiMW9lcWtgXJD80Q2HWrkVNm9sXKWnypDazG8ZEOf39alslJ3zcvrqrTVDcoCy07FKvjwqarIZoL+kvbztwivKsBe2WBm9a64zcppEAm6v/fIdpyOtatShAwIgLGl+4Zdq6CgPHl3fPy3AUB42XA42A45YvbB1N20Oqj2gr0etPTI2CUX3PRBzQYYI/oqdKqPAiYvFRT4XzBO1aSRAnoxNAGNGnDaYcXON72cr29/UHA7CQIyXq7sCK8coTCgYv3qNE4Y1FL+ZrYcuoWfbvwIKVLnpQQkp8rY+whHGsyS8AEvpGGDl+57wCHrLWhhhEO/1VHOB4e5Xryi5jeCzIvMYI+1YRV9fZtSZcqFJTNHAEDZ5K5n0a7zSjLoEWH6c9NsToj8m9qpBDCtfv8c9CpD7UDGA7sT59H0fdLj9LULXxOPsqOtQ51Vb5f7ZAKobQRRXst3F0hYCCeur5nDWl6WnvO/rua4C6brtClZn7qXqeQg0MYRKvDulSRDuByZImMi+xkBbcZkDAQgoeLB69TiRYBs+rINadoHXccqi/ffUKVvlvtcL0gZexnRXSUkoDBIevd37Y61GfnwUZA6d0nRhEwhfoupacKQlFPEwrjIC3xvUlb6e7jSMIzACkJiBxCdAiiHrQc1XiewfcjIgl4FfBPrWr7y3MYN0qhYKMB5Hnx9C3XffT0uZPmiTuuFR6MzNRRi2Cc3L4s1WAO3Gb61KrL4te7QWEaFharTxaQOSWt7lHd9FBm9sV05z7Y4Pytx3TjYYQUHYbno5pQNkuKIiL5u7eLW1ptz3n7JAcpuWhpSVnq3Mca2fk85mNQxtl0BQETZ9D73sB2vuE9ITLpezvk+oyVL24fTtlBqzxAwOCrPcJV5YJIjO6z99Lpm49cX4BKD20q5KaPqualaiPVoyf0BpWjdf7ceIYGLdbOITeaOJwZgOdOLxMwIF/aVMwtrR0h1hCdxMEVIb48riKQaTg9/E2j5Um/myVgYKWKsGtlmfpBOaqm4VKAr9IVhq9SnYvshuAuAob9YmoEwNIvqhIO6iiwKYagpFGR9UPYeviiiD4g+Kos3UILOglBz/y4PD16GkUf/+WYWqN3APv2v4NuJWAqf7eaLt2N1aIAdh9VjbYRRfEEAYN7Gk5DKA1+3BBD5MFxA05aauPO/6yiqqPPP3su0tgVJwiuXNAmSJciqdQe5MPxaw+ocYnslDZFdEg8oqLgiCYXXMNLulQ12mrN37UImLXHrlO7yTsc2rnjUA2iqPwwx3sIpJMyPU3pzgXhZvxtlYssdq2cmDsJmKD+4VJqiFzU7J9ZMBEBgmcbSwhb3hTOhjyHcSPxdujKgMxmC0/fchuQqoX6Ogreu+Na4YSBuxpr/42Gnponi9+f7crQB1Nin5HvV8xNAxtHPz/MlC/n7qN5u6IJgP+Vy0nDm1kjEsyM6Ut1WYIXH1laVcjl8JGA557WWjM+wiDiDrbd0BJEpKFWBKAv4WZlrnY+j1lZz+vYRhAwr+OuW1yznW94QcBY3FSmmfKF6KOpO2nlEW0LQL0R9SJgkiZKSMeHxhIw6AeuFHl7qWvGuLoyvGzhQKgVPaHXv+zYNHXzWfp24SHLU4HrU/vJ22nHWe9FwMB9YFjTYpQ2eRLpS+6Os7epfN6MMdaYR6/ep3o/6AsTK1MfjBZvloApmj0NHbzkSMAgTaRKgUyqQyG6AG5nasXdBMygxkFSuDNb4L6D1I47jyMdfoKWSMEsqaV/w+9waxm+VN8RqkJABprVoaImrMqUL1T6sk5BJyFoRHU8fPrcVLSEuwmYisNX0ZV7sVoAShcLzFuNgMmXOSWtevUF+pNpOx1C1I2uMzi3LOpchfxT+0lVEck1cNEhSp40kXS958wQHZnFjgvHKTblzuwBcPyakw6W00ijC+8aYjRlzd+1NGA2nrjplC5ldq5qg9548JTKDnW8h9jIKjmqR24PdzOIkAdlT0sTWwdT+pTRBJVc3EnAFBuwjB5EPI/p+4eWJWO0hiyD7KGGyvtT6zkJDYtyw1bF6Nrk90/lIErNCpLKUzVDwCCyDdo5yuKOa8XdsJ2+8dApCtVT81S+u0C7CikyTSZskrRi/FMno8VdYp8fZtaJZy3SkZGM9km1fJQyWWIzzV+LunLkND5eQaAcfxdbTtxC+y7eI7gR4qOBkWCzHlDQEoJuDOzp82VO9VpgqrZIO5/HXttNMblwQcCYBOx1rm7nG551LXid98mVtStfiPBVXZlPb6ZfPQJGTuth+zOTImJmLjicdwgJcAq95+kD5AWiV3ijGrT6PDyorpSnvvHkTZ5hXa6Dl07kU+sVfN03EiZWI8u0BPfP0AAAIABJREFU+jRLwBTLntZJk2TmR+WpUn51AkZN60CeS9uKuWlQ46Ju04CBMGZflSiWgEwpaVaHCtKhSlnUHDN+X3+ahobF6g6wuMH6dObHFTS3qO7Y9Q4uUT3rFXISgp73aUXpwNp+Cn+0hLsJmHJDVzoIuw5uHERtKuaJWZfafa10jUIYe/c5ew2jw76uV5gq5stIeTOmjIlI0bu+2XEXdarilHJn9gD467pTkrONXHCgXtm9muX7VYuAYclGtcgTK4OyES3o44taBSTBXrngvgTBxVtYvRy9dkYpSCUHLZfSieSi5j7EOy9P19t/8S59Nn03PYmMkkSpaxR21K6Qx9986iYt3n9FiuxbuPeyg3W2loiyGQIG45it72ls1PpX0/Aye//xzvvJsyiat+sCgTCvG5RVSo9BpBAIf5C/cpQbb3+iHj8C+ACx7cxtypk+RUxUWmTUC7r18Jm0H4lU3M/4exc1ZQTsfB4Tu8SHgCBg+HAStYjIzje8IGDcc4kqX4jMfplWzkCPgNH6WugpAgbaACBgtNJX9JCDK8GufrVp5rbzkgOM1QKtCRAeb40zFr21OoayHQ8Bc/L6Qwods053ODZdTK8yGx1gtA58accXSWUBuVEhIKNqUzWtA7mifKBXai58VCUv9W0YGNOXmesL+EHTgy1y5AbbFyyR2a9xRsLNlfNnpBkfaRMw2BvskVygraI8/OPf4c6C9Iv2JtJV+v93kP4yqQGDaCrocagVRCWBMJALolDgvCUXFitltJCyv9aTtukSlP0bBkpuZryFHVfLcpq3P9Sbs+MC9Zy/P6YJBDynfVjeTBcOdbUIGFTC/QRipGi2NJJdcMZUySyPIzeEUGnJQbEpRfh3loBBZNrizvxpVe4kYL6et59m74x1H0LaWHDuDC6v2y4dfD5zNy3ZfyVmOs1KZacxLZ1drMwSKmbrxwUeZ28+ouqMiLqnCJi4WJ8YUyDgTQTsfB7zJg6+PJYgYHx597w8dzvf8OyXMy9DE2+GU74QfTZ9l4N9oJlF6hEw+AJy6pWjh7JPMwdkM3MBAfNp9QAqN1RdP0SvL6Q7bOsdSrN3nKev51snYKB5g8gf2MGqRVaYWQ9PXfYQrNZGz1VIrs86VumNbZaAgdYEwpKVRbb7VRtHTesgU6pk1LRUNurdoIj0lRPh+PN3R+fo43CjDHU2c33BjUZtv+WIB7avtV9WpzyZUjpMG6kbsC3WKlXyZ6LpH2kf3muOWuugiwRxVzaiBm41d59E0vt/bncYRu9gw0vAQNBUdljqVrsgAWu1wuqYjGhenFqUyRlTlcUKgtRqX6CNXNdcJWC0HI947ie5TkRklJTCg6gjmOIs6VzVJctYPQLGzLx460JYtjhjCw5R7h9WxkbAuErAQGRdKaSrnBtS5vQEiqHzBFthWGUjQmzGR+Wd3Id412rHep1m7paiYeTStFR2GqtCwAT2D6fHr7RwUidLTAcG1tVdjvJjyYi3i1OLsrH3n11wOHfrkZMOmyBg7LI7Yh6+hoCdz2O+hmVczVcQMHGFvA+Oa+cbXhAw7rmglC9EHWfsorADVw07RkQLRNGURY+Aka2d2Y7NHJANJ6WogIMkrFaDNfRD9PrKltaPNveqRXN3XqCv5sV++TYzPuqeHFo/hgzw1DqVc+IhYJD6ETJS3VVI7gs2oUcG1+NarlmnKFj4QoBZWfS+eMOukrUXBZHHG9JsBveRzYur7nfBLKloebdqTiH/67+q4SQCakRIGUVPQHdj1PJYwVdEuzSbsNkBL9hf33n8jNr84X4ChvdwxEYfIh3j7eAcMfNkcd/Xv45qCtFHU3fQyiParmtwtYGbGW8ZEX6UJqw9FVP9yKB61OffAzGW7Fr6G0b9Q0wUqSTlAzJQpXzq6XJGfci/e5uAUYsig2hx57/3xEzZrEApGwEDV6VVR65LwshIDUyRNDGFH7xCdYKyElxLWDtnFitEdEFsE/o6rmhF8O6BN+sB50X7LscM2aRkNvrh3WjRaGVZf/wGIVoGWiMTWgVr6mLJbUAM/rvnkpTiUatIFm8uiXssNv0tb6aUtOZL805E3AOKigKBeIyAnc9j8Rh2ty5NEDBuhTN+d2bnG77EwOVSKL4oriGgPHSx4dJaPadImijma51cR4+AQR21w52ZA7KZVYKAQZg9G3rP00fODMlpQ8+atGD3Reo+Zx9PE9U6p4c1oISvcp89tU7lwDwEjJ6ts9wXnAYODeIjYJDegHQUlozTAq1UrnS057wjAaPUBlFrx2J3ZngDwwOd3I8Z3EEi9JjrvN+y6Crb14aeNWLEX+XxZmw7p2oRLf8uWx5r4YPnGdJyDly6R2+VyEZwj2DHhfsScutb/7HNoRt3RMDwEjDss3dsyxLUtJR5AgbOUdBa0iqsu5LRzQgB1K6z99KJaw+pe52CUlQOdIR+Wh0d7dGlZgEuLRmjcVz53dsEDA7qhfs5OuaAHK77w3o6deMRpU+RhJZ1DSH/NNECxzyFJWAgwty2YnT0FISRRYlFoMvfe2ihgoBpXDIb/ahCwKAFCGcU+e9GfMBRjtSBthjEWMvkiT/pZfFhf8QafAcBO5/HfAfFuJ2pIGDiFn+fGt3ON7wgYNxzKSkPXWy4tNYIsDZWCieinp0IGIjw4gDGht7zICZ/pftv7yX6YtZeniaqdZS4miECrA7IQ8CwlpFqY/GEvyvb4cstbDqRhjD3lV2n1hpK50pHuxkCZmGnylQ8RzrNZbuidWAGd7iv4PDOFlhNg/Rg+9r8TU3Kli65Q3UIQUKg9sHT5wTuDcKmHWfspnO3HktOHCu6VTMkACBoCFveNH6JJaJJTU8FzjatJvETMLwivLwEDOtc8+O7JalxyewxWLAuSYhEUTuYwyIZltZaBB5SsD4OibW3tnpv2Kndu79toa2nb8dMaWKbYEk01FNFy7IYkTE7z92hIm+kjnGX4p1DyIg1dP7245jqrAsWbz+vQ70vZu2h//bGRsDIxOrrsHasEc+zLadvUfZ0ySngNXaweV32W6zTcwjY+TzmuVXHr54FARO/9tOjq7HzDV98wDK6r7Cv9CgQ8bhz5aGL/VqntWwcJpGzryx2I2C+rFuIin67zPTOFfBPRSu6V5PCxpVh+mY78jYBM7RpUWpVPrfuNHHgLc+4+bANUvslpgMD9PUH1AbZde4Ovf2LY7oMWy84d3pCPWVBSk3R7Gk15+0tAgYkghrhFvhGGgpTIWC29qoVY++tnDzSVZYeuCLpXpTNk4EeRERKtskgclg7X55ril0/HHigm2EmAsbdBExQ/3CJJJILInVwsJTLttO3qM2f26WICC3XF7nuvgt3qfF4daHq3g0KU4eQfDww+UydI1fuU8OfN0raRVnT+NHGr2t4NO0GB+D8fZY6PatdAYwlYAY0CqR2lflTxVwZ29fasiLDzYNzEJyeRBEICAQEAmYQsPN5zMw6Xue6goB5nXff5NrtfMMLAsbkZmpUVxIFXWftoX8VX+u0RsDXrEt3nzi91OtFHHgzBQkRMLCwLdLfMfSeBzE55STswBUpesFqsSMBg8gJCIrqFdmG2+y6oe3SROMgLfdVJnd6J+thONUEZkujOZy3CBjoYkBolXW+kgVK2Xls713LVNqGWTzl+uy40FC4dOdJnBIwRfqFS1a8chn3XilqWDyWgMG/Q2/o2oMICs6V3jClQuu5Af2QT6rFLwIG2OBe2Xv+DtUv9gZlMZH6Y+UaevnyJeXtFeb0rLbSl9xm+tZzDsLiIAUhVi2KMwKs7hbuX0RZiiIQEAgIBMwgYOfzmJl1vM51BQHzOu++ybXb+YZnw+BNLk1Uf4WAkijoNnsv/bPnkiE2eIGEo46y2CkCBqKSvd8sQoX6midggrKloSVdqlL4wav06fRdhlhoVfA2AbPuq+qUO6P+iz00MoyEiZFetrd/HdPrRpRHo3EbdduVzZOedpx1jICB/kShrKk123mLgJnQqjQ1KPYGdZ+9lxYo7gFYZy/sVMUpFWhn31BNlyDT4Ok0YNcP8d9ztx+ZEuHliYDpWa8Qdayen2vqhfoudXC9+aVVaYlMsFq0CBjYcH8aDwkYqzhZbefKPaQ2JlLtuszaQ1sR6VQhN/WsV9jq1F6Ldov3X5b+nkCUWBkp9losXixSICAQcAsCdj6PuWWBr0EngoB5DTbZXUu08w0vCBj37LKSKOg+Z2+MY4he74WypKZj1x7EKQEDR5kNJ26qThNOHLCwZUPveRCDVfJ/narQisPX6OO/dvI0Ua3jaQIGkTp5MqakHWdvSwKYX4QWMJwrRHONhIkzpExKu/vVNuyLrXDw0j0ptUKvlMubgbafidW/QN2V3UMov3/cEzC/ti5N9Yq+QWNWHKefVsVa9MrXA3uIBUbAytOFHRcpKyA/zbggGREw4V2rUuGs2lFI7BoL9llKz6JexPzzr62DqV5R6zomWgSMGVLI0/vgy/1/OGUHrToa7TbFOlb58rrE3AUCAgGBwOuCgJ3PY6/LHri6TkHAuIrga9Tezjd8sW+XSWKXoriGgJIo6DFnH83ffdGww2LZ00pOLcpiJQImX+8wSQvBbMmTMQWt/aqGU1SC3A++yg58K8jJwphnHOiUzP+sEq0+eo0+mOJ9AubLOgUdrIjV5ozIgHfL5qR0KcwRAPcjIg2FiTOlSko7+5onYKBtUf/HDboQl8+bgbYxBMyqHtUon444oytf782I8P7WJlj6Qj16+TH6efXJmHXAOvvfzys7XWt7+9c2jT/P9cfWYdewpVdNOnn9oVsJGF7xXXlu+XuHOQjnuiokq7VPX9UtRJ/X4IvKsYLt69IGESuIbMyaNhnVLGxPy+LXZS/EOgUCAgGBgBUE7Hwes7Ke17GNIGBex123uGY73/CCgLG4qUwz5eHrq7n7DJ1s0FxNTNUKAWNVZ4WHgBncpKgmQaOHHKI05nxSkdYeu07tJu+wDLISVzPRWnDXufnwKb01Tl2YFBMye2CWFwHnkyADYeJMqZIR0mvMlmNXH0jWtnqlQkAGBwcY1F37ZXXKo6OJ4C0CZlLbMhQamIVGLTtG49bEEjCwzv6nozMBs39AHUrjl8QsTKbrq2nPHL36gNr+ud2hL71rwigCxuz1FNBrCSl509/blqHagdYP9loEDMjITjWNI7tMgyoaCAQEAgIBgYBAwIcQsPN5zIdgjNOpCgImTuH3rcHtfMPD4eZhPImAwZfekcuOxcnFoTx8sY4NWhNSO0hbIWAQ/TJpw2kpmmbx/ivc6zciYFpXyEVDmhSzRMBUypeRZn5cgTacuOEUZcA9QYYkQV+fTd8tRfsoxUvV+pPddeAMA4cYtWL2wCz3gS/hRsLEcLja3sc8AXPy+gMKHaNPwFQMyChZkioLNE1yZUyhCa23CJjJ7cpSjcL+NCL8KE1YeypmPnJEFDuPgwPrUqpkic1cEpbqsuOCHDt0+T69b4KA6f/fQfpryznN8c1eT+yc/ni/DNUqIggYSxssGgkEBAICAYGAQMAAATufx8Tm8SEgCBg+nEQtIrLzDR+fCBg49nwffjROrjnl4eub+ftp1o4LhvMIKZiZ1h+/4VDPCgGj7KD6yDV09tZjw7FRwYiAaVU+Fw1tao2AgbbMtA/L0+aTN+m9Sdu45sNDkjx9HkUvXxIV7qcvDLytdy3JGQWWzqxlszyO2QOz3A5zMBImzpImGW3rbZ6AOX3jIdUcvU4XL5Bbm085EjAbetagnBninoCZ0r4sVS/kT0v2X6HPZ8a6X3WpmZ+61ynkROYdHlSXUiT1PgGzp19t2n/pnq0IGJm8snqzaEXA9KhdkDrXEhEwVnEV7QQCAgGBgEAgfiBg5/NY/EDY86sQBIznMY43I9j5hg/qH06PnsVaofoy6L0bFKZhYXFPwPRacID+3n7eEMrQIv608ki0qKOSFDBrQ61sX2PUWidnJa2JwIUJdp5a47lCwNQolJkmty8nOXy8+9tWpylkTp2MYOeMkjRRQuoQEkCzd16I+TcjksRIl2R7n1rkn9qPWvy6hbafdRSsNerbaOOeR70wFCZ+I60fbelVy6grp9/P3nxE1Uet1W1XJX8m2njSUTjZLgTMtA/LUdUCmQkYNZmwiQ5euk85MySnxZ2qUtoUSZyutaOD65FfkkSmcTLbgL1e9n1bh/acv+OUHmc1BWlsyxLUtFQOU9Ni5ySTV6Y6UVTWuie6hRbkEpe2Oq5oJxAQCAgEBAICAV9AwM7nMV/Azw5zFASMHXbBR+Zg5xs+PhEwfd8sQkOWHImTq0J5cOv9zwGauc2YgGlQLCuFHbjqMF9XI2DcScC8Vz4XDbMYAVO/aFb6pXWw5C70zq9bnPakWensFJQtLW0/c4v+Vy6XFDWhZu+sdSA2ImBke+OWE7c4Cda6SsC8fPmS8vYK073OsqdLTpu+qWn6Wrxw+zFVHbFGt52acxVcfXKk904EDA70Y1ceV53jjI/KU+X8maTfECl04tpDSZtGTjNi9+34kPqUNHFC0ziZbaCW+rTz7G2XCJhECRMQyLDAbGkImJhdBzsnmbwyuza5vtY90TW0AHUNLWi1W9FOICAQEAgIBAQC8QIBO5/H4gXAXliEIGC8AHJ8GcLON3xg/3B67AMRMLALhmimXrELAdP33wM0fasxAdOkZDb6d+9ltxIwNUevpdM3HnHdOkYRMCBGhjezloK0olsIFciSWkr/QRoQW1qWyUnfNy/u8M93Hj2jUoNXOOGhthgjAka2N37v961O6TquEjBoP3HdKfou/ChlTJmMRjQv5uT0ZJWAuXT3CVX+brWtCZhTwxrQvF0XpOfGwEWHHeb698cVqGK+jJrzZ/ft5ND6lDiR9wmYI4Pq0bYzt1wiYKoVzExTPyjHda/xXMNK8spKpyEj1tD5287ph11qFaDutQUBYwVT0UYgIBAQCAgE4g8Cdj6PxR+UPbsSQcB4Ft941budb3hfIWAalchGi/Y5khXsRdKvYSANXux4IPTWhaSM1DAS65Tn1KJMDpqz09Gu2tUImFqj19KpOCZgRjYvTu+UySktc++Fu9RkvLMTkUzuKPfn3pNIKjFwuVsIGNneuM0f22jDCcd0HXcQMOgD802WOKGUQjNl0xkaoCAjkHazoaf5CBgeAkZNOwjRNiB9tEreXksk7Rwra9cT8GV/m92hApUP4CdgzgxvQAkSJPD4bcrO89iQehIx155x6DKTguRuAmbmx+WpUr7o6CErZff5O9Thr5108+Ezh+ay/o6VPkUbgYBAQCAgEBAIxBcE7Hweiy8Ye3odgoDxNMLxqH873/BF+oXrOsrgbKQ8uMXVtqhFi7Bz6d8wkAbZgIAxsquV5w2NlRlMqhIOgPl6h0lOP2rFSDg2dMw6Onn9Idc2GUfA5KThzYqbdkFSzvHAxXvUaNxGp/nIDkvKHx5ERFKxAe4hYKDxkTZ5EslmmBU6tkJCGAE6edMZh2iQXBlS0PqeNYyaOf3Ok4JUvVBmWnvMUbzZiIBZc/Q6fTJ9Fz17/oKgldQhJB/33MwQMPM+rUhl8mTQ7NsVNybuCatUVIu8ATHXfoqjRbo3CRg2VVF27nJlnUiPazJhs4PzV+ea+alHnUKudCvaCgQEAgIBgYBAwOcRsPN5zOfB9dICBAHjJaDjwzB2vuGNCBgIpD6LehHn2/B26Rw0f7djtAg7qQGNAh2iELw5aeXBbcDCQzRl81nD4dtXzkOTNznWQz8F+oRRZJQ1Aqb2mHV0gpOACciUklbriPC+WzYnffe2awTMocv36M2fnAmYdpXy0IC3ghwwevT0OQV9u8zh36xqwBwYUIdS+yWRUoWGL1UXZjYisww3UFHhj41nHKKvZIcpM32gLo8ILwSOETWy+misgPOhgXUppYGd87X7ERQRGUW5M6Y0NS0zBMz8zyoRLKe1il0IGETegMSKSwIG+9Fq0jaJMIUIde8GRUzti1blphM20Z7zsdbrnWrkpy/rCgLGLeCKTgQCAgGBgEDAZxGw83nMZ0H18sQFAeNlwH15ODvf8IX7LaWISG2CBSkWT5/HPQEDzRC45OiVgW8F0bcLD8XJpaI8zA9cdMiJWFGb1CfVAmjiutNOhEOhvks1MTciDeqMXUfHr/FFwBgRMLJOi5HeCrs25RyPXr1P9X7Y4LT8Dyrnpf6NAh3+HeQAay9tlYCRCYnHz55To583qqZlGWFp5kKatOG0gwC0jK2ZPlD39qNnVJrRwWH7qFnYn5Bu13rSNkLKkqc1PswQMP90rESlctmfgMHeIyrIDAHD7jEI1G8bOZKIZvcbblEguN1pxc1ar3esno961itsdmqivkBAICAQEAgIBOIVAnY+j8UroD24GEHAeBDc+Na1nW94IwLGL0lCXYLGW3sFzRAja+dBjYOo/39xT8BAhwYREUYF2gw/rT7pRMDoRSUZkQZ1x66nY9f0xYrlAb1BwJy49oBqj13vBIXaF3+45hTqG+6EhxqORqQQRFaTJ422Nwaxc/DSPWrOuDEZYWm0f8rff19/moaGxTpw5cucklb1qG6mi5i63WbvpX/2XKLUyRLTiObF6bMZux36qVXYn/5oV1ZyGQJ5ilQrTxYzBMzCTpWpeI50mtOxSwQM9n710WtO4sl61wQitKp8v5ruPI6UXJ1g4Q47dbuVzn/vcdDL6tOgCH0cEmC3aYr5CAQEAgIBgYBAwKsI2Pk85lUgfHgwQcD48OZ5e+p2vuH1oi2Ak10ImDYVctO0red0t25w4yDqZwMCZuiSw/T7BmMCpkftgjR6haOdLw6ARb9dRg+fPlddqxFpUO+H9YZuUbwEDESCRzQv4ZIGzKkbD6nW6HVOa/m0Wj76pr7jV/nIqBdUoM9StxAwRwfXk8Rx5QI8gauyGGFp5jnBpjrl909FK7tXM9NFTF3oeBy6fJ/80yQj/9R+1GvBAQfyMbSIP016v6ylvq00MkPALO5chYpmT+sTBAzrugUXtY+q6hMVV+9F0KaTN6lsngyUK6O27bcVnN3VBmlscEODjFTyJIloe59aUjqeKAIBgYBAQCAgEHidEbDzeex13hczaxcEjBm0XvO6dr7hjQgYvMA/iYyK8x2EZoiRrsqQJkWp778H42SuysP8sLAj9Nt6x9QitUmBgPiO0SdBP8UGLKMHEdYImPo/bqAjV+5zYRCQOSWt7lFdk2B5JzgHjXzHNQJGS9Pk8xr56Ku6jgTMixcvKaB3GBdJYhQBc3xIfUqaONbe+MmzKCrSny+6hgs8ptKvsKVW7GUB/1S0wiIBw47fa8F++nt7bPpdaJEsNOn9MlamaamNklxix2b3IaxLVQrMlsZ2BMy41Sdo1PJosrNsnvQ099NK0v+fvvUcTVx/iopnTydFGxnp6FgCMA4awf5988mbVLdoViqYJXUczEAMKRAQCAgEBAICAXshYOfzmL2Qsu9sBAFj372x3czsfMMX7LtUckbRKimSJqLHz+KegPmwSl7DtJ6hTYtSn3/inoAZvvSIk7aLGr5qttkgYEoOWk53H0eqbolR1EaDHzfQYRsRMFquPmrWuIj8yNvLPQTMyaH1KXGiWALGTHqTlQfIhLUnaUT4sZimhbKkpmXdQqx05dTmm/n7adaOWAKmTmAW+q2t9wgYEGNzdl6QUm/aVMwtpd/IhSVgwrtWpcJZ7UfAYP+ht3Tr4VP6rHp+yprWzy17IzoRCAgEBAICAYGAQMA3ELDzecw3EIz7WQoCJu73wGdmYOcb3oiASZk0ET2yAQHzSUgATTSIKhnWtBjB2jUuipIYQSQEIiKMipprE/qBCCvEWNWKEQHz5k8bpPQVnmIUAdM8OAeNcjECBiKxlb9b7TSdBR0rUWkVsVZejRCjCJjTwxpQwoQJYsaF2Gl+zvQmHuzYOuPXnKSRy2IJmMJZU1N4V/cQMD3n7aM5O2MdwOoGZaGJbbxHwOjhwe7Dim4hVEAn4oJ3f63sgWgjEBAICAQEAgIBgYBAQAsBO5/HxK7xISAIGD6cRC0isvMNX7DPUl2baXzthpMM9ATissDJY8JafVLDLgTMiPCjhnMFlmqaNSBYygxZSTcfPrVEwDT8eQMdvMRHwMhCsVpkBqy/R7dwLQUJmhkVhq9yWMt75XMR9kqt8B7QjQgY2AzDqlkuZtKbrFznyhQXtA98Iw2FfVHVSldObb6au4/m7oolYOoFZaVf2wS7pW9XO2H3Abo30L/RKrz76+q8RHuBgEBAICAQEAgIBAQCSgTsfB4TO8WHgCBg+HAStXycgIETCzRgnscxA9O5Zn76mXEMYi+u4c2KSYKlcVGUkSmjlh2jcWsc3Y3U5qSmWYN+yg9bSdfuWyNgYLl84NI9Lgi8QcBcfxBB5YY6EjB6UTy8B3QjAkZtDN6+ucBjKv206gSNUQgqB2VLQ0u6uIeA+XLuPpqnIGDqF81Kv7S2JwEDZ6C8mVJqQvjWuI20/2Ls9WkU0WVlL0QbgYBAQCAgEBAICAQEAiwCgoDx/WtCEDC+v4deW4Gdb/gCfcIoMko7vCW1X2J6GvlCN0rGG0B2DS1AP6w8oTuUXQiY0cuPGZJFWIhaxA4OpBWHr6Ir9yJU12p0YG08biPtUxxw9QAzImCalc5OY1qUNOWCxGq7QHMjeMhKh2nYgYBxxSZaDdMfV56gsStjHa2KZU9LizpXccut0WPOPpq/OzYC5s1ib9D4VqXd0rernbCk1rqvqlPujNoEzOHL9+mT6TslkekRbxenOkFZXZ2CaC8QEAgIBAQCAgGBgEDAEAE7n8cMJy8qSAgIAkZcCNwI2PmGNyJg0vglljQd4KoRl0XNspmdjx4Bs713Ler9z0FaeeSaR5ahJBUQCYGICKPyXbNi9A0TsYN+oJkC7RS1YkjAjN9E+y7cNRpa+t2QgCmVnca05CdgENHzbtmcDuK3dx8/o5KDVtiCgJGditImT0JT2pelUiqqrbWaAAAgAElEQVQaNFzAqVQau+I4/ajY8+I50tLCTu4hYLrP2UsLdl+KGfXN4m/Q+PfsScBs6FmDcmawpz2z1b0V7QQCAgGBgEBAICAQ8H0E7Hwe8310vbMCQcB4B+d4MYqdb/j8vcN004twWJ39SQVqPG4TPdVxS/L0RvWsV8jBZUZtPD0CBsRFh7920vLDnidg2MO4FjaIANhx9naMvkefBkXo45AAqjpiNV24HfcETNNS2Wlsy5LECsyqradiQEb6u0MFp5/uR0RS8QHLbUHAYBLQ1kmWOCGl9kvi1kt2zPJj9JMiRa5EznT03+eV3TJG99l7acGeWAKmYfE3aJwgYNyCrehEICAQEAgIBAQCAoHXAwE7n8dejx1wfZWCgHEdw9emBzvf8Pl6h1GUjr4LCJh939ahnWdvSy5ESRIloLADV72+d70bFKZhYUd1x1WLKJEbgID5ZNpOWnbI8wQMm46iNemRzYtT45LZ6d89lyiVX2KCtgeEY6uPXENnbz1WbWYUAdNk/CbayxkBA7FUiKZq6anIBAzsoVcfvS4RdZ9M26U6rwoBGWhWh4pOvz16+pyCvl3mVQLG2zbNWBybdlYqVzr6p6N7CJius/bQv3svx2DYqEQ2+vl/pbx+D6oNyF47G7+uQTnSiwgYW2yOmIRAQCAgEBAICAQEAjEI2Pk8JraJDwFBwPDhJGrZXITXiIBJlyIJ7e1fJ2Yfz9x8RDVGrfX6vvZ9swgNWXLEJwiYn1edoNEKQVatSY9pUYKalc7h9HPNUWvp9M1HlgiYphM20Z7zfClIRgTM/M8qUXDu9A7z0CJryufNQLM/cSZgIiKjqHC/cI8TMKFF/MkvSSKqmC8jwb0J/9+bRU5vksfEfCa9X9YtU/hi1h76T0HAvFUiG/0kCBi3YCs6EQgIBAQCAgGBgEDg9UBAEDC+v8+CgPH9PfTaCux8wwf0WqJrMZ0+RRLaoyBgzt58RNU5CRi4AL90k331gEaBNGDRYZcImE+n7aLwQ56J3lFGprCWxFqT/qFlSWpSKrvTz6Fj1tHJ6w8tETDNJmyi3S4SMJlTJ6MWZXLQl3UKOVg5Y0JaBEy5vBlojgoB8+z5CyrYd6nHCZh9/etQ2hTuTSsy84C49ySSyg5dSVgvyvJuIVQwS2ozXWjW7fL3Hlq4LzYCpnHJbPTju/aMgNn0TU3Kni65W9YtOhEICAQEAgIBgYBAQCDgLgTsfB5z1xrjez+CgInvO+zG9dn5hjciYDKkTEq7+9WOQePcrUdUbSRfBEyihAl005vMQDy4SVHq9+9BlwiYz6bvoqUHPU/A8GimYCE/vltSSkFiS52x6+j4NWsETPNfNtNOTsFkrQiY/QPqUBoNjRRNAiZPBprzqXMEDNLbEGWlLHppVMoInv+Vy0nDmxVX3XN2HnpzNnOduVIXqV+L912mKgUyUfVC/q505dC28997aJGCgJFTw9w2gAsdsfsgCBgXwBRNBQICAYGAQEAgIBDwGAJ2Po95bNHxrGNBwMSzDfXkcux8w+fttUQ3SiVjyqS0yyIBkzhhAl2BXzOYq1k2s+2NNGA+n7Gblhy4YmZY7rpKUmHC2pOGgsHoGDoe0PNgS70f1tPRqw9UxzbSgHnn18204yyfY5UWAXNwYF1KlSwxF/EhVyqbJz3N/bSSUxvox+TtxU/AHL16n4YuOSKNP+CtIMqSxo9rHgcG1HG7sC735nu4YqeZu2nx/tjrttkrdyoPD8vVvSBguGASlQQCAgGBgEBAICAQiGME7Hwei2NofGZ4QcD4zFbF/UTtfMMbETCZUiWlnX1jI2DO33pMISPXcIGaNFFCehYVnZLhaoFjUM/5+3W7MSRgZu6mJYqDrKtzUrZXEiO/rD1F34frCwajLayEYSnMlgY/bqDDV+6rTs+IgGnx6xbafvY219IK+KeiFSoivIcG1qWUJgmYMrnT07zPnAkYTIQ9pButgWfybJ96c+bpz851pm4+S98uPBQzRUSDtamQ2xZTLj14Bd1+9CxmLoiWQ9ScKAIBgYBAQCAgEBAICATshICdz2N2wsnOcxEEjJ13x2Zzs/MNr5VSIkOYKVUy2tk3NAbRC7cfU9URfAQM7H7dZV09+p0S1GPuvnhFwPzaujTVK+pMwDT6eSMduHTPGgEzcQttP+MaAXN4UF1KkdRcBIweAVN+2Eq6dv+ptJ4PKuel/o0CXb5D2ev2yKB6lDypd4V3XV4EZwcQMm7480ZJF6hgllS0sFMVr4sMa01144mb1PbPbZKOVNUCmWjah+U5VyWqCQQEAgIBgYBAQCAgEPAeAnY+j3kPBd8eSRAwvr1/Xp29nW94IwIGgqw7+lgjYPySJKSISPdEwECwtuvsvbr79v3bxejr+Qc0iQs2lcOdF4EyqoN1xNEaZ2KbYKoblNXp58bjN9E+DStpo+iRlhO30DYXCRg9MkPreoFbElyT1MqOs7dpeNgR8k/tR0OaFiWQeq4Wdh5HB9ezDSnh6trU2j95FkVwIAvInNJ269x/8S6du/WYagdmsd3cPLEXok+BgEBAICAQEAgIBHwPATufx3wPzbiZsSBg4gZ3nxzVzje8EQHjnzoZbbcBAQO9FIiR6hUjAoYVM3XnxWSFgPm9bRnp0MoWPStpIwLm3d+20NbTrkXA6JEZWtdLqVzp6J+Old0JqW5frxsB4zVgxUACAYGAQEAgIBAQCAgE4iECdj6PxUO4PbIkQcB4BNb42amdb3gjAiZLmmS0rXdsBMzFO4+pyvd8KUjujICZ0Ko0dZyx2yUC5otZe+i/vbF2vu682pTEyMR1p2j4UmMNmD/eL0O1ijgTMHpORkYEzHu/b6XNp25xLU1LA+bYkHqULLF6Oo/W9fJlnYLUqWYBrnHdUYmdh96c3TGe6EMgIBAQCAgEBAICAYGAQMB3EbDzecx3UfXuzAUB4128fXo0u97wag41LNAsAXPp7hOq/N1qrv1wpwYM0nU+mbbLJQKm66w99K8XCJjf1p+iYWHGBMzkdmWpRmFnu2I9IV0jAqbVpK206SQfAQM9keXdqjmJ5B4fUp+SJk6oinX4wSv06XRHIgz9QIBXy7qa62IxWanot8vo4dPnMa1ODK1PSRKpz9lk16K6QEAgIBAQCAgEBAICAYFAPEPAruexeAazR5cjCBiPwhu/OrfrDc9DwGRN40dbe9eK2RAzBIw7XZAQLfLh1J0eJ2DqF81KyZMkkuyhv1t6lI5dU7eDZieiJEZ4CZipH5SjagUzO63px5UnaOzK46prNSJgWk/aRhtP3uS6gbQIGCMyY+vpW3T57hOqVzQr3XzwjPzTJPO69sf64zeo/ZQdFPXiJTUtlZ3GtizJtWZRSSAgEBAICAQEAgIBgYBA4PVDwK7nsddvJ6yvWBAw1rF77Vra9YZ/8eIlBfQO092PN9L60ZZesQQMDt6VOCNgEidMQM9hj+KGMrl9WWo/eYdLBEy32Xvpnz2XdPtQOhPVHbveEgHz+/rTNDTsiOGqp31YjqoWcCZg7kdEEpyQIGyqR/SoDdDmj2204YRrBMzJofUpsQ9Ekxy/9oCu3ougyvkzUaKECQzxFhUEAgIBgYBAQCAgEBAICAReTwTseh57PXfD2qoFAWMNt9eylV1veB4CJltaP9qsIGCu3HtCFYfzpSDhTOwm/oVAVrT5Y7tLBEz32XtpgSEBEyxFdqDU+2E9Hb1qPgKGl4CZ8VF5iTxQK4+ePqfF+y87uToZRcC4g4A5PawBJRSExmv5rBKLFggIBAQCAgGBgEBAIBAfEbDreSw+Yu2pNQkCxkPIRkRE0NKlSyk8PJy2bdtGp06doqdPn1LmzJmpXLly9MEHH1CjRo0sj54nTx46d+6cbvvPP/+cxo0bZ3kMtqFdb3ikb+QziIDJni45bfqmZsySzBAwCRIQvXRPAAzN/Lg8vff7Nt09GfF2ceo5f79qHRAXPebso/m7L+r2obSGthoBM2nDaRqyxDgCBmuqlE+dgMEkD166Rw1/3ugwXyMCpu2f2wnpOTxFKwXpzPAGlACbJ4pAQCAgEBAICAQEAgIBgYBAIB4gYNfzWDyA1mtLEASMh6CuXbs2rVy5Mqb3pEmTEm6YBw9iIxHeffddmjZtGiVOnNj0LGQCJk2aNJQ8eXLV9iB5hg0bZrpvrQZ2veGtEDBI+agwfJXbsOHtaHaHCtTyt60uETBfzt1H83bpEzC/tQmmOkHRETCeJmBmdahAFQIyaq7p8OX71OCnDaYImPf/3E7rOAmYQllS07JuIU4ivEYkD++eiXoCAYGAQEAgIBAQCAgEBAICATsgYNfzmB2w8ZU5CALGQztVvXp1unz5Mn388cfUsGFDKlKkiDTSxYsXaciQITRx4kTpv3v27Enff/+96VnIBMzkyZOpXbt2pttbaWDXG/551AvK32ep7pJypE9OG7+OjYC5dj+Cyg/zPgEz/7OK9PYvWzxOwPzetgzVDoy2hvY0ATPnk4pULm8GzTUdvXqf6v1gjoBpN3k7rT3GFwEzqHEQta2YRxAwVm5q0UYgIBAQCAgEBAICAYGAQMBnELDrecxnALTBRAUB46FN2LRpE1WoUIESJUqkOsL7779Pf/31F6VIkYJu3rypGcWiNT1BwMQiw0PA5MyQnDb0jHsC5t/PK1OT8ZtcImC+mruP5hpEwExqW4ZCvUTAgFQKzq1NwEBkts7Y9Q5rNopOaT95O63RIGAGNylKJ649oL+3n6eK+TLRxNbBlDxpIkHAeOhZJroVCAgEBAICAYGAQEAgIBCwBwKCgLHHPrgyC0HAuIKeC23Xrl1LNWrUkHrYvXs3lSpVylRvgoCJhSsy6gUVMIiAyZUhBa3vGY03yvX7EVSOMwLGnTbUizpVoUbjHPVQ2I030oDpOW8fzdmpn4IEu+taRbwTAbOgYyUqnSu95vV78voDCh1jjoDp++8Bmr71fEyfqZMlplR+iSk4d3oa2byERLiwJc83S0yRPKZuOFFZICAQEAgIBAQCAgGBgEBAIBDHCAgCJo43wA3DCwLGDSBa6eLgwYNUrFgxqen27dupbNmyproRBIw5AiZ3xhS07isFAfMggsoNNU5B6hASQH9vO08Pnj43tT9alcO6VHXSQzFLwHw9bz/N3nlBdz5/titDNQu7RsD8sfEMDV582HDdiOopmTOdZr1TNx5SrdHrTJEj0OgJGbGGnkW9oORJEtHWXrUobYokunMRBIzhVokKAgGBgEBAICAQEAgIBAQCPoyAIGB8ePNeTV0QMHG0h+PHj6dOnTpRkiRJ6MaNG5Q2bVpTM5EJmKCgILp9+7aUxoQ+ihcvTs2bN6f27duTn5+fqT6NKtv1hn/2/AUV7KuvAcMSMDcePKWyQ2NFkpVr/7V1MJXKlY4QWZMjfQoK6h9Oj55FGcHD9fvybiFO6ThmCZhv5u+nWTv0CZjJ7cpSjcL+Utd1xq6j49cecs1PmRr058YzNIiDgFnYqTIVz6FNwJy5+YhqjFprioBBZYj3bjx5g2oW9qf8/qkN5y8IGEOIRAWBgEBAICAQEAgIBAQCAgEfRsCu5zEfhtTrUxcEjNchJ3r48KEkygtB3pYtW9KsWbNMz0JpQw2iBS5L9+/fj+kH0TWLFy+mXLlycfct39BaDZ49eyaNAzttOxUeAiZPxhS0VhEBo0fALP2iKhV5I03MEgP7h9NjNxEwK7tXo9AxjtEgIQUzx1gud6lVgCAY3HOetg11rwX76e/tBgRM+7JUo5B3CJjFnatQ0ezaBOK5W4+o2kjzBIzZa0wQMGYRE/UFAgIBgYBAQCAgEBAICAR8CQFBwPjSbqnPVRAwcbCHLVq0oLlz50oRK/v27aPcuXObnsUXX3xBlStXpmrVqlGWLNGpJleuXKE//vhDclkCSYLoGOjLgDThKb5KwDx9HkWF+obrLjFvppS05svqMXVuPnxKZYaoR8CEd61KhbPGEjBF+oXTk0j3RMCs/bI6VWeiQXb2DaWJ605R2uRJ6OOQAPpv72UDAuaAJECrV6a0L0vVXxEwvC5I1QpmpqkflIvpdvKmMzRwkXEKEtKqArPF4sXO68Ltx1R1xBqHfzYS4eW5Xtk6goCxgppoIxAQCAgEBAICAYGAQEAg4CsICALGV3ZKe56CgFFg891331GvXr0s7SqIEAjrGpV+/fpJBEmCBAlo3rx51KxZM6Mmpn9fuHAhNW7cWGoHu+sOHTqY7kOtgV1veB4CJiBTSlqtIGBuPXxKwRoEzLKuIVQoa2zKS+F+Syki8oVbMNzQs4YhGTFn5wVdAqb3Pwdo5jZ9AgZECggVFL0UpHJ5MtD2s7fJP3UymtWhAgVkTmWagGEJKxaoi3ceU5XvBQHjlgtIdCIQEAgIBAQCAgGBgEBAIPDaImDX89hruyEWFi4IGC8SMKNGjaKvvvpKGnHChAn02WefWdgyviZVq1aljRs3UsOGDWnRokV8jQxq2fWGj4iMosL99CNgAjKnpNU9YiNg9AgY6LQUzBJLwEBfBmlO7iibvqlJlb9b7dAVGw1iRMD0+ecAzTAgYP76oBwhtUmPgJmMKJmCmenS3SeULkVSSpUsscO8pmw6QwM4ImBYvFicLt99QpUM1uwObEUEjDtQFH0IBAQCAgGBgEBAICAQEAjYFQG7nsfsipcd5yUIGMWuvHz5kqKirKWaIKIlUSJna1y5+3HjxlHnzp2l/xw5ciR9+eWXHr0eQPSA8AkMDKRDhw65ZSy73vA8BEy+zClplYKAuf3oGZUevEIVFycCps9SyY3HHQVuPhWGO7ovmSVgWItmtXlN+7AcVS2gTsAEZUtDsMNOmDCB7pKmbj5L3y40vnZWdg/RFcmFo5HRmt2BrSBg3IGi6EMgIBAQCAgEBAICAYGAQMCuCNj1PGZXvOw4L0HAeGFXkAaEaBcQPAMHDqT+/ft7fFSZgIEODCyv3VHsesPzEDD5/VMRBHDlcufRMyqlQcCs6BZCBRQRMAX6hFFk1Et3QEjb+9Rysr82S8D0+/cgTdt6Tnc+0z8sT1UKZJLqsClIPesVoo7V8xuuh5eAWdWjGuVTpC6xHV+/H0HlhumTToaT4ajQ4a+dtPzwNalm0sQJ6fiQ+hytRBWBgEBAICAQEAgIBAQCAgGBgG8gYNfzmG+gZ49ZCgLGw/swefL/27sPaCmKrIHjlyAqWVCCCpJzkixIkgwGTKCIiIooiotZEBVERVZdxYDhM685ooKuAitgAhPmhKIIKAaQKDl85/Y6w7xh3kzPTPdMVfe/z9mzu7zurqrfrZr36k519UNy5plnOsmXyy+/XHSfmVwcnTt3lrfeekv69+/vvA3Ji8PUAe8mAVO3UmmZFZOAWbNxq7SYmHgFTPyKjtpXvCo7dnqTgPlgXI89Xn+dbgLm6pe+kH/PT56AeXx4O+lYJ7sEzL/nL5GrX0q9AkY3Fq6xf6lCu1iiN075sQnv0lUb5YKnP5bVG7fJhKMbR/fA8aLvcw8EEEAAAQQQQAABBPItYOp8LN8uNpVPAsbHaD3++OMydOhQ2blzp+hbi6ZMmeJJaZrM0UeeCjteeeUVZ+8XPe655x45++yzPSnX1AG/aesOaXh18j1g6lUuLTMv3L0CJnkCpovoipnIUWvsK+JF/kVfhf3q6E7S6OrXC8Qj3QTM+Je+kEdSJGCeGN5OOuQoAfPmpd2kesWShfaxRPvt+JGA8aSTcxMEEEAAAQQQQAABBAwVMHU+ZiiXkdUiAeNTWF544QUZNGiQbN++3Xn8SDfdTecYNmyYPPLII84rqpcsWVLgUt1LRhMwJ5xwgrRu3VpKlvzf5PfXX38VXXEzceJE2bx5c9qvoU5VP1MHfCYJmLUbt0nziTMTNjn+kZr4vUVSOcX/fOhhh8jy1ZtkdPe6ztuV4jcMjk9GPPvhMrn0uc8SFqPnTnj5S3n43YJ9Iv7kJ85qJx1q/28FTM9b5sl3v2+InuL2EaRH5y+Rq1ysgNE3O1WrUHgCJtHjXiRg0u1FnI8AAggggAACCCAQdgFT52Nhj0s67ScBk45WGufWqlVLfvzxR+eKSpUqJV2xcttttznJmtgjWQIm8jM9XxMx5cqVcy5ds2ZN9BaHHnqovPTSS1KtWrU0ap38VFMH/Mat2/dYVRLfkvqVy8jrF3aO/vPaTduk+TWJEzBvXNylwOuYs03AxCYb9G1K+lal2MOPBMyTZ7WXw2pXzC4Bs+An0f1mUh36ZqeDyu9b6GmJkl0kYFKp8nMEEEAAAQQQQAABBAoKmDofI07uBUjAuLdK68waNWrITz8l36cjckNdtaJJldgjWQJmwYIFoits5s+f75SxcuVK5zGnihUrSsuWLeXEE0+Uk08+Wfbaa6+06pzqZFMHvJsETIMqZeS1C9wlYOZc0lVqxuxp4mUCRveS0T1lsknAXDP9S3noneQrYJ4a0V7a1/pfAibTTXh1o183CZj5Y4+QquUKT8Cs27xNmk0omOwiAZNqtPFzBBBAAAEEEEAAAQRIwAStD5CACVpEfWyPqQmYv7Zsl8bjC+6rEs8Qn4BJlBSIXONnAkb376k5NnkC5rmPlsslz36aMJKauHh38UoZfN97SSP99Ij20u7vBEymjyA9tuAnudLFCpj3rugulcvuU2h9NmzZLk3i4kMCxseByq0RQAABBBBAAAEEAilg6nwskNg+NYoEjE+wQbytqQPeTQKmYdWy8p/RnaJhWb95mzSNW5UR+aGfjyBpGfEratJ9BEmTOLpHjCZqCjueOfswaVuzgvPj+ATM5X0ayMiutVN2UbcJGH2z0wFl9i70folWKJGAScnPCQgggAACCCCAAAIIFBAwdT5GmNwLkIBxbxX6M00d8IlWWMQHq+lB5WT6+YcHIgETaUSyR6OePecwaVMjcQLG7Sa8j7/3k4yblnoPmI+u7CEVSxeegEn0mnASMKH/OAEAAQQQQAABBBBAIE0BU+djaTYj1KeTgAl1+NNrvKkD3k0CpkW18vLieR2jDU52jekrYNwkYJ475zBpnaMEzMdX9ZT9SpUotDNt2b5D6l9Z8DXhJGDSG3ucjQACCCCAAAIIIICAqfMxIuNegASMe6vQn2nqgE/2OFEkaK0O2U+eH9khGsNkjy15/Rrq+GRDqkeQ5i36Q0578P2E/S32XslWwDw/8jBpdUh2jyC5XQHz6dW9pFzJwjd83rZjp9Qdl/zNT6EfXAAggAACCCCAAAIIIJBCwNT5GIFzL0ACxr1V6M80dcC7ScDofii6L0rkSPbmpNkXdZE6lUpHz/XyLUh601QJmJ07d0mPW+bJDyv/2qPPuU/AdBBNOumR6R4wT7y3VK6Y9nnKfv/ZhF5Sdp/CEzDanlop3vyUshBOQAABBBBAAAEEEEAg5AKmzsdCHpa0mk8CJi2ucJ9s6oBP9kajSMQOq1VRnhzR3mUCprPUqVQmbwkYLXjtxm3yxre/yYVPF3wbktsEzAvndpCW1f+XgNFkzve/b4i2x+0mvG4TMF9e01tK7V280MER/+anquX2kflju4d7MNF6BBBAAAEEEEAAAQTSFDB1PpZmM0J9OgmYUIc/vcabOuDXbtomza+ZmbQxneruL4+e2S56zqatO6Th1QX3JYn8cPZF+U/AROqSbLVMspU5087tIIdmmYB58v2lMvaF1Ctgvp7YR/YtUSyp/3UzvpL73/5R9t2rmDxyRtvoG5rS64GcjQACCCCAAAIIIIBAeAVMnY+FNyLpt5wETPpmob3C1AHvJgHTtf4B8vDpbaOxS/RmnsgPZ13YWepWzu8KmGwTMLrhsG48rEemjyA99f5SGeMiAfPNtX1kn72SJ2B0Fcy3v62X/UqWkMpl9wntGKLhCCCAAAIIIIAAAghkKmDqfCzT9oTxOhIwYYx6hm02dcDr4zrNJyZfAdO9QSV5YFib0CRgXjqvozT/OwGT6SNIbhMwi67rKyWKF82wV3EZAggggAACCCCAAAIIuBEwdT7mpu6c8z8BEjD0BNcCpg54NwmYXo0qy/8Nbe0qATPzws5Sz/IVMC+P6ijNDv7fCpj4BMyYvg3knC61U8b96Q+WyuXPp34E6fvr+0rxYiRgUoJyAgIIIIAAAggggAACWQiYOh/Lokmhu5QETOhCnnmDTR3wazZulRYTZyVtWN8mVeTuIa2i52zZvkPqX5l4D5igJ2DcbsLrNgHz4w39pEiRIpl3LK5EAAEEEEAAAQQQQACBlAKmzsdSVpwTogIkYOgMrgVMHfBuEjBHNqsqdw5u6SoB8/oFnaV+Fbv3gIldAZPpHjDPfLBMLnv+s5T9I/bNTClP5gQEEEAAAQQQQAABBBDISMDU+VhGjQnpRSRgQhr4TJpt6oBf/ddWOfTa5CtgBrQ4UKacdGi02Vu375R6V/4nIUMuEzDFixaR7yf1KzQcmb4FyYtHkJ75cJlc9lzyBEybGvvJs+d0yKQ7cQ0CCCCAAAIIIIAAAgikIWDqfCyNJoT+VBIwoe8C7gFMHfBuEjDHtTxIbhnYItrYbTt2St1xiRMwb1zcRWodUDp6brLXPbvRi18hookNfb1ziWJF5a4hLaVb/UqeJ2CSbcLrdg+YVAmYsvsUlzmXdJWKpfd2w8A5CCCAAAIIIIAAAgggkIWAqfOxLJoUuktJwIQu5Jk32NQB/+dfW6VlihUwA1sfLDee0Dza+O07dkqdBAmYOpVKi76GOnZPE68TMFoJrXOxIkWkXMm9kgYk0xUwXiRgnv1wmVwaswKmYqkS0qtxFXny/aXSsU5FuW9oaylZonjmHYorEUAAAQQQQAABBBBAwLWAqfMx1w3gRN6CRB9wL2DqgHeTgDm5bXW54bimSRMwl/SqJwPbVJNKZfYpgOJHAsatukkJmAqlSsjCq3q6rTrnIYAAAggggAACCCCAgIcCps7HPGxi4G/FCpjAh9i7Bpo64Fdt2CKtrpudtKFD2leX6wbsTsDs2NgPO8wAACAASURBVLlLal/xaoFrCttMNqwJmEW/rZdet74ZNTq3a225rE8D7zoUd0IAAQQQQAABBBBAAAHXAqbOx1w3gBNZAUMfcC9g6oB3k4AZ1qGGTDi6cbSxO3fukloBTsC8eF5HaVGtvNPeHrfMk+9/3xBtu9s9YPQC3atGHzlqfGBZeXx4OylfsoT7DsOZCCCAAAIIIIAAAggg4JmAqfMxzxoYghuxAiYEQfaqiaYO+JUbtkjrFCtgzuhYU64+qlEoEzDd/zVXFv/xV0YJGL1o49btsnfxYlKsaBGvuhL3QQABBBBAAAEEEEAAgTQFTJ2PpdmMUJ9OAibU4U+v8aYOeDcJmBGda8kV/RpGG7xr1y6pOTa4jyDFroDJNgGTXi/hbAQQQAABBBBAAAEEEPBDwNT5mB9tDeo9ScAENbI+tMvUAf/H+i3S5vrke8CM7FpbLo/bvyTZBrexfDbuAePVI0g+dCNuiQACCCCAAAIIIIAAAhkImDofy6Apob2EBExoQ59+w00d8G4SMKO61ZFLetcv0OggJ2CmndtBDq2+n9NeVsCk39e5AgEEEEAAAQQQQAAB0wRMnY+Z5mRyfUjAmBwdw+pm6oD/ff1maXv9f5Nqje5eVy7sWY8EjG6s27eBnN2ltmG9i+oggAACCCCAAAIIIIBAMgFT52NEzb0ACRj3VqE/09QB7yYBc1HPevKP7nWtS8C0mDhT1mzc5tS79N7F5YtrekfbkOzRKFbAhH64AoAAAggggAACCCAQMAFT52MBY/a1OSRgfOUN1s1NHfC/r9ssbSclXwFzae/6cl63OtYlYOYvXiWjnlgou0TkjpMPlY519icBE6xhRWsQQAABBBBAAAEEEHAlYOp8zFXlOckRIAFDR3AtYOqAd5OASfTYjQ17wCQLjtsVMLfOWiS3/fe76K2eGtFe2teq6DrunIgAAggggAACCCCAAAL5FzB1PpZ/GXtqQALGnljlvaamDvjf1m2WdilWwFzZv6EM71SrgGGQEzAvnNtBWv69Ce/aTdvkpP9bIF+vWCe9GlWWe09tJUWKFMl7f6ICCCCAAAIIIIAAAggg4F7A1PmY+xZwJgkY+oBrAVMHvJsEzPijGsnpHWt6moB55Iy28tLHP8sLH/+c1HDJ5P6ujdM5MdkKmNgEjN5z6/adoomY/UuXIPmSDjLnIoAAAggggAACCCBgiICp8zFDeKyoBgkYK8JkRiVNHfC/rt0s7W9IvgfMxGMay9DDaniWgDm7cy25vE8DKVq0iCRLhGiBJiRgzOhB1AIBBBBAAAEEEEAAAQQyFTB1PpZpe8J4HQmYMEY9wzabOuDdJGCuP7aJnNLuEE8SMNNHHS5NDy4XvRcJmAw7FJchgAACCCCAAAIIIICAawFT52OuG8CJbMJLH3AvYOqAX7F2kxx2wxtJG/LP45vKoDbVPUnAzDj/cGlykNkJmOdHdpBWh+znPriciQACCCCAAAIIIIAAAkYLmDofMxrNsMqxAsawgJhcHVMHvJsEzE0nNJMTW1fzJAHz6j86SaMDy0bvZeIKGBIwJo8k6oYAAggggAACCCCAQPoCps7H0m9JeK8gARPe2KfdclMH/C9rNkmHyclXwNw6qLkce+jBniRgXrugkzSoYnYC5q3Lukm1CiXTjjEXIIAAAggggAACCCCAgJkCps7HzNQys1YkYMyMi5G1MnXAu0nA3H7yoXJ08wM9ScDMvLCz1KtcJnovU1bAlNmnuKzfvF16N9ZXTbc2sg9RKQQQQAABBBBAAAEEEMhMwNT5WGatCedVJGDCGfeMWm3qgP95zSbpmGIFzNTBLaV/s6qeJGBmX9RZ6lQyLwHz/rjusmLNZmd/mmJFi2QUYy5CAAEEEEAAAQQQQAABMwVMnY+ZqWVmrUjAmBkXI2tl6oCPT8Cc06W23DNvcQHDe4a0kj5NqniSgPnvxV2k9gGlo/fK1wqY6Z/+Iuc/+bFTjyHtq8t1A5oa2W+oFAIIIIAAAggggAACCGQvYOp8LPuWhecOJGDCE+usW2rqgF++eqMc/s850faN7Fpb7p5bMAFz39DW0rNRZU8SMHMu6So19y+V9wSMVuCz5Wtk9cZt0qnO/lKUVS9Z93FugAACCCCAAAIIIICAqQKmzsdM9TKxXiRgTIyKoXUydcDHJ2DO7Vpb7opLwDw0rI10a1DJkwTMm5d2k+oVd29wm68VMIZ2E6qFAAIIIIAAAggggAACPgiYOh/zoamBvSUJmMCG1vuGmTrgl/25UTrduHsFTKIEzL/PaCud6x3gSQIm/g1DJGC872vcEQEEEEAAAQQQQAABBAoKmDofI07uBUjAuLcK/ZmmDvj4BMx53WrL1DkFH0F6fHg76Vhnf08SMO+MOUIOKr9v9F4kYEI/NABAAAEEEEAAAQQQQMB3AVPnY743PEAFkIAJUDD9boqpA95NAuapEe2lfa2KniRg5o89QqqWIwHjd3/j/ggggAACCCCAAAIIILBbwNT5GDFyL0ACxr1V6M80dcDHJ2BGdasjd875vkC8nj3nMGlTo4InCZj3rugulcvuE71X/AqYy/rUlxtf+9b5+dmda8nYfg1D33cAQAABBBBAAAEEEEAAgewETJ2PZdeqcF1NAiZc8c6qtaYO+KWrNkrnm3bvAZMoAfPCuR2kZfX9PEnAvD+uu1QqU3gC5scb+skb3/wu23bskl6NKvN2oqx6HRcjgAACCCCAAAIIIICACpg6HyM67gVIwLi3Cv2Zpg74+ATM+UfUkTveKLgC5uVRHaXZweU9ScB8eGUP2b/03tF7xa+AWTK5f+j7CgAIIIAAAggggAACCCDgrYCp8zFvWxnsu5GACXZ8PW2dqQP+p1V/SZeb5kbbmigBM+P8w6XJQeU8ScAsvKqnVChVggSMp72LmyGAAAIIIIAAAggggEAyAVPnY0TNvQAJGPdWoT/T1AG/ZOVf0vXm3QmYfxxRR26PWwHzn9GdpGHVsp4kYD65uqeUL0kCJvQDAgAEEEAAAQQQQAABBHIoYOp8LIcE1hdFAsb6EOauAaYOeDcJmJkXdpZ6lct4koD5dHwvKbfvXtF78QhS7vogJSGAAAIIIIAAAgggEFYBU+djYY1HJu0mAZOJWkivMXXA/7jyL+kWuwKme125/b/fFYjS7Iu6SJ1KpQv8282vf+u8LalY0SIydfCh0qdJ1YSRjU+wfD6hl5TZhwRMSIcBzUYAAQQQQAABBBBAIC8Cps7H8oJhaaEkYCwNXD6qbeqAj0/AjO5eV26LS8DMvaSr1Ni/1B5sny1fI6X2Li61DyiYnIk9MT4B89XE3lKyRPHoKayAyUdvpEwEEEAAAQQQQAABBMIlYOp8LFxRyK61JGCy8wvV1aYO+B/+2CBH/GteNBaJEjBvXdZNqlUomVG84hMs31zbR/bZqxgJmIw0uQgBBBBAAAEEEEAAAQQyETB1PpZJW8J6DQmYsEY+g3abOuDjEzAX9KgrU2YXfATpnTFHyEHl982g1SLxCZhvr+sjexcnAZMRJhchgAACCCCAAAIIIIBARgKmzscyakxILyIBE9LAZ9JsUwf84j82SPeYFTCJEjALxnaXKuX2yaTZeyRgvru+r+xVrGj0XjyClBErFyGAAAIIIIAAAggggEAaAqbOx9JoQuhPJQET+i7gHsDUAR+fgLmwRz25dfaiAg17f1x3qVTGmwTM4kn9nI17IwcJGPd9iDMRQAABBBBAAAEEEEAgMwFT52OZtSacV5GACWfcM2q1qQP++983SI9bdu8BkygBs/CqnlKhVImM2h2fYPnxhn5SpAgJmIwwuQgBBBBAAAEEEEAAAQQyEjB1PpZRY0J6EQmYkAY+k2abOuDjEzAX9awnt8wquALm06t7SbmSu18dnU77U61wSfXzdMriXAQQQAABBBBAAAEEEEAgkYCp8zGi5V6ABIx7q9CfaeqA//739dLjljej8UmUgPl8Qi8ps09mCZjpn/4i5z/5sXP/no0qy31DWxfoCyRgQj80AEAAAQQQQAABBBBAwHcBU+djvjc8QAWQgAlQMP1uiqkDPj4Bc3HPevKvuBUw8a+OTtfq3e9Xyq/rNkv/ZlULvAFJ70MCJl1NzkcAAQQQQAABBBBAAIF0BUydj6XbjjCfTwImzNFPs+2mDvjvflsvPW/dvQJGEzB1KpWWkY8vdFrYud4B8u8z2qbZWvenk4Bxb8WZCCCAAAIIIIAAAgggkJmAqfOxzFoTzqtIwIQz7hm12tQBH5+AuaRXPRl1RF155/uVsnz1Rjm6+UGyb4liGbXZzUUkYNwocQ4CCCCAAAIIIIAAAghkI2DqfCybNoXtWhIwYYt4Fu01dcAv+m299IpZARNJwGTR1LQuJQGTFhcnI4AAAggggAACCCCAQAYCps7HMmhKaC8hARPa0KffcFMHfHwC5tLe9eW8bnXSb2CGV5CAyRCOyxBAAAEEEEAAAQQQQMC1gKnzMdcN4EQhAUMncC1g6oD/9tf10nvK7j1gSMC4DiknIoAAAggggAACCCCAgCUCps7HLOEzopokYIwIgx2VMHXAk4Cxo/9QSwQQQAABBBBAAAEEEMhcwNT5WOYtCt+VJGDCF/OMW2zqgP/m13XSZ8pb0XaxAibjEHMhAggggAACCCCAAAIIGCpg6nzMUC4jq0UCxsiwmFkpUwd8fALmsj715dyu7AFjZi+iVggggAACCCCAAAIIIJCJgKnzsUzaEtZrSMD4FPkiRYqkvPNNN90kl1xyScrzCjth7ty5MmXKFFmwYIGsWbNGqlSpIr1795YxY8ZIzZo1M75vYReaOuC/XrFO+t62ewUMCRjPQ88NEUAAAQQQQAABBBBAIM8Cps7H8sxiVfEkYHwKVyQBs99++0mJEiUSljJ+/HgZOXJkRjW48cYbnUTLrl27RMsqU6aMrFu3zrmX/u/p06dLly5dMrq37QmYy/s0kJFda3va9mQ34y1IOaOmIAQQQAABBBBAAAEEQitAAsb+0JOA8SmGkQTMnDlzpGvXrp6WMnPmTOnTp4+TfDn//PNl4sSJUr58eVm8eLEMHz5cdGVMhQoVZNGiRVKxYkXPyjZ1wH/1yzrpd/vuFTAkYDwLOTdCAAEEEEAAAQQQQAABQwRMnY8ZwmNFNUjA+BQmPxMwrVq1koULF8qRRx7prHSJPXQVTMOGDeWXX36RSy+9VHSljFeHqQM+PgEzpm8DOacLK2C8ijv3QQABBBBAAAEEEEAAgfwLmDofy7+MPTUgAeNTrPxKwHzzzTdOgkWPt956Sw4//PA9WnDdddfJVVddJQcddJAsW7bMeUTJi8PUAf/lL2ul/+1vR5uY6wTMv+cvkatf+tIp/9T2h8i1A5p4wc09EEAAAQQQQAABBBBAAIGogKnzMULkXoAEjHurtM70KwEzdepUGTVqlJQtW1b+/PNPKVas2B71+uCDD6Rt27bOv3/11VfRhE1aDUhwsqkDPj4BM7ZvAzk7hytglGreoj9kw+bt0qdJFSlW1JuEV7bx4noEEEAAAQQQQAABBBAIjoCp87HgCPvfEhIwPhlHEjAtWrSQ5cuXy9q1a519WVq2bClDhgyRQYMGJUyepKrOeeedJ3fddZe0a9fOeftRomPTpk1SsmRJ50fPPfecHH/88alu6+rnpg74L35eK0fesXsFTD4SMK4AOQkBBBBAAAEEEEAAAQQQyFDA1PlYhs0J5WUkYHwKe+xjP6VKlXIeA9qwYUO0NH1D0YsvvuhsnpvOcdxxx8m0adPk2GOPlRdeeKHQS/XtS/pq6jvuuMNZMePmiAzows7dunWr80anLVu2uLldzs6JT8Bc0a+BjOicuz1gctZQCkIAAQQQQAABBBBAAIHQCpCAsT/0JGB8iuFpp50mAwcOlPbt20ffRPTjjz/K7bff7vxn586d0rNnT9E3GqVz9OrVS2bNmiWnnHKKPPbYY4Veqvu/6Ea8kyZNkrFjx7oqggSMKyZOQgABBBBAAAEEEEAAAQRyLkACJufknhdIAuZv0smTJ7tOVMRHQVez6Kuf3R6agBk9erRz+uuvvy6aVHF7+JmASVUHUwd8/AqYcf0aylmda6VqDj9HAAEEEEAAAQQQQAABBKwRMHU+Zg2gARUlAZOHBIyufqlZs6YsXbrUeTxIHxNye/j5CFKqOpg64D9fvlaOunP3HjAkYFJFkp8jgAACCCCAAAIIIICAbQKmzsdsc8xnfUnA/K2/a9cu2bFjR0ax0P1dEr2NKNnNTjzxRGeD3H79+skrr7ziulxN2OibkNiEdzdZfALmyv4NZXgnVsC47lSciAACCCCAAAIIIIAAAsYLkIAxPkQpK0gCJiWRPydEEjD9+/eXGTNmuC5E34Ckb0LS11CvXr1aihYtuse1H374obRp08b59zC8hvqz5Wvk6DvfiTqQgHHdnTgRAQQQQAABBBBAAAEELBEgAWNJoJJUkwRMHmKoq230EaSffvrJSabceeedrmvxzTffSMOGDZ3z3377benYseMe115//fVy5ZVXim7Eu2zZMucNTF4cpg54EjBeRJd7IIAAAggggAACCCCAgMkCps7HTDYzrW4kYHyIiCZYkiU99BGiyKuhX3vtNendu3datWjVqpUsXLhQjj76aHnppZcKXLt+/XonQfPzzz/LpZdeKjfeeGNa9052sqkD/tNla+SYqayA8SzQ3AgBBBBAAAEEEEAAAQSMEzB1PmYclMEVIgHjQ3D08aK6devKgAEDpHnz5hIZKEuWLHH2b7nllluc11D36NHDeaV0/DFhwgS55pprnH/WZE78oa+ujiRt9G1Kem65cuXkhx9+kOHDh8ucOXOkQoUK8u2338r+++/vWQtNHfDxCZirjmwkZx5e07N2cyMEEEAAAQQQQAABBBBAIN8Cps7H8u1iU/kkYHyIVteuXWXevHnOnXVzXk2ObNu2TXR1SuTQ5Ituwqs/SzcBo+frypYxY8Y4CRrdB6ZMmTKydu1a51b6v6dPny76emwvD1MH/CfL1siAmBUwJGC8jDr3QgABBBBAAAEEEEAAARMETJ2PmWBjSx1IwPgQKV2hom82WrBggSxfvlxWrVrlPJJUuXJlZ3PcIUOGOI8PFfaYUqoVMJEqz507V6ZMmSLz58+XNWvWSNWqVaVXr14yduxYZ48Zrw9TB3x8AubqIxvJGayA8Tr83A8BBBBAAAEEEEAAAQTyKGDqfCyPJNYVTQLGupDlr8KmDviPl66WY+96NwpDAiZ/fYSSEUAAAQQQQAABBBBAwB8BU+dj/rQ2mHclARPMuPrSKlMHfHwCZvxRjeT0jt6vAPIFlZsigAACCCCAAAIIIIAAAi4ETJ2Puag6p/wtQAKGruBawNQBv3DpajkuZgUMCRjXIeVEBBBAAAEEEEAAAQQQsETA1PmYJXxGVJMEjBFhsKMSpg74j35aLcffvfsRpAlHNZJhrICxo1NRSwQQQAABBBBAAAEEEHAlYOp8zFXlOckRIAFDR3AtYOqAj0/AXHN0YzmtQw3X7eJEBBBAAAEEEEAAAQQQQMB0AVPnY6a7mVQ/EjAmRcPwupg64D/66U85/u75UT0SMIZ3JKqHAAIIIIAAAggggAACaQuYOh9LuyEhvoAETIiDn27TTR3w8QmYicc0lqGHsQIm3fhyPgIIIIAAAggggAACCJgrYOp8zFwx82pGAsa8mBhbI1MH/IdL/pQT7tm9AoYEjLFdiIohgAACCCCAAAIIIIBAhgKmzscybE4oLyMBE8qwZ9ZoUwd8fALm2mMay6msgMksyFyFAAIIIIAAAggggAACRgqYOh8zEsvQSpGAMTQwJlbL1AH/wZI/5cSYFTAkYEzsPdQJAQQQQAABBBBAAAEEshEwdT6WTZvCdi0JmLBFPIv2mjrg90jADGgip7Y/JIuWcikCCCCAAAIIIIAAAgggYJaAqfMxs5TMrg0JGLPjY1TtTB3w7//4pwy8d/ceMNeSgDGq31AZBBBAAAEEEEAAAQQQyF7A1PlY9i0Lzx1IwIQn1lm31NQBH5+AuW5AExnCCpis480NEEAAAQQQQAABBBBAwBwBU+dj5giZXxMSMObHyJgamjrg3/thlQz6vwVRJxIwxnQZKoIAAggggAACCCCAAAIeCZg6H/OoeaG4DQmYUITZm0aaOuDjEzDXH9tETmnHHjDeRJ27IIAAAggggAACCCCAgAkCps7HTLCxpQ4kYGyJlAH1NHXAL/hhlZwUswKGBIwBnYUqIIAAAggggAACCCCAgKcCps7HPG1kwG9GAibgAfayeaYO+PgEzKRjm8rgdtW9bDr3QgABBBBAAAEEEEAAAQTyKmDqfCyvKJYVTgLGsoDls7qmDvj5i1fJyfft3gOGBEw+ewllI4AAAggggAACCCCAgB8Cps7H/GhrUO9JAiaokfWhXaYO+PgEzA3HNZWT27ICxocuwC0RQAABBBBAAAEEEEAgTwKmzsfyxGFlsSRgrAxbfipt6oB/d/FKGXzfe1EUEjD56R+UigACCCCAAAIIIIAAAv4JmDof86/FwbszCZjgxdS3Fpk64OMTMJOPayonsQLGt37AjRFAAAEEEEAAAQQQQCD3AqbOx3IvYW+JJGDsjV3Oa27qgH/3+5Uy+P7dK2BIwOS8a1AgAggggAACCCCAAAII+Cxg6nzM52YH6vYkYAIVTn8bY+qAj0/A/PP4pjKoDXvA+NsbuDsCCCCAAAIIIIAAAgjkUsDU+VguDWwviwSM7RHMYf1NHfDvfL9STolZAUMCJoedgqIQQAABBBBAAAEEEEAgJwKmzsdy0viAFEICJiCBzEUzTB3w8QmYG49vJgPbVMsFCWUggAACCCCAAAIIIIAAAjkRMHU+lpPGB6QQEjABCWQummHqgH/7u5Uy5IHde8CQgMlFb6AMBBBAAAEEEEAAAQQQyKWAqfOxXBrYXhYJGNsjmMP6mzrg90jAnNBMBrZmBUwOuwZFIYAAAggggAACCCCAgM8Cps7HfG52oG5PAiZQ4fS3MaYO+Le++0NOfeD9aONvJAHjb0fg7ggggAACCCCAAAIIIJBzAVPnYzmHsLhAEjAWBy/XVTd1wMcnYG46oZmcyAqYXHcPykMAAQQQQAABBBBAAAEfBUydj/nY5MDdmgRM4ELqX4NMHfBvLvpDhj64ewUMCRj/+gB3RgABBBBAAAEEEEAAgfwImDofy4+GnaWSgLEzbnmptakDPj4Bc/OJzeWEVgfnxYhCEUAAAQQQQAABBBBAAAE/BEydj/nR1qDekwRMUCPrQ7tMHfDzFv0hp8WsgCEB40PwuSUCCCCAAAIIIIAAAgjkVcDU+VheUSwrnASMZQHLZ3VNHfDxCZh/ndhcjmcFTD67CmUjgAACCCCAAAIIIICAxwKmzsc8bmagb0cCJtDh9bZxpg74ud/+LsMe+iDaWBIw3saduyGAAAIIIIAAAggggED+BUydj+Vfxp4akICxJ1Z5r6mpAz4+AXPLwOZyXEv2gMl7h6ECCCCAAAIIIIAAAggg4JmAqfMxzxoYghuRgAlBkL1qoqkDfs63v8vpMStgSMB4FXHugwACCCCAAAIIIIAAAqYImDofM8XHhnqQgLEhSobU0dQBH5+AuXVQczn2UFbAGNJtqAYCCCCAAAIIIIAAAgh4IGDqfMyDpoXmFiRgQhPq7Btq6oCf883vcvrDu/eAIQGTfay5AwIIIIAAAggggAACCJglYOp8zCwls2tDAsbs+BhVO1MHfHwCZsqgFjLg0IOMsqMyCCCAAAIIIIAAAggggEA2AqbOx7JpU9iuJQETtohn0V5TB/wb3/wmZzz8YbRlJGCyCDKXIoAAAggggAACCCCAgJECps7HjMQytFIkYAwNjInVMnXAxydgbjuphRzTghUwJvYh6oQAAggggAACCCCAAAKZCZg6H8usNeG8igRMOOOeUatNHfD//fo3OfOR3StgSMBkFF4uQgABBBBAAAEEEEAAAYMFTJ2PGUxmXNVIwBgXEnMrZOqAn/3VbzL83yRgzO051AwBBBBAAAEEEEAAAQSyFTB1PpZtu8J0PQmYMEU7y7aaOuDjEzC3n3yoHN38wCxby+UIIIAAAggggAACCCCAgDkCps7HzBEyvyYkYMyPkTE1NHXAz/rqNzkrZgUMCRhjugwVQQABBBBAAAEEEEAAAY8ETJ2PedS8UNyGBEwowuxNI00d8PEJmDtOPlSOYgWMN0HnLggggAACCCCAAAIIIGCEgKnzMSNwLKkECRhLAmVCNU0d8DO//FVGPPpRlIgEjAm9hToggAACCCCAAAIIIICAlwKmzse8bGPQ70UCJugR9rB9pg74+ATMnYMPlSObsQeMh6HnVggggAACCCCAAAIIIJBnAVPnY3lmsap4EjBWhSu/lTV1wL/+5a9ydswKGBIw+e0nlI4AAggggAACCCCAAALeC5g6H/O+pcG9IwmY4MbW85aZOuDjEzBTB7eU/s2qet5+bogAAggggAACCCCAAAII5EvA1PlYvjxsLJcEjI1Ry1OdTR3wr33xq5zz2O49YEjA5KmDUCwCCCCAAAIIIIAAAgj4JmDqfMy3BgfwxiRgAhhUv5pk6oCPT8DcdUpL6deUFTB+9QPuiwACCCCAAAIIIIAAArkXMHU+lnsJe0skAWNv7HJec1MH/GtfrJBzHlsY9SABk/OuQYEIIIAAAggggAACCCDgs4Cp8zGfmx2o25OACVQ4/W2MqQM+PgFz9yktpS8rYPztDNwdAQQQQAABBBBAAAEEcipg6nwspwiWF0YCxvIA5rL6pg74/3y+QkY+vnsFDAmYXPYKykIAAQQQQAABBBBAAIFcCJg6H8tF24NSBgmYoEQyB+0wdcDHJ2DuGdJS+jRhD5gcdAmKQAABBBBAAAEEEEAAgRwJmDofy1HzA1EMCZhAhDE3jTB1wL/6+Qo5N2YFDAmY3PQHSkEAAQQQQAAB1kv39wAAIABJREFUBBBAAIHcCZg6H8udgP0lkYCxP4Y5a4GpA37PBEwr6dOkSs5cKAgBBBBAAAEEEEAAAQQQ8FvA1PmY3+0O0v1JwAQpmj63xdQB/8pnK+S8J3bvAXPPEBIwPncFbo8AAggggAACCCCAAAI5FjB1PpZjBquLIwFjdfhyW3lTB3x8AubeU1tJ78asgMlt76A0BBBAAAEEEEAAAQQQ8FPA1PmYn20O2r1JwAQtoj62x9QBP+OzX2TUEx9HW04CxsdOwK0RQAABBBBAAAEEEEAgLwKmzsfygmFpoSRgLA1cPqpt6oCPT8D836mtpBcrYPLRRSgTAQQQQAABBBBAAAEEfBIwdT7mU3MDeVsSMIEMqz+NMnXAT//0Fzn/yd0rYEjA+BN/7ooAAggggAACCCCAAAL5EzB1PpY/EftKJgFjX8zyVmNTB3x8Aua+oa2lZ6PKeXOiYAQQQAABBBBAAAEEEEDAawFT52NetzPI9yMBE+Toetw2Uwf8y5/+Iv+IWQFDAsbjwHM7BBBAAAEEEEAAAQQQyLuAqfOxvMNYVAESMBYFK99VNXXAxydg7h/aWnqwAibf3YXyEUAAAQQQQAABBBBAwEMBU+djHjYx8LciAeNDiIcNGyaPPPKIqzt37dpV5syZ4+rcyEl6zbx585Je079/f5kxY0Za9011sqkD/qVPfpbRT30SrT4JmFSR5OcIIIAAAggggAACCCBgm4Cp8zHbHPNZXxIwPuiPHj1ann766ULvvGPHDlm5cqXz84svvlhuvvnmtGoRScCUKlVKSpcunfDanj17yqOPPprWfVOdbOqAj0/APHBaa+nekD1gUsWTnyOAAAIIIIAAAggggIA9AqbOx+wRzH9NScDkIQZPPPGEnHLKKU7Jn3/+uTRp0iStWkQSMOPHj5cJEyakdW02J5s64EnAZBNVrkUAAQQQQAABBBBAAAEbBEydj9lgZ0odScDkIRK9evWSWbNmSevWreWDDz5IuwYkYAqSxSdgHhzWWo5owAqYtDsWFyCAAAIIIIAAAggggICxAiRgjA2N64qRgHFN5c2Jy5cvl0MOOUR27twpU6dOlXPPPTftG5OAKUj24sc/ywVP794DhgRM2l2KCxBAAAEEEEAAAQQQQMBwARIwhgfIRfVIwLhA8vKUSZMmybhx40QHz4oVK2S//fZL+/YkYJInYB4a1ka6NaiUtisXIIAAAggggAACCCCAAAKmCpCAMTUy7utFAsa9lSdn1q9fXxYtWiQDBw5MulFvssIiCZg6derI1q1bnUSObsbbsGFDOeaYY+Scc86RsmXLelLf2JuYOuCnfbxcLnz602hVScB4HnpuiAACCCCAAAIIIIAAAnkWMHU+lmcWq4onAZPDcL377rvSsWNHp8RXX31V+vbtm1Hpsa+hLlGihJQsWVLWrl0ru3btcu5XvXp1efnll6V58+Zp3T8yoAu7SJM9Wt6WLVvSuq/fJ++RgDm9jXSrzwoYv925PwIIIIAAAggggAACCOROgARM7qz9KokEjF+yCe571llnyf333y8HHnigLF26VIoVK5ZR6fr2oxo1aoi+alrvVbRoUfnzzz/lySeflCuuuELWrVsnVatWdd6wVLFiRddl2JqAeWHhcrnomZgVMCRgXMecExFAAAEEEEAAAQQQQMAOARIwdsQpWS1JwPytM3nyZBk7dmxGEe3SpYvMnTs36bWbNm2SKlWqOMmRyy+/XLQ8P44PP/xQOnToINu2bXPao3vOeHWYOuDjEzAPn95GurICxquwcx8EEEAAAQQQQAABBBAwQMDU+ZgBNNZUgQRMjhIwjz/+uAwZMsQp7euvv5YGDRr41klOPfVUeeyxx6RJkybOKhivDlMH/PMfLZeLn929AoYEjFcR5z4IIIAAAggggAACCCBgioCp8zFTfGyoBwmYv6Ok+6fs2LEjo5gVKVIk5eNE+rjQ7NmzpX379jJ//vyMynF7kb7eetSoUc7eMH/99Zfby1KeZ+qAj0/APHJGW+lS74CU7eEEBBBAAAEEEEAAAQQQQMAWAVPnY7b4mVBPEjA5iMKyZcucPVt27twp9957r4wYMcLXUiMJmFKlSsmGDRs8K8vUAf/cR8vlkpgVMCRgPAs5N0IAAQQQQAABBBBAAAFDBEydjxnCY0U1SMDkIEzXXXedXHXVVbLvvvs6r4wuV66cr6UOHTpUHn30UWncuLF88cUXnpVl6oCPT8D8+4y20pkVMJ7FnRshgAACCCCAAAIIIIBA/gVMnY/lX8aeGpCAyUGs6tWrJ999950MHjxYdC+YbA59VEofeSrs+Pjjj53HnPSV0WPGjJEbbrghm+IKXGvqgN+5c5fs2LVL/n4LtxQvWkSKFi3cyDMQboQAAggggAACCCCAAAII5EjA1PlYjpofiGJIwPgcxrfffls6derklDJz5kzn1dGpjgkTJsg111zjnKYJl9hDEyqLFi2Sk046yUm0RFbTrF69Wp5++mnnzUdr1qxx3rikq1/SeQ11qnox4FMJ8XMEEEAAAQQQQAABBBBAwB8B5mP+uObyriRgfNYePny4PPDAA1KtWjVZsmSJFC1aNGWJyRIwsT/TG5UtW9bZAFiTLpFkTa1atWTatGnSrFmzlGWlcwIDPh0tzkUAAQQQQAABBBBAAAEEvBNgPuadZb7uRALGR/mNGzdK1apVZd26dTJu3DjRvWDcHMkSMF9++aU89dRT8u6778rixYtl1apVsmXLFqlQoYI0bdpUjj32WDnttNNEN+D1+mDAey3K/RBAAAEEEEAAAQQQQAABdwLMx9w5mXwWCRiTo2NY3RjwhgWE6iCAAAIIIIAAAggggEBoBJiP2R9qEjD2xzBnLWDA54yaghBAAAEEEEAAAQQQQACBAgLMx+zvECRg7I9hzlrAgM8ZNQUhgAACCCCAAAIIIIAAAiRgAtYHSMAELKB+NocEjJ+63BsBBBBAAAEEEEAAAQQQKFyA+Zj9vYMEjP0xzFkLGPA5o6YgBBBAAAEEEEAAAQQQQKCAAPMx+zsECRj7Y5izFjDgc0ZNQQgggAACCCCAAAIIIIAACZiA9QESMAELqJ/NIQHjpy73RgABBBBAAAEEEEAAAQQKF2A+Zn/vIAFjfwxz1gIGfM6oKQgBBBBAAAEEEEAAAQQQKCDAfMz+DkECxv4Y5qwFDPicUVMQAggggAACCCCAAAIIIEACJmB9gARMwALqZ3NIwPipy70RQAABBBBAAAEEEEAAgcIFmI/Z3ztIwNgfw5y1gAGfM2oKQgABBBBAAAEEEEAAAQQKCDAfs79DkICxP4Y5awEDPmfUFIQAAggggAACCCCAAAIIkIAJWB8gAROwgPrZHBIwfupybwQQQAABBBBAAAEEEECgcAHmY/b3DhIw9scwZy1gwOeMmoIQQAABBBBAAAEEEEAAgQICzMfs7xAkYOyPYc5awIDPGTUFIYAAAggggAACCCCAAAIkYALWB0jABCygfjaHBIyfutwbAQQQQAABBBBAAAEEEChcgPmY/b2DBIz9McxZCxjwOaOmIAQQQAABBBBAAAEEEECggADzMfs7BAkY+2OYsxYw4HNGTUEIIIAAAggggAACCCCAAAmYgPUBEjABC6ifzSEB46cu90YAAQQQQAABBBBAAAEEChdgPmZ/7yABY38Mc9YCBnzOqCkIAQQQQAABBBBAAAEEECggwHzM/g5BAsb+GOasBQz4nFFTEAIIIIAAAggggAACCCBAAiZgfYAETMAC6mdzSMD4qcu9EUAAAQQQQAABBBBAAIHCBZiP2d87SMDYH8OctYABnzNqCkIAAQQQQAABBBBAAAEECggwH7O/Q5CAsT+GOWtBkSJFnLJKlCiRszIpCAEEEEAAAQQQQAABBBBAQGTr1q0Ow65du+CwVIAEjKWBy0e1TU7ARD6MSA7lo2eEu0z6Xrjjn6/W0+/yJR/ucul34Y5/vlpPv8uXfLjLNbXfkYCxv1+SgLE/hrRARFiORzfIlwB9L1/y4S6Xfhfu+Oer9fS7fMmHu1z6Xbjjn6/W0+/yJR/8cknABD/GoWghH5KhCLORjaTvGRmWwFeKfhf4EBvZQPqdkWEJfKXod4EPsZENpN8ZGZZAVIoETCDCSCP4kKQP5EuAvpcv+XCXS78Ld/zz1Xr6Xb7kw10u/S7c8c9X6+l3+ZIPfrkkYIIf41C0kA/JUITZyEbS94wMS+ArRb8LfIiNbCD9zsiwBL5S9LvAh9jIBtLvjAxLICpFAiYQYaQRfEjSB/IlQN/Ll3y4y6XfhTv++Wo9/S5f8uEul34X7vjnq/X0u3zJB79cEjDBj3EoWsiHZCjCbGQj6XtGhiXwlaLfBT7ERjaQfmdkWAJfKfpd4ENsZAPpd0aGJRCVIgETiDDSCD4k6QP5EqDv5Us+3OXS78Id/3y1nn6XL/lwl0u/C3f889V6+l2+5INfLgmY4Mc4FC3kQzIUYTaykfQ9I8MS+ErR7wIfYiMbSL8zMiyBrxT9LvAhNrKB9DsjwxKISpGACUQYaQQCCCCAAAIIIIAAAggggAACCJgsQALG5OhQNwQQQAABBBBAAAEEEEAAAQQQCIQACZhAhJFGIIAAAggggAACCCCAAAIIIICAyQIkYEyODnVDAAEEEEAAAQQQQAABBBBAAIFACJCACUQYaQQCCCCAAAIIIIAAAggggAACCJgsQALG5OhQNwQQQAABBBBAAAEEEEAAAQQQCIQACZhAhJFGIIAAAggggAACCCCAAAIIIICAyQIkYEyODnVDAAEEEEAAAQQQQAABBBBAAIFACJCACUQYaQQCCCCAAAIIIIAAAggggAACCJgsQALG5OhQt5QCf/zxh0yePFlefvllWb58uZQqVUpatmwp5557rgwYMCDl9ZwQPgHtJy+88IL897//lU8//VRWrFghe+21lxxyyCHSo0cPGT16tNSqVatQmF27dslDDz0kDz74oHz55ZeydetWqVmzppxwwgly6aWXOn0w2fHDDz/IP//5T3n99dfl119/lfLly8thhx0mF1xwgXTp0iV8AQlxi3fs2CFt27aVhQsXOgrjx4+XCRMmJBSh34W4o3jU9KVLl8rtt98ur732muj/3rlzp1StWlXatGkjgwYNkmOOOWaPkuh3HuGH8Dbavx5//HF59NFH5ZNPPpHVq1fLvvvuK7Vr15a+ffs6v/MqVarE510I+0Y2TV6/fr3MmTNHPvzwQ+c/H330kfz+++/OLfXfu3btmvL206ZNk7vvvtv53fvXX39JtWrV5KijjpKxY8fK/vvvn/T6bOcd2ZSdsmGcYI0ACRhrQkVF4wV08nvEEUdEP3jLlCkjGzduFJ3U6PGPf/xDbrvtNuAQiAosW7bMSbTopCJylC1bVjZt2iTbtm1z/kn/QHz44Ydl4MCBe8ht375djj/+eCfhp4cmbkqUKOH8AtejXr168uabb0rlypUTqusfB0cffbRs2LDB+bmWrX9MaH2KFCkiN910k1x88cVELCQCN998s5O0ixyFJWDodyHpED42UyfB55xzjvM7Uo+SJUs6nzmRz67u3bvL7NmzC9SAfudjQAJ+a/2dqgm9WbNmFfhdq/0t8jdahQoV5D//+Y+ThI496HcB7xxZNu/FF1+UY489ttC/sVIlYEaNGiVTp051ri9WrJjzWah/h+mhf7vp32kNGzZMeP9s5x3ZlJ0lG5cbJkACxrCAUB13Alu2bJFGjRqJriZo0qSJPPbYY9K8eXPnj8tbb71VrrrqKmdSq6sUTj/9dHc35azACyxZssRZ3dKvXz8ZNmyYdOvWTSpWrCj6B9+7774r559/vnz22WdSvHhx51uVZs2aFTAZN26cTJo0Sfbee2+54447nHtoEmbevHkyZMgQZxVW586dnf8ff+g3NPXr15c1a9Y439Dcf//9zjeB+v+vvvpq5346IdJJkCYWOYItoH2xcePGzjfAOln57bffCl0BQ78Ldl/wu3XPPfecs8JFVyScccYZctlllzmfRXqsWrXK+bzS/njRRRfxeed3MEJy/8hnlv5Omzhxopx33nmy3377OV90zJw5U0aOHCn6hYiuHv3uu++ciXDk4PMuJJ0kw2ZqAmbEiBHSqlUrad26tTMXGDx4sHO3VCtg7rvvPuda7ZfXXnutXHjhhU4CRldD699wX3zxhdSpU8dZ3axfrsUe2c47sik7QyouM1iABIzBwaFqhQvoZFVXuOgH59dffy3Vq1cvcHIky3zggQc6f1jqJJkDgbVr1zr9QZN1iQ6dBDdt2lR0iakm7jSBFzk0gVKjRg1nsqwrF+JXqnzwwQfSrl07J/H3yiuvOEme2EPPv+WWW0T7pPZZXf0Se+jy1xkzZjiPA7z//vsEK+ACffr0cR5D05jr5OSnn35KmICh3wW8I/jcPP0sa9Cggfz5559yxRVXyPXXX++qRPqdKyZOKkRAf1fqZ5p+SaGP7MYfb7zxhuiqKz30953+3tODfkeXSiWgK6hiE3a6olhXwOuRLAGjj4vrCmh99FvnCDqPiD20v2oyR7/I1RUyupVB7JHNvCPbslOZ8HP7BEjA2BczaiziTHT1l/aZZ57prCSIP/T5dv0DQCfDOsnp1asXbgi4EtA/GB955BFn9Yt+KxI59Hlh/YWsiRPdN0aTf/GH7iGje8ucfPLJ8sQTT0R/rP3woIMOcq7Tb12uvPLKPa59++23pVOnTs6/f/vtt87jTBzBFNB9EfTbtuOOO06ef/5557OqsAQM/S6YfSBXrdLVB/pom/axRYsWuf4ygn6XqwgFs5x99tlHdMWATlp1sht/6CMfkS8h5s6dG93/jH4XzP7gZ6vcJmD0cTf9YkxXv+jvW933Jf4YPny4PPDAA86+fLoqOvbIZt6Rbdl++nHv/AiQgMmPO6VmIaAftvqLWye1zz77rLP5aaJDl/d/9dVXznJr3fSUAwE3Apdccon861//cr4J0WWokePEE08UXcrfv39/Z9VCokP3cNH+po+V6GqayKH30Ufl9NCVMrpsNv7Qb3X0mfh169bJXXfd5SzR5giegK5E0BUJupJKV0IdfPDBSRMw9Lvg9YFctkgfNdLEiyZ9Nfnr9qDfuZXivEQCuofGN998k3IFjD7m8csvvziPAutBv6M/pSvgNgGj+63p6mWdG+ijRokOnVPo/n+apNEkYeSlCtnOO7IpO10PzrdDgASMHXGiljECOoGNbNqmExidzCQ69Jn3Z555Ro488kiZPn06hgi4EtCl0Lqzvv4Sfvrpp6PXRBJ6l19+ufPmrURH5FsO/dnKlSujf1RGfqnrv+vyVt3oN9ER+YYl0fJYV5XnJOMFIius9HE0ff5cj2QrYOh3xofU2Arq/i6RN3roSlBdtaefXfPnz3c+h/QbYH0UTicH8d8G0++MDasVFZsyZYrz+RbZa0NXj+oeMLrfmu4BoxtC6x4w11xzjbMHWuSg31kRXqMq6TYBo1+evfrqq85+WE899VTCNuicQr9800P/DtR9ZvTIdt6RTdlGYVMZzwRIwHhGyY1yJaBvoIm8LlP39IjfSyNSD/3lr38E6AeofpByIJBKIHZ3fU2m6OQkcujqFH2Npr5ZS/cfSnToI0stWrRwfvT5559HV73oq1/19db6B6iugCjs0J39tQ76piVdbcMRLAF9PE0fU9M+op9JkefYkyVg6HfB6gO5bM2CBQucpfR66P4vmnzRjXgj3+pG3oCkn0v6JUXHjh35vMtlgAJclq7o1H3P9Hdf5K2D5cqVc94AqD/TFaH6c01Ixx583gW4U/jUNLcJmJYtW8rHH3/sJAb1C5BEh84pypcv7/xIPxP1C1w9sp13ZFO2T2zcNs8CJGDyHACKT19A99Y45ZRTnAt1R319Y02iI7KTvu6loXtqcCCQTECfCdZHg3Tliib4NBESe+hSae1vupO9Piec6NC3OUT2btHnhyOTH31zkvZH3QdG35RU2KH9Wvu37lmk31hzBEdg8+bNzgbP+uY27Ru62ilyJEvA0O+C0wdy3ZLXXntN+vbt6xSrKxH0DXC6Ierhhx/u/JvuO6WbjS9evNh5/ao+MhKZfNDvch2t4JWniZZ77rnHebuWbkIae+jbj3SlZ2SVTORn9Lvg9QO/W+Q2AaN/m+nfaPq32HXXXZewWvo3XuTtR/q3mO7np0e2845syvbbj/vnR4AETH7cKTULgWw/CLMomksDKqCvgtbXR+uqFZ2k6HJT/SYu9uAPw4AGP0fNGjt2rLMCQZfe60aTsQcJmBwFIWTF6HJ7XfoeScAsXLgwukIvQvHJJ584q0R1ZYzuYaV7YOnB513IOovHzdW3GQ0YMMB53E03HNfVLnXr1nXecqT9Uvck0t+7+rNHH300Wjr9zuNAhOB2XiZg9BG5yFtTc52AKazsEIQwlE0kARPKsNvd6GyXAtrdemrvtYD+8u7Zs6focn19RfRbb73lJGHiD5ZGey0fnvt99tlnziRXN5qMXWUQEeARpPD0hVy29M0334y+XeaII45w3tCW6NAVd7NmzZLevXuLrprRg8+7XEYqeGXp47u6irOw11Dr64L1NdT6eJL2Oe179Lvg9YNctMhtAiabx4CynXdkU3YuDCkj9wIkYHJvTolZCujeCbpRqh5swpslZsgv140odYm+TlQOOOAAmTdvnujbGxId+sy6vs0ok014dT8XfbuDHmzCG75O17VrV6dv3XvvvTJ48OA9AHTjyaVLl4quktG9OvQoXbq089/0u/D1F69a/P333zurDvTQTVCnTp2a8Na6p5W+Llg/+/TNgfQ7ryIQzvvEbmQauxdavIYmpXVV1tlnn+08qkS/C2d/ybbVbhMwup/LK6+8ktEmvNnOO7IpO1sfrjdTgASMmXGhVkkEYl8HpxNb3bA02YSZ11DTnRIJ6GuA9ZfiG2+84WyOq/8d2UA30fn6ViR9m1Gyt2rpKw71jSLxr6HWSY1OsvWI3Vk/thx9BEDrwWuog9dfIytc0mmZbvis+3HQ79JR49z4z5QyZco4Sd9kCZjzzz9f7rzzTuftH5pk1oN+R1/KVOD555+XE044wblcN3rWt28lOiKvnI5deUW/y1Q9vNe5TcDoXEAfs9QvNTQxmOiIfFmW7DXUmcw7sik7vJENdstJwAQ7voFtXfv27eW9995zNkPVTVHjD93otHr16s7yVl0Gq0usORCICGzZssXZaFf7hr5FS5ffR15tXpiSfkM3cuRI5/xff/014auk9VGm2bNnOxu36fPDkUP7oW7Au2LFCmfzN90ELv545513optj6qbRkc18iZr9AtkkYOh39sc/ny2IfPParVs3J8mc6Ih8bvXr18/5hlgP+l0+o2Z32dOmTZPjjjvOaUSyVcq6Efn777/vrA595pln6Hd2hz1vtXebgIlsSq7JFV1xevDBB+9R57POOkvuv/9+5wUKull+7JHNvCPbsvOGS8G+CZCA8Y2WG/spoMulddm0vk5Tf8FXq1atQHGRJdW6p8eSJUuim2r5WSfubYeA7nKvfxzOmDHD6T+ahIl9/WphrdDNA3UirStn9BWG+vaG2OOjjz5yHo3TZItOYnQyE3voJoR6nf7S1xUx+s107KEJIX3OWO+hf5RyhEcg2R4w9Lvw9AM/WqoT20GDBjlvQdLVd7oXQeyhr2XVR0H0c0tXwZx33nnOj+l3fkQjHPfUv7n0LUd6jB49WqZMmbJHw7Uv6oRW35SkK0f19yP9Lhz9w+tWuk3A6Ju4DjnkEOcLNJ0j3HbbbQWqsmzZMucxTF21pY9r6qrB2CObeUe2ZXttxv3yL0ACJv8xoAYZCOgKBl0ura90bdasmbOLvv63To71Q1X3UdA/KB988EHnNZscCKiA/rGnq1P0UaJ9993XSZToN8Nuj8irzffee2/nF/Rpp53mvAZd95DRtznoL3B9m5Lu9xF/6ISmfv36zpsftEz9lkU3+127dq2MHz/e6bc6SdLVOLo5IUd4BJIlYFSBfheevuB1S/X3oH6bqytG9fPm4Ycflk6dOjnF6Ibjukmq/h7VCfMXX3xR4HER+p3X0QjP/XRvNf3Wv2jRok5yRV9FXaVKFedvNH0LkiZmfv75ZylXrpzzGnTdoDxy0O/C008ybenKlSujl2rCRH+H6vHiiy8W+EJN+1fkrUb6c10xP2LECOdvrUmTJjn9UP8W1I3yTz31VOe/69Sp4zyKGXkddaSgbOcd2ZSdqRPXmStAAsbc2FCzFAL6AalvdtCJrR76aIg+666vctNDn2u//fbbcUQgKhD7VhBNougeG8kO/aYk9tC+pXsO6UoVPfQXtP5y1z8A9NDHhjT5on9oJjr0zQ9HH3206Dc2eugfB+vXr3deAat/EOjzyZFvAglbeARSJWDod+HpC360VB991I2gFy1a5Nw+ssFz5HNIH4/UybLujcDnnR8RCN899Xdnjx49onsKRfqd/q7UpGDkbzbdL0bPo9+Fr49k02L9e8nNoX9z6Wdf7KGr/O666y7nn/QLNN2jSPfe06Ny5cqi1xT2MoZs5x3ZlO2mvZxjjwAJGHtiRU0TCGjyZfLkyTJ9+nRn9YE+UqJLrPVDbsCAAZghUEBg7ty5aa14ifyhGHsT/beHHnrIWV2l3xjrI0367bFuOqgb8GofTHbot83aZ/XRJ/0jVZNA+g21PtLUpUsXIhZCgVQJGCWh34WwY3jYZP1yQh+B1A0kdcWBrgasXbu2sxeWfvbErkDg885D+BDfavPmzc5KT02y6KanutpTv/jQfqf78uljIPGPj0e4+LwLccdx0fRsEjB6e92nSJMw+hYuTQpqP9Qvx8aMGeO8ETPZke28I5uyXdBwiiUCJGAsCRTVRAABBBBAAAEEEEAAAQQQQAABewVIwNgbO2qOAAIIIIAAAggggAACCCCAAAKWCJCAsSRQVBMBBBBAAAEEEEAAAQQQQAABBOz31ZsjAAAFcElEQVQVIAFjb+yoOQIIIIAAAggggAACCCCAAAIIWCJAAsaSQFFNBBBAAAEEEEAAAQQQQAABBBCwV4AEjL2xo+YIIIAAAggggAACCCCAAAIIIGCJAAkYSwJFNRFAAAEEEEAAAQQQQAABBBBAwF4BEjD2xo6aI4AAAggggAACCCCAAAIIIICAJQIkYCwJFNVEAAEEEEAAAQQQQAABBBBAAAF7BUjA2Bs7ao4AAggggAACCCCAAAIIIIAAApYIkICxJFBUEwEEEEAAAQQQQAABBBBAAAEE7BUgAWNv7Kg5AggggAACCCCAAAIIIIAAAghYIkACxpJAUU0EEEAAAQQQQAABBBBAAAEEELBXgASMvbGj5ggggAACCCCAAAIIIIAAAgggYIkACRhLAkU1EUAAAQQQQAABBBBAAAEEEEDAXgESMPbGjpojgAACCCCAAAIIIIAAAggggIAlAiRgLAkU1UQAAQQQQAABBBBAAAEEEEAAAXsFSMDYGztqjgACCCCAAAIIIIAAAggggAAClgiQgLEkUFQTAQQQQAABBBBAAAEEEEAAAQTsFSABY2/sqDkCCCCAAAIIIIAAAggggAACCFgiQALGkkBRTQQQQAABBBBAAAEEEEAAAQQQsFeABIy9saPmCCCAAAIIIIAAAggggAACCCBgiQAJGEsCRTURQAABBBBAAAEEEEAAAQQQQMBeARIw9saOmiOAAAIIIIAAAggggAACCCCAgCUCJGAsCRTVRAABBBBAAAEEEEAAAQQQQAABewVIwNgbO2qOAAIIIIAAAggggAACCCCAAAKWCJCAsSRQVBMBBBBAAAEEEEAAAQQQQAABBOwVIAFjb+yoOQIIIIAAAggggAACCCCAAAIIWCJAAsaSQFFNBBBAAAEEEEAAAQQQQAABBBCwV4AEjL2xo+YIIIAAAggggAACCCCAAAIIIGCJAAkYSwJFNRFAAAEEEEAAAQQQQAABBBBAwF4BEjD2xo6aI4AAAggggAACCCCAAAIIIICAJQIkYCwJFNVEAAEEEEAAAQQQQAABBBBAAAF7BUjA2Bs7ao4AAggggAACCCCAAAIIIIAAApYIkICxJFBUEwEEEEAAAQQQQAABBBBAAAEE7BUgAWNv7Kg5AggggAACCCCAAAIIIIAAAghYIkACxpJAUU0EEEAAAQQQQAABBBBAAAEEELBXgASMvbGj5ggggAACCCCAAAIIIIAAAgggYIkACRhLAkU1EUAAAQQQQAABBBBAAAEEEEDAXgESMPbGjpojgAACCCCAAAIIIIAAAggggIAlAiRgLAkU1UQAAQQQQAABBBBAAAEEEEAAAXsFSMDYGztqjgACCCCAAAIIIIAAAggggAAClgiQgLEkUFQTAQQQQAABBBBAAAEEEEAAAQTsFSABY2/sqDkCCCCAAAIIIIAAAggggAACCFgiQALGkkBRTQQQQAABBBBAAAEEEEAAAQQQsFeABIy9saPmCCCAAAIIIIAAAggggAACCCBgiQAJGEsCRTURQAABBBBAAAEEEEAAAQQQQMBeARIw9saOmiOAAAIIIIAAAggggAACCCCAgCUCJGAsCRTVRAABBBBAAAEEEEAAAQQQQAABewVIwNgbO2qOAAIIIIAAAggggAACCCCAAAKWCJCAsSRQVBMBBBBAAAEEEEAAAQQQQAABBOwVIAFjb+yoOQIIIIAAAggggAACCCCAAAIIWCJAAsaSQFFNBBBAAAEEEEAAAQQQQAABBBCwV4AEjL2xo+YIIIAAAggggAACCCCAAAIIIGCJAAkYSwJFNRFAAAEEEEAAAQQQQAABBBBAwF4BEjD2xo6aI4AAAggggAACCCCAAAIIIICAJQL/D2YXwrUy9NUcAAAAAElFTkSuQmCC\" width=\"640\">"
      ],
      "text/plain": [
       "<IPython.core.display.HTML object>"
      ]
     },
     "metadata": {},
     "output_type": "display_data"
    },
    {
     "data": {
      "text/plain": [
       "<matplotlib.axes._subplots.AxesSubplot at 0x12ddb6908>"
      ]
     },
     "execution_count": 329,
     "metadata": {},
     "output_type": "execute_result"
    }
   ],
   "source": [
    "pd.DataFrame(r).plot()"
   ]
  },
  {
   "cell_type": "code",
   "execution_count": null,
   "metadata": {},
   "outputs": [],
   "source": []
  },
  {
   "cell_type": "code",
   "execution_count": null,
   "metadata": {},
   "outputs": [],
   "source": []
  },
  {
   "cell_type": "code",
   "execution_count": null,
   "metadata": {},
   "outputs": [],
   "source": []
  },
  {
   "cell_type": "code",
   "execution_count": null,
   "metadata": {},
   "outputs": [],
   "source": []
  },
  {
   "cell_type": "code",
   "execution_count": null,
   "metadata": {},
   "outputs": [],
   "source": []
  },
  {
   "cell_type": "code",
   "execution_count": null,
   "metadata": {},
   "outputs": [],
   "source": []
  }
 ],
 "metadata": {
  "kernelspec": {
   "display_name": "Python 3",
   "language": "python",
   "name": "python3"
  },
  "language_info": {
   "codemirror_mode": {
    "name": "ipython",
    "version": 3
   },
   "file_extension": ".py",
   "mimetype": "text/x-python",
   "name": "python",
   "nbconvert_exporter": "python",
   "pygments_lexer": "ipython3",
   "version": "3.6.5"
  }
 },
 "nbformat": 4,
 "nbformat_minor": 2
}
