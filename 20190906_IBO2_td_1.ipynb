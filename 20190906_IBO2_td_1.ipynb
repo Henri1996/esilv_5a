{
 "cells": [
  {
   "cell_type": "code",
   "execution_count": 1,
   "metadata": {},
   "outputs": [
    {
     "name": "stdout",
     "output_type": "stream",
     "text": [
      "Hello world!\n"
     ]
    }
   ],
   "source": [
    "print(\"Hello world!\")"
   ]
  },
  {
   "cell_type": "code",
   "execution_count": 2,
   "metadata": {},
   "outputs": [
    {
     "name": "stdout",
     "output_type": "stream",
     "text": [
      "ALT + enter = exécuter et passer à la cellule suivante\n"
     ]
    }
   ],
   "source": [
    "print(\"ALT + enter = exécuter et passer à la cellule suivante\")"
   ]
  },
  {
   "cell_type": "code",
   "execution_count": 3,
   "metadata": {},
   "outputs": [
    {
     "name": "stdout",
     "output_type": "stream",
     "text": [
      "Ctrl + enter = exécuter et rester dans la cellule actuelle\n"
     ]
    }
   ],
   "source": [
    "print(\"Ctrl + enter = exécuter et rester dans la cellule actuelle\")"
   ]
  },
  {
   "cell_type": "markdown",
   "metadata": {},
   "source": [
    "# Transformer une cellule en MarkDown \n",
    "-> ESC + M"
   ]
  },
  {
   "cell_type": "code",
   "execution_count": 4,
   "metadata": {},
   "outputs": [],
   "source": [
    "# la tabulation est significative\n",
    "x = \"hello world\"\n",
    "for i in [1,2,3]:\n",
    "    y = \"test\"\n"
   ]
  },
  {
   "cell_type": "markdown",
   "metadata": {},
   "source": [
    "# 1) listes"
   ]
  },
  {
   "cell_type": "code",
   "execution_count": 5,
   "metadata": {},
   "outputs": [
    {
     "data": {
      "text/plain": [
       "[1, 2, 'a', 'b']"
      ]
     },
     "execution_count": 5,
     "metadata": {},
     "output_type": "execute_result"
    }
   ],
   "source": [
    "une_liste = [1,2,\"a\", \"b\"]\n",
    "une_liste"
   ]
  },
  {
   "cell_type": "code",
   "execution_count": 6,
   "metadata": {},
   "outputs": [
    {
     "data": {
      "text/plain": [
       "'azerhiuoxdrhdrt'"
      ]
     },
     "execution_count": 6,
     "metadata": {},
     "output_type": "execute_result"
    }
   ],
   "source": [
    "seconde_liste = \"azerhiuoxdrhdrt\"\n",
    "seconde_liste"
   ]
  },
  {
   "cell_type": "markdown",
   "metadata": {},
   "source": [
    "### documentation / auto complétion = \".\" + TAB"
   ]
  },
  {
   "cell_type": "code",
   "execution_count": 7,
   "metadata": {},
   "outputs": [
    {
     "data": {
      "text/plain": [
       "[1, 2, 'a', 'b']"
      ]
     },
     "execution_count": 7,
     "metadata": {},
     "output_type": "execute_result"
    }
   ],
   "source": [
    "une_liste"
   ]
  },
  {
   "cell_type": "markdown",
   "metadata": {},
   "source": [
    "### 1.1) recherche d'éléments à un indice donné"
   ]
  },
  {
   "cell_type": "code",
   "execution_count": 8,
   "metadata": {},
   "outputs": [
    {
     "data": {
      "text/plain": [
       "2"
      ]
     },
     "execution_count": 8,
     "metadata": {},
     "output_type": "execute_result"
    }
   ],
   "source": [
    "# les indices de listes commencent à 0\n",
    "une_liste[1]"
   ]
  },
  {
   "cell_type": "code",
   "execution_count": 9,
   "metadata": {},
   "outputs": [
    {
     "data": {
      "text/plain": [
       "'b'"
      ]
     },
     "execution_count": 9,
     "metadata": {},
     "output_type": "execute_result"
    }
   ],
   "source": [
    "# dernier élement de la liste \n",
    "une_liste[-1]"
   ]
  },
  {
   "cell_type": "markdown",
   "metadata": {},
   "source": [
    "### 1.1.1) slice de listes (recherche de sous éléments)"
   ]
  },
  {
   "cell_type": "code",
   "execution_count": 10,
   "metadata": {},
   "outputs": [
    {
     "data": {
      "text/plain": [
       "[2, 'a']"
      ]
     },
     "execution_count": 10,
     "metadata": {},
     "output_type": "execute_result"
    }
   ],
   "source": [
    "#élements en  2è et 3è position\n",
    "une_liste[1:3]"
   ]
  },
  {
   "cell_type": "code",
   "execution_count": 11,
   "metadata": {},
   "outputs": [],
   "source": [
    "dix = 10\n",
    "cent = dix * dix\n",
    "mil = dix * cent\n",
    "million = mil*mil\n",
    "milliard = mil * million"
   ]
  },
  {
   "cell_type": "code",
   "execution_count": 19,
   "metadata": {},
   "outputs": [
    {
     "data": {
      "text/plain": [
       "range(10, 20)"
      ]
     },
     "execution_count": 19,
     "metadata": {},
     "output_type": "execute_result"
    }
   ],
   "source": [
    "# sous ensemble\n",
    "grande_liste = range(cent)\n",
    "grande_liste[10:20]"
   ]
  },
  {
   "cell_type": "code",
   "execution_count": 22,
   "metadata": {},
   "outputs": [
    {
     "data": {
      "text/plain": [
       "[10, 12, 14, 16, 18]"
      ]
     },
     "execution_count": 22,
     "metadata": {},
     "output_type": "execute_result"
    }
   ],
   "source": [
    "# step dans liste\n",
    "list(grande_liste[10:20:2])"
   ]
  },
  {
   "cell_type": "code",
   "execution_count": 25,
   "metadata": {},
   "outputs": [
    {
     "data": {
      "text/plain": [
       "[20, 18, 16, 14, 12]"
      ]
     },
     "execution_count": 25,
     "metadata": {},
     "output_type": "execute_result"
    }
   ],
   "source": [
    "# step négatif dans liste\n",
    "list(grande_liste[20:10:-2])"
   ]
  },
  {
   "cell_type": "code",
   "execution_count": 27,
   "metadata": {},
   "outputs": [],
   "source": [
    "iterateur = grande_liste"
   ]
  },
  {
   "cell_type": "markdown",
   "metadata": {},
   "source": [
    "## 1.2) boucle for avec slice inversant la liste (::-1)"
   ]
  },
  {
   "cell_type": "code",
   "execution_count": 37,
   "metadata": {},
   "outputs": [
    {
     "name": "stdout",
     "output_type": "stream",
     "text": [
      "[1, 2, 'a', 'b']\n",
      "b,a,2,1,"
     ]
    }
   ],
   "source": [
    "print(une_liste)\n",
    "for i in c[::-1]:\n",
    "    print(i, end=\",\")"
   ]
  },
  {
   "cell_type": "markdown",
   "metadata": {},
   "source": [
    "## 1.3) fonction reversed"
   ]
  },
  {
   "cell_type": "code",
   "execution_count": 38,
   "metadata": {},
   "outputs": [
    {
     "name": "stdout",
     "output_type": "stream",
     "text": [
      "[1, 2, 'a', 'b']\n",
      "b,a,2,1,"
     ]
    }
   ],
   "source": [
    "print(une_liste)\n",
    "for i in reversed(une_liste):\n",
    "    print(i, end=\",\")"
   ]
  },
  {
   "cell_type": "markdown",
   "metadata": {},
   "source": [
    "## 1.4) enumerate"
   ]
  },
  {
   "cell_type": "code",
   "execution_count": 30,
   "metadata": {},
   "outputs": [],
   "source": [
    "hello_world = \"hello world !\""
   ]
  },
  {
   "cell_type": "code",
   "execution_count": 31,
   "metadata": {},
   "outputs": [
    {
     "name": "stdout",
     "output_type": "stream",
     "text": [
      "0 h\n",
      "1 e\n",
      "2 l\n",
      "3 l\n",
      "4 o\n",
      "5  \n",
      "6 w\n",
      "7 o\n",
      "8 r\n",
      "9 l\n",
      "10 d\n",
      "11  \n",
      "12 !\n"
     ]
    }
   ],
   "source": [
    "for indice, valeur in enumerate(hello_world):\n",
    "    print(indice, valeur)"
   ]
  },
  {
   "cell_type": "markdown",
   "metadata": {},
   "source": [
    "## 1.5) comprehension list"
   ]
  },
  {
   "cell_type": "markdown",
   "metadata": {},
   "source": [
    "## 1.5.1) append : ajouter un élément dans une liste"
   ]
  },
  {
   "cell_type": "code",
   "execution_count": 44,
   "metadata": {},
   "outputs": [],
   "source": [
    "import time"
   ]
  },
  {
   "cell_type": "code",
   "execution_count": 46,
   "metadata": {},
   "outputs": [
    {
     "data": {
      "text/plain": [
       "([134, 189, 119, 149, 190, 138, 155, 126, 105, 141], 9.989738464355469e-05)"
      ]
     },
     "execution_count": 46,
     "metadata": {},
     "output_type": "execute_result"
    }
   ],
   "source": [
    "debut = time.time()\n",
    "liste_aleatoire_classique = []\n",
    "for i in range(10):\n",
    "    liste_aleatoire_classique.append(random.randint(100, 200))\n",
    "fin    = time.time()\n",
    "delais_classique = fin - debut\n",
    "liste_aleatoire_classique, delais_classique"
   ]
  },
  {
   "cell_type": "markdown",
   "metadata": {},
   "source": [
    "## 1.5.2) la boucle for est intégrée dans la création de la liste => comprehension list"
   ]
  },
  {
   "cell_type": "code",
   "execution_count": 47,
   "metadata": {},
   "outputs": [
    {
     "data": {
      "text/plain": [
       "([135, 100, 168, 192, 104, 183, 188, 170, 167, 179], 8.797645568847656e-05)"
      ]
     },
     "execution_count": 47,
     "metadata": {},
     "output_type": "execute_result"
    }
   ],
   "source": [
    "import random\n",
    "debut = time.time()\n",
    "liste_aleatoire = [random.randint(100, 200) for i in range(10)]\n",
    "fin = time.time()\n",
    "delais_comprehension = fin - debut\n",
    "liste_aleatoire, delais_comprehension\n"
   ]
  },
  {
   "cell_type": "code",
   "execution_count": 63,
   "metadata": {},
   "outputs": [
    {
     "name": "stdout",
     "output_type": "stream",
     "text": [
      "\n",
      "----------- \n",
      "delais_comprehension = 0.0000879765\n",
      "delais_classique     = 0.0000998974\n",
      "\n",
      "Gain de performance  = 0.12\n",
      "\n"
     ]
    }
   ],
   "source": [
    "gain_de_performance = 1 - delais_comprehension/delais_classique\n",
    "print(f\"\"\"\n",
    "----------- \n",
    "delais_comprehension = {delais_comprehension:.10f}\n",
    "delais_classique     = {delais_classique:.10f}\n",
    "\n",
    "Gain de performance  = {gain_de_performance:.2f}\n",
    "\"\"\")"
   ]
  },
  {
   "cell_type": "markdown",
   "metadata": {},
   "source": [
    "## 1.6) multiplication de liste"
   ]
  },
  {
   "cell_type": "code",
   "execution_count": 57,
   "metadata": {},
   "outputs": [
    {
     "data": {
      "text/plain": [
       "'----------'"
      ]
     },
     "execution_count": 57,
     "metadata": {},
     "output_type": "execute_result"
    }
   ],
   "source": [
    "tiret = \"-\"\n",
    "tiret*dix"
   ]
  },
  {
   "cell_type": "code",
   "execution_count": 58,
   "metadata": {},
   "outputs": [
    {
     "data": {
      "text/plain": [
       "'-*--*--*--*--*--*--*--*--*--*-'"
      ]
     },
     "execution_count": 58,
     "metadata": {},
     "output_type": "execute_result"
    }
   ],
   "source": [
    "pattern = \"-*-\"\n",
    "pattern*dix"
   ]
  },
  {
   "cell_type": "code",
   "execution_count": 61,
   "metadata": {},
   "outputs": [
    {
     "data": {
      "text/plain": [
       "[0, 1, 2, 0, 1, 2, 0, 1, 2, 0, 1, 2]"
      ]
     },
     "execution_count": 61,
     "metadata": {},
     "output_type": "execute_result"
    }
   ],
   "source": [
    "valeurs = list(range(3))\n",
    "valeurs*4"
   ]
  },
  {
   "cell_type": "markdown",
   "metadata": {},
   "source": [
    "# 2) les boucles"
   ]
  },
  {
   "cell_type": "markdown",
   "metadata": {},
   "source": [
    "## 2.1) while : tant qu'une condition est respectée"
   ]
  },
  {
   "cell_type": "markdown",
   "metadata": {},
   "source": [
    "pop : extrait le dernier élément de la liste et le retourne"
   ]
  },
  {
   "cell_type": "code",
   "execution_count": 95,
   "metadata": {},
   "outputs": [
    {
     "name": "stdout",
     "output_type": "stream",
     "text": [
      "166 > 130 ? True\n",
      "117 > 130 ? False\n"
     ]
    }
   ],
   "source": [
    "test   = True\n",
    "limite = 130\n",
    "liste_aleatoire = [random.randint(100, 200) for i in range(100)]\n",
    "\n",
    "while test:\n",
    "    valeur  = liste_aleatoire.pop() # pop : extrait le dernier élément de la liste\n",
    "    test    = valeur > limite\n",
    "    print(f\"{valeur} > {limite} ? {test}\")"
   ]
  },
  {
   "cell_type": "markdown",
   "metadata": {},
   "source": [
    "## 2.2) break : sortir de la boucle sur un test"
   ]
  },
  {
   "cell_type": "code",
   "execution_count": 96,
   "metadata": {},
   "outputs": [
    {
     "name": "stdout",
     "output_type": "stream",
     "text": [
      "140 > 130 ? True\n",
      "192 > 130 ? True\n",
      "141 > 130 ? True\n",
      "Fin car 104 < 130\n"
     ]
    }
   ],
   "source": [
    "test   = True\n",
    "limite = 130\n",
    "liste_aleatoire = [random.randint(100, 200) for i in range(100)]\n",
    "\n",
    "while test:\n",
    "    valeur  = liste_aleatoire.pop()\n",
    "    test    = valeur > limite\n",
    "    if test is False:\n",
    "        print(f\"Fin car {valeur} < {limite}\")\n",
    "        break\n",
    "    print(f\"{valeur} > {limite} ? {test}\")"
   ]
  },
  {
   "cell_type": "markdown",
   "metadata": {},
   "source": [
    "### afficher deux valeurs, séparées par une virgule"
   ]
  },
  {
   "cell_type": "code",
   "execution_count": 102,
   "metadata": {},
   "outputs": [
    {
     "data": {
      "text/plain": [
       "(104, True)"
      ]
     },
     "execution_count": 102,
     "metadata": {},
     "output_type": "execute_result"
    }
   ],
   "source": [
    "valeur, valeur %2 ==0"
   ]
  },
  {
   "cell_type": "markdown",
   "metadata": {},
   "source": [
    "### affecter dans une variable le résultat d'un test"
   ]
  },
  {
   "cell_type": "code",
   "execution_count": 108,
   "metadata": {},
   "outputs": [
    {
     "data": {
      "text/plain": [
       "(2, True)"
      ]
     },
     "execution_count": 108,
     "metadata": {},
     "output_type": "execute_result"
    }
   ],
   "source": [
    "valeur = 2\n",
    "test_est_pair = valeur%2 ==0\n",
    "valeur, test_est_pair"
   ]
  },
  {
   "cell_type": "markdown",
   "metadata": {},
   "source": [
    "# 3) création de fonction"
   ]
  },
  {
   "cell_type": "code",
   "execution_count": 118,
   "metadata": {},
   "outputs": [],
   "source": [
    "def est_pair(nombre):\n",
    "    \"\"\"\n",
    "    Renvoie un booléen : Vrai / Faux\n",
    "    \"\"\"\n",
    "    return nombre%2 == 0"
   ]
  },
  {
   "cell_type": "markdown",
   "metadata": {},
   "source": [
    "## 2.3) continue : zapper des valeurs"
   ]
  },
  {
   "cell_type": "code",
   "execution_count": 117,
   "metadata": {},
   "outputs": [
    {
     "name": "stdout",
     "output_type": "stream",
     "text": [
      "Valeurs impaires : \n",
      "129 | 175 | 103 | 163 | 115 | 133 | 125 | 199 | 153 | 143 | 175 | 127 | 159 | 141 | 135 | 101 | 159 | 175 | 151 | 185 | 149 | 189 | 157 | 165 | 139 | 171 | 185 | 159 | 111 | 109 | 127 | 123 | 177 | 161 | 189 | 105 | 157 | 113 | 167 | 157 | 105 | 157 | 157 | 179 | 107 | 183 | 137 | 155 | 121 | 185 | 173 | 167 | 177 | 183 | 113 | "
     ]
    }
   ],
   "source": [
    "print(\"Valeurs impaires : \")\n",
    "liste_aleatoire = [random.randint(100, 200) for i in range(100)]\n",
    "while liste_aleatoire:\n",
    "    valeur  = liste_aleatoire.pop()\n",
    "    if est_pair(valeur):\n",
    "        continue\n",
    "    else:\n",
    "        print(valeur, end=\" | \")"
   ]
  },
  {
   "cell_type": "markdown",
   "metadata": {},
   "source": [
    "# Jupyter : faire des appels système avec le point d'exclamation"
   ]
  },
  {
   "cell_type": "code",
   "execution_count": 120,
   "metadata": {},
   "outputs": [
    {
     "name": "stdout",
     "output_type": "stream",
     "text": [
      "\u001b[1m\u001b[34m.\u001b[m\u001b[m                  \u001b[1m\u001b[34m.git\u001b[m\u001b[m               Untitled.ipynb\r\n",
      "\u001b[1m\u001b[34m..\u001b[m\u001b[m                 \u001b[1m\u001b[34m.ipynb_checkpoints\u001b[m\u001b[m td1.ipynb\r\n"
     ]
    }
   ],
   "source": [
    "!ls -a"
   ]
  },
  {
   "cell_type": "code",
   "execution_count": 121,
   "metadata": {},
   "outputs": [
    {
     "name": "stdout",
     "output_type": "stream",
     "text": [
      "origin\thttps://github.com/romainjouin/esilv_5a.git (fetch)\r\n",
      "origin\thttps://github.com/romainjouin/esilv_5a.git (push)\r\n"
     ]
    }
   ],
   "source": [
    "!git remote -v"
   ]
  },
  {
   "cell_type": "code",
   "execution_count": null,
   "metadata": {},
   "outputs": [],
   "source": []
  }
 ],
 "metadata": {
  "kernelspec": {
   "display_name": "Python 3",
   "language": "python",
   "name": "python3"
  },
  "language_info": {
   "codemirror_mode": {
    "name": "ipython",
    "version": 3
   },
   "file_extension": ".py",
   "mimetype": "text/x-python",
   "name": "python",
   "nbconvert_exporter": "python",
   "pygments_lexer": "ipython3",
   "version": "3.6.5"
  }
 },
 "nbformat": 4,
 "nbformat_minor": 2
}
