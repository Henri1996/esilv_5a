{
 "cells": [
  {
   "cell_type": "code",
   "execution_count": 1,
   "metadata": {},
   "outputs": [
    {
     "name": "stdout",
     "output_type": "stream",
     "text": [
      "Hello world!\n"
     ]
    }
   ],
   "source": [
    "print(\"Hello world!\")"
   ]
  },
  {
   "cell_type": "code",
   "execution_count": 2,
   "metadata": {},
   "outputs": [
    {
     "name": "stdout",
     "output_type": "stream",
     "text": [
      "ALT + enter = exécuter et passer à la cellule suivante\n"
     ]
    }
   ],
   "source": [
    "print(\"ALT + enter = exécuter et passer à la cellule suivante\")"
   ]
  },
  {
   "cell_type": "code",
   "execution_count": 3,
   "metadata": {},
   "outputs": [
    {
     "name": "stdout",
     "output_type": "stream",
     "text": [
      "Ctrl + enter = exécuter et rester dans la cellule actuelle\n"
     ]
    }
   ],
   "source": [
    "print(\"Ctrl + enter = exécuter et rester dans la cellule actuelle\")"
   ]
  },
  {
   "cell_type": "markdown",
   "metadata": {},
   "source": [
    "# Transformer une cellule en MarkDown \n",
    "-> ESC + M"
   ]
  },
  {
   "cell_type": "code",
   "execution_count": 4,
   "metadata": {},
   "outputs": [],
   "source": [
    "# la tabulation est significative\n",
    "x = \"hello world\"\n",
    "for i in [1,2,3]:\n",
    "    y = \"test\"\n"
   ]
  },
  {
   "cell_type": "markdown",
   "metadata": {},
   "source": [
    "# 1) listes"
   ]
  },
  {
   "cell_type": "code",
   "execution_count": 5,
   "metadata": {},
   "outputs": [
    {
     "data": {
      "text/plain": [
       "[1, 2, 'a', 'b']"
      ]
     },
     "execution_count": 5,
     "metadata": {},
     "output_type": "execute_result"
    }
   ],
   "source": [
    "une_liste = [1,2,\"a\", \"b\"]\n",
    "une_liste"
   ]
  },
  {
   "cell_type": "code",
   "execution_count": 6,
   "metadata": {},
   "outputs": [
    {
     "data": {
      "text/plain": [
       "'azerhiuoxdrhdrt'"
      ]
     },
     "execution_count": 6,
     "metadata": {},
     "output_type": "execute_result"
    }
   ],
   "source": [
    "seconde_liste = \"azerhiuoxdrhdrt\"\n",
    "seconde_liste"
   ]
  },
  {
   "cell_type": "markdown",
   "metadata": {},
   "source": [
    "### documentation / auto complétion = \".\" + TAB"
   ]
  },
  {
   "cell_type": "code",
   "execution_count": 7,
   "metadata": {},
   "outputs": [
    {
     "data": {
      "text/plain": [
       "[1, 2, 'a', 'b']"
      ]
     },
     "execution_count": 7,
     "metadata": {},
     "output_type": "execute_result"
    }
   ],
   "source": [
    "une_liste"
   ]
  },
  {
   "cell_type": "markdown",
   "metadata": {},
   "source": [
    "### 1.1) recherche d'éléments à un indice donné"
   ]
  },
  {
   "cell_type": "code",
   "execution_count": 8,
   "metadata": {},
   "outputs": [
    {
     "data": {
      "text/plain": [
       "2"
      ]
     },
     "execution_count": 8,
     "metadata": {},
     "output_type": "execute_result"
    }
   ],
   "source": [
    "# les indices de listes commencent à 0\n",
    "une_liste[1]"
   ]
  },
  {
   "cell_type": "code",
   "execution_count": 9,
   "metadata": {},
   "outputs": [
    {
     "data": {
      "text/plain": [
       "'b'"
      ]
     },
     "execution_count": 9,
     "metadata": {},
     "output_type": "execute_result"
    }
   ],
   "source": [
    "# dernier élement de la liste \n",
    "une_liste[-1]"
   ]
  },
  {
   "cell_type": "markdown",
   "metadata": {},
   "source": [
    "### 1.1.1) slice de listes (recherche de sous éléments)"
   ]
  },
  {
   "cell_type": "code",
   "execution_count": 10,
   "metadata": {},
   "outputs": [
    {
     "data": {
      "text/plain": [
       "[2, 'a']"
      ]
     },
     "execution_count": 10,
     "metadata": {},
     "output_type": "execute_result"
    }
   ],
   "source": [
    "#élements en  2è et 3è position\n",
    "une_liste[1:3]"
   ]
  },
  {
   "cell_type": "code",
   "execution_count": 11,
   "metadata": {},
   "outputs": [],
   "source": [
    "dix = 10\n",
    "cent = dix * dix\n",
    "mil = dix * cent\n",
    "million = mil*mil\n",
    "milliard = mil * million"
   ]
  },
  {
   "cell_type": "code",
   "execution_count": 19,
   "metadata": {},
   "outputs": [
    {
     "data": {
      "text/plain": [
       "range(10, 20)"
      ]
     },
     "execution_count": 19,
     "metadata": {},
     "output_type": "execute_result"
    }
   ],
   "source": [
    "# sous ensemble\n",
    "grande_liste = range(cent)\n",
    "grande_liste[10:20]"
   ]
  },
  {
   "cell_type": "code",
   "execution_count": 22,
   "metadata": {},
   "outputs": [
    {
     "data": {
      "text/plain": [
       "[10, 12, 14, 16, 18]"
      ]
     },
     "execution_count": 22,
     "metadata": {},
     "output_type": "execute_result"
    }
   ],
   "source": [
    "# step dans liste\n",
    "list(grande_liste[10:20:2])"
   ]
  },
  {
   "cell_type": "code",
   "execution_count": 25,
   "metadata": {},
   "outputs": [
    {
     "data": {
      "text/plain": [
       "[20, 18, 16, 14, 12]"
      ]
     },
     "execution_count": 25,
     "metadata": {},
     "output_type": "execute_result"
    }
   ],
   "source": [
    "# step négatif dans liste\n",
    "list(grande_liste[20:10:-2])"
   ]
  },
  {
   "cell_type": "code",
   "execution_count": 27,
   "metadata": {},
   "outputs": [],
   "source": [
    "iterateur = grande_liste"
   ]
  },
  {
   "cell_type": "markdown",
   "metadata": {},
   "source": [
    "## 1.2) boucle for avec slice inversant la liste (::-1)"
   ]
  },
  {
   "cell_type": "code",
   "execution_count": 37,
   "metadata": {},
   "outputs": [
    {
     "name": "stdout",
     "output_type": "stream",
     "text": [
      "[1, 2, 'a', 'b']\n",
      "b,a,2,1,"
     ]
    }
   ],
   "source": [
    "print(une_liste)\n",
    "for i in c[::-1]:\n",
    "    print(i, end=\",\")"
   ]
  },
  {
   "cell_type": "markdown",
   "metadata": {},
   "source": [
    "## 1.3) fonction reversed"
   ]
  },
  {
   "cell_type": "code",
   "execution_count": 38,
   "metadata": {},
   "outputs": [
    {
     "name": "stdout",
     "output_type": "stream",
     "text": [
      "[1, 2, 'a', 'b']\n",
      "b,a,2,1,"
     ]
    }
   ],
   "source": [
    "print(une_liste)\n",
    "for i in reversed(une_liste):\n",
    "    print(i, end=\",\")"
   ]
  },
  {
   "cell_type": "markdown",
   "metadata": {},
   "source": [
    "## 1.4) enumerate"
   ]
  },
  {
   "cell_type": "code",
   "execution_count": 30,
   "metadata": {},
   "outputs": [],
   "source": [
    "hello_world = \"hello world !\""
   ]
  },
  {
   "cell_type": "code",
   "execution_count": 31,
   "metadata": {},
   "outputs": [
    {
     "name": "stdout",
     "output_type": "stream",
     "text": [
      "0 h\n",
      "1 e\n",
      "2 l\n",
      "3 l\n",
      "4 o\n",
      "5  \n",
      "6 w\n",
      "7 o\n",
      "8 r\n",
      "9 l\n",
      "10 d\n",
      "11  \n",
      "12 !\n"
     ]
    }
   ],
   "source": [
    "for indice, valeur in enumerate(hello_world):\n",
    "    print(indice, valeur)"
   ]
  },
  {
   "cell_type": "markdown",
   "metadata": {},
   "source": [
    "## 1.5) comprehension list"
   ]
  },
  {
   "cell_type": "markdown",
   "metadata": {},
   "source": [
    "## 1.5.1) append : ajouter un élément dans une liste"
   ]
  },
  {
   "cell_type": "code",
   "execution_count": 44,
   "metadata": {},
   "outputs": [],
   "source": [
    "import time"
   ]
  },
  {
   "cell_type": "code",
   "execution_count": 46,
   "metadata": {},
   "outputs": [
    {
     "data": {
      "text/plain": [
       "([134, 189, 119, 149, 190, 138, 155, 126, 105, 141], 9.989738464355469e-05)"
      ]
     },
     "execution_count": 46,
     "metadata": {},
     "output_type": "execute_result"
    }
   ],
   "source": [
    "debut = time.time()\n",
    "liste_aleatoire_classique = []\n",
    "for i in range(10):\n",
    "    liste_aleatoire_classique.append(random.randint(100, 200))\n",
    "fin    = time.time()\n",
    "delais_classique = fin - debut\n",
    "liste_aleatoire_classique, delais_classique"
   ]
  },
  {
   "cell_type": "markdown",
   "metadata": {},
   "source": [
    "## 1.5.2) la boucle for est intégrée dans la création de la liste => comprehension list"
   ]
  },
  {
   "cell_type": "code",
   "execution_count": 47,
   "metadata": {},
   "outputs": [
    {
     "data": {
      "text/plain": [
       "([135, 100, 168, 192, 104, 183, 188, 170, 167, 179], 8.797645568847656e-05)"
      ]
     },
     "execution_count": 47,
     "metadata": {},
     "output_type": "execute_result"
    }
   ],
   "source": [
    "import random\n",
    "debut = time.time()\n",
    "liste_aleatoire = [random.randint(100, 200) for i in range(10)]\n",
    "fin = time.time()\n",
    "delais_comprehension = fin - debut\n",
    "liste_aleatoire, delais_comprehension\n"
   ]
  },
  {
   "cell_type": "code",
   "execution_count": 63,
   "metadata": {},
   "outputs": [
    {
     "name": "stdout",
     "output_type": "stream",
     "text": [
      "\n",
      "----------- \n",
      "delais_comprehension = 0.0000879765\n",
      "delais_classique     = 0.0000998974\n",
      "\n",
      "Gain de performance  = 0.12\n",
      "\n"
     ]
    }
   ],
   "source": [
    "gain_de_performance = 1 - delais_comprehension/delais_classique\n",
    "print(f\"\"\"\n",
    "----------- \n",
    "delais_comprehension = {delais_comprehension:.10f}\n",
    "delais_classique     = {delais_classique:.10f}\n",
    "\n",
    "Gain de performance  = {gain_de_performance:.2f}\n",
    "\"\"\")"
   ]
  },
  {
   "cell_type": "markdown",
   "metadata": {},
   "source": [
    "## 1.6) multiplication de liste"
   ]
  },
  {
   "cell_type": "code",
   "execution_count": 57,
   "metadata": {},
   "outputs": [
    {
     "data": {
      "text/plain": [
       "'----------'"
      ]
     },
     "execution_count": 57,
     "metadata": {},
     "output_type": "execute_result"
    }
   ],
   "source": [
    "tiret = \"-\"\n",
    "tiret*dix"
   ]
  },
  {
   "cell_type": "code",
   "execution_count": 58,
   "metadata": {},
   "outputs": [
    {
     "data": {
      "text/plain": [
       "'-*--*--*--*--*--*--*--*--*--*-'"
      ]
     },
     "execution_count": 58,
     "metadata": {},
     "output_type": "execute_result"
    }
   ],
   "source": [
    "pattern = \"-*-\"\n",
    "pattern*dix"
   ]
  },
  {
   "cell_type": "code",
   "execution_count": 61,
   "metadata": {},
   "outputs": [
    {
     "data": {
      "text/plain": [
       "[0, 1, 2, 0, 1, 2, 0, 1, 2, 0, 1, 2]"
      ]
     },
     "execution_count": 61,
     "metadata": {},
     "output_type": "execute_result"
    }
   ],
   "source": [
    "valeurs = list(range(3))\n",
    "valeurs*4"
   ]
  },
  {
   "cell_type": "markdown",
   "metadata": {},
   "source": [
    "# 2) les boucles"
   ]
  },
  {
   "cell_type": "markdown",
   "metadata": {},
   "source": [
    "## 2.1) while : tant qu'une condition est respectée"
   ]
  },
  {
   "cell_type": "markdown",
   "metadata": {},
   "source": [
    "pop : extrait le dernier élément de la liste et le retourne"
   ]
  },
  {
   "cell_type": "code",
   "execution_count": 95,
   "metadata": {},
   "outputs": [
    {
     "name": "stdout",
     "output_type": "stream",
     "text": [
      "166 > 130 ? True\n",
      "117 > 130 ? False\n"
     ]
    }
   ],
   "source": [
    "test   = True\n",
    "limite = 130\n",
    "liste_aleatoire = [random.randint(100, 200) for i in range(100)]\n",
    "\n",
    "while test:\n",
    "    valeur  = liste_aleatoire.pop() # pop : extrait le dernier élément de la liste\n",
    "    test    = valeur > limite\n",
    "    print(f\"{valeur} > {limite} ? {test}\")"
   ]
  },
  {
   "cell_type": "markdown",
   "metadata": {},
   "source": [
    "## 2.2) break : sortir de la boucle sur un test"
   ]
  },
  {
   "cell_type": "code",
   "execution_count": 96,
   "metadata": {},
   "outputs": [
    {
     "name": "stdout",
     "output_type": "stream",
     "text": [
      "140 > 130 ? True\n",
      "192 > 130 ? True\n",
      "141 > 130 ? True\n",
      "Fin car 104 < 130\n"
     ]
    }
   ],
   "source": [
    "test   = True\n",
    "limite = 130\n",
    "liste_aleatoire = [random.randint(100, 200) for i in range(100)]\n",
    "\n",
    "while test:\n",
    "    valeur  = liste_aleatoire.pop()\n",
    "    test    = valeur > limite\n",
    "    if test is False:\n",
    "        print(f\"Fin car {valeur} < {limite}\")\n",
    "        break\n",
    "    print(f\"{valeur} > {limite} ? {test}\")"
   ]
  },
  {
   "cell_type": "markdown",
   "metadata": {},
   "source": [
    "### afficher deux valeurs, séparées par une virgule"
   ]
  },
  {
   "cell_type": "code",
   "execution_count": 102,
   "metadata": {},
   "outputs": [
    {
     "data": {
      "text/plain": [
       "(104, True)"
      ]
     },
     "execution_count": 102,
     "metadata": {},
     "output_type": "execute_result"
    }
   ],
   "source": [
    "valeur, valeur %2 ==0"
   ]
  },
  {
   "cell_type": "markdown",
   "metadata": {},
   "source": [
    "### affecter dans une variable le résultat d'un test"
   ]
  },
  {
   "cell_type": "code",
   "execution_count": 108,
   "metadata": {},
   "outputs": [
    {
     "data": {
      "text/plain": [
       "(2, True)"
      ]
     },
     "execution_count": 108,
     "metadata": {},
     "output_type": "execute_result"
    }
   ],
   "source": [
    "valeur = 2\n",
    "test_est_pair = valeur%2 ==0\n",
    "valeur, test_est_pair"
   ]
  },
  {
   "cell_type": "markdown",
   "metadata": {},
   "source": [
    "# 3) création de fonction"
   ]
  },
  {
   "cell_type": "code",
   "execution_count": 118,
   "metadata": {},
   "outputs": [],
   "source": [
    "def est_pair(nombre):\n",
    "    \"\"\"\n",
    "    Renvoie un booléen : Vrai / Faux\n",
    "    \"\"\"\n",
    "    return nombre%2 == 0"
   ]
  },
  {
   "cell_type": "markdown",
   "metadata": {},
   "source": [
    "## 2.3) continue : zapper des valeurs"
   ]
  },
  {
   "cell_type": "code",
   "execution_count": 117,
   "metadata": {},
   "outputs": [
    {
     "name": "stdout",
     "output_type": "stream",
     "text": [
      "Valeurs impaires : \n",
      "129 | 175 | 103 | 163 | 115 | 133 | 125 | 199 | 153 | 143 | 175 | 127 | 159 | 141 | 135 | 101 | 159 | 175 | 151 | 185 | 149 | 189 | 157 | 165 | 139 | 171 | 185 | 159 | 111 | 109 | 127 | 123 | 177 | 161 | 189 | 105 | 157 | 113 | 167 | 157 | 105 | 157 | 157 | 179 | 107 | 183 | 137 | 155 | 121 | 185 | 173 | 167 | 177 | 183 | 113 | "
     ]
    }
   ],
   "source": [
    "print(\"Valeurs impaires : \")\n",
    "liste_aleatoire = [random.randint(100, 200) for i in range(100)]\n",
    "while liste_aleatoire:\n",
    "    valeur  = liste_aleatoire.pop()\n",
    "    if est_pair(valeur):\n",
    "        continue\n",
    "    else:\n",
    "        print(valeur, end=\" | \")"
   ]
  },
  {
   "cell_type": "markdown",
   "metadata": {},
   "source": [
    "# Jupyter : faire des appels système avec le point d'exclamation"
   ]
  },
  {
   "cell_type": "code",
   "execution_count": 120,
   "metadata": {},
   "outputs": [
    {
     "name": "stdout",
     "output_type": "stream",
     "text": [
      "\u001b[1m\u001b[34m.\u001b[m\u001b[m                  \u001b[1m\u001b[34m.git\u001b[m\u001b[m               Untitled.ipynb\r\n",
      "\u001b[1m\u001b[34m..\u001b[m\u001b[m                 \u001b[1m\u001b[34m.ipynb_checkpoints\u001b[m\u001b[m td1.ipynb\r\n"
     ]
    }
   ],
   "source": [
    "!ls -a"
   ]
  },
  {
   "cell_type": "code",
   "execution_count": 121,
   "metadata": {},
   "outputs": [
    {
     "name": "stdout",
     "output_type": "stream",
     "text": [
      "origin\thttps://github.com/romainjouin/esilv_5a.git (fetch)\r\n",
      "origin\thttps://github.com/romainjouin/esilv_5a.git (push)\r\n"
     ]
    }
   ],
   "source": [
    "!git remote -v"
   ]
  },
  {
   "cell_type": "code",
   "execution_count": 122,
   "metadata": {},
   "outputs": [
    {
     "name": "stdout",
     "output_type": "stream",
     "text": [
      "20190906_IBO2_td_1.ipynb td1.ipynb\r\n"
     ]
    }
   ],
   "source": [
    "!ls"
   ]
  },
  {
   "cell_type": "code",
   "execution_count": 123,
   "metadata": {},
   "outputs": [],
   "source": [
    "!git add 20190906_IBO2_td_1.ipynb"
   ]
  },
  {
   "cell_type": "code",
   "execution_count": 124,
   "metadata": {},
   "outputs": [
    {
     "name": "stdout",
     "output_type": "stream",
     "text": [
      "[master 61f6d75] pour suivre le cours.\r\n",
      " 1 file changed, 857 insertions(+)\r\n",
      " create mode 100644 20190906_IBO2_td_1.ipynb\r\n"
     ]
    }
   ],
   "source": [
    "!git commit -m \"pour suivre le cours.\""
   ]
  },
  {
   "cell_type": "code",
   "execution_count": 126,
   "metadata": {},
   "outputs": [
    {
     "name": "stdout",
     "output_type": "stream",
     "text": [
      "Enumerating objects: 4, done.\n",
      "Counting objects: 100% (4/4), done.\n",
      "Delta compression using up to 8 threads\n",
      "Compressing objects: 100% (3/3), done.\n",
      "Writing objects: 100% (3/3), 3.01 KiB | 3.01 MiB/s, done.\n",
      "Total 3 (delta 0), reused 0 (delta 0)\n",
      "To https://github.com/romainjouin/esilv_5a.git\n",
      "   4f983e6..61f6d75  master -> master\n"
     ]
    }
   ],
   "source": [
    "!git push origin master"
   ]
  },
  {
   "cell_type": "markdown",
   "metadata": {},
   "source": [
    "# https://github.com/romainjouin/esilv_5a"
   ]
  },
  {
   "cell_type": "markdown",
   "metadata": {},
   "source": [
    "## 3.1) fonction avec comprehension list"
   ]
  },
  {
   "cell_type": "code",
   "execution_count": 130,
   "metadata": {},
   "outputs": [],
   "source": [
    "def random_string(n=10):\n",
    "    \"\"\"\n",
    "    Renvoie une chaîne aléatoire de n caractères\n",
    "    \"\"\"\n",
    "    import random\n",
    "    import string\n",
    "    return ''.join([random.choice(string.ascii_letters) for _ in range(n)])"
   ]
  },
  {
   "cell_type": "code",
   "execution_count": 137,
   "metadata": {},
   "outputs": [
    {
     "data": {
      "text/plain": [
       "'abcdefghijklmnopqrstuvwxyzABCDEFGHIJKLMNOPQRSTUVWXYZ'"
      ]
     },
     "execution_count": 137,
     "metadata": {},
     "output_type": "execute_result"
    }
   ],
   "source": [
    "import string\n",
    "string.ascii_letters"
   ]
  },
  {
   "cell_type": "code",
   "execution_count": 139,
   "metadata": {},
   "outputs": [
    {
     "data": {
      "text/plain": [
       "(4, 'K')"
      ]
     },
     "execution_count": 139,
     "metadata": {},
     "output_type": "execute_result"
    }
   ],
   "source": [
    "import random\n",
    "random.choice([1,2,3,4]), random.choice(string.ascii_letters)"
   ]
  },
  {
   "cell_type": "code",
   "execution_count": 153,
   "metadata": {},
   "outputs": [
    {
     "data": {
      "text/plain": [
       "['E', 'g', 'f', 'X', 'Y', 'L', 'h', 'm', 'w', 'D']"
      ]
     },
     "execution_count": 153,
     "metadata": {},
     "output_type": "execute_result"
    }
   ],
   "source": [
    "liste_d_elements = [random.choice(string.ascii_letters) for _ in range(10)]\n",
    "liste_d_elements"
   ]
  },
  {
   "cell_type": "code",
   "execution_count": 154,
   "metadata": {},
   "outputs": [
    {
     "data": {
      "text/plain": [
       "'EgfXYLhmwD'"
      ]
     },
     "execution_count": 154,
     "metadata": {},
     "output_type": "execute_result"
    }
   ],
   "source": [
    "separateur = \"\"\n",
    "separateur.join(liste_d_elements)"
   ]
  },
  {
   "cell_type": "code",
   "execution_count": 145,
   "metadata": {},
   "outputs": [
    {
     "data": {
      "text/plain": [
       "'L|m|n|A|V|K|x|b|A|X'"
      ]
     },
     "execution_count": 145,
     "metadata": {},
     "output_type": "execute_result"
    }
   ],
   "source": [
    "separateur = \"|\"\n",
    "separateur.join(liste_d_elements)"
   ]
  },
  {
   "cell_type": "code",
   "execution_count": 146,
   "metadata": {},
   "outputs": [
    {
     "data": {
      "text/plain": [
       "'L,m,n,A,V,K,x,b,A,X'"
      ]
     },
     "execution_count": 146,
     "metadata": {},
     "output_type": "execute_result"
    }
   ],
   "source": [
    "separateur = \",\"\n",
    "separateur.join(liste_d_elements)"
   ]
  },
  {
   "cell_type": "code",
   "execution_count": 152,
   "metadata": {},
   "outputs": [
    {
     "data": {
      "text/plain": [
       "'L/m/n/A/V/K/x/b/A/X'"
      ]
     },
     "execution_count": 152,
     "metadata": {},
     "output_type": "execute_result"
    }
   ],
   "source": [
    "separateur = \"\"\"/\"\"\"\n",
    "separateur.join(liste_d_elements)\n"
   ]
  },
  {
   "cell_type": "markdown",
   "metadata": {},
   "source": [
    "# 4) dictionnaires"
   ]
  },
  {
   "cell_type": "markdown",
   "metadata": {},
   "source": [
    "## 4.0) création de dico : avec des accolades !!"
   ]
  },
  {
   "cell_type": "code",
   "execution_count": 161,
   "metadata": {},
   "outputs": [],
   "source": [
    "dico = {\n",
    "    \"mot\"    : \"definition\"                     ,\n",
    "    \"hadoop\" : \"logiciel de gestion big data\"   , \n",
    "    \"spark\"  : \"framework de calcul distribué\"  ,\n",
    "}"
   ]
  },
  {
   "cell_type": "code",
   "execution_count": 163,
   "metadata": {},
   "outputs": [
    {
     "data": {
      "text/plain": [
       "'framework de calcul distribué'"
      ]
     },
     "execution_count": 163,
     "metadata": {},
     "output_type": "execute_result"
    }
   ],
   "source": [
    "entree = \"spark\"\n",
    "dico[entree]"
   ]
  },
  {
   "cell_type": "markdown",
   "metadata": {},
   "source": [
    "## 4.1) parcourir les clefs"
   ]
  },
  {
   "cell_type": "code",
   "execution_count": 165,
   "metadata": {},
   "outputs": [
    {
     "name": "stdout",
     "output_type": "stream",
     "text": [
      "mot\n",
      "hadoop\n",
      "spark\n"
     ]
    }
   ],
   "source": [
    "for clef in dico:\n",
    "    print(clef)"
   ]
  },
  {
   "cell_type": "code",
   "execution_count": 166,
   "metadata": {},
   "outputs": [
    {
     "name": "stdout",
     "output_type": "stream",
     "text": [
      "mot\n",
      "hadoop\n",
      "spark\n"
     ]
    }
   ],
   "source": [
    "for clef in dico.keys():\n",
    "    print(clef)"
   ]
  },
  {
   "cell_type": "markdown",
   "metadata": {},
   "source": [
    "## Unpacking : affecter chaque valeur retournée dans des variables distinctes et nommées"
   ]
  },
  {
   "cell_type": "code",
   "execution_count": 174,
   "metadata": {},
   "outputs": [
    {
     "name": "stdout",
     "output_type": "stream",
     "text": [
      "\n",
      "    -------------------------\n",
      "    clef       = mot\n",
      "    dico[clef] = definition\n",
      "    valeur     = definition\n",
      "    \n",
      "\n",
      "    -------------------------\n",
      "    clef       = hadoop\n",
      "    dico[clef] = logiciel de gestion big data\n",
      "    valeur     = logiciel de gestion big data\n",
      "    \n",
      "\n",
      "    -------------------------\n",
      "    clef       = spark\n",
      "    dico[clef] = framework de calcul distribué\n",
      "    valeur     = framework de calcul distribué\n",
      "    \n"
     ]
    }
   ],
   "source": [
    "for clef, valeur in dico.items():\n",
    "    print(f\"\"\"\n",
    "    -------------------------\n",
    "    clef       = {clef}\n",
    "    dico[clef] = {dico[clef]}\n",
    "    valeur     = {valeur}\n",
    "    \"\"\")"
   ]
  },
  {
   "cell_type": "markdown",
   "metadata": {},
   "source": [
    "## 4.2) dictionnaire et comprehension list"
   ]
  },
  {
   "cell_type": "code",
   "execution_count": 182,
   "metadata": {},
   "outputs": [
    {
     "data": {
      "text/plain": [
       "{'wPntGVXYli': 'XKqCcjWwLu',\n",
       " 'yJXnUBLehr': 'JQEbtHRGmy',\n",
       " 'zEYSETlGdB': 'qSLCjIdsau',\n",
       " 'ZktcGxIMrC': 'soEvuPHnTv',\n",
       " 'BzPNxSkfMn': 'pUDvNlZfzG',\n",
       " 'khWOQXzCbf': 'WwBBcVznKa',\n",
       " 'LMJeESmyXQ': 'YceKPFQZMR',\n",
       " 'FdHyrWeZSI': 'LJHDUSfDWT',\n",
       " 'saoFeLKPho': 'uUqIgwivFn',\n",
       " 'LCTcdRvvFD': 'RQMPRexmtu'}"
      ]
     },
     "execution_count": 182,
     "metadata": {},
     "output_type": "execute_result"
    }
   ],
   "source": [
    "dico_aleatoire = {\n",
    "    random_string() : random_string() for _ in range(10)\n",
    "}\n",
    "dico_aleatoire"
   ]
  },
  {
   "cell_type": "markdown",
   "metadata": {},
   "source": [
    "# 5) lambda functions"
   ]
  },
  {
   "cell_type": "code",
   "execution_count": 188,
   "metadata": {},
   "outputs": [],
   "source": [
    "is_null = lambda nombre: nombre==0"
   ]
  },
  {
   "cell_type": "code",
   "execution_count": 190,
   "metadata": {},
   "outputs": [
    {
     "data": {
      "text/plain": [
       "True"
      ]
     },
     "execution_count": 190,
     "metadata": {},
     "output_type": "execute_result"
    }
   ],
   "source": [
    "is_null(0)"
   ]
  },
  {
   "cell_type": "code",
   "execution_count": 191,
   "metadata": {},
   "outputs": [],
   "source": [
    "is_equals = lambda x,y: x==y"
   ]
  },
  {
   "cell_type": "code",
   "execution_count": 192,
   "metadata": {},
   "outputs": [
    {
     "data": {
      "text/plain": [
       "False"
      ]
     },
     "execution_count": 192,
     "metadata": {},
     "output_type": "execute_result"
    }
   ],
   "source": [
    "is_equals(1,2)"
   ]
  },
  {
   "cell_type": "code",
   "execution_count": 193,
   "metadata": {},
   "outputs": [
    {
     "data": {
      "text/plain": [
       "True"
      ]
     },
     "execution_count": 193,
     "metadata": {},
     "output_type": "execute_result"
    }
   ],
   "source": [
    "is_equals(1,1)"
   ]
  },
  {
   "cell_type": "code",
   "execution_count": 194,
   "metadata": {},
   "outputs": [],
   "source": [
    "contient_bonjour = lambda x: \"bonjour\" in x"
   ]
  },
  {
   "cell_type": "code",
   "execution_count": 195,
   "metadata": {},
   "outputs": [
    {
     "data": {
      "text/plain": [
       "True"
      ]
     },
     "execution_count": 195,
     "metadata": {},
     "output_type": "execute_result"
    }
   ],
   "source": [
    "contient_bonjour(\"bonjour \")"
   ]
  },
  {
   "cell_type": "markdown",
   "metadata": {},
   "source": [
    "# 6) filter et map (dans les listes)"
   ]
  },
  {
   "cell_type": "code",
   "execution_count": 197,
   "metadata": {},
   "outputs": [
    {
     "data": {
      "text/plain": [
       "'FFRPOQlyeugKkMIZytun'"
      ]
     },
     "execution_count": 197,
     "metadata": {},
     "output_type": "execute_result"
    }
   ],
   "source": [
    "mot_aleatoire = random_string(20)\n",
    "mot_aleatoire"
   ]
  },
  {
   "cell_type": "code",
   "execution_count": 201,
   "metadata": {},
   "outputs": [],
   "source": [
    "is_majuscule = lambda caractere: caractere.upper()==caractere"
   ]
  },
  {
   "cell_type": "code",
   "execution_count": 202,
   "metadata": {},
   "outputs": [
    {
     "data": {
      "text/plain": [
       "['F', 'F', 'R', 'P', 'O', 'Q', 'K', 'M', 'I', 'Z']"
      ]
     },
     "execution_count": 202,
     "metadata": {},
     "output_type": "execute_result"
    }
   ],
   "source": [
    "_ = filter(is_majuscule, mot_aleatoire)\n",
    "list(_)"
   ]
  },
  {
   "cell_type": "code",
   "execution_count": 215,
   "metadata": {},
   "outputs": [
    {
     "data": {
      "text/plain": [
       "20"
      ]
     },
     "execution_count": 215,
     "metadata": {},
     "output_type": "execute_result"
    }
   ],
   "source": [
    "iterateur = map(is_majuscule, mot_aleatoire)\n",
    "liste = list(_)\n",
    "len(list(iterateur))"
   ]
  },
  {
   "cell_type": "markdown",
   "metadata": {},
   "source": [
    "### Attention : les itérateurs n'itérent qu'une fois : au second appel de liste, ils sont vides."
   ]
  },
  {
   "cell_type": "code",
   "execution_count": 218,
   "metadata": {},
   "outputs": [
    {
     "data": {
      "text/plain": [
       "(0, 20)"
      ]
     },
     "execution_count": 218,
     "metadata": {},
     "output_type": "execute_result"
    }
   ],
   "source": [
    "len(list(iterateur)), len(liste)"
   ]
  },
  {
   "cell_type": "code",
   "execution_count": 224,
   "metadata": {},
   "outputs": [],
   "source": [
    "is_true = lambda x: x is True"
   ]
  },
  {
   "cell_type": "code",
   "execution_count": 225,
   "metadata": {},
   "outputs": [
    {
     "data": {
      "text/plain": [
       "10"
      ]
     },
     "execution_count": 225,
     "metadata": {},
     "output_type": "execute_result"
    }
   ],
   "source": [
    "len(list(filter(is_true, liste)))"
   ]
  },
  {
   "cell_type": "markdown",
   "metadata": {},
   "source": [
    "## 8) Comprehension list conditionnelles"
   ]
  },
  {
   "cell_type": "markdown",
   "metadata": {},
   "source": [
    "## 8.1) une seule condition => le if est à la fin"
   ]
  },
  {
   "cell_type": "code",
   "execution_count": 232,
   "metadata": {},
   "outputs": [
    {
     "data": {
      "text/plain": [
       "[True, True, True, True, True, True, True, True, True, True]"
      ]
     },
     "execution_count": 232,
     "metadata": {},
     "output_type": "execute_result"
    }
   ],
   "source": [
    "[ booleen for booleen in liste if booleen==True]"
   ]
  },
  {
   "cell_type": "code",
   "execution_count": 233,
   "metadata": {},
   "outputs": [
    {
     "data": {
      "text/plain": [
       "[True, True, True, True, True, True, True, True, True, True]"
      ]
     },
     "execution_count": 233,
     "metadata": {},
     "output_type": "execute_result"
    }
   ],
   "source": [
    "[ booleen for booleen in liste if booleen]"
   ]
  },
  {
   "cell_type": "code",
   "execution_count": 234,
   "metadata": {},
   "outputs": [
    {
     "data": {
      "text/plain": [
       "[True, True, True, True, True, True, True, True, True, True]"
      ]
     },
     "execution_count": 234,
     "metadata": {},
     "output_type": "execute_result"
    }
   ],
   "source": [
    "[ x for x in liste if x]"
   ]
  },
  {
   "cell_type": "code",
   "execution_count": 235,
   "metadata": {},
   "outputs": [
    {
     "data": {
      "text/plain": [
       "[True, True, True, True, True, True, True, True, True, True]"
      ]
     },
     "execution_count": 235,
     "metadata": {},
     "output_type": "execute_result"
    }
   ],
   "source": [
    "[ _ for _ in liste if _]"
   ]
  },
  {
   "cell_type": "markdown",
   "metadata": {},
   "source": [
    "## 8.2) deux conditions : le if est au début"
   ]
  },
  {
   "cell_type": "code",
   "execution_count": 236,
   "metadata": {},
   "outputs": [
    {
     "data": {
      "text/plain": [
       "['vrai',\n",
       " 'vrai',\n",
       " 'vrai',\n",
       " 'vrai',\n",
       " 'vrai',\n",
       " 'vrai',\n",
       " 'Faux',\n",
       " 'Faux',\n",
       " 'Faux',\n",
       " 'Faux',\n",
       " 'Faux',\n",
       " 'vrai',\n",
       " 'Faux',\n",
       " 'vrai',\n",
       " 'vrai',\n",
       " 'vrai',\n",
       " 'Faux',\n",
       " 'Faux',\n",
       " 'Faux',\n",
       " 'Faux']"
      ]
     },
     "execution_count": 236,
     "metadata": {},
     "output_type": "execute_result"
    }
   ],
   "source": [
    "[ \"vrai\" if _ else \"Faux\" for _ in liste]"
   ]
  },
  {
   "cell_type": "code",
   "execution_count": 259,
   "metadata": {},
   "outputs": [
    {
     "data": {
      "text/plain": [
       "10"
      ]
     },
     "execution_count": 259,
     "metadata": {},
     "output_type": "execute_result"
    }
   ],
   "source": [
    "sum(liste)"
   ]
  },
  {
   "cell_type": "code",
   "execution_count": 260,
   "metadata": {},
   "outputs": [
    {
     "name": "stdout",
     "output_type": "stream",
     "text": [
      "4.100799560546875e-05\n"
     ]
    }
   ],
   "source": [
    "debut = time.time()\n",
    "sum(liste)\n",
    "fin = time.time()\n",
    "duree_sum = fin - debut\n",
    "print(duree_sum)"
   ]
  },
  {
   "cell_type": "markdown",
   "metadata": {},
   "source": [
    "### Count : on compte le nombre de fois qu'une valeur apparaît"
   ]
  },
  {
   "cell_type": "code",
   "execution_count": 261,
   "metadata": {},
   "outputs": [
    {
     "name": "stdout",
     "output_type": "stream",
     "text": [
      "5.4836273193359375e-05\n"
     ]
    }
   ],
   "source": [
    "debut = time.time()\n",
    "liste.count(True) # liste est une liste de booléens\n",
    "fin = time.time()\n",
    "duree_count = fin - debut\n",
    "print(duree_count)"
   ]
  },
  {
   "cell_type": "code",
   "execution_count": 262,
   "metadata": {},
   "outputs": [
    {
     "data": {
      "text/plain": [
       "0"
      ]
     },
     "execution_count": 262,
     "metadata": {},
     "output_type": "execute_result"
    }
   ],
   "source": [
    "mot_aleatoire.count(\"A\")"
   ]
  },
  {
   "cell_type": "code",
   "execution_count": 263,
   "metadata": {},
   "outputs": [
    {
     "name": "stdout",
     "output_type": "stream",
     "text": [
      "a apparaît 0 fois\n",
      "b apparaît 0 fois\n",
      "c apparaît 0 fois\n",
      "d apparaît 0 fois\n",
      "e apparaît 1 fois\n",
      "f apparaît 0 fois\n",
      "g apparaît 1 fois\n",
      "h apparaît 0 fois\n",
      "i apparaît 0 fois\n",
      "j apparaît 0 fois\n",
      "k apparaît 1 fois\n",
      "l apparaît 1 fois\n",
      "m apparaît 0 fois\n",
      "n apparaît 1 fois\n",
      "o apparaît 0 fois\n",
      "p apparaît 0 fois\n",
      "q apparaît 0 fois\n",
      "r apparaît 0 fois\n",
      "s apparaît 0 fois\n",
      "t apparaît 1 fois\n",
      "u apparaît 2 fois\n",
      "v apparaît 0 fois\n",
      "w apparaît 0 fois\n",
      "x apparaît 0 fois\n",
      "y apparaît 2 fois\n",
      "z apparaît 0 fois\n",
      "A apparaît 0 fois\n",
      "B apparaît 0 fois\n",
      "C apparaît 0 fois\n",
      "D apparaît 0 fois\n",
      "E apparaît 0 fois\n",
      "F apparaît 2 fois\n",
      "G apparaît 0 fois\n",
      "H apparaît 0 fois\n",
      "I apparaît 1 fois\n",
      "J apparaît 0 fois\n",
      "K apparaît 1 fois\n",
      "L apparaît 0 fois\n",
      "M apparaît 1 fois\n",
      "N apparaît 0 fois\n",
      "O apparaît 1 fois\n",
      "P apparaît 1 fois\n",
      "Q apparaît 1 fois\n",
      "R apparaît 1 fois\n",
      "S apparaît 0 fois\n",
      "T apparaît 0 fois\n",
      "U apparaît 0 fois\n",
      "V apparaît 0 fois\n",
      "W apparaît 0 fois\n",
      "X apparaît 0 fois\n",
      "Y apparaît 0 fois\n",
      "Z apparaît 1 fois\n"
     ]
    }
   ],
   "source": [
    "valeurs_cherchees = string.ascii_letters\n",
    "for valeur_cherchee in valeurs_cherchees:\n",
    "    n = mot_aleatoire.count(valeur_cherchee)\n",
    "    print(f\"{valeur_cherchee} apparaît {n} fois\")"
   ]
  },
  {
   "cell_type": "markdown",
   "metadata": {},
   "source": [
    "# 9) les classes"
   ]
  },
  {
   "cell_type": "code",
   "execution_count": 267,
   "metadata": {},
   "outputs": [],
   "source": [
    "class oeuvre():\n",
    "    def __init__(self, auteur, titre ):\n",
    "        \"\"\"\n",
    "        Méthode d'instanciation\n",
    "        \"\"\"\n",
    "        self.auteur = auteur\n",
    "        self.titre  = titre\n",
    "    def __str__(self):\n",
    "        \"\"\"\n",
    "        Méthode d'affichage\n",
    "        \"\"\"\n",
    "        return f\"{self.auteur} : {self.titre}\""
   ]
  },
  {
   "cell_type": "code",
   "execution_count": 268,
   "metadata": {},
   "outputs": [],
   "source": [
    "guerre_et_paix = oeuvre(\"Tolstoi\", \"guerre et paix\")"
   ]
  },
  {
   "cell_type": "code",
   "execution_count": 270,
   "metadata": {},
   "outputs": [],
   "source": [
    "guerre_et_paix.nouvel_attribut = \"coucou\""
   ]
  },
  {
   "cell_type": "code",
   "execution_count": 273,
   "metadata": {},
   "outputs": [
    {
     "name": "stdout",
     "output_type": "stream",
     "text": [
      "Tolstoi : guerre et paix\n"
     ]
    }
   ],
   "source": [
    "print(guerre_et_paix)"
   ]
  },
  {
   "cell_type": "code",
   "execution_count": 274,
   "metadata": {},
   "outputs": [
    {
     "data": {
      "text/plain": [
       "'coucou'"
      ]
     },
     "execution_count": 274,
     "metadata": {},
     "output_type": "execute_result"
    }
   ],
   "source": [
    "guerre_et_paix.nouvel_attribut"
   ]
  },
  {
   "cell_type": "markdown",
   "metadata": {},
   "source": [
    "## 9.1) héritage de classe"
   ]
  },
  {
   "cell_type": "code",
   "execution_count": 295,
   "metadata": {},
   "outputs": [],
   "source": [
    "class sculpture(oeuvre): # sculpture hérite de la classe oeuvre\n",
    "    def __init__(self, auteur, titre, matériel):\n",
    "        self.matériel = matériel\n",
    "        super(sculpture, self).__init__(auteur, titre)\n",
    "        \n",
    "    def __str__(self):\n",
    "        return super(sculpture, self).__str__() + \\\n",
    "    \" sculpture en  \"+ self.matériel"
   ]
  },
  {
   "cell_type": "code",
   "execution_count": 311,
   "metadata": {},
   "outputs": [],
   "source": [
    "class livre(oeuvre): # sculpture hérite de la classe oeuvre\n",
    "    \n",
    "    def __init__(self, auteur, titre, nb_de_pages):\n",
    "        self.nb_de_pages = nb_de_pages\n",
    "        super(livre, self).__init__(auteur, titre)\n",
    "    \n",
    "    def __str__(self):\n",
    "        return f\"\"\"\n",
    "        {self.titre} de {self.auteur} avec {self.nb_de_pages} pages\n",
    "        \"\"\""
   ]
  },
  {
   "cell_type": "code",
   "execution_count": 312,
   "metadata": {},
   "outputs": [],
   "source": [
    "le_penseur = sculpture(\"Rodin\", \"le penseur\", \"bronze\")"
   ]
  },
  {
   "cell_type": "code",
   "execution_count": 313,
   "metadata": {},
   "outputs": [
    {
     "name": "stdout",
     "output_type": "stream",
     "text": [
      "Rodin : le penseur sculpture en  bronze\n"
     ]
    }
   ],
   "source": [
    "print(le_penseur)"
   ]
  },
  {
   "cell_type": "code",
   "execution_count": 314,
   "metadata": {},
   "outputs": [],
   "source": [
    "guerre_et_paix = livre(\"Tolstoi\", \"guerre et paix\", 1000)"
   ]
  },
  {
   "cell_type": "code",
   "execution_count": 315,
   "metadata": {},
   "outputs": [
    {
     "name": "stdout",
     "output_type": "stream",
     "text": [
      "\n",
      "        guerre et paix de Tolstoi avec 1000 pages\n",
      "        \n"
     ]
    }
   ],
   "source": [
    "print(guerre_et_paix)"
   ]
  },
  {
   "cell_type": "code",
   "execution_count": null,
   "metadata": {},
   "outputs": [],
   "source": []
  }
 ],
 "metadata": {
  "kernelspec": {
   "display_name": "Python 3",
   "language": "python",
   "name": "python3"
  },
  "language_info": {
   "codemirror_mode": {
    "name": "ipython",
    "version": 3
   },
   "file_extension": ".py",
   "mimetype": "text/x-python",
   "name": "python",
   "nbconvert_exporter": "python",
   "pygments_lexer": "ipython3",
   "version": "3.6.5"
  }
 },
 "nbformat": 4,
 "nbformat_minor": 2
}
